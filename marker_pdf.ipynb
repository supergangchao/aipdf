{
  "nbformat": 4,
  "nbformat_minor": 0,
  "metadata": {
    "colab": {
      "provenance": [],
      "gpuType": "T4"
    },
    "kernelspec": {
      "name": "python3",
      "display_name": "Python 3"
    },
    "language_info": {
      "name": "python"
    },
    "accelerator": "GPU"
  },
  "cells": [
    {
      "cell_type": "code",
      "execution_count": 1,
      "metadata": {
        "colab": {
          "base_uri": "https://localhost:8080/"
        },
        "id": "LteAkAL4gXlx",
        "outputId": "df7264d0-aa60-40c3-e656-5b736b51a36c"
      },
      "outputs": [
        {
          "output_type": "stream",
          "name": "stdout",
          "text": [
            "Requirement already satisfied: marker-pdf in /usr/local/lib/python3.10/dist-packages (0.2.14)\n",
            "Requirement already satisfied: Pillow<11.0.0,>=10.1.0 in /usr/local/lib/python3.10/dist-packages (from marker-pdf) (10.3.0)\n",
            "Requirement already satisfied: filetype<2.0.0,>=1.2.0 in /usr/local/lib/python3.10/dist-packages (from marker-pdf) (1.2.0)\n",
            "Requirement already satisfied: ftfy<7.0.0,>=6.1.1 in /usr/local/lib/python3.10/dist-packages (from marker-pdf) (6.2.0)\n",
            "Requirement already satisfied: grpcio<2.0.0,>=1.63.0 in /usr/local/lib/python3.10/dist-packages (from marker-pdf) (1.64.1)\n",
            "Requirement already satisfied: numpy<2.0.0,>=1.26.1 in /usr/local/lib/python3.10/dist-packages (from marker-pdf) (1.26.4)\n",
            "Requirement already satisfied: pdftext<0.4.0,>=0.3.10 in /usr/local/lib/python3.10/dist-packages (from marker-pdf) (0.3.10)\n",
            "Requirement already satisfied: pydantic<3.0.0,>=2.4.2 in /usr/local/lib/python3.10/dist-packages (from marker-pdf) (2.7.4)\n",
            "Requirement already satisfied: pydantic-settings<3.0.0,>=2.0.3 in /usr/local/lib/python3.10/dist-packages (from marker-pdf) (2.3.3)\n",
            "Requirement already satisfied: python-dotenv<2.0.0,>=1.0.0 in /usr/local/lib/python3.10/dist-packages (from marker-pdf) (1.0.1)\n",
            "Requirement already satisfied: rapidfuzz<4.0.0,>=3.8.1 in /usr/local/lib/python3.10/dist-packages (from marker-pdf) (3.9.3)\n",
            "Requirement already satisfied: regex<2025.0.0,>=2024.4.28 in /usr/local/lib/python3.10/dist-packages (from marker-pdf) (2024.5.15)\n",
            "Requirement already satisfied: scikit-learn<2.0.0,>=1.3.2 in /usr/local/lib/python3.10/dist-packages (from marker-pdf) (1.5.0)\n",
            "Requirement already satisfied: surya-ocr<0.5.0,>=0.4.12 in /usr/local/lib/python3.10/dist-packages (from marker-pdf) (0.4.12)\n",
            "Requirement already satisfied: tabulate<0.10.0,>=0.9.0 in /usr/local/lib/python3.10/dist-packages (from marker-pdf) (0.9.0)\n",
            "Requirement already satisfied: texify<0.2.0,>=0.1.9 in /usr/local/lib/python3.10/dist-packages (from marker-pdf) (0.1.9)\n",
            "Requirement already satisfied: torch<3.0.0,>=2.2.2 in /usr/local/lib/python3.10/dist-packages (from marker-pdf) (2.3.0+cu121)\n",
            "Requirement already satisfied: tqdm<5.0.0,>=4.66.1 in /usr/local/lib/python3.10/dist-packages (from marker-pdf) (4.66.4)\n",
            "Requirement already satisfied: transformers<5.0.0,>=4.36.2 in /usr/local/lib/python3.10/dist-packages (from marker-pdf) (4.41.2)\n",
            "Requirement already satisfied: wcwidth<0.3.0,>=0.2.12 in /usr/local/lib/python3.10/dist-packages (from ftfy<7.0.0,>=6.1.1->marker-pdf) (0.2.13)\n",
            "Requirement already satisfied: pypdfium2<5.0.0,>=4.29.0 in /usr/local/lib/python3.10/dist-packages (from pdftext<0.4.0,>=0.3.10->marker-pdf) (4.30.0)\n",
            "Requirement already satisfied: annotated-types>=0.4.0 in /usr/local/lib/python3.10/dist-packages (from pydantic<3.0.0,>=2.4.2->marker-pdf) (0.7.0)\n",
            "Requirement already satisfied: pydantic-core==2.18.4 in /usr/local/lib/python3.10/dist-packages (from pydantic<3.0.0,>=2.4.2->marker-pdf) (2.18.4)\n",
            "Requirement already satisfied: typing-extensions>=4.6.1 in /usr/local/lib/python3.10/dist-packages (from pydantic<3.0.0,>=2.4.2->marker-pdf) (4.12.2)\n",
            "Requirement already satisfied: scipy>=1.6.0 in /usr/local/lib/python3.10/dist-packages (from scikit-learn<2.0.0,>=1.3.2->marker-pdf) (1.11.4)\n",
            "Requirement already satisfied: joblib>=1.2.0 in /usr/local/lib/python3.10/dist-packages (from scikit-learn<2.0.0,>=1.3.2->marker-pdf) (1.4.2)\n",
            "Requirement already satisfied: threadpoolctl>=3.1.0 in /usr/local/lib/python3.10/dist-packages (from scikit-learn<2.0.0,>=1.3.2->marker-pdf) (3.5.0)\n",
            "Requirement already satisfied: opencv-python<5.0.0.0,>=4.9.0.80 in /usr/local/lib/python3.10/dist-packages (from surya-ocr<0.5.0,>=0.4.12->marker-pdf) (4.10.0.84)\n",
            "Requirement already satisfied: filelock in /usr/local/lib/python3.10/dist-packages (from torch<3.0.0,>=2.2.2->marker-pdf) (3.15.1)\n",
            "Requirement already satisfied: sympy in /usr/local/lib/python3.10/dist-packages (from torch<3.0.0,>=2.2.2->marker-pdf) (1.12.1)\n",
            "Requirement already satisfied: networkx in /usr/local/lib/python3.10/dist-packages (from torch<3.0.0,>=2.2.2->marker-pdf) (3.3)\n",
            "Requirement already satisfied: jinja2 in /usr/local/lib/python3.10/dist-packages (from torch<3.0.0,>=2.2.2->marker-pdf) (3.1.4)\n",
            "Requirement already satisfied: fsspec in /usr/local/lib/python3.10/dist-packages (from torch<3.0.0,>=2.2.2->marker-pdf) (2023.6.0)\n",
            "Requirement already satisfied: nvidia-cuda-nvrtc-cu12==12.1.105 in /usr/local/lib/python3.10/dist-packages (from torch<3.0.0,>=2.2.2->marker-pdf) (12.1.105)\n",
            "Requirement already satisfied: nvidia-cuda-runtime-cu12==12.1.105 in /usr/local/lib/python3.10/dist-packages (from torch<3.0.0,>=2.2.2->marker-pdf) (12.1.105)\n",
            "Requirement already satisfied: nvidia-cuda-cupti-cu12==12.1.105 in /usr/local/lib/python3.10/dist-packages (from torch<3.0.0,>=2.2.2->marker-pdf) (12.1.105)\n",
            "Requirement already satisfied: nvidia-cudnn-cu12==8.9.2.26 in /usr/local/lib/python3.10/dist-packages (from torch<3.0.0,>=2.2.2->marker-pdf) (8.9.2.26)\n",
            "Requirement already satisfied: nvidia-cublas-cu12==12.1.3.1 in /usr/local/lib/python3.10/dist-packages (from torch<3.0.0,>=2.2.2->marker-pdf) (12.1.3.1)\n",
            "Requirement already satisfied: nvidia-cufft-cu12==11.0.2.54 in /usr/local/lib/python3.10/dist-packages (from torch<3.0.0,>=2.2.2->marker-pdf) (11.0.2.54)\n",
            "Requirement already satisfied: nvidia-curand-cu12==10.3.2.106 in /usr/local/lib/python3.10/dist-packages (from torch<3.0.0,>=2.2.2->marker-pdf) (10.3.2.106)\n",
            "Requirement already satisfied: nvidia-cusolver-cu12==11.4.5.107 in /usr/local/lib/python3.10/dist-packages (from torch<3.0.0,>=2.2.2->marker-pdf) (11.4.5.107)\n",
            "Requirement already satisfied: nvidia-cusparse-cu12==12.1.0.106 in /usr/local/lib/python3.10/dist-packages (from torch<3.0.0,>=2.2.2->marker-pdf) (12.1.0.106)\n",
            "Requirement already satisfied: nvidia-nccl-cu12==2.20.5 in /usr/local/lib/python3.10/dist-packages (from torch<3.0.0,>=2.2.2->marker-pdf) (2.20.5)\n",
            "Requirement already satisfied: nvidia-nvtx-cu12==12.1.105 in /usr/local/lib/python3.10/dist-packages (from torch<3.0.0,>=2.2.2->marker-pdf) (12.1.105)\n",
            "Requirement already satisfied: triton==2.3.0 in /usr/local/lib/python3.10/dist-packages (from torch<3.0.0,>=2.2.2->marker-pdf) (2.3.0)\n",
            "Requirement already satisfied: nvidia-nvjitlink-cu12 in /usr/local/lib/python3.10/dist-packages (from nvidia-cusolver-cu12==11.4.5.107->torch<3.0.0,>=2.2.2->marker-pdf) (12.5.40)\n",
            "Requirement already satisfied: huggingface-hub<1.0,>=0.23.0 in /usr/local/lib/python3.10/dist-packages (from transformers<5.0.0,>=4.36.2->marker-pdf) (0.23.4)\n",
            "Requirement already satisfied: packaging>=20.0 in /usr/local/lib/python3.10/dist-packages (from transformers<5.0.0,>=4.36.2->marker-pdf) (24.1)\n",
            "Requirement already satisfied: pyyaml>=5.1 in /usr/local/lib/python3.10/dist-packages (from transformers<5.0.0,>=4.36.2->marker-pdf) (6.0.1)\n",
            "Requirement already satisfied: requests in /usr/local/lib/python3.10/dist-packages (from transformers<5.0.0,>=4.36.2->marker-pdf) (2.32.3)\n",
            "Requirement already satisfied: tokenizers<0.20,>=0.19 in /usr/local/lib/python3.10/dist-packages (from transformers<5.0.0,>=4.36.2->marker-pdf) (0.19.1)\n",
            "Requirement already satisfied: safetensors>=0.4.1 in /usr/local/lib/python3.10/dist-packages (from transformers<5.0.0,>=4.36.2->marker-pdf) (0.4.3)\n",
            "Requirement already satisfied: MarkupSafe>=2.0 in /usr/local/lib/python3.10/dist-packages (from jinja2->torch<3.0.0,>=2.2.2->marker-pdf) (2.1.5)\n",
            "Requirement already satisfied: charset-normalizer<4,>=2 in /usr/local/lib/python3.10/dist-packages (from requests->transformers<5.0.0,>=4.36.2->marker-pdf) (3.3.2)\n",
            "Requirement already satisfied: idna<4,>=2.5 in /usr/local/lib/python3.10/dist-packages (from requests->transformers<5.0.0,>=4.36.2->marker-pdf) (3.7)\n",
            "Requirement already satisfied: urllib3<3,>=1.21.1 in /usr/local/lib/python3.10/dist-packages (from requests->transformers<5.0.0,>=4.36.2->marker-pdf) (2.0.7)\n",
            "Requirement already satisfied: certifi>=2017.4.17 in /usr/local/lib/python3.10/dist-packages (from requests->transformers<5.0.0,>=4.36.2->marker-pdf) (2024.6.2)\n",
            "Requirement already satisfied: mpmath<1.4.0,>=1.1.0 in /usr/local/lib/python3.10/dist-packages (from sympy->torch<3.0.0,>=2.2.2->marker-pdf) (1.3.0)\n"
          ]
        }
      ],
      "source": [
        "! pip install marker-pdf"
      ]
    },
    {
      "cell_type": "code",
      "source": [
        "!marker_single ./test.pdf   output_directory  --batch_multiplier 2 --max_pages 100 --langs Chinese"
      ],
      "metadata": {
        "colab": {
          "base_uri": "https://localhost:8080/"
        },
        "id": "Waml1rHihG-v",
        "outputId": "527c9681-8f61-405c-c284-d58d7660de4a"
      },
      "execution_count": 2,
      "outputs": [
        {
          "output_type": "stream",
          "name": "stdout",
          "text": [
            "2024-06-22 01:35:06.186457: E external/local_xla/xla/stream_executor/cuda/cuda_dnn.cc:9261] Unable to register cuDNN factory: Attempting to register factory for plugin cuDNN when one has already been registered\n",
            "2024-06-22 01:35:06.186523: E external/local_xla/xla/stream_executor/cuda/cuda_fft.cc:607] Unable to register cuFFT factory: Attempting to register factory for plugin cuFFT when one has already been registered\n",
            "2024-06-22 01:35:06.318587: E external/local_xla/xla/stream_executor/cuda/cuda_blas.cc:1515] Unable to register cuBLAS factory: Attempting to register factory for plugin cuBLAS when one has already been registered\n",
            "2024-06-22 01:35:06.567648: I tensorflow/core/platform/cpu_feature_guard.cc:182] This TensorFlow binary is optimized to use available CPU instructions in performance-critical operations.\n",
            "To enable the following instructions: AVX2 FMA, in other operations, rebuild TensorFlow with the appropriate compiler flags.\n",
            "2024-06-22 01:35:08.596353: W tensorflow/compiler/tf2tensorrt/utils/py_utils.cc:38] TF-TRT Warning: Could not find TensorRT\n",
            "config.json: 100% 1.18k/1.18k [00:00<00:00, 7.48MB/s]\n",
            "model.safetensors: 100% 120M/120M [00:00<00:00, 168MB/s]\n",
            "Loaded detection model vikp/surya_det2 on device cuda with dtype torch.float16\n",
            "preprocessor_config.json: 100% 430/430 [00:00<00:00, 1.86MB/s]\n",
            "config.json: 100% 1.57k/1.57k [00:00<00:00, 9.18MB/s]\n",
            "model.safetensors: 100% 120M/120M [00:00<00:00, 196MB/s]\n",
            "Loaded detection model vikp/surya_layout2 on device cuda with dtype torch.float16\n",
            "preprocessor_config.json: 100% 430/430 [00:00<00:00, 2.92MB/s]\n",
            "config.json: 100% 5.04k/5.04k [00:00<00:00, 23.9MB/s]\n",
            "model.safetensors: 100% 550M/550M [00:02<00:00, 196MB/s]\n",
            "generation_config.json: 100% 160/160 [00:00<00:00, 846kB/s]\n",
            "Loaded reading order model vikp/surya_order on device cuda with dtype torch.float16\n",
            "preprocessor_config.json: 100% 684/684 [00:00<00:00, 3.80MB/s]\n",
            "config.json: 100% 6.91k/6.91k [00:00<00:00, 27.2MB/s]\n",
            "model.safetensors: 100% 1.05G/1.05G [00:07<00:00, 134MB/s]\n",
            "generation_config.json: 100% 181/181 [00:00<00:00, 1.14MB/s]\n",
            "Loaded recognition model vikp/surya_rec on device cuda with dtype torch.float16\n",
            "preprocessor_config.json: 100% 608/608 [00:00<00:00, 2.79MB/s]\n",
            "config.json: 100% 4.92k/4.92k [00:00<00:00, 22.8MB/s]\n",
            "model.safetensors: 100% 625M/625M [00:06<00:00, 95.3MB/s]\n",
            "generation_config.json: 100% 191/191 [00:00<00:00, 947kB/s]\n",
            "Loaded texify model to cuda with torch.float16 dtype\n",
            "preprocessor_config.json: 100% 617/617 [00:00<00:00, 4.44MB/s]\n",
            "tokenizer_config.json: 100% 4.49k/4.49k [00:00<00:00, 22.9MB/s]\n",
            "tokenizer.json: 100% 2.14M/2.14M [00:00<00:00, 31.2MB/s]\n",
            "added_tokens.json: 100% 18.3k/18.3k [00:00<00:00, 60.1MB/s]\n",
            "special_tokens_map.json: 100% 552/552 [00:00<00:00, 4.11MB/s]\n",
            "/usr/lib/python3.10/multiprocessing/popen_fork.py:66: RuntimeWarning: os.fork() was called. os.fork() is incompatible with multithreaded code, and JAX is multithreaded, so this will likely lead to a deadlock.\n",
            "  self.pid = os.fork()\n",
            "Detecting bboxes: 100% 8/8 [00:19<00:00,  2.40s/it]\n",
            "Recognizing Text: 100% 1/1 [00:03<00:00,  3.23s/it]\n",
            "Detecting bboxes: 100% 6/6 [00:19<00:00,  3.17s/it]\n",
            "Finding reading order: 100% 6/6 [00:10<00:00,  1.81s/it]\n",
            "Saved markdown to the output_directory/test folder\n"
          ]
        }
      ]
    },
    {
      "cell_type": "code",
      "source": [
        "\n",
        "\n"
      ],
      "metadata": {
        "id": "xayPSAod19Ek"
      },
      "execution_count": null,
      "outputs": []
    }
  ]
}
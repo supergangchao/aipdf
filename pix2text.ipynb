{
  "nbformat": 4,
  "nbformat_minor": 0,
  "metadata": {
    "colab": {
      "provenance": [],
      "gpuType": "T4"
    },
    "kernelspec": {
      "name": "python3",
      "display_name": "Python 3"
    },
    "language_info": {
      "name": "python"
    },
    "accelerator": "GPU"
  },
  "cells": [
    {
      "cell_type": "code",
      "execution_count": 1,
      "metadata": {
        "colab": {
          "base_uri": "https://localhost:8080/"
        },
        "id": "pNwZjTthpCAu",
        "outputId": "bafe0565-9a03-44ce-feac-00d5ab83456d"
      },
      "outputs": [
        {
          "output_type": "stream",
          "name": "stdout",
          "text": [
            "Collecting pix2text\n",
            "  Downloading pix2text-1.1.1-py3-none-any.whl (162 kB)\n",
            "\u001b[?25l     \u001b[90m━━━━━━━━━━━━━━━━━━━━━━━━━━━━━━━━━━━━━━━━\u001b[0m \u001b[32m0.0/163.0 kB\u001b[0m \u001b[31m?\u001b[0m eta \u001b[36m-:--:--\u001b[0m\r\u001b[2K     \u001b[91m━━━━━━━━━━━━━━━━━━━━━━━━━━━\u001b[0m\u001b[91m╸\u001b[0m\u001b[90m━━━━━━━━━━━━\u001b[0m \u001b[32m112.6/163.0 kB\u001b[0m \u001b[31m3.2 MB/s\u001b[0m eta \u001b[36m0:00:01\u001b[0m\r\u001b[2K     \u001b[90m━━━━━━━━━━━━━━━━━━━━━━━━━━━━━━━━━━━━━━━━\u001b[0m \u001b[32m163.0/163.0 kB\u001b[0m \u001b[31m3.2 MB/s\u001b[0m eta \u001b[36m0:00:00\u001b[0m\n",
            "\u001b[?25hRequirement already satisfied: click in /usr/local/lib/python3.10/dist-packages (from pix2text) (8.1.7)\n",
            "Requirement already satisfied: tqdm in /usr/local/lib/python3.10/dist-packages (from pix2text) (4.66.4)\n",
            "Requirement already satisfied: numpy in /usr/local/lib/python3.10/dist-packages (from pix2text) (1.25.2)\n",
            "Requirement already satisfied: opencv-python in /usr/local/lib/python3.10/dist-packages (from pix2text) (4.8.0.76)\n",
            "Collecting cnocr[ort-cpu]>=2.3.0.2 (from pix2text)\n",
            "  Downloading cnocr-2.3.0.2-py3-none-any.whl (222 kB)\n",
            "\u001b[2K     \u001b[90m━━━━━━━━━━━━━━━━━━━━━━━━━━━━━━━━━━━━━━━━\u001b[0m \u001b[32m222.1/222.1 kB\u001b[0m \u001b[31m12.8 MB/s\u001b[0m eta \u001b[36m0:00:00\u001b[0m\n",
            "\u001b[?25hCollecting cnstd>=1.2.4.1 (from pix2text)\n",
            "  Downloading cnstd-1.2.4.1-py3-none-any.whl (248 kB)\n",
            "\u001b[2K     \u001b[90m━━━━━━━━━━━━━━━━━━━━━━━━━━━━━━━━━━━━━━━━\u001b[0m \u001b[32m249.0/249.0 kB\u001b[0m \u001b[31m28.9 MB/s\u001b[0m eta \u001b[36m0:00:00\u001b[0m\n",
            "\u001b[?25hRequirement already satisfied: pillow in /usr/local/lib/python3.10/dist-packages (from pix2text) (9.4.0)\n",
            "Requirement already satisfied: torch in /usr/local/lib/python3.10/dist-packages (from pix2text) (2.3.0+cu121)\n",
            "Requirement already satisfied: torchvision in /usr/local/lib/python3.10/dist-packages (from pix2text) (0.18.0+cu121)\n",
            "Requirement already satisfied: transformers>=4.37.0 in /usr/local/lib/python3.10/dist-packages (from pix2text) (4.41.2)\n",
            "Collecting optimum[onnxruntime] (from pix2text)\n",
            "  Downloading optimum-1.20.0-py3-none-any.whl (418 kB)\n",
            "\u001b[2K     \u001b[90m━━━━━━━━━━━━━━━━━━━━━━━━━━━━━━━━━━━━━━━━\u001b[0m \u001b[32m418.4/418.4 kB\u001b[0m \u001b[31m31.7 MB/s\u001b[0m eta \u001b[36m0:00:00\u001b[0m\n",
            "\u001b[?25hCollecting PyMuPDF (from pix2text)\n",
            "  Downloading PyMuPDF-1.24.5-cp310-none-manylinux2014_x86_64.whl (3.5 MB)\n",
            "\u001b[2K     \u001b[90m━━━━━━━━━━━━━━━━━━━━━━━━━━━━━━━━━━━━━━━━\u001b[0m \u001b[32m3.5/3.5 MB\u001b[0m \u001b[31m53.7 MB/s\u001b[0m eta \u001b[36m0:00:00\u001b[0m\n",
            "\u001b[?25hCollecting pyspellchecker (from pix2text)\n",
            "  Downloading pyspellchecker-0.8.1-py3-none-any.whl (6.8 MB)\n",
            "\u001b[2K     \u001b[90m━━━━━━━━━━━━━━━━━━━━━━━━━━━━━━━━━━━━━━━━\u001b[0m \u001b[32m6.8/6.8 MB\u001b[0m \u001b[31m64.3 MB/s\u001b[0m eta \u001b[36m0:00:00\u001b[0m\n",
            "\u001b[?25hCollecting pytorch-lightning>=2.0.0 (from cnocr[ort-cpu]>=2.3.0.2->pix2text)\n",
            "  Downloading pytorch_lightning-2.3.0-py3-none-any.whl (812 kB)\n",
            "\u001b[2K     \u001b[90m━━━━━━━━━━━━━━━━━━━━━━━━━━━━━━━━━━━━━━━━\u001b[0m \u001b[32m812.2/812.2 kB\u001b[0m \u001b[31m50.6 MB/s\u001b[0m eta \u001b[36m0:00:00\u001b[0m\n",
            "\u001b[?25hCollecting wandb (from cnocr[ort-cpu]>=2.3.0.2->pix2text)\n",
            "  Downloading wandb-0.17.2-py3-none-manylinux_2_5_x86_64.manylinux1_x86_64.manylinux_2_17_x86_64.manylinux2014_x86_64.whl (6.9 MB)\n",
            "\u001b[2K     \u001b[90m━━━━━━━━━━━━━━━━━━━━━━━━━━━━━━━━━━━━━━━━\u001b[0m \u001b[32m6.9/6.9 MB\u001b[0m \u001b[31m66.4 MB/s\u001b[0m eta \u001b[36m0:00:00\u001b[0m\n",
            "\u001b[?25hCollecting torchmetrics (from cnocr[ort-cpu]>=2.3.0.2->pix2text)\n",
            "  Downloading torchmetrics-1.4.0.post0-py3-none-any.whl (868 kB)\n",
            "\u001b[2K     \u001b[90m━━━━━━━━━━━━━━━━━━━━━━━━━━━━━━━━━━━━━━━━\u001b[0m \u001b[32m868.8/868.8 kB\u001b[0m \u001b[31m56.9 MB/s\u001b[0m eta \u001b[36m0:00:00\u001b[0m\n",
            "\u001b[?25hCollecting onnx (from cnocr[ort-cpu]>=2.3.0.2->pix2text)\n",
            "  Downloading onnx-1.16.1-cp310-cp310-manylinux_2_17_x86_64.manylinux2014_x86_64.whl (15.9 MB)\n",
            "\u001b[2K     \u001b[90m━━━━━━━━━━━━━━━━━━━━━━━━━━━━━━━━━━━━━━━━\u001b[0m \u001b[32m15.9/15.9 MB\u001b[0m \u001b[31m60.2 MB/s\u001b[0m eta \u001b[36m0:00:00\u001b[0m\n",
            "\u001b[?25hCollecting onnxruntime (from cnocr[ort-cpu]>=2.3.0.2->pix2text)\n",
            "  Downloading onnxruntime-1.18.0-cp310-cp310-manylinux_2_27_x86_64.manylinux_2_28_x86_64.whl (6.8 MB)\n",
            "\u001b[2K     \u001b[90m━━━━━━━━━━━━━━━━━━━━━━━━━━━━━━━━━━━━━━━━\u001b[0m \u001b[32m6.8/6.8 MB\u001b[0m \u001b[31m73.2 MB/s\u001b[0m eta \u001b[36m0:00:00\u001b[0m\n",
            "\u001b[?25hRequirement already satisfied: pyyaml in /usr/local/lib/python3.10/dist-packages (from cnstd>=1.2.4.1->pix2text) (6.0.1)\n",
            "Collecting unidecode (from cnstd>=1.2.4.1->pix2text)\n",
            "  Downloading Unidecode-1.3.8-py3-none-any.whl (235 kB)\n",
            "\u001b[2K     \u001b[90m━━━━━━━━━━━━━━━━━━━━━━━━━━━━━━━━━━━━━━━━\u001b[0m \u001b[32m235.5/235.5 kB\u001b[0m \u001b[31m26.7 MB/s\u001b[0m eta \u001b[36m0:00:00\u001b[0m\n",
            "\u001b[?25hRequirement already satisfied: scipy in /usr/local/lib/python3.10/dist-packages (from cnstd>=1.2.4.1->pix2text) (1.11.4)\n",
            "Requirement already satisfied: pandas in /usr/local/lib/python3.10/dist-packages (from cnstd>=1.2.4.1->pix2text) (2.0.3)\n",
            "Requirement already satisfied: shapely in /usr/local/lib/python3.10/dist-packages (from cnstd>=1.2.4.1->pix2text) (2.0.4)\n",
            "Collecting Polygon3 (from cnstd>=1.2.4.1->pix2text)\n",
            "  Downloading Polygon3-3.0.9.1.tar.gz (39 kB)\n",
            "  Preparing metadata (setup.py) ... \u001b[?25l\u001b[?25hdone\n",
            "Collecting pyclipper (from cnstd>=1.2.4.1->pix2text)\n",
            "  Downloading pyclipper-1.3.0.post5-cp310-cp310-manylinux_2_12_x86_64.manylinux2010_x86_64.whl (908 kB)\n",
            "\u001b[2K     \u001b[90m━━━━━━━━━━━━━━━━━━━━━━━━━━━━━━━━━━━━━━━━\u001b[0m \u001b[32m908.3/908.3 kB\u001b[0m \u001b[31m44.1 MB/s\u001b[0m eta \u001b[36m0:00:00\u001b[0m\n",
            "\u001b[?25hRequirement already satisfied: matplotlib in /usr/local/lib/python3.10/dist-packages (from cnstd>=1.2.4.1->pix2text) (3.7.1)\n",
            "Requirement already satisfied: seaborn in /usr/local/lib/python3.10/dist-packages (from cnstd>=1.2.4.1->pix2text) (0.13.1)\n",
            "Requirement already satisfied: huggingface-hub in /usr/local/lib/python3.10/dist-packages (from cnstd>=1.2.4.1->pix2text) (0.23.4)\n",
            "Collecting ultralytics (from cnstd>=1.2.4.1->pix2text)\n",
            "  Downloading ultralytics-8.2.38-py3-none-any.whl (792 kB)\n",
            "\u001b[2K     \u001b[90m━━━━━━━━━━━━━━━━━━━━━━━━━━━━━━━━━━━━━━━━\u001b[0m \u001b[32m792.5/792.5 kB\u001b[0m \u001b[31m42.5 MB/s\u001b[0m eta \u001b[36m0:00:00\u001b[0m\n",
            "\u001b[?25hRequirement already satisfied: filelock in /usr/local/lib/python3.10/dist-packages (from torch->pix2text) (3.15.1)\n",
            "Requirement already satisfied: typing-extensions>=4.8.0 in /usr/local/lib/python3.10/dist-packages (from torch->pix2text) (4.12.2)\n",
            "Requirement already satisfied: sympy in /usr/local/lib/python3.10/dist-packages (from torch->pix2text) (1.12.1)\n",
            "Requirement already satisfied: networkx in /usr/local/lib/python3.10/dist-packages (from torch->pix2text) (3.3)\n",
            "Requirement already satisfied: jinja2 in /usr/local/lib/python3.10/dist-packages (from torch->pix2text) (3.1.4)\n",
            "Requirement already satisfied: fsspec in /usr/local/lib/python3.10/dist-packages (from torch->pix2text) (2023.6.0)\n",
            "Collecting nvidia-cuda-nvrtc-cu12==12.1.105 (from torch->pix2text)\n",
            "  Using cached nvidia_cuda_nvrtc_cu12-12.1.105-py3-none-manylinux1_x86_64.whl (23.7 MB)\n",
            "Collecting nvidia-cuda-runtime-cu12==12.1.105 (from torch->pix2text)\n",
            "  Using cached nvidia_cuda_runtime_cu12-12.1.105-py3-none-manylinux1_x86_64.whl (823 kB)\n",
            "Collecting nvidia-cuda-cupti-cu12==12.1.105 (from torch->pix2text)\n",
            "  Using cached nvidia_cuda_cupti_cu12-12.1.105-py3-none-manylinux1_x86_64.whl (14.1 MB)\n",
            "Collecting nvidia-cudnn-cu12==8.9.2.26 (from torch->pix2text)\n",
            "  Using cached nvidia_cudnn_cu12-8.9.2.26-py3-none-manylinux1_x86_64.whl (731.7 MB)\n",
            "Collecting nvidia-cublas-cu12==12.1.3.1 (from torch->pix2text)\n",
            "  Using cached nvidia_cublas_cu12-12.1.3.1-py3-none-manylinux1_x86_64.whl (410.6 MB)\n",
            "Collecting nvidia-cufft-cu12==11.0.2.54 (from torch->pix2text)\n",
            "  Using cached nvidia_cufft_cu12-11.0.2.54-py3-none-manylinux1_x86_64.whl (121.6 MB)\n",
            "Collecting nvidia-curand-cu12==10.3.2.106 (from torch->pix2text)\n",
            "  Using cached nvidia_curand_cu12-10.3.2.106-py3-none-manylinux1_x86_64.whl (56.5 MB)\n",
            "Collecting nvidia-cusolver-cu12==11.4.5.107 (from torch->pix2text)\n",
            "  Using cached nvidia_cusolver_cu12-11.4.5.107-py3-none-manylinux1_x86_64.whl (124.2 MB)\n",
            "Collecting nvidia-cusparse-cu12==12.1.0.106 (from torch->pix2text)\n",
            "  Using cached nvidia_cusparse_cu12-12.1.0.106-py3-none-manylinux1_x86_64.whl (196.0 MB)\n",
            "Collecting nvidia-nccl-cu12==2.20.5 (from torch->pix2text)\n",
            "  Using cached nvidia_nccl_cu12-2.20.5-py3-none-manylinux2014_x86_64.whl (176.2 MB)\n",
            "Collecting nvidia-nvtx-cu12==12.1.105 (from torch->pix2text)\n",
            "  Using cached nvidia_nvtx_cu12-12.1.105-py3-none-manylinux1_x86_64.whl (99 kB)\n",
            "Requirement already satisfied: triton==2.3.0 in /usr/local/lib/python3.10/dist-packages (from torch->pix2text) (2.3.0)\n",
            "Collecting nvidia-nvjitlink-cu12 (from nvidia-cusolver-cu12==11.4.5.107->torch->pix2text)\n",
            "  Downloading nvidia_nvjitlink_cu12-12.5.40-py3-none-manylinux2014_x86_64.whl (21.3 MB)\n",
            "\u001b[2K     \u001b[90m━━━━━━━━━━━━━━━━━━━━━━━━━━━━━━━━━━━━━━━━\u001b[0m \u001b[32m21.3/21.3 MB\u001b[0m \u001b[31m69.3 MB/s\u001b[0m eta \u001b[36m0:00:00\u001b[0m\n",
            "\u001b[?25hRequirement already satisfied: packaging>=20.0 in /usr/local/lib/python3.10/dist-packages (from transformers>=4.37.0->pix2text) (24.1)\n",
            "Requirement already satisfied: regex!=2019.12.17 in /usr/local/lib/python3.10/dist-packages (from transformers>=4.37.0->pix2text) (2024.5.15)\n",
            "Requirement already satisfied: requests in /usr/local/lib/python3.10/dist-packages (from transformers>=4.37.0->pix2text) (2.31.0)\n",
            "Requirement already satisfied: tokenizers<0.20,>=0.19 in /usr/local/lib/python3.10/dist-packages (from transformers>=4.37.0->pix2text) (0.19.1)\n",
            "Requirement already satisfied: safetensors>=0.4.1 in /usr/local/lib/python3.10/dist-packages (from transformers>=4.37.0->pix2text) (0.4.3)\n",
            "Collecting coloredlogs (from optimum[onnxruntime]->pix2text)\n",
            "  Downloading coloredlogs-15.0.1-py2.py3-none-any.whl (46 kB)\n",
            "\u001b[2K     \u001b[90m━━━━━━━━━━━━━━━━━━━━━━━━━━━━━━━━━━━━━━━━\u001b[0m \u001b[32m46.0/46.0 kB\u001b[0m \u001b[31m7.2 MB/s\u001b[0m eta \u001b[36m0:00:00\u001b[0m\n",
            "\u001b[?25hCollecting datasets (from optimum[onnxruntime]->pix2text)\n",
            "  Downloading datasets-2.20.0-py3-none-any.whl (547 kB)\n",
            "\u001b[2K     \u001b[90m━━━━━━━━━━━━━━━━━━━━━━━━━━━━━━━━━━━━━━━━\u001b[0m \u001b[32m547.8/547.8 kB\u001b[0m \u001b[31m53.0 MB/s\u001b[0m eta \u001b[36m0:00:00\u001b[0m\n",
            "\u001b[?25hCollecting evaluate (from optimum[onnxruntime]->pix2text)\n",
            "  Downloading evaluate-0.4.2-py3-none-any.whl (84 kB)\n",
            "\u001b[2K     \u001b[90m━━━━━━━━━━━━━━━━━━━━━━━━━━━━━━━━━━━━━━━━\u001b[0m \u001b[32m84.1/84.1 kB\u001b[0m \u001b[31m14.0 MB/s\u001b[0m eta \u001b[36m0:00:00\u001b[0m\n",
            "\u001b[?25hRequirement already satisfied: protobuf>=3.20.1 in /usr/local/lib/python3.10/dist-packages (from optimum[onnxruntime]->pix2text) (3.20.3)\n",
            "Collecting PyMuPDFb==1.24.3 (from PyMuPDF->pix2text)\n",
            "  Downloading PyMuPDFb-1.24.3-py3-none-manylinux2014_x86_64.manylinux_2_17_x86_64.whl (15.8 MB)\n",
            "\u001b[2K     \u001b[90m━━━━━━━━━━━━━━━━━━━━━━━━━━━━━━━━━━━━━━━━\u001b[0m \u001b[32m15.8/15.8 MB\u001b[0m \u001b[31m56.5 MB/s\u001b[0m eta \u001b[36m0:00:00\u001b[0m\n",
            "\u001b[?25hCollecting pyarrow>=15.0.0 (from datasets->optimum[onnxruntime]->pix2text)\n",
            "  Downloading pyarrow-16.1.0-cp310-cp310-manylinux_2_28_x86_64.whl (40.8 MB)\n",
            "\u001b[2K     \u001b[90m━━━━━━━━━━━━━━━━━━━━━━━━━━━━━━━━━━━━━━━━\u001b[0m \u001b[32m40.8/40.8 MB\u001b[0m \u001b[31m12.4 MB/s\u001b[0m eta \u001b[36m0:00:00\u001b[0m\n",
            "\u001b[?25hRequirement already satisfied: pyarrow-hotfix in /usr/local/lib/python3.10/dist-packages (from datasets->optimum[onnxruntime]->pix2text) (0.6)\n",
            "Collecting dill<0.3.9,>=0.3.0 (from datasets->optimum[onnxruntime]->pix2text)\n",
            "  Downloading dill-0.3.8-py3-none-any.whl (116 kB)\n",
            "\u001b[2K     \u001b[90m━━━━━━━━━━━━━━━━━━━━━━━━━━━━━━━━━━━━━━━━\u001b[0m \u001b[32m116.3/116.3 kB\u001b[0m \u001b[31m18.0 MB/s\u001b[0m eta \u001b[36m0:00:00\u001b[0m\n",
            "\u001b[?25hCollecting requests (from transformers>=4.37.0->pix2text)\n",
            "  Downloading requests-2.32.3-py3-none-any.whl (64 kB)\n",
            "\u001b[2K     \u001b[90m━━━━━━━━━━━━━━━━━━━━━━━━━━━━━━━━━━━━━━━━\u001b[0m \u001b[32m64.9/64.9 kB\u001b[0m \u001b[31m10.1 MB/s\u001b[0m eta \u001b[36m0:00:00\u001b[0m\n",
            "\u001b[?25hCollecting xxhash (from datasets->optimum[onnxruntime]->pix2text)\n",
            "  Downloading xxhash-3.4.1-cp310-cp310-manylinux_2_17_x86_64.manylinux2014_x86_64.whl (194 kB)\n",
            "\u001b[2K     \u001b[90m━━━━━━━━━━━━━━━━━━━━━━━━━━━━━━━━━━━━━━━━\u001b[0m \u001b[32m194.1/194.1 kB\u001b[0m \u001b[31m26.2 MB/s\u001b[0m eta \u001b[36m0:00:00\u001b[0m\n",
            "\u001b[?25hCollecting multiprocess (from datasets->optimum[onnxruntime]->pix2text)\n",
            "  Downloading multiprocess-0.70.16-py310-none-any.whl (134 kB)\n",
            "\u001b[2K     \u001b[90m━━━━━━━━━━━━━━━━━━━━━━━━━━━━━━━━━━━━━━━━\u001b[0m \u001b[32m134.8/134.8 kB\u001b[0m \u001b[31m20.0 MB/s\u001b[0m eta \u001b[36m0:00:00\u001b[0m\n",
            "\u001b[?25hRequirement already satisfied: aiohttp in /usr/local/lib/python3.10/dist-packages (from datasets->optimum[onnxruntime]->pix2text) (3.9.5)\n",
            "Requirement already satisfied: flatbuffers in /usr/local/lib/python3.10/dist-packages (from onnxruntime->cnocr[ort-cpu]>=2.3.0.2->pix2text) (24.3.25)\n",
            "Collecting lightning-utilities>=0.8.0 (from pytorch-lightning>=2.0.0->cnocr[ort-cpu]>=2.3.0.2->pix2text)\n",
            "  Downloading lightning_utilities-0.11.2-py3-none-any.whl (26 kB)\n",
            "Requirement already satisfied: charset-normalizer<4,>=2 in /usr/local/lib/python3.10/dist-packages (from requests->transformers>=4.37.0->pix2text) (3.3.2)\n",
            "Requirement already satisfied: idna<4,>=2.5 in /usr/local/lib/python3.10/dist-packages (from requests->transformers>=4.37.0->pix2text) (3.7)\n",
            "Requirement already satisfied: urllib3<3,>=1.21.1 in /usr/local/lib/python3.10/dist-packages (from requests->transformers>=4.37.0->pix2text) (2.0.7)\n",
            "Requirement already satisfied: certifi>=2017.4.17 in /usr/local/lib/python3.10/dist-packages (from requests->transformers>=4.37.0->pix2text) (2024.6.2)\n",
            "Requirement already satisfied: sentencepiece!=0.1.92,>=0.1.91 in /usr/local/lib/python3.10/dist-packages (from transformers>=4.37.0->pix2text) (0.1.99)\n",
            "Collecting humanfriendly>=9.1 (from coloredlogs->optimum[onnxruntime]->pix2text)\n",
            "  Downloading humanfriendly-10.0-py2.py3-none-any.whl (86 kB)\n",
            "\u001b[2K     \u001b[90m━━━━━━━━━━━━━━━━━━━━━━━━━━━━━━━━━━━━━━━━\u001b[0m \u001b[32m86.8/86.8 kB\u001b[0m \u001b[31m14.6 MB/s\u001b[0m eta \u001b[36m0:00:00\u001b[0m\n",
            "\u001b[?25hRequirement already satisfied: MarkupSafe>=2.0 in /usr/local/lib/python3.10/dist-packages (from jinja2->torch->pix2text) (2.1.5)\n",
            "Requirement already satisfied: contourpy>=1.0.1 in /usr/local/lib/python3.10/dist-packages (from matplotlib->cnstd>=1.2.4.1->pix2text) (1.2.1)\n",
            "Requirement already satisfied: cycler>=0.10 in /usr/local/lib/python3.10/dist-packages (from matplotlib->cnstd>=1.2.4.1->pix2text) (0.12.1)\n",
            "Requirement already satisfied: fonttools>=4.22.0 in /usr/local/lib/python3.10/dist-packages (from matplotlib->cnstd>=1.2.4.1->pix2text) (4.53.0)\n",
            "Requirement already satisfied: kiwisolver>=1.0.1 in /usr/local/lib/python3.10/dist-packages (from matplotlib->cnstd>=1.2.4.1->pix2text) (1.4.5)\n",
            "Requirement already satisfied: pyparsing>=2.3.1 in /usr/local/lib/python3.10/dist-packages (from matplotlib->cnstd>=1.2.4.1->pix2text) (3.1.2)\n",
            "Requirement already satisfied: python-dateutil>=2.7 in /usr/local/lib/python3.10/dist-packages (from matplotlib->cnstd>=1.2.4.1->pix2text) (2.8.2)\n",
            "Requirement already satisfied: pytz>=2020.1 in /usr/local/lib/python3.10/dist-packages (from pandas->cnstd>=1.2.4.1->pix2text) (2023.4)\n",
            "Requirement already satisfied: tzdata>=2022.1 in /usr/local/lib/python3.10/dist-packages (from pandas->cnstd>=1.2.4.1->pix2text) (2024.1)\n",
            "Requirement already satisfied: mpmath<1.4.0,>=1.1.0 in /usr/local/lib/python3.10/dist-packages (from sympy->torch->pix2text) (1.3.0)\n",
            "Requirement already satisfied: psutil in /usr/local/lib/python3.10/dist-packages (from ultralytics->cnstd>=1.2.4.1->pix2text) (5.9.5)\n",
            "Requirement already satisfied: py-cpuinfo in /usr/local/lib/python3.10/dist-packages (from ultralytics->cnstd>=1.2.4.1->pix2text) (9.0.0)\n",
            "Collecting ultralytics-thop>=2.0.0 (from ultralytics->cnstd>=1.2.4.1->pix2text)\n",
            "  Downloading ultralytics_thop-2.0.0-py3-none-any.whl (25 kB)\n",
            "Collecting docker-pycreds>=0.4.0 (from wandb->cnocr[ort-cpu]>=2.3.0.2->pix2text)\n",
            "  Downloading docker_pycreds-0.4.0-py2.py3-none-any.whl (9.0 kB)\n",
            "Collecting gitpython!=3.1.29,>=1.0.0 (from wandb->cnocr[ort-cpu]>=2.3.0.2->pix2text)\n",
            "  Downloading GitPython-3.1.43-py3-none-any.whl (207 kB)\n",
            "\u001b[2K     \u001b[90m━━━━━━━━━━━━━━━━━━━━━━━━━━━━━━━━━━━━━━━━\u001b[0m \u001b[32m207.3/207.3 kB\u001b[0m \u001b[31m30.6 MB/s\u001b[0m eta \u001b[36m0:00:00\u001b[0m\n",
            "\u001b[?25hRequirement already satisfied: platformdirs in /usr/local/lib/python3.10/dist-packages (from wandb->cnocr[ort-cpu]>=2.3.0.2->pix2text) (4.2.2)\n",
            "Collecting sentry-sdk>=1.0.0 (from wandb->cnocr[ort-cpu]>=2.3.0.2->pix2text)\n",
            "  Downloading sentry_sdk-2.6.0-py2.py3-none-any.whl (296 kB)\n",
            "\u001b[2K     \u001b[90m━━━━━━━━━━━━━━━━━━━━━━━━━━━━━━━━━━━━━━━━\u001b[0m \u001b[32m296.1/296.1 kB\u001b[0m \u001b[31m41.1 MB/s\u001b[0m eta \u001b[36m0:00:00\u001b[0m\n",
            "\u001b[?25hCollecting setproctitle (from wandb->cnocr[ort-cpu]>=2.3.0.2->pix2text)\n",
            "  Downloading setproctitle-1.3.3-cp310-cp310-manylinux_2_5_x86_64.manylinux1_x86_64.manylinux_2_17_x86_64.manylinux2014_x86_64.whl (30 kB)\n",
            "Requirement already satisfied: setuptools in /usr/local/lib/python3.10/dist-packages (from wandb->cnocr[ort-cpu]>=2.3.0.2->pix2text) (67.7.2)\n",
            "Requirement already satisfied: six>=1.4.0 in /usr/local/lib/python3.10/dist-packages (from docker-pycreds>=0.4.0->wandb->cnocr[ort-cpu]>=2.3.0.2->pix2text) (1.16.0)\n",
            "Requirement already satisfied: aiosignal>=1.1.2 in /usr/local/lib/python3.10/dist-packages (from aiohttp->datasets->optimum[onnxruntime]->pix2text) (1.3.1)\n",
            "Requirement already satisfied: attrs>=17.3.0 in /usr/local/lib/python3.10/dist-packages (from aiohttp->datasets->optimum[onnxruntime]->pix2text) (23.2.0)\n",
            "Requirement already satisfied: frozenlist>=1.1.1 in /usr/local/lib/python3.10/dist-packages (from aiohttp->datasets->optimum[onnxruntime]->pix2text) (1.4.1)\n",
            "Requirement already satisfied: multidict<7.0,>=4.5 in /usr/local/lib/python3.10/dist-packages (from aiohttp->datasets->optimum[onnxruntime]->pix2text) (6.0.5)\n",
            "Requirement already satisfied: yarl<2.0,>=1.0 in /usr/local/lib/python3.10/dist-packages (from aiohttp->datasets->optimum[onnxruntime]->pix2text) (1.9.4)\n",
            "Requirement already satisfied: async-timeout<5.0,>=4.0 in /usr/local/lib/python3.10/dist-packages (from aiohttp->datasets->optimum[onnxruntime]->pix2text) (4.0.3)\n",
            "Collecting gitdb<5,>=4.0.1 (from gitpython!=3.1.29,>=1.0.0->wandb->cnocr[ort-cpu]>=2.3.0.2->pix2text)\n",
            "  Downloading gitdb-4.0.11-py3-none-any.whl (62 kB)\n",
            "\u001b[2K     \u001b[90m━━━━━━━━━━━━━━━━━━━━━━━━━━━━━━━━━━━━━━━━\u001b[0m \u001b[32m62.7/62.7 kB\u001b[0m \u001b[31m10.6 MB/s\u001b[0m eta \u001b[36m0:00:00\u001b[0m\n",
            "\u001b[?25hCollecting smmap<6,>=3.0.1 (from gitdb<5,>=4.0.1->gitpython!=3.1.29,>=1.0.0->wandb->cnocr[ort-cpu]>=2.3.0.2->pix2text)\n",
            "  Downloading smmap-5.0.1-py3-none-any.whl (24 kB)\n",
            "Building wheels for collected packages: Polygon3\n",
            "  Building wheel for Polygon3 (setup.py) ... \u001b[?25l\u001b[?25hdone\n",
            "  Created wheel for Polygon3: filename=Polygon3-3.0.9.1-cp310-cp310-linux_x86_64.whl size=117857 sha256=97efffea863dcdf8a7b7a8fc6f0be55f0925e67f0fd5cee0f5abb71147a3d6e8\n",
            "  Stored in directory: /root/.cache/pip/wheels/d8/b7/f6/b4e24f56a1cc9856dca98cc2fdc3915d7649b39b62f3dbca9e\n",
            "Successfully built Polygon3\n",
            "Installing collected packages: pyclipper, Polygon3, xxhash, unidecode, smmap, setproctitle, sentry-sdk, requests, pyspellchecker, PyMuPDFb, pyarrow, onnx, nvidia-nvtx-cu12, nvidia-nvjitlink-cu12, nvidia-nccl-cu12, nvidia-curand-cu12, nvidia-cufft-cu12, nvidia-cuda-runtime-cu12, nvidia-cuda-nvrtc-cu12, nvidia-cuda-cupti-cu12, nvidia-cublas-cu12, lightning-utilities, humanfriendly, docker-pycreds, dill, PyMuPDF, nvidia-cusparse-cu12, nvidia-cudnn-cu12, multiprocess, gitdb, coloredlogs, onnxruntime, nvidia-cusolver-cu12, gitpython, wandb, datasets, ultralytics-thop, torchmetrics, evaluate, ultralytics, pytorch-lightning, optimum, cnstd, cnocr, pix2text\n",
            "  Attempting uninstall: requests\n",
            "    Found existing installation: requests 2.31.0\n",
            "    Uninstalling requests-2.31.0:\n",
            "      Successfully uninstalled requests-2.31.0\n",
            "  Attempting uninstall: pyarrow\n",
            "    Found existing installation: pyarrow 14.0.2\n",
            "    Uninstalling pyarrow-14.0.2:\n",
            "      Successfully uninstalled pyarrow-14.0.2\n",
            "\u001b[31mERROR: pip's dependency resolver does not currently take into account all the packages that are installed. This behaviour is the source of the following dependency conflicts.\n",
            "cudf-cu12 24.4.1 requires pyarrow<15.0.0a0,>=14.0.1, but you have pyarrow 16.1.0 which is incompatible.\n",
            "google-colab 1.0.0 requires requests==2.31.0, but you have requests 2.32.3 which is incompatible.\n",
            "ibis-framework 8.0.0 requires pyarrow<16,>=2, but you have pyarrow 16.1.0 which is incompatible.\u001b[0m\u001b[31m\n",
            "\u001b[0mSuccessfully installed Polygon3-3.0.9.1 PyMuPDF-1.24.5 PyMuPDFb-1.24.3 cnocr-2.3.0.2 cnstd-1.2.4.1 coloredlogs-15.0.1 datasets-2.20.0 dill-0.3.8 docker-pycreds-0.4.0 evaluate-0.4.2 gitdb-4.0.11 gitpython-3.1.43 humanfriendly-10.0 lightning-utilities-0.11.2 multiprocess-0.70.16 nvidia-cublas-cu12-12.1.3.1 nvidia-cuda-cupti-cu12-12.1.105 nvidia-cuda-nvrtc-cu12-12.1.105 nvidia-cuda-runtime-cu12-12.1.105 nvidia-cudnn-cu12-8.9.2.26 nvidia-cufft-cu12-11.0.2.54 nvidia-curand-cu12-10.3.2.106 nvidia-cusolver-cu12-11.4.5.107 nvidia-cusparse-cu12-12.1.0.106 nvidia-nccl-cu12-2.20.5 nvidia-nvjitlink-cu12-12.5.40 nvidia-nvtx-cu12-12.1.105 onnx-1.16.1 onnxruntime-1.18.0 optimum-1.20.0 pix2text-1.1.1 pyarrow-16.1.0 pyclipper-1.3.0.post5 pyspellchecker-0.8.1 pytorch-lightning-2.3.0 requests-2.32.3 sentry-sdk-2.6.0 setproctitle-1.3.3 smmap-5.0.1 torchmetrics-1.4.0.post0 ultralytics-8.2.38 ultralytics-thop-2.0.0 unidecode-1.3.8 wandb-0.17.2 xxhash-3.4.1\n"
          ]
        }
      ],
      "source": [
        "pip install pix2text"
      ]
    },
    {
      "cell_type": "code",
      "source": [
        "#如果需要识别英文与简体中文之外的文字，请使用以下命令安装额外的包：\n",
        "!pip install pix2text[multilingual]"
      ],
      "metadata": {
        "colab": {
          "base_uri": "https://localhost:8080/"
        },
        "id": "FkvTPaforugG",
        "outputId": "3a8ec471-4262-4cc5-c3e9-fc7e85d502c5"
      },
      "execution_count": 2,
      "outputs": [
        {
          "output_type": "stream",
          "name": "stdout",
          "text": [
            "Requirement already satisfied: pix2text[multilingual] in /usr/local/lib/python3.10/dist-packages (1.1.1)\n",
            "Requirement already satisfied: click in /usr/local/lib/python3.10/dist-packages (from pix2text[multilingual]) (8.1.7)\n",
            "Requirement already satisfied: tqdm in /usr/local/lib/python3.10/dist-packages (from pix2text[multilingual]) (4.66.4)\n",
            "Requirement already satisfied: numpy in /usr/local/lib/python3.10/dist-packages (from pix2text[multilingual]) (1.25.2)\n",
            "Requirement already satisfied: opencv-python in /usr/local/lib/python3.10/dist-packages (from pix2text[multilingual]) (4.8.0.76)\n",
            "Requirement already satisfied: cnocr[ort-cpu]>=2.3.0.2 in /usr/local/lib/python3.10/dist-packages (from pix2text[multilingual]) (2.3.0.2)\n",
            "Requirement already satisfied: cnstd>=1.2.4.1 in /usr/local/lib/python3.10/dist-packages (from pix2text[multilingual]) (1.2.4.1)\n",
            "Requirement already satisfied: pillow in /usr/local/lib/python3.10/dist-packages (from pix2text[multilingual]) (9.4.0)\n",
            "Requirement already satisfied: torch in /usr/local/lib/python3.10/dist-packages (from pix2text[multilingual]) (2.3.0+cu121)\n",
            "Requirement already satisfied: torchvision in /usr/local/lib/python3.10/dist-packages (from pix2text[multilingual]) (0.18.0+cu121)\n",
            "Requirement already satisfied: transformers>=4.37.0 in /usr/local/lib/python3.10/dist-packages (from pix2text[multilingual]) (4.41.2)\n",
            "Requirement already satisfied: optimum[onnxruntime] in /usr/local/lib/python3.10/dist-packages (from pix2text[multilingual]) (1.20.0)\n",
            "Requirement already satisfied: PyMuPDF in /usr/local/lib/python3.10/dist-packages (from pix2text[multilingual]) (1.24.5)\n",
            "Requirement already satisfied: pyspellchecker in /usr/local/lib/python3.10/dist-packages (from pix2text[multilingual]) (0.8.1)\n",
            "Collecting easyocr (from pix2text[multilingual])\n",
            "  Downloading easyocr-1.7.1-py3-none-any.whl (2.9 MB)\n",
            "\u001b[2K     \u001b[90m━━━━━━━━━━━━━━━━━━━━━━━━━━━━━━━━━━━━━━━━\u001b[0m \u001b[32m2.9/2.9 MB\u001b[0m \u001b[31m32.5 MB/s\u001b[0m eta \u001b[36m0:00:00\u001b[0m\n",
            "\u001b[?25hRequirement already satisfied: pytorch-lightning>=2.0.0 in /usr/local/lib/python3.10/dist-packages (from cnocr[ort-cpu]>=2.3.0.2->pix2text[multilingual]) (2.3.0)\n",
            "Requirement already satisfied: wandb in /usr/local/lib/python3.10/dist-packages (from cnocr[ort-cpu]>=2.3.0.2->pix2text[multilingual]) (0.17.2)\n",
            "Requirement already satisfied: torchmetrics in /usr/local/lib/python3.10/dist-packages (from cnocr[ort-cpu]>=2.3.0.2->pix2text[multilingual]) (1.4.0.post0)\n",
            "Requirement already satisfied: onnx in /usr/local/lib/python3.10/dist-packages (from cnocr[ort-cpu]>=2.3.0.2->pix2text[multilingual]) (1.16.1)\n",
            "Requirement already satisfied: onnxruntime in /usr/local/lib/python3.10/dist-packages (from cnocr[ort-cpu]>=2.3.0.2->pix2text[multilingual]) (1.18.0)\n",
            "Requirement already satisfied: pyyaml in /usr/local/lib/python3.10/dist-packages (from cnstd>=1.2.4.1->pix2text[multilingual]) (6.0.1)\n",
            "Requirement already satisfied: unidecode in /usr/local/lib/python3.10/dist-packages (from cnstd>=1.2.4.1->pix2text[multilingual]) (1.3.8)\n",
            "Requirement already satisfied: scipy in /usr/local/lib/python3.10/dist-packages (from cnstd>=1.2.4.1->pix2text[multilingual]) (1.11.4)\n",
            "Requirement already satisfied: pandas in /usr/local/lib/python3.10/dist-packages (from cnstd>=1.2.4.1->pix2text[multilingual]) (2.0.3)\n",
            "Requirement already satisfied: shapely in /usr/local/lib/python3.10/dist-packages (from cnstd>=1.2.4.1->pix2text[multilingual]) (2.0.4)\n",
            "Requirement already satisfied: Polygon3 in /usr/local/lib/python3.10/dist-packages (from cnstd>=1.2.4.1->pix2text[multilingual]) (3.0.9.1)\n",
            "Requirement already satisfied: pyclipper in /usr/local/lib/python3.10/dist-packages (from cnstd>=1.2.4.1->pix2text[multilingual]) (1.3.0.post5)\n",
            "Requirement already satisfied: matplotlib in /usr/local/lib/python3.10/dist-packages (from cnstd>=1.2.4.1->pix2text[multilingual]) (3.7.1)\n",
            "Requirement already satisfied: seaborn in /usr/local/lib/python3.10/dist-packages (from cnstd>=1.2.4.1->pix2text[multilingual]) (0.13.1)\n",
            "Requirement already satisfied: huggingface-hub in /usr/local/lib/python3.10/dist-packages (from cnstd>=1.2.4.1->pix2text[multilingual]) (0.23.4)\n",
            "Requirement already satisfied: ultralytics in /usr/local/lib/python3.10/dist-packages (from cnstd>=1.2.4.1->pix2text[multilingual]) (8.2.38)\n",
            "Requirement already satisfied: filelock in /usr/local/lib/python3.10/dist-packages (from torch->pix2text[multilingual]) (3.15.1)\n",
            "Requirement already satisfied: typing-extensions>=4.8.0 in /usr/local/lib/python3.10/dist-packages (from torch->pix2text[multilingual]) (4.12.2)\n",
            "Requirement already satisfied: sympy in /usr/local/lib/python3.10/dist-packages (from torch->pix2text[multilingual]) (1.12.1)\n",
            "Requirement already satisfied: networkx in /usr/local/lib/python3.10/dist-packages (from torch->pix2text[multilingual]) (3.3)\n",
            "Requirement already satisfied: jinja2 in /usr/local/lib/python3.10/dist-packages (from torch->pix2text[multilingual]) (3.1.4)\n",
            "Requirement already satisfied: fsspec in /usr/local/lib/python3.10/dist-packages (from torch->pix2text[multilingual]) (2023.6.0)\n",
            "Requirement already satisfied: nvidia-cuda-nvrtc-cu12==12.1.105 in /usr/local/lib/python3.10/dist-packages (from torch->pix2text[multilingual]) (12.1.105)\n",
            "Requirement already satisfied: nvidia-cuda-runtime-cu12==12.1.105 in /usr/local/lib/python3.10/dist-packages (from torch->pix2text[multilingual]) (12.1.105)\n",
            "Requirement already satisfied: nvidia-cuda-cupti-cu12==12.1.105 in /usr/local/lib/python3.10/dist-packages (from torch->pix2text[multilingual]) (12.1.105)\n",
            "Requirement already satisfied: nvidia-cudnn-cu12==8.9.2.26 in /usr/local/lib/python3.10/dist-packages (from torch->pix2text[multilingual]) (8.9.2.26)\n",
            "Requirement already satisfied: nvidia-cublas-cu12==12.1.3.1 in /usr/local/lib/python3.10/dist-packages (from torch->pix2text[multilingual]) (12.1.3.1)\n",
            "Requirement already satisfied: nvidia-cufft-cu12==11.0.2.54 in /usr/local/lib/python3.10/dist-packages (from torch->pix2text[multilingual]) (11.0.2.54)\n",
            "Requirement already satisfied: nvidia-curand-cu12==10.3.2.106 in /usr/local/lib/python3.10/dist-packages (from torch->pix2text[multilingual]) (10.3.2.106)\n",
            "Requirement already satisfied: nvidia-cusolver-cu12==11.4.5.107 in /usr/local/lib/python3.10/dist-packages (from torch->pix2text[multilingual]) (11.4.5.107)\n",
            "Requirement already satisfied: nvidia-cusparse-cu12==12.1.0.106 in /usr/local/lib/python3.10/dist-packages (from torch->pix2text[multilingual]) (12.1.0.106)\n",
            "Requirement already satisfied: nvidia-nccl-cu12==2.20.5 in /usr/local/lib/python3.10/dist-packages (from torch->pix2text[multilingual]) (2.20.5)\n",
            "Requirement already satisfied: nvidia-nvtx-cu12==12.1.105 in /usr/local/lib/python3.10/dist-packages (from torch->pix2text[multilingual]) (12.1.105)\n",
            "Requirement already satisfied: triton==2.3.0 in /usr/local/lib/python3.10/dist-packages (from torch->pix2text[multilingual]) (2.3.0)\n",
            "Requirement already satisfied: nvidia-nvjitlink-cu12 in /usr/local/lib/python3.10/dist-packages (from nvidia-cusolver-cu12==11.4.5.107->torch->pix2text[multilingual]) (12.5.40)\n",
            "Requirement already satisfied: packaging>=20.0 in /usr/local/lib/python3.10/dist-packages (from transformers>=4.37.0->pix2text[multilingual]) (24.1)\n",
            "Requirement already satisfied: regex!=2019.12.17 in /usr/local/lib/python3.10/dist-packages (from transformers>=4.37.0->pix2text[multilingual]) (2024.5.15)\n",
            "Requirement already satisfied: requests in /usr/local/lib/python3.10/dist-packages (from transformers>=4.37.0->pix2text[multilingual]) (2.32.3)\n",
            "Requirement already satisfied: tokenizers<0.20,>=0.19 in /usr/local/lib/python3.10/dist-packages (from transformers>=4.37.0->pix2text[multilingual]) (0.19.1)\n",
            "Requirement already satisfied: safetensors>=0.4.1 in /usr/local/lib/python3.10/dist-packages (from transformers>=4.37.0->pix2text[multilingual]) (0.4.3)\n",
            "Requirement already satisfied: opencv-python-headless in /usr/local/lib/python3.10/dist-packages (from easyocr->pix2text[multilingual]) (4.10.0.84)\n",
            "Requirement already satisfied: scikit-image in /usr/local/lib/python3.10/dist-packages (from easyocr->pix2text[multilingual]) (0.19.3)\n",
            "Collecting python-bidi (from easyocr->pix2text[multilingual])\n",
            "  Downloading python_bidi-0.4.2-py2.py3-none-any.whl (30 kB)\n",
            "Collecting ninja (from easyocr->pix2text[multilingual])\n",
            "  Downloading ninja-1.11.1.1-py2.py3-none-manylinux1_x86_64.manylinux_2_5_x86_64.whl (307 kB)\n",
            "\u001b[2K     \u001b[90m━━━━━━━━━━━━━━━━━━━━━━━━━━━━━━━━━━━━━━━━\u001b[0m \u001b[32m307.2/307.2 kB\u001b[0m \u001b[31m36.9 MB/s\u001b[0m eta \u001b[36m0:00:00\u001b[0m\n",
            "\u001b[?25hRequirement already satisfied: coloredlogs in /usr/local/lib/python3.10/dist-packages (from optimum[onnxruntime]->pix2text[multilingual]) (15.0.1)\n",
            "Requirement already satisfied: datasets in /usr/local/lib/python3.10/dist-packages (from optimum[onnxruntime]->pix2text[multilingual]) (2.20.0)\n",
            "Requirement already satisfied: evaluate in /usr/local/lib/python3.10/dist-packages (from optimum[onnxruntime]->pix2text[multilingual]) (0.4.2)\n",
            "Requirement already satisfied: protobuf>=3.20.1 in /usr/local/lib/python3.10/dist-packages (from optimum[onnxruntime]->pix2text[multilingual]) (3.20.3)\n",
            "Requirement already satisfied: PyMuPDFb==1.24.3 in /usr/local/lib/python3.10/dist-packages (from PyMuPDF->pix2text[multilingual]) (1.24.3)\n",
            "Requirement already satisfied: pyarrow>=15.0.0 in /usr/local/lib/python3.10/dist-packages (from datasets->optimum[onnxruntime]->pix2text[multilingual]) (16.1.0)\n",
            "Requirement already satisfied: pyarrow-hotfix in /usr/local/lib/python3.10/dist-packages (from datasets->optimum[onnxruntime]->pix2text[multilingual]) (0.6)\n",
            "Requirement already satisfied: dill<0.3.9,>=0.3.0 in /usr/local/lib/python3.10/dist-packages (from datasets->optimum[onnxruntime]->pix2text[multilingual]) (0.3.8)\n",
            "Requirement already satisfied: xxhash in /usr/local/lib/python3.10/dist-packages (from datasets->optimum[onnxruntime]->pix2text[multilingual]) (3.4.1)\n",
            "Requirement already satisfied: multiprocess in /usr/local/lib/python3.10/dist-packages (from datasets->optimum[onnxruntime]->pix2text[multilingual]) (0.70.16)\n",
            "Requirement already satisfied: aiohttp in /usr/local/lib/python3.10/dist-packages (from datasets->optimum[onnxruntime]->pix2text[multilingual]) (3.9.5)\n",
            "Requirement already satisfied: flatbuffers in /usr/local/lib/python3.10/dist-packages (from onnxruntime->cnocr[ort-cpu]>=2.3.0.2->pix2text[multilingual]) (24.3.25)\n",
            "Requirement already satisfied: lightning-utilities>=0.8.0 in /usr/local/lib/python3.10/dist-packages (from pytorch-lightning>=2.0.0->cnocr[ort-cpu]>=2.3.0.2->pix2text[multilingual]) (0.11.2)\n",
            "Requirement already satisfied: charset-normalizer<4,>=2 in /usr/local/lib/python3.10/dist-packages (from requests->transformers>=4.37.0->pix2text[multilingual]) (3.3.2)\n",
            "Requirement already satisfied: idna<4,>=2.5 in /usr/local/lib/python3.10/dist-packages (from requests->transformers>=4.37.0->pix2text[multilingual]) (3.7)\n",
            "Requirement already satisfied: urllib3<3,>=1.21.1 in /usr/local/lib/python3.10/dist-packages (from requests->transformers>=4.37.0->pix2text[multilingual]) (2.0.7)\n",
            "Requirement already satisfied: certifi>=2017.4.17 in /usr/local/lib/python3.10/dist-packages (from requests->transformers>=4.37.0->pix2text[multilingual]) (2024.6.2)\n",
            "Requirement already satisfied: sentencepiece!=0.1.92,>=0.1.91 in /usr/local/lib/python3.10/dist-packages (from transformers>=4.37.0->pix2text[multilingual]) (0.1.99)\n",
            "Requirement already satisfied: humanfriendly>=9.1 in /usr/local/lib/python3.10/dist-packages (from coloredlogs->optimum[onnxruntime]->pix2text[multilingual]) (10.0)\n",
            "Requirement already satisfied: MarkupSafe>=2.0 in /usr/local/lib/python3.10/dist-packages (from jinja2->torch->pix2text[multilingual]) (2.1.5)\n",
            "Requirement already satisfied: contourpy>=1.0.1 in /usr/local/lib/python3.10/dist-packages (from matplotlib->cnstd>=1.2.4.1->pix2text[multilingual]) (1.2.1)\n",
            "Requirement already satisfied: cycler>=0.10 in /usr/local/lib/python3.10/dist-packages (from matplotlib->cnstd>=1.2.4.1->pix2text[multilingual]) (0.12.1)\n",
            "Requirement already satisfied: fonttools>=4.22.0 in /usr/local/lib/python3.10/dist-packages (from matplotlib->cnstd>=1.2.4.1->pix2text[multilingual]) (4.53.0)\n",
            "Requirement already satisfied: kiwisolver>=1.0.1 in /usr/local/lib/python3.10/dist-packages (from matplotlib->cnstd>=1.2.4.1->pix2text[multilingual]) (1.4.5)\n",
            "Requirement already satisfied: pyparsing>=2.3.1 in /usr/local/lib/python3.10/dist-packages (from matplotlib->cnstd>=1.2.4.1->pix2text[multilingual]) (3.1.2)\n",
            "Requirement already satisfied: python-dateutil>=2.7 in /usr/local/lib/python3.10/dist-packages (from matplotlib->cnstd>=1.2.4.1->pix2text[multilingual]) (2.8.2)\n",
            "Requirement already satisfied: pytz>=2020.1 in /usr/local/lib/python3.10/dist-packages (from pandas->cnstd>=1.2.4.1->pix2text[multilingual]) (2023.4)\n",
            "Requirement already satisfied: tzdata>=2022.1 in /usr/local/lib/python3.10/dist-packages (from pandas->cnstd>=1.2.4.1->pix2text[multilingual]) (2024.1)\n",
            "Requirement already satisfied: six in /usr/local/lib/python3.10/dist-packages (from python-bidi->easyocr->pix2text[multilingual]) (1.16.0)\n",
            "Requirement already satisfied: imageio>=2.4.1 in /usr/local/lib/python3.10/dist-packages (from scikit-image->easyocr->pix2text[multilingual]) (2.31.6)\n",
            "Requirement already satisfied: tifffile>=2019.7.26 in /usr/local/lib/python3.10/dist-packages (from scikit-image->easyocr->pix2text[multilingual]) (2024.5.22)\n",
            "Requirement already satisfied: PyWavelets>=1.1.1 in /usr/local/lib/python3.10/dist-packages (from scikit-image->easyocr->pix2text[multilingual]) (1.6.0)\n",
            "Requirement already satisfied: mpmath<1.4.0,>=1.1.0 in /usr/local/lib/python3.10/dist-packages (from sympy->torch->pix2text[multilingual]) (1.3.0)\n",
            "Requirement already satisfied: psutil in /usr/local/lib/python3.10/dist-packages (from ultralytics->cnstd>=1.2.4.1->pix2text[multilingual]) (5.9.5)\n",
            "Requirement already satisfied: py-cpuinfo in /usr/local/lib/python3.10/dist-packages (from ultralytics->cnstd>=1.2.4.1->pix2text[multilingual]) (9.0.0)\n",
            "Requirement already satisfied: ultralytics-thop>=2.0.0 in /usr/local/lib/python3.10/dist-packages (from ultralytics->cnstd>=1.2.4.1->pix2text[multilingual]) (2.0.0)\n",
            "Requirement already satisfied: docker-pycreds>=0.4.0 in /usr/local/lib/python3.10/dist-packages (from wandb->cnocr[ort-cpu]>=2.3.0.2->pix2text[multilingual]) (0.4.0)\n",
            "Requirement already satisfied: gitpython!=3.1.29,>=1.0.0 in /usr/local/lib/python3.10/dist-packages (from wandb->cnocr[ort-cpu]>=2.3.0.2->pix2text[multilingual]) (3.1.43)\n",
            "Requirement already satisfied: platformdirs in /usr/local/lib/python3.10/dist-packages (from wandb->cnocr[ort-cpu]>=2.3.0.2->pix2text[multilingual]) (4.2.2)\n",
            "Requirement already satisfied: sentry-sdk>=1.0.0 in /usr/local/lib/python3.10/dist-packages (from wandb->cnocr[ort-cpu]>=2.3.0.2->pix2text[multilingual]) (2.6.0)\n",
            "Requirement already satisfied: setproctitle in /usr/local/lib/python3.10/dist-packages (from wandb->cnocr[ort-cpu]>=2.3.0.2->pix2text[multilingual]) (1.3.3)\n",
            "Requirement already satisfied: setuptools in /usr/local/lib/python3.10/dist-packages (from wandb->cnocr[ort-cpu]>=2.3.0.2->pix2text[multilingual]) (67.7.2)\n",
            "Requirement already satisfied: aiosignal>=1.1.2 in /usr/local/lib/python3.10/dist-packages (from aiohttp->datasets->optimum[onnxruntime]->pix2text[multilingual]) (1.3.1)\n",
            "Requirement already satisfied: attrs>=17.3.0 in /usr/local/lib/python3.10/dist-packages (from aiohttp->datasets->optimum[onnxruntime]->pix2text[multilingual]) (23.2.0)\n",
            "Requirement already satisfied: frozenlist>=1.1.1 in /usr/local/lib/python3.10/dist-packages (from aiohttp->datasets->optimum[onnxruntime]->pix2text[multilingual]) (1.4.1)\n",
            "Requirement already satisfied: multidict<7.0,>=4.5 in /usr/local/lib/python3.10/dist-packages (from aiohttp->datasets->optimum[onnxruntime]->pix2text[multilingual]) (6.0.5)\n",
            "Requirement already satisfied: yarl<2.0,>=1.0 in /usr/local/lib/python3.10/dist-packages (from aiohttp->datasets->optimum[onnxruntime]->pix2text[multilingual]) (1.9.4)\n",
            "Requirement already satisfied: async-timeout<5.0,>=4.0 in /usr/local/lib/python3.10/dist-packages (from aiohttp->datasets->optimum[onnxruntime]->pix2text[multilingual]) (4.0.3)\n",
            "Requirement already satisfied: gitdb<5,>=4.0.1 in /usr/local/lib/python3.10/dist-packages (from gitpython!=3.1.29,>=1.0.0->wandb->cnocr[ort-cpu]>=2.3.0.2->pix2text[multilingual]) (4.0.11)\n",
            "Requirement already satisfied: smmap<6,>=3.0.1 in /usr/local/lib/python3.10/dist-packages (from gitdb<5,>=4.0.1->gitpython!=3.1.29,>=1.0.0->wandb->cnocr[ort-cpu]>=2.3.0.2->pix2text[multilingual]) (5.0.1)\n",
            "Installing collected packages: ninja, python-bidi, easyocr\n",
            "Successfully installed easyocr-1.7.1 ninja-1.11.1.1 python-bidi-0.4.2\n"
          ]
        }
      ]
    },
    {
      "cell_type": "code",
      "source": [
        "#默认情况下安装的 ONNX 包是 onnxruntime，它只能在 CPU 上运行。\n",
        "#如果需要在 GPU 环境使用 ONNX 模型，需要卸载此包，然后安装包 onnxruntime-gpu 。\n",
        "!pip uninstall onnxruntime\n",
        "!pip install onnxruntime-gpu"
      ],
      "metadata": {
        "colab": {
          "base_uri": "https://localhost:8080/"
        },
        "id": "lo9KR5Sjr0BZ",
        "outputId": "a491706a-5452-4e2d-8be8-0af4a5553548"
      },
      "execution_count": 3,
      "outputs": [
        {
          "output_type": "stream",
          "name": "stdout",
          "text": [
            "Found existing installation: onnxruntime 1.18.0\n",
            "Uninstalling onnxruntime-1.18.0:\n",
            "  Would remove:\n",
            "    /usr/local/bin/onnxruntime_test\n",
            "    /usr/local/lib/python3.10/dist-packages/onnxruntime-1.18.0.dist-info/*\n",
            "    /usr/local/lib/python3.10/dist-packages/onnxruntime/*\n",
            "Proceed (Y/n)? y\n",
            "  Successfully uninstalled onnxruntime-1.18.0\n",
            "Collecting onnxruntime-gpu\n",
            "  Downloading onnxruntime_gpu-1.18.0-cp310-cp310-manylinux_2_28_x86_64.whl (199.8 MB)\n",
            "\u001b[2K     \u001b[90m━━━━━━━━━━━━━━━━━━━━━━━━━━━━━━━━━━━━━━━━\u001b[0m \u001b[32m199.8/199.8 MB\u001b[0m \u001b[31m6.3 MB/s\u001b[0m eta \u001b[36m0:00:00\u001b[0m\n",
            "\u001b[?25hRequirement already satisfied: coloredlogs in /usr/local/lib/python3.10/dist-packages (from onnxruntime-gpu) (15.0.1)\n",
            "Requirement already satisfied: flatbuffers in /usr/local/lib/python3.10/dist-packages (from onnxruntime-gpu) (24.3.25)\n",
            "Requirement already satisfied: numpy>=1.21.6 in /usr/local/lib/python3.10/dist-packages (from onnxruntime-gpu) (1.25.2)\n",
            "Requirement already satisfied: packaging in /usr/local/lib/python3.10/dist-packages (from onnxruntime-gpu) (24.1)\n",
            "Requirement already satisfied: protobuf in /usr/local/lib/python3.10/dist-packages (from onnxruntime-gpu) (3.20.3)\n",
            "Requirement already satisfied: sympy in /usr/local/lib/python3.10/dist-packages (from onnxruntime-gpu) (1.12.1)\n",
            "Requirement already satisfied: humanfriendly>=9.1 in /usr/local/lib/python3.10/dist-packages (from coloredlogs->onnxruntime-gpu) (10.0)\n",
            "Requirement already satisfied: mpmath<1.4.0,>=1.1.0 in /usr/local/lib/python3.10/dist-packages (from sympy->onnxruntime-gpu) (1.3.0)\n",
            "Installing collected packages: onnxruntime-gpu\n",
            "Successfully installed onnxruntime-gpu-1.18.0\n"
          ]
        }
      ]
    },
    {
      "cell_type": "code",
      "source": [
        "from pix2text import Pix2Text\n",
        "\n",
        "img_fp = './test-doc.pdf'\n",
        "p2t = Pix2Text.from_config()\n",
        "doc = p2t.recognize_pdf(img_fp, page_numbers=[0, 100])\n",
        "doc.to_markdown('output-md')\n",
        "\n"
      ],
      "metadata": {
        "colab": {
          "base_uri": "https://localhost:8080/",
          "height": 1000
        },
        "id": "yuYPd92zsfnw",
        "outputId": "437ad90d-84b9-445b-d575-fb2f1a16cdcd"
      },
      "execution_count": 6,
      "outputs": [
        {
          "output_type": "stream",
          "name": "stdout",
          "text": [
            "Fix size testing.\n",
            "training chunk_sizes: [32]\n",
            "The output will be saved to  /usr/local/lib/python3.10/dist-packages/pix2text/doc_xl_layout/../../exp/ctdet_subfield/default\n",
            "heads {'hm': 11, 'cls': 4, 'ftype': 3, 'wh': 8, 'hm_sub': 2, 'wh_sub': 8, 'reg': 2, 'reg_sub': 2}\n",
            "*************** EP Error ***************\n",
            "EP Error /onnxruntime_src/onnxruntime/python/onnxruntime_pybind_state.cc:456 void onnxruntime::python::RegisterTensorRTPluginsAsCustomOps(onnxruntime::python::PySessionOptions&, const ProviderOptions&) Please install TensorRT libraries as mentioned in the GPU requirements page, make sure they're in the PATH or LD_LIBRARY_PATH, and that your GPU is supported.\n",
            " when using ['TensorrtExecutionProvider', 'CUDAExecutionProvider', 'AzureExecutionProvider', 'CPUExecutionProvider']\n",
            "Falling back to ['CUDAExecutionProvider', 'CPUExecutionProvider'] and retrying.\n",
            "****************************************\n",
            "Loading /root/.pix2text/1.1/mfd-onnx/mfd-v20240618.onnx for ONNX Runtime inference...\n",
            "\n",
            "WARNING ⚠️ imgsz=[213, 768] must be multiple of max stride 32, updating to [224, 768]\n",
            "0: 224x768 (no detections), 135.7ms\n",
            "Speed: 1.6ms preprocess, 135.7ms inference, 0.7ms postprocess per image at shape (1, 3, 224, 768)\n"
          ]
        },
        {
          "output_type": "stream",
          "name": "stderr",
          "text": [
            "0it [00:00, ?it/s]\n"
          ]
        },
        {
          "output_type": "stream",
          "name": "stdout",
          "text": [
            "\n",
            "WARNING ⚠️ imgsz=[194, 768] must be multiple of max stride 32, updating to [224, 768]\n",
            "0: 224x768 (no detections), 154.0ms\n",
            "Speed: 1.3ms preprocess, 154.0ms inference, 0.8ms postprocess per image at shape (1, 3, 224, 768)\n"
          ]
        },
        {
          "output_type": "stream",
          "name": "stderr",
          "text": [
            "0it [00:00, ?it/s]\n"
          ]
        },
        {
          "output_type": "stream",
          "name": "stdout",
          "text": [
            "\n",
            "WARNING ⚠️ imgsz=[257, 768] must be multiple of max stride 32, updating to [288, 768]\n",
            "0: 288x768 (no detections), 174.5ms\n",
            "Speed: 1.7ms preprocess, 174.5ms inference, 0.7ms postprocess per image at shape (1, 3, 288, 768)\n"
          ]
        },
        {
          "output_type": "stream",
          "name": "stderr",
          "text": [
            "0it [00:00, ?it/s]\n"
          ]
        },
        {
          "output_type": "stream",
          "name": "stdout",
          "text": [
            "\n",
            "WARNING ⚠️ imgsz=[585, 768] must be multiple of max stride 32, updating to [608, 768]\n",
            "0: 608x768 1 embedding, 407.4ms\n",
            "Speed: 4.0ms preprocess, 407.4ms inference, 1.7ms postprocess per image at shape (1, 3, 608, 768)\n"
          ]
        },
        {
          "output_type": "stream",
          "name": "stderr",
          "text": [
            "100%|██████████| 1/1 [00:00<00:00,  2.06it/s]\n"
          ]
        },
        {
          "output_type": "stream",
          "name": "stdout",
          "text": [
            "\n",
            "WARNING ⚠️ imgsz=[188, 768] must be multiple of max stride 32, updating to [192, 768]\n",
            "0: 192x768 (no detections), 123.0ms\n",
            "Speed: 1.3ms preprocess, 123.0ms inference, 0.8ms postprocess per image at shape (1, 3, 192, 768)\n"
          ]
        },
        {
          "output_type": "stream",
          "name": "stderr",
          "text": [
            "0it [00:00, ?it/s]\n"
          ]
        },
        {
          "output_type": "stream",
          "name": "stdout",
          "text": [
            "\n",
            "WARNING ⚠️ imgsz=[153, 768] must be multiple of max stride 32, updating to [160, 768]\n",
            "0: 160x768 5 embeddings, 100.7ms\n",
            "Speed: 1.5ms preprocess, 100.7ms inference, 1.6ms postprocess per image at shape (1, 3, 160, 768)\n"
          ]
        },
        {
          "output_type": "stream",
          "name": "stderr",
          "text": [
            "100%|██████████| 3/3 [00:02<00:00,  1.15it/s]"
          ]
        },
        {
          "output_type": "stream",
          "name": "stdout",
          "text": [
            "\n",
            "WARNING ⚠️ imgsz=[130, 768] must be multiple of max stride 32, updating to [160, 768]\n"
          ]
        },
        {
          "output_type": "stream",
          "name": "stderr",
          "text": [
            "\n"
          ]
        },
        {
          "output_type": "stream",
          "name": "stdout",
          "text": [
            "0: 160x768 (no detections), 92.0ms\n",
            "Speed: 1.5ms preprocess, 92.0ms inference, 0.7ms postprocess per image at shape (1, 3, 160, 768)\n"
          ]
        },
        {
          "output_type": "stream",
          "name": "stderr",
          "text": [
            "0it [00:00, ?it/s]\n",
            "100%|██████████| 1/1 [00:01<00:00,  1.73s/it]"
          ]
        },
        {
          "output_type": "stream",
          "name": "stdout",
          "text": [
            "\n",
            "WARNING ⚠️ imgsz=[259, 768] must be multiple of max stride 32, updating to [288, 768]\n"
          ]
        },
        {
          "output_type": "stream",
          "name": "stderr",
          "text": [
            "\n"
          ]
        },
        {
          "output_type": "stream",
          "name": "stdout",
          "text": [
            "0: 288x768 (no detections), 189.4ms\n",
            "Speed: 1.5ms preprocess, 189.4ms inference, 0.7ms postprocess per image at shape (1, 3, 288, 768)\n"
          ]
        },
        {
          "output_type": "stream",
          "name": "stderr",
          "text": [
            "0it [00:00, ?it/s]\n",
            "100%|██████████| 1/1 [00:02<00:00,  2.48s/it]"
          ]
        },
        {
          "output_type": "stream",
          "name": "stdout",
          "text": [
            "\n",
            "WARNING ⚠️ imgsz=[81, 768] must be multiple of max stride 32, updating to [96, 768]\n",
            "0: 96x768 1 embedding, 90.5ms\n",
            "Speed: 1.0ms preprocess, 90.5ms inference, 2.2ms postprocess per image at shape (1, 3, 96, 768)\n"
          ]
        },
        {
          "output_type": "stream",
          "name": "stderr",
          "text": [
            "\n",
            "100%|██████████| 1/1 [00:00<00:00,  1.53it/s]\n"
          ]
        },
        {
          "output_type": "stream",
          "name": "stdout",
          "text": [
            "\n",
            "WARNING ⚠️ imgsz=[374, 768] must be multiple of max stride 32, updating to [384, 768]\n",
            "0: 384x768 3 embeddings, 392.6ms\n",
            "Speed: 4.4ms preprocess, 392.6ms inference, 2.0ms postprocess per image at shape (1, 3, 384, 768)\n"
          ]
        },
        {
          "output_type": "stream",
          "name": "stderr",
          "text": [
            "100%|██████████| 3/3 [00:01<00:00,  1.76it/s]\n"
          ]
        },
        {
          "output_type": "stream",
          "name": "stdout",
          "text": [
            "\n",
            "WARNING ⚠️ imgsz=[650, 768] must be multiple of max stride 32, updating to [672, 768]\n",
            "0: 672x768 1 embedding, 449.0ms\n",
            "Speed: 3.5ms preprocess, 449.0ms inference, 1.8ms postprocess per image at shape (1, 3, 672, 768)\n"
          ]
        },
        {
          "output_type": "stream",
          "name": "stderr",
          "text": [
            "100%|██████████| 1/1 [00:00<00:00,  2.10it/s]\n"
          ]
        },
        {
          "output_type": "stream",
          "name": "stdout",
          "text": [
            "\n",
            "WARNING ⚠️ imgsz=[475, 768] must be multiple of max stride 32, updating to [480, 768]\n",
            "0: 480x768 (no detections), 305.3ms\n",
            "Speed: 3.0ms preprocess, 305.3ms inference, 0.7ms postprocess per image at shape (1, 3, 480, 768)\n"
          ]
        },
        {
          "output_type": "stream",
          "name": "stderr",
          "text": [
            "0it [00:00, ?it/s]\n"
          ]
        },
        {
          "output_type": "stream",
          "name": "stdout",
          "text": [
            "\n",
            "WARNING ⚠️ imgsz=[993, 768] must be multiple of max stride 32, updating to [1024, 768]\n",
            "0: 1024x768 (no detections), 657.6ms\n",
            "Speed: 5.9ms preprocess, 657.6ms inference, 0.9ms postprocess per image at shape (1, 3, 1024, 768)\n"
          ]
        },
        {
          "output_type": "stream",
          "name": "stderr",
          "text": [
            "0it [00:00, ?it/s]\n"
          ]
        },
        {
          "output_type": "execute_result",
          "data": {
            "text/plain": [
              "'![](figures/0-0-FIGURE.jpg)\\n\\nFigure 2. UCF sample results. Left: input counting image. Middle: Ground truth density map. Right: AMDCN prediction of density map on test image. The network never saw these images during training. All density maps are one channel only (i.e. grayscale), but are colored here for clarity.\\n\\nof regression for production of density maps [24). In the same spirit, [4] combines deep and shallow convolutions within the same network, providing accurate counting of dense objects (e.g. the UCF50 crowd dataset).\\n\\nIn this paper, however, we aim to apply the dilated convolution method of [25], which has shown to be able to incorporate multiscale perspective information without using multiple inputs or a complicated network architecture, as well as the multicolumn approach of [8,28] to aggregate multiscale information for the counting problem.\\n\\n## 3. Method\\n\\n## 3.1. Dilated Convolutions for Multicolumn Networks\\n\\nWe propose the use of dilated convolutions as an attractive alternative to the architecture of the HydraCNN [18], which seems to saturate in performance at $3$ or more columns. We refer to our proposed network as the aggregated multicolumn dilated convolution networkl henceforth shortened as the AMDCN. The architecture of the AMDCN is inspired by the multicolumn counting network of [28]. Extracting features from multiple scales is a good idea when attempting to perform perspective-free counting and increasing the convolution kernel size across columns is an efficient method of doing so. However, the number of parameters increases exponentially as larger kernels are used in these columns to extract features at larger scales. Therefore, we propose using dilated convolutions rather than larger kernels.\\n\\nDilated convolutions, as discussed in [25], allow for the exponential increase of the receptive field with a linear increase in the number of parameters with respect to each hidden layer.\\n\\nIn a traditional 2D convolution, we define a real valued function $F : \\\\, \\\\mathbb{Z}^{2} \\\\to\\\\mathbb{R},$ an input $\\\\Omega_{r} \\\\,=\\\\, [-r, r ]^{2} \\\\, \\\\in\\\\, \\\\mathbb{Z}^{2}$ , and a filter function $k \\\\, : \\\\, \\\\Omega_{r} \\\\, \\\\to\\\\, \\\\mathbb{R}.$ In this case, a convolution operation as defined in [25] is given by\\n\\n$$\\n( F * k ) ( \\\\mathbf{p} )=\\\\sum_{\\\\mathbf{s}+\\\\mathbf{t}=\\\\mathbf{p}} F ( \\\\mathbf{s} ) k ( \\\\mathbf{t} ). \\\\qquad\\\\qquad( 1 )\\n$$\\n\\nA dilated convolution is essentially a generalization of the traditional 2D convolution that allows the operation to skip some inputs. This enables an increase in the size of the filter (i.e. the size of the receptive field) without losing resolution. Formally, we define from [25] the dilated convolution as\\n\\n$$\\n( F *_{l} k ) ( \\\\mathbf{p} )=\\\\sum_{\\\\mathbf{s}+l \\\\mathbf{t}=\\\\mathbf{p}} F ( \\\\mathbf{s} ) k ( \\\\mathbf{t} ) \\\\qquad\\\\qquad( 2 )\\n$$\\n\\nwhere $l$ is the index of the current layer of the convolution.\\n\\nUsing dilations to construct the aggregator in combination with the multicolumn idea will allow for the construction of a network with more than just ${}_{3}$ or ${}_{4}$ columns as in [28] and $[ 8 ]$ , because the aggregator should prevent the saturation of performance with increasing numbers of columns. Therefore the network will be able to extract useful features from more scales. We take advantage of dila-tions within the columns as well to provide large receptive fields with fewer parameters.\\n\\nLooking at more scales should allow for more accurate regression of the density map. However, because not all scales will be relevant, we extend the network beyond a simple $1 \\\\times1$ convolution after the merged columns. Instead, we construct a second part of the network, the aggre-gator, which sets our method apart from [28], [8], and other multicolumn networks. This aggregator is another series of dilated convolutions that should appropriately consolidate the multiscale information collected by the columns. This is a capability of dilated convolutions observed by [25]. While papers such as [28] and [8] have shown that multiple columns and dilated columns are useful in extracting multi-scale information, we argue in this paper that the simple ag-gregator module built using dilated convolutions is able to effectively make use multiscale information from multiple columns. We show compelling evidence for these claims in Section 4.5\\n\\nThe network as shown in Figure [I] contains 5 columns. Note that dilations allow us to use more columns for counting than [28] or [8]. Each column looks at a larger scale than the previous (the exact dilations can also be seen in Figure [). There are 32 feature maps for each convolution, and all inputs are zero padded prior to each convolution in order to maintain the same data shape from input to output. That is, an image input to this network will result in a density map of the same dimensions. All activations in the specified network are ReLUs. Our input pixel values are floating point 32 bit values from 0 to 1. We center our inputs at 0 by subtracting the per channel mean from each channel. When'"
            ],
            "application/vnd.google.colaboratory.intrinsic+json": {
              "type": "string"
            }
          },
          "metadata": {},
          "execution_count": 6
        }
      ]
    },
    {
      "cell_type": "code",
      "source": [
        "#识别具有复杂布局的图像\n",
        "from pix2text import Pix2Text\n",
        "\n",
        "img_fp = './bid.pdf'\n",
        "\n",
        "p2t = Pix2Text.from_config()\n",
        "doc = p2t.recognize_pdf(img_fp)\n",
        "doc.to_markdown('output-md')"
      ],
      "metadata": {
        "colab": {
          "base_uri": "https://localhost:8080/",
          "height": 1000
        },
        "id": "kwTwC0qk4t7q",
        "outputId": "8cdcefad-fb0d-4e28-ed8b-c57e8cb7dfb4"
      },
      "execution_count": 8,
      "outputs": [
        {
          "output_type": "stream",
          "name": "stdout",
          "text": [
            "Fix size testing.\n",
            "training chunk_sizes: [32]\n",
            "The output will be saved to  /usr/local/lib/python3.10/dist-packages/pix2text/doc_xl_layout/../../exp/ctdet_subfield/default\n",
            "heads {'hm': 11, 'cls': 4, 'ftype': 3, 'wh': 8, 'hm_sub': 2, 'wh_sub': 8, 'reg': 2, 'reg_sub': 2}\n",
            "*************** EP Error ***************\n",
            "EP Error /onnxruntime_src/onnxruntime/python/onnxruntime_pybind_state.cc:456 void onnxruntime::python::RegisterTensorRTPluginsAsCustomOps(onnxruntime::python::PySessionOptions&, const ProviderOptions&) Please install TensorRT libraries as mentioned in the GPU requirements page, make sure they're in the PATH or LD_LIBRARY_PATH, and that your GPU is supported.\n",
            " when using ['TensorrtExecutionProvider', 'CUDAExecutionProvider', 'AzureExecutionProvider', 'CPUExecutionProvider']\n",
            "Falling back to ['CUDAExecutionProvider', 'CPUExecutionProvider'] and retrying.\n",
            "****************************************\n",
            "Loading /root/.pix2text/1.1/mfd-onnx/mfd-v20240618.onnx for ONNX Runtime inference...\n",
            "\n",
            "WARNING ⚠️ imgsz=[113, 768] must be multiple of max stride 32, updating to [128, 768]\n",
            "0: 128x768 (no detections), 99.5ms\n",
            "Speed: 1.2ms preprocess, 99.5ms inference, 0.9ms postprocess per image at shape (1, 3, 128, 768)\n"
          ]
        },
        {
          "output_type": "stream",
          "name": "stderr",
          "text": [
            "0it [00:00, ?it/s]"
          ]
        },
        {
          "output_type": "stream",
          "name": "stdout",
          "text": [
            "\n",
            "WARNING ⚠️ imgsz=[105, 768] must be multiple of max stride 32, updating to [128, 768]\n",
            "0: 128x768 (no detections), 84.2ms\n",
            "Speed: 1.4ms preprocess, 84.2ms inference, 0.8ms postprocess per image at shape (1, 3, 128, 768)\n"
          ]
        },
        {
          "output_type": "stream",
          "name": "stderr",
          "text": [
            "\n",
            "0it [00:00, ?it/s]\n"
          ]
        },
        {
          "output_type": "stream",
          "name": "stdout",
          "text": [
            "\n",
            "WARNING ⚠️ imgsz=[100, 1152] must be multiple of max stride 32, updating to [128, 1152]\n",
            "0: 128x1152 (no detections), 125.3ms\n",
            "Speed: 1.1ms preprocess, 125.3ms inference, 0.7ms postprocess per image at shape (1, 3, 128, 1152)\n"
          ]
        },
        {
          "output_type": "stream",
          "name": "stderr",
          "text": [
            "0it [00:00, ?it/s]"
          ]
        },
        {
          "output_type": "stream",
          "name": "stdout",
          "text": [
            "\n",
            "WARNING ⚠️ imgsz=[90, 1152] must be multiple of max stride 32, updating to [96, 1152]\n"
          ]
        },
        {
          "output_type": "stream",
          "name": "stderr",
          "text": [
            "\n"
          ]
        },
        {
          "output_type": "stream",
          "name": "stdout",
          "text": [
            "0: 96x1152 (no detections), 109.6ms\n",
            "Speed: 1.4ms preprocess, 109.6ms inference, 1.1ms postprocess per image at shape (1, 3, 96, 1152)\n"
          ]
        },
        {
          "output_type": "stream",
          "name": "stderr",
          "text": [
            "0it [00:00, ?it/s]"
          ]
        },
        {
          "output_type": "stream",
          "name": "stdout",
          "text": [
            "\n",
            "WARNING ⚠️ imgsz=[105, 768] must be multiple of max stride 32, updating to [128, 768]\n"
          ]
        },
        {
          "output_type": "stream",
          "name": "stderr",
          "text": [
            "\n"
          ]
        },
        {
          "output_type": "stream",
          "name": "stdout",
          "text": [
            "0: 128x768 (no detections), 83.2ms\n",
            "Speed: 1.2ms preprocess, 83.2ms inference, 0.8ms postprocess per image at shape (1, 3, 128, 768)\n"
          ]
        },
        {
          "output_type": "stream",
          "name": "stderr",
          "text": [
            "0it [00:00, ?it/s]"
          ]
        },
        {
          "output_type": "stream",
          "name": "stdout",
          "text": [
            "\n",
            "WARNING ⚠️ imgsz=[362, 768] must be multiple of max stride 32, updating to [384, 768]\n"
          ]
        },
        {
          "output_type": "stream",
          "name": "stderr",
          "text": [
            "\n"
          ]
        },
        {
          "output_type": "stream",
          "name": "stdout",
          "text": [
            "0: 384x768 1 isolated, 265.9ms\n",
            "Speed: 2.6ms preprocess, 265.9ms inference, 1.7ms postprocess per image at shape (1, 3, 384, 768)\n"
          ]
        },
        {
          "output_type": "stream",
          "name": "stderr",
          "text": [
            "100%|██████████| 1/1 [00:00<00:00,  1.06it/s]\n"
          ]
        },
        {
          "output_type": "stream",
          "name": "stdout",
          "text": [
            "\n",
            "WARNING ⚠️ imgsz=[1086, 768] must be multiple of max stride 32, updating to [1088, 768]\n",
            "0: 1088x768 (no detections), 971.8ms\n",
            "Speed: 6.5ms preprocess, 971.8ms inference, 1.0ms postprocess per image at shape (1, 3, 1088, 768)\n"
          ]
        },
        {
          "output_type": "stream",
          "name": "stderr",
          "text": [
            "0it [00:00, ?it/s]\n"
          ]
        },
        {
          "output_type": "stream",
          "name": "stdout",
          "text": [
            "\n",
            "WARNING ⚠️ imgsz=[159, 1728] must be multiple of max stride 32, updating to [160, 1728]\n",
            "0: 160x1728 (no detections), 214.0ms\n",
            "Speed: 2.1ms preprocess, 214.0ms inference, 6.1ms postprocess per image at shape (1, 3, 160, 1728)\n"
          ]
        },
        {
          "output_type": "stream",
          "name": "stderr",
          "text": [
            "0it [00:00, ?it/s]\n"
          ]
        },
        {
          "output_type": "stream",
          "name": "stdout",
          "text": [
            "\n",
            "WARNING ⚠️ imgsz=[73, 768] must be multiple of max stride 32, updating to [96, 768]\n",
            "0: 96x768 1 isolated, 55.9ms\n",
            "Speed: 0.8ms preprocess, 55.9ms inference, 1.4ms postprocess per image at shape (1, 3, 96, 768)\n"
          ]
        },
        {
          "output_type": "stream",
          "name": "stderr",
          "text": [
            "100%|██████████| 1/1 [00:26<00:00, 26.46s/it]"
          ]
        },
        {
          "output_type": "stream",
          "name": "stdout",
          "text": [
            "\n",
            "WARNING ⚠️ imgsz=[119, 768] must be multiple of max stride 32, updating to [128, 768]\n",
            "0: 128x768 (no detections), 125.1ms\n"
          ]
        },
        {
          "output_type": "stream",
          "name": "stderr",
          "text": [
            "\n"
          ]
        },
        {
          "output_type": "stream",
          "name": "stdout",
          "text": [
            "Speed: 1.3ms preprocess, 125.1ms inference, 1.2ms postprocess per image at shape (1, 3, 128, 768)\n"
          ]
        },
        {
          "output_type": "stream",
          "name": "stderr",
          "text": [
            "0it [00:00, ?it/s]\n"
          ]
        },
        {
          "output_type": "stream",
          "name": "stdout",
          "text": [
            "\n",
            "WARNING ⚠️ imgsz=[131, 768] must be multiple of max stride 32, updating to [160, 768]\n",
            "0: 160x768 (no detections), 98.9ms\n",
            "Speed: 1.3ms preprocess, 98.9ms inference, 0.7ms postprocess per image at shape (1, 3, 160, 768)\n"
          ]
        },
        {
          "output_type": "stream",
          "name": "stderr",
          "text": [
            "0it [00:00, ?it/s]"
          ]
        },
        {
          "output_type": "stream",
          "name": "stdout",
          "text": [
            "\n",
            "WARNING ⚠️ imgsz=[217, 768] must be multiple of max stride 32, updating to [224, 768]\n"
          ]
        },
        {
          "output_type": "stream",
          "name": "stderr",
          "text": [
            "\n"
          ]
        },
        {
          "output_type": "stream",
          "name": "stdout",
          "text": [
            "0: 224x768 (no detections), 124.2ms\n",
            "Speed: 1.2ms preprocess, 124.2ms inference, 2.1ms postprocess per image at shape (1, 3, 224, 768)\n"
          ]
        },
        {
          "output_type": "stream",
          "name": "stderr",
          "text": [
            "0it [00:00, ?it/s]"
          ]
        },
        {
          "output_type": "stream",
          "name": "stdout",
          "text": [
            "\n",
            "WARNING ⚠️ imgsz=[154, 768] must be multiple of max stride 32, updating to [160, 768]\n",
            "0: 160x768 1 embedding, 1 isolated, 95.7ms\n",
            "Speed: 1.2ms preprocess, 95.7ms inference, 1.5ms postprocess per image at shape (1, 3, 160, 768)\n"
          ]
        },
        {
          "output_type": "stream",
          "name": "stderr",
          "text": [
            "\n",
            "100%|██████████| 1/1 [00:00<00:00,  1.50it/s]"
          ]
        },
        {
          "output_type": "stream",
          "name": "stdout",
          "text": [
            "\n",
            "WARNING ⚠️ imgsz=[82, 768] must be multiple of max stride 32, updating to [96, 768]\n",
            "0: 96x768 (no detections), 52.7ms\n",
            "Speed: 1.0ms preprocess, 52.7ms inference, 0.7ms postprocess per image at shape (1, 3, 96, 768)\n"
          ]
        },
        {
          "output_type": "stream",
          "name": "stderr",
          "text": [
            "\n",
            "0it [00:00, ?it/s]\n"
          ]
        },
        {
          "output_type": "stream",
          "name": "stdout",
          "text": [
            "\n",
            "WARNING ⚠️ imgsz=[109, 1152] must be multiple of max stride 32, updating to [128, 1152]\n",
            "0: 128x1152 (no detections), 122.6ms\n",
            "Speed: 1.3ms preprocess, 122.6ms inference, 0.8ms postprocess per image at shape (1, 3, 128, 1152)\n"
          ]
        },
        {
          "output_type": "stream",
          "name": "stderr",
          "text": [
            "0it [00:00, ?it/s]"
          ]
        },
        {
          "output_type": "stream",
          "name": "stdout",
          "text": [
            "\n",
            "WARNING ⚠️ imgsz=[127, 768] must be multiple of max stride 32, updating to [128, 768]\n",
            "0: 128x768 1 embedding, 98.5ms\n"
          ]
        },
        {
          "output_type": "stream",
          "name": "stderr",
          "text": [
            "\n"
          ]
        },
        {
          "output_type": "stream",
          "name": "stdout",
          "text": [
            "Speed: 1.5ms preprocess, 98.5ms inference, 1.6ms postprocess per image at shape (1, 3, 128, 768)\n"
          ]
        },
        {
          "output_type": "stream",
          "name": "stderr",
          "text": [
            "100%|██████████| 1/1 [00:00<00:00,  1.48it/s]\n"
          ]
        },
        {
          "output_type": "stream",
          "name": "stdout",
          "text": [
            "\n",
            "WARNING ⚠️ imgsz=[166, 768] must be multiple of max stride 32, updating to [192, 768]\n",
            "0: 192x768 (no detections), 123.3ms\n",
            "Speed: 1.5ms preprocess, 123.3ms inference, 0.7ms postprocess per image at shape (1, 3, 192, 768)\n"
          ]
        },
        {
          "output_type": "stream",
          "name": "stderr",
          "text": [
            "0it [00:00, ?it/s]"
          ]
        },
        {
          "output_type": "stream",
          "name": "stdout",
          "text": [
            "\n",
            "WARNING ⚠️ imgsz=[98, 1152] must be multiple of max stride 32, updating to [128, 1152]\n"
          ]
        },
        {
          "output_type": "stream",
          "name": "stderr",
          "text": [
            "\n"
          ]
        },
        {
          "output_type": "stream",
          "name": "stdout",
          "text": [
            "0: 128x1152 (no detections), 122.6ms\n",
            "Speed: 1.5ms preprocess, 122.6ms inference, 0.9ms postprocess per image at shape (1, 3, 128, 1152)\n"
          ]
        },
        {
          "output_type": "stream",
          "name": "stderr",
          "text": [
            "0it [00:00, ?it/s]"
          ]
        },
        {
          "output_type": "stream",
          "name": "stdout",
          "text": [
            "\n",
            "WARNING ⚠️ imgsz=[82, 1152] must be multiple of max stride 32, updating to [96, 1152]\n"
          ]
        },
        {
          "output_type": "stream",
          "name": "stderr",
          "text": [
            "\n"
          ]
        },
        {
          "output_type": "stream",
          "name": "stdout",
          "text": [
            "0: 96x1152 (no detections), 82.8ms\n",
            "Speed: 1.3ms preprocess, 82.8ms inference, 0.7ms postprocess per image at shape (1, 3, 96, 1152)\n"
          ]
        },
        {
          "output_type": "stream",
          "name": "stderr",
          "text": [
            "0it [00:00, ?it/s]"
          ]
        },
        {
          "output_type": "stream",
          "name": "stdout",
          "text": [
            "\n",
            "WARNING ⚠️ imgsz=[211, 1728] must be multiple of max stride 32, updating to [224, 1728]\n"
          ]
        },
        {
          "output_type": "stream",
          "name": "stderr",
          "text": [
            "\n"
          ]
        },
        {
          "output_type": "stream",
          "name": "stdout",
          "text": [
            "0: 224x1728 (no detections), 310.9ms\n",
            "Speed: 2.8ms preprocess, 310.9ms inference, 0.9ms postprocess per image at shape (1, 3, 224, 1728)\n"
          ]
        },
        {
          "output_type": "stream",
          "name": "stderr",
          "text": [
            "0it [00:00, ?it/s]\n"
          ]
        },
        {
          "output_type": "stream",
          "name": "stdout",
          "text": [
            "\n",
            "WARNING ⚠️ imgsz=[110, 1728] must be multiple of max stride 32, updating to [128, 1728]\n",
            "0: 128x1728 (no detections), 162.2ms\n",
            "Speed: 2.1ms preprocess, 162.2ms inference, 0.8ms postprocess per image at shape (1, 3, 128, 1728)\n"
          ]
        },
        {
          "output_type": "stream",
          "name": "stderr",
          "text": [
            "0it [00:00, ?it/s]"
          ]
        },
        {
          "output_type": "stream",
          "name": "stdout",
          "text": [
            "\n",
            "WARNING ⚠️ imgsz=[245, 1728] must be multiple of max stride 32, updating to [256, 1728]\n"
          ]
        },
        {
          "output_type": "stream",
          "name": "stderr",
          "text": [
            "\n"
          ]
        },
        {
          "output_type": "stream",
          "name": "stdout",
          "text": [
            "0: 256x1728 (no detections), 354.9ms\n",
            "Speed: 2.9ms preprocess, 354.9ms inference, 0.7ms postprocess per image at shape (1, 3, 256, 1728)\n"
          ]
        },
        {
          "output_type": "stream",
          "name": "stderr",
          "text": [
            "0it [00:00, ?it/s]\n"
          ]
        },
        {
          "output_type": "stream",
          "name": "stdout",
          "text": [
            "\n",
            "WARNING ⚠️ imgsz=[165, 1728] must be multiple of max stride 32, updating to [192, 1728]\n",
            "0: 192x1728 (no detections), 253.4ms\n",
            "Speed: 2.4ms preprocess, 253.4ms inference, 0.8ms postprocess per image at shape (1, 3, 192, 1728)\n"
          ]
        },
        {
          "output_type": "stream",
          "name": "stderr",
          "text": [
            "0it [00:00, ?it/s]\n"
          ]
        },
        {
          "output_type": "stream",
          "name": "stdout",
          "text": [
            "\n",
            "WARNING ⚠️ imgsz=[273, 1728] must be multiple of max stride 32, updating to [288, 1728]\n",
            "0: 288x1728 (no detections), 362.4ms\n",
            "Speed: 3.2ms preprocess, 362.4ms inference, 0.8ms postprocess per image at shape (1, 3, 288, 1728)\n"
          ]
        },
        {
          "output_type": "stream",
          "name": "stderr",
          "text": [
            "0it [00:00, ?it/s]\n"
          ]
        },
        {
          "output_type": "stream",
          "name": "stdout",
          "text": [
            "\n",
            "WARNING ⚠️ imgsz=[1086, 768] must be multiple of max stride 32, updating to [1088, 768]\n",
            "0: 1088x768 (no detections), 696.7ms\n",
            "Speed: 7.2ms preprocess, 696.7ms inference, 0.7ms postprocess per image at shape (1, 3, 1088, 768)\n"
          ]
        },
        {
          "output_type": "stream",
          "name": "stderr",
          "text": [
            "0it [00:00, ?it/s]\n"
          ]
        },
        {
          "output_type": "stream",
          "name": "stdout",
          "text": [
            "\n",
            "WARNING ⚠️ imgsz=[215, 1728] must be multiple of max stride 32, updating to [224, 1728]\n",
            "0: 224x1728 (no detections), 504.6ms\n",
            "Speed: 3.9ms preprocess, 504.6ms inference, 7.3ms postprocess per image at shape (1, 3, 224, 1728)\n"
          ]
        },
        {
          "output_type": "stream",
          "name": "stderr",
          "text": [
            "0it [00:00, ?it/s]\n"
          ]
        },
        {
          "output_type": "stream",
          "name": "stdout",
          "text": [
            "\n",
            "WARNING ⚠️ imgsz=[109, 1152] must be multiple of max stride 32, updating to [128, 1152]\n",
            "0: 128x1152 (no detections), 122.5ms\n",
            "Speed: 1.5ms preprocess, 122.5ms inference, 1.0ms postprocess per image at shape (1, 3, 128, 1152)\n"
          ]
        },
        {
          "output_type": "stream",
          "name": "stderr",
          "text": [
            "0it [00:00, ?it/s]"
          ]
        },
        {
          "output_type": "stream",
          "name": "stdout",
          "text": [
            "\n",
            "WARNING ⚠️ imgsz=[209, 1728] must be multiple of max stride 32, updating to [224, 1728]\n"
          ]
        },
        {
          "output_type": "stream",
          "name": "stderr",
          "text": [
            "\n"
          ]
        },
        {
          "output_type": "stream",
          "name": "stdout",
          "text": [
            "0: 224x1728 2 embeddings, 307.5ms\n",
            "Speed: 2.9ms preprocess, 307.5ms inference, 1.6ms postprocess per image at shape (1, 3, 224, 1728)\n"
          ]
        },
        {
          "output_type": "stream",
          "name": "stderr",
          "text": [
            "100%|██████████| 2/2 [00:01<00:00,  1.19it/s]\n"
          ]
        },
        {
          "output_type": "stream",
          "name": "stdout",
          "text": [
            "\n",
            "WARNING ⚠️ imgsz=[167, 1728] must be multiple of max stride 32, updating to [192, 1728]\n",
            "0: 192x1728 1 embedding, 243.2ms\n",
            "Speed: 2.5ms preprocess, 243.2ms inference, 1.5ms postprocess per image at shape (1, 3, 192, 1728)\n"
          ]
        },
        {
          "output_type": "stream",
          "name": "stderr",
          "text": [
            "100%|██████████| 1/1 [00:00<00:00,  1.96it/s]"
          ]
        },
        {
          "output_type": "stream",
          "name": "stdout",
          "text": [
            "\n",
            "WARNING ⚠️ imgsz=[167, 768] must be multiple of max stride 32, updating to [192, 768]\n"
          ]
        },
        {
          "output_type": "stream",
          "name": "stderr",
          "text": [
            "\n"
          ]
        },
        {
          "output_type": "stream",
          "name": "stdout",
          "text": [
            "0: 192x768 (no detections), 120.8ms\n",
            "Speed: 1.5ms preprocess, 120.8ms inference, 0.7ms postprocess per image at shape (1, 3, 192, 768)\n"
          ]
        },
        {
          "output_type": "stream",
          "name": "stderr",
          "text": [
            "0it [00:00, ?it/s]\n"
          ]
        },
        {
          "output_type": "stream",
          "name": "stdout",
          "text": [
            "\n",
            "WARNING ⚠️ imgsz=[212, 1728] must be multiple of max stride 32, updating to [224, 1728]\n",
            "0: 224x1728 (no detections), 301.2ms\n",
            "Speed: 2.6ms preprocess, 301.2ms inference, 0.7ms postprocess per image at shape (1, 3, 224, 1728)\n"
          ]
        },
        {
          "output_type": "stream",
          "name": "stderr",
          "text": [
            "0it [00:00, ?it/s]\n"
          ]
        },
        {
          "output_type": "stream",
          "name": "stdout",
          "text": [
            "\n",
            "WARNING ⚠️ imgsz=[345, 768] must be multiple of max stride 32, updating to [352, 768]\n",
            "0: 352x768 1 isolated, 212.0ms\n",
            "Speed: 2.5ms preprocess, 212.0ms inference, 1.5ms postprocess per image at shape (1, 3, 352, 768)\n"
          ]
        },
        {
          "output_type": "stream",
          "name": "stderr",
          "text": [
            "100%|██████████| 1/1 [00:00<00:00,  1.66it/s]"
          ]
        },
        {
          "output_type": "stream",
          "name": "stdout",
          "text": [
            "\n",
            "WARNING ⚠️ imgsz=[103, 1152] must be multiple of max stride 32, updating to [128, 1152]\n"
          ]
        },
        {
          "output_type": "stream",
          "name": "stderr",
          "text": [
            "\n"
          ]
        },
        {
          "output_type": "stream",
          "name": "stdout",
          "text": [
            "0: 128x1152 (no detections), 119.4ms\n",
            "Speed: 1.2ms preprocess, 119.4ms inference, 0.7ms postprocess per image at shape (1, 3, 128, 1152)\n"
          ]
        },
        {
          "output_type": "stream",
          "name": "stderr",
          "text": [
            "0it [00:00, ?it/s]"
          ]
        },
        {
          "output_type": "stream",
          "name": "stdout",
          "text": [
            "\n",
            "WARNING ⚠️ imgsz=[92, 1152] must be multiple of max stride 32, updating to [96, 1152]\n",
            "0: 96x1152 (no detections), 83.2ms\n"
          ]
        },
        {
          "output_type": "stream",
          "name": "stderr",
          "text": [
            "\n"
          ]
        },
        {
          "output_type": "stream",
          "name": "stdout",
          "text": [
            "Speed: 1.2ms preprocess, 83.2ms inference, 0.7ms postprocess per image at shape (1, 3, 96, 1152)\n"
          ]
        },
        {
          "output_type": "stream",
          "name": "stderr",
          "text": [
            "0it [00:00, ?it/s]"
          ]
        },
        {
          "output_type": "stream",
          "name": "stdout",
          "text": [
            "\n",
            "WARNING ⚠️ imgsz=[110, 768] must be multiple of max stride 32, updating to [128, 768]\n",
            "0: 128x768 (no detections), 82.6ms\n",
            "Speed: 1.2ms preprocess, 82.6ms inference, 1.0ms postprocess per image at shape (1, 3, 128, 768)\n"
          ]
        },
        {
          "output_type": "stream",
          "name": "stderr",
          "text": [
            "\n",
            "0it [00:00, ?it/s]\n"
          ]
        },
        {
          "output_type": "stream",
          "name": "stdout",
          "text": [
            "\n",
            "WARNING ⚠️ imgsz=[137, 768] must be multiple of max stride 32, updating to [160, 768]\n",
            "0: 160x768 (no detections), 91.2ms\n",
            "Speed: 1.2ms preprocess, 91.2ms inference, 0.7ms postprocess per image at shape (1, 3, 160, 768)\n"
          ]
        },
        {
          "output_type": "stream",
          "name": "stderr",
          "text": [
            "0it [00:00, ?it/s]\n"
          ]
        },
        {
          "output_type": "stream",
          "name": "stdout",
          "text": [
            "\n",
            "WARNING ⚠️ imgsz=[87, 768] must be multiple of max stride 32, updating to [96, 768]\n",
            "0: 96x768 (no detections), 64.2ms\n",
            "Speed: 0.8ms preprocess, 64.2ms inference, 0.7ms postprocess per image at shape (1, 3, 96, 768)\n"
          ]
        },
        {
          "output_type": "stream",
          "name": "stderr",
          "text": [
            "0it [00:00, ?it/s]\n"
          ]
        },
        {
          "output_type": "stream",
          "name": "stdout",
          "text": [
            "\n",
            "WARNING ⚠️ imgsz=[149, 1728] must be multiple of max stride 32, updating to [160, 1728]\n",
            "0: 160x1728 1 embedding, 237.6ms\n",
            "Speed: 2.0ms preprocess, 237.6ms inference, 1.9ms postprocess per image at shape (1, 3, 160, 1728)\n"
          ]
        },
        {
          "output_type": "stream",
          "name": "stderr",
          "text": [
            "100%|██████████| 1/1 [00:00<00:00,  2.18it/s]\n"
          ]
        },
        {
          "output_type": "stream",
          "name": "stdout",
          "text": [
            "\n",
            "WARNING ⚠️ imgsz=[282, 768] must be multiple of max stride 32, updating to [288, 768]\n",
            "0: 288x768 1 isolated, 176.8ms\n",
            "Speed: 2.3ms preprocess, 176.8ms inference, 1.5ms postprocess per image at shape (1, 3, 288, 768)\n"
          ]
        },
        {
          "output_type": "stream",
          "name": "stderr",
          "text": [
            "100%|██████████| 1/1 [00:00<00:00,  1.08it/s]"
          ]
        },
        {
          "output_type": "stream",
          "name": "stdout",
          "text": [
            "\n",
            "WARNING ⚠️ imgsz=[93, 1152] must be multiple of max stride 32, updating to [96, 1152]\n",
            "0: 96x1152 (no detections), 78.2ms\n",
            "Speed: 1.1ms preprocess, 78.2ms inference, 0.7ms postprocess per image at shape (1, 3, 96, 1152)\n"
          ]
        },
        {
          "output_type": "stream",
          "name": "stderr",
          "text": [
            "\n",
            "0it [00:00, ?it/s]\n"
          ]
        },
        {
          "output_type": "stream",
          "name": "stdout",
          "text": [
            "\n",
            "WARNING ⚠️ imgsz=[156, 768] must be multiple of max stride 32, updating to [160, 768]\n",
            "0: 160x768 (no detections), 96.4ms\n",
            "Speed: 1.4ms preprocess, 96.4ms inference, 0.7ms postprocess per image at shape (1, 3, 160, 768)\n"
          ]
        },
        {
          "output_type": "stream",
          "name": "stderr",
          "text": [
            "0it [00:00, ?it/s]"
          ]
        },
        {
          "output_type": "stream",
          "name": "stdout",
          "text": [
            "\n",
            "WARNING ⚠️ imgsz=[157, 768] must be multiple of max stride 32, updating to [160, 768]\n",
            "0: 160x768 (no detections), 98.4ms\n",
            "Speed: 1.3ms preprocess, 98.4ms inference, 0.7ms postprocess per image at shape (1, 3, 160, 768)\n"
          ]
        },
        {
          "output_type": "stream",
          "name": "stderr",
          "text": [
            "\n",
            "0it [00:00, ?it/s]\n"
          ]
        },
        {
          "output_type": "stream",
          "name": "stdout",
          "text": [
            "\n",
            "WARNING ⚠️ imgsz=[136, 768] must be multiple of max stride 32, updating to [160, 768]\n",
            "0: 160x768 (no detections), 102.6ms\n",
            "Speed: 1.3ms preprocess, 102.6ms inference, 0.7ms postprocess per image at shape (1, 3, 160, 768)\n"
          ]
        },
        {
          "output_type": "stream",
          "name": "stderr",
          "text": [
            "0it [00:00, ?it/s]"
          ]
        },
        {
          "output_type": "stream",
          "name": "stdout",
          "text": [
            "\n",
            "WARNING ⚠️ imgsz=[108, 1152] must be multiple of max stride 32, updating to [128, 1152]\n"
          ]
        },
        {
          "output_type": "stream",
          "name": "stderr",
          "text": [
            "\n"
          ]
        },
        {
          "output_type": "stream",
          "name": "stdout",
          "text": [
            "0: 128x1152 (no detections), 138.0ms\n",
            "Speed: 1.6ms preprocess, 138.0ms inference, 1.0ms postprocess per image at shape (1, 3, 128, 1152)\n"
          ]
        },
        {
          "output_type": "stream",
          "name": "stderr",
          "text": [
            "0it [00:00, ?it/s]"
          ]
        },
        {
          "output_type": "stream",
          "name": "stdout",
          "text": [
            "\n",
            "WARNING ⚠️ imgsz=[138, 768] must be multiple of max stride 32, updating to [160, 768]\n"
          ]
        },
        {
          "output_type": "stream",
          "name": "stderr",
          "text": [
            "\n"
          ]
        },
        {
          "output_type": "stream",
          "name": "stdout",
          "text": [
            "0: 160x768 (no detections), 145.3ms\n",
            "Speed: 1.2ms preprocess, 145.3ms inference, 1.2ms postprocess per image at shape (1, 3, 160, 768)\n"
          ]
        },
        {
          "output_type": "stream",
          "name": "stderr",
          "text": [
            "0it [00:00, ?it/s]\n"
          ]
        },
        {
          "output_type": "stream",
          "name": "stdout",
          "text": [
            "\n",
            "WARNING ⚠️ imgsz=[199, 768] must be multiple of max stride 32, updating to [224, 768]\n",
            "0: 224x768 2 embeddings, 202.6ms\n",
            "Speed: 1.6ms preprocess, 202.6ms inference, 1.9ms postprocess per image at shape (1, 3, 224, 768)\n"
          ]
        },
        {
          "output_type": "stream",
          "name": "stderr",
          "text": [
            "100%|██████████| 2/2 [00:01<00:00,  1.46it/s]\n"
          ]
        },
        {
          "output_type": "stream",
          "name": "stdout",
          "text": [
            "\n",
            "WARNING ⚠️ imgsz=[1086, 768] must be multiple of max stride 32, updating to [1088, 768]\n",
            "0: 1088x768 (no detections), 699.7ms\n",
            "Speed: 7.3ms preprocess, 699.7ms inference, 1.1ms postprocess per image at shape (1, 3, 1088, 768)\n"
          ]
        },
        {
          "output_type": "stream",
          "name": "stderr",
          "text": [
            "0it [00:00, ?it/s]\n"
          ]
        },
        {
          "output_type": "stream",
          "name": "stdout",
          "text": [
            "\n",
            "WARNING ⚠️ imgsz=[144, 768] must be multiple of max stride 32, updating to [160, 768]\n",
            "0: 160x768 (no detections), 99.3ms\n",
            "Speed: 1.2ms preprocess, 99.3ms inference, 3.6ms postprocess per image at shape (1, 3, 160, 768)\n"
          ]
        },
        {
          "output_type": "stream",
          "name": "stderr",
          "text": [
            "0it [00:00, ?it/s]"
          ]
        },
        {
          "output_type": "stream",
          "name": "stdout",
          "text": [
            "\n"
          ]
        },
        {
          "output_type": "stream",
          "name": "stderr",
          "text": [
            "\n"
          ]
        },
        {
          "output_type": "stream",
          "name": "stdout",
          "text": [
            "0: 128x768 (no detections), 80.8ms\n",
            "Speed: 1.1ms preprocess, 80.8ms inference, 0.8ms postprocess per image at shape (1, 3, 128, 768)\n"
          ]
        },
        {
          "output_type": "stream",
          "name": "stderr",
          "text": [
            "0it [00:00, ?it/s]"
          ]
        },
        {
          "output_type": "stream",
          "name": "stdout",
          "text": [
            "\n",
            "WARNING ⚠️ imgsz=[108, 768] must be multiple of max stride 32, updating to [128, 768]\n",
            "0: 128x768 (no detections), 91.8ms\n",
            "Speed: 1.1ms preprocess, 91.8ms inference, 0.7ms postprocess per image at shape (1, 3, 128, 768)\n"
          ]
        },
        {
          "output_type": "stream",
          "name": "stderr",
          "text": [
            "\n",
            "0it [00:00, ?it/s]\n"
          ]
        },
        {
          "output_type": "stream",
          "name": "stdout",
          "text": [
            "\n",
            "WARNING ⚠️ imgsz=[1086, 768] must be multiple of max stride 32, updating to [1088, 768]\n",
            "0: 1088x768 (no detections), 665.6ms\n",
            "Speed: 6.2ms preprocess, 665.6ms inference, 1.0ms postprocess per image at shape (1, 3, 1088, 768)\n"
          ]
        },
        {
          "output_type": "stream",
          "name": "stderr",
          "text": [
            "0it [00:00, ?it/s]\n"
          ]
        },
        {
          "output_type": "stream",
          "name": "stdout",
          "text": [
            "\n",
            "WARNING ⚠️ imgsz=[106, 1152] must be multiple of max stride 32, updating to [128, 1152]\n",
            "0: 128x1152 (no detections), 121.6ms\n",
            "Speed: 1.5ms preprocess, 121.6ms inference, 0.7ms postprocess per image at shape (1, 3, 128, 1152)\n"
          ]
        },
        {
          "output_type": "stream",
          "name": "stderr",
          "text": [
            "0it [00:00, ?it/s]"
          ]
        },
        {
          "output_type": "stream",
          "name": "stdout",
          "text": [
            "\n",
            "WARNING ⚠️ imgsz=[241, 1728] must be multiple of max stride 32, updating to [256, 1728]\n"
          ]
        },
        {
          "output_type": "stream",
          "name": "stderr",
          "text": [
            "\n"
          ]
        },
        {
          "output_type": "stream",
          "name": "stdout",
          "text": [
            "0: 256x1728 1 embedding, 338.7ms\n",
            "Speed: 3.5ms preprocess, 338.7ms inference, 1.5ms postprocess per image at shape (1, 3, 256, 1728)\n"
          ]
        },
        {
          "output_type": "stream",
          "name": "stderr",
          "text": [
            "100%|██████████| 1/1 [00:00<00:00,  2.31it/s]\n"
          ]
        },
        {
          "output_type": "stream",
          "name": "stdout",
          "text": [
            "\n",
            "WARNING ⚠️ imgsz=[181, 1728] must be multiple of max stride 32, updating to [192, 1728]\n",
            "0: 192x1728 (no detections), 331.7ms\n",
            "Speed: 2.3ms preprocess, 331.7ms inference, 0.9ms postprocess per image at shape (1, 3, 192, 1728)\n"
          ]
        },
        {
          "output_type": "stream",
          "name": "stderr",
          "text": [
            "0it [00:00, ?it/s]\n"
          ]
        },
        {
          "output_type": "stream",
          "name": "stdout",
          "text": [
            "\n",
            "WARNING ⚠️ imgsz=[152, 1728] must be multiple of max stride 32, updating to [160, 1728]\n",
            "0: 160x1728 (no detections), 294.1ms\n",
            "Speed: 2.7ms preprocess, 294.1ms inference, 0.9ms postprocess per image at shape (1, 3, 160, 1728)\n"
          ]
        },
        {
          "output_type": "stream",
          "name": "stderr",
          "text": [
            "0it [00:00, ?it/s]\n"
          ]
        },
        {
          "output_type": "stream",
          "name": "stdout",
          "text": [
            "\n",
            "WARNING ⚠️ imgsz=[138, 1728] must be multiple of max stride 32, updating to [160, 1728]\n",
            "0: 160x1728 (no detections), 295.7ms\n",
            "Speed: 2.9ms preprocess, 295.7ms inference, 1.1ms postprocess per image at shape (1, 3, 160, 1728)\n"
          ]
        },
        {
          "output_type": "stream",
          "name": "stderr",
          "text": [
            "0it [00:00, ?it/s]\n"
          ]
        },
        {
          "output_type": "stream",
          "name": "stdout",
          "text": [
            "\n",
            "WARNING ⚠️ imgsz=[214, 768] must be multiple of max stride 32, updating to [224, 768]\n",
            "0: 224x768 1 embedding, 125.6ms\n",
            "Speed: 1.5ms preprocess, 125.6ms inference, 1.7ms postprocess per image at shape (1, 3, 224, 768)\n"
          ]
        },
        {
          "output_type": "stream",
          "name": "stderr",
          "text": [
            "100%|██████████| 1/1 [00:00<00:00,  2.19it/s]\n"
          ]
        },
        {
          "output_type": "stream",
          "name": "stdout",
          "text": [
            "\n",
            "WARNING ⚠️ imgsz=[1086, 768] must be multiple of max stride 32, updating to [1088, 768]\n",
            "0: 1088x768 (no detections), 682.0ms\n",
            "Speed: 6.3ms preprocess, 682.0ms inference, 0.8ms postprocess per image at shape (1, 3, 1088, 768)\n"
          ]
        },
        {
          "output_type": "stream",
          "name": "stderr",
          "text": [
            "0it [00:00, ?it/s]\n"
          ]
        },
        {
          "output_type": "stream",
          "name": "stdout",
          "text": [
            "\n",
            "WARNING ⚠️ imgsz=[1086, 768] must be multiple of max stride 32, updating to [1088, 768]\n",
            "0: 1088x768 (no detections), 636.2ms\n",
            "Speed: 6.3ms preprocess, 636.2ms inference, 0.8ms postprocess per image at shape (1, 3, 1088, 768)\n"
          ]
        },
        {
          "output_type": "stream",
          "name": "stderr",
          "text": [
            "0it [00:00, ?it/s]\n"
          ]
        },
        {
          "output_type": "stream",
          "name": "stdout",
          "text": [
            "\n",
            "WARNING ⚠️ imgsz=[1086, 768] must be multiple of max stride 32, updating to [1088, 768]\n",
            "0: 1088x768 (no detections), 678.6ms\n",
            "Speed: 6.6ms preprocess, 678.6ms inference, 0.9ms postprocess per image at shape (1, 3, 1088, 768)\n"
          ]
        },
        {
          "output_type": "stream",
          "name": "stderr",
          "text": [
            "0it [00:00, ?it/s]\n"
          ]
        },
        {
          "output_type": "stream",
          "name": "stdout",
          "text": [
            "\n",
            "WARNING ⚠️ imgsz=[199, 768] must be multiple of max stride 32, updating to [224, 768]\n",
            "0: 224x768 1 embedding, 141.1ms\n",
            "Speed: 1.4ms preprocess, 141.1ms inference, 7.9ms postprocess per image at shape (1, 3, 224, 768)\n"
          ]
        },
        {
          "output_type": "stream",
          "name": "stderr",
          "text": [
            "100%|██████████| 1/1 [00:00<00:00,  2.20it/s]"
          ]
        },
        {
          "output_type": "stream",
          "name": "stdout",
          "text": [
            "\n",
            "WARNING ⚠️ imgsz=[158, 1728] must be multiple of max stride 32, updating to [160, 1728]\n"
          ]
        },
        {
          "output_type": "stream",
          "name": "stderr",
          "text": [
            "\n"
          ]
        },
        {
          "output_type": "stream",
          "name": "stdout",
          "text": [
            "0: 160x1728 (no detections), 228.3ms\n",
            "Speed: 2.2ms preprocess, 228.3ms inference, 0.8ms postprocess per image at shape (1, 3, 160, 1728)\n"
          ]
        },
        {
          "output_type": "stream",
          "name": "stderr",
          "text": [
            "0it [00:00, ?it/s]\n"
          ]
        },
        {
          "output_type": "stream",
          "name": "stdout",
          "text": [
            "\n",
            "WARNING ⚠️ imgsz=[138, 1728] must be multiple of max stride 32, updating to [160, 1728]\n",
            "0: 160x1728 (no detections), 207.0ms\n",
            "Speed: 2.1ms preprocess, 207.0ms inference, 1.2ms postprocess per image at shape (1, 3, 160, 1728)\n"
          ]
        },
        {
          "output_type": "stream",
          "name": "stderr",
          "text": [
            "0it [00:00, ?it/s]\n"
          ]
        },
        {
          "output_type": "stream",
          "name": "stdout",
          "text": [
            "\n",
            "WARNING ⚠️ imgsz=[141, 1728] must be multiple of max stride 32, updating to [160, 1728]\n",
            "0: 160x1728 (no detections), 210.5ms\n",
            "Speed: 2.3ms preprocess, 210.5ms inference, 0.8ms postprocess per image at shape (1, 3, 160, 1728)\n"
          ]
        },
        {
          "output_type": "stream",
          "name": "stderr",
          "text": [
            "0it [00:00, ?it/s]\n"
          ]
        },
        {
          "output_type": "stream",
          "name": "stdout",
          "text": [
            "\n",
            "WARNING ⚠️ imgsz=[230, 1728] must be multiple of max stride 32, updating to [256, 1728]\n",
            "0: 256x1728 (no detections), 330.9ms\n",
            "Speed: 2.8ms preprocess, 330.9ms inference, 0.7ms postprocess per image at shape (1, 3, 256, 1728)\n"
          ]
        },
        {
          "output_type": "stream",
          "name": "stderr",
          "text": [
            "0it [00:00, ?it/s]\n"
          ]
        },
        {
          "output_type": "stream",
          "name": "stdout",
          "text": [
            "\n",
            "WARNING ⚠️ imgsz=[87, 1152] must be multiple of max stride 32, updating to [96, 1152]\n",
            "0: 96x1152 (no detections), 78.6ms\n",
            "Speed: 1.0ms preprocess, 78.6ms inference, 0.7ms postprocess per image at shape (1, 3, 96, 1152)\n"
          ]
        },
        {
          "output_type": "stream",
          "name": "stderr",
          "text": [
            "0it [00:00, ?it/s]"
          ]
        },
        {
          "output_type": "stream",
          "name": "stdout",
          "text": [
            "\n",
            "WARNING ⚠️ imgsz=[148, 1728] must be multiple of max stride 32, updating to [160, 1728]\n"
          ]
        },
        {
          "output_type": "stream",
          "name": "stderr",
          "text": [
            "\n"
          ]
        },
        {
          "output_type": "stream",
          "name": "stdout",
          "text": [
            "0: 160x1728 (no detections), 209.3ms\n",
            "Speed: 2.0ms preprocess, 209.3ms inference, 0.8ms postprocess per image at shape (1, 3, 160, 1728)\n"
          ]
        },
        {
          "output_type": "stream",
          "name": "stderr",
          "text": [
            "0it [00:00, ?it/s]\n"
          ]
        },
        {
          "output_type": "stream",
          "name": "stdout",
          "text": [
            "\n",
            "WARNING ⚠️ imgsz=[159, 1728] must be multiple of max stride 32, updating to [160, 1728]\n",
            "0: 160x1728 (no detections), 228.1ms\n",
            "Speed: 2.0ms preprocess, 228.1ms inference, 0.7ms postprocess per image at shape (1, 3, 160, 1728)\n"
          ]
        },
        {
          "output_type": "stream",
          "name": "stderr",
          "text": [
            "0it [00:00, ?it/s]\n"
          ]
        },
        {
          "output_type": "stream",
          "name": "stdout",
          "text": [
            "\n",
            "0: 96x1152 (no detections), 81.0ms\n",
            "Speed: 1.6ms preprocess, 81.0ms inference, 0.7ms postprocess per image at shape (1, 3, 96, 1152)\n"
          ]
        },
        {
          "output_type": "stream",
          "name": "stderr",
          "text": [
            "0it [00:00, ?it/s]"
          ]
        },
        {
          "output_type": "stream",
          "name": "stdout",
          "text": [
            "\n",
            "WARNING ⚠️ imgsz=[152, 1728] must be multiple of max stride 32, updating to [160, 1728]\n"
          ]
        },
        {
          "output_type": "stream",
          "name": "stderr",
          "text": [
            "\n"
          ]
        },
        {
          "output_type": "stream",
          "name": "stdout",
          "text": [
            "0: 160x1728 (no detections), 206.0ms\n",
            "Speed: 2.0ms preprocess, 206.0ms inference, 0.7ms postprocess per image at shape (1, 3, 160, 1728)\n"
          ]
        },
        {
          "output_type": "stream",
          "name": "stderr",
          "text": [
            "0it [00:00, ?it/s]\n"
          ]
        },
        {
          "output_type": "stream",
          "name": "stdout",
          "text": [
            "\n",
            "WARNING ⚠️ imgsz=[153, 1728] must be multiple of max stride 32, updating to [160, 1728]\n",
            "0: 160x1728 (no detections), 204.4ms\n",
            "Speed: 2.0ms preprocess, 204.4ms inference, 0.8ms postprocess per image at shape (1, 3, 160, 1728)\n"
          ]
        },
        {
          "output_type": "stream",
          "name": "stderr",
          "text": [
            "0it [00:00, ?it/s]\n"
          ]
        },
        {
          "output_type": "stream",
          "name": "stdout",
          "text": [
            "\n",
            "WARNING ⚠️ imgsz=[458, 1728] must be multiple of max stride 32, updating to [480, 1728]\n",
            "0: 480x1728 (no detections), 664.4ms\n",
            "Speed: 5.2ms preprocess, 664.4ms inference, 1.1ms postprocess per image at shape (1, 3, 480, 1728)\n"
          ]
        },
        {
          "output_type": "stream",
          "name": "stderr",
          "text": [
            "0it [00:00, ?it/s]\n"
          ]
        },
        {
          "output_type": "stream",
          "name": "stdout",
          "text": [
            "\n",
            "WARNING ⚠️ imgsz=[199, 1728] must be multiple of max stride 32, updating to [224, 1728]\n",
            "0: 224x1728 (no detections), 441.8ms\n",
            "Speed: 3.6ms preprocess, 441.8ms inference, 0.9ms postprocess per image at shape (1, 3, 224, 1728)\n"
          ]
        },
        {
          "output_type": "stream",
          "name": "stderr",
          "text": [
            "0it [00:00, ?it/s]\n"
          ]
        },
        {
          "output_type": "stream",
          "name": "stdout",
          "text": [
            "\n",
            "WARNING ⚠️ imgsz=[171, 1728] must be multiple of max stride 32, updating to [192, 1728]\n",
            "0: 192x1728 (no detections), 445.3ms\n",
            "Speed: 6.6ms preprocess, 445.3ms inference, 1.1ms postprocess per image at shape (1, 3, 192, 1728)\n"
          ]
        },
        {
          "output_type": "stream",
          "name": "stderr",
          "text": [
            "0it [00:00, ?it/s]\n"
          ]
        },
        {
          "output_type": "stream",
          "name": "stdout",
          "text": [
            "\n",
            "WARNING ⚠️ imgsz=[162, 1728] must be multiple of max stride 32, updating to [192, 1728]\n",
            "0: 192x1728 (no detections), 478.2ms\n",
            "Speed: 5.4ms preprocess, 478.2ms inference, 1.0ms postprocess per image at shape (1, 3, 192, 1728)\n"
          ]
        },
        {
          "output_type": "stream",
          "name": "stderr",
          "text": [
            "0it [00:00, ?it/s]\n"
          ]
        },
        {
          "output_type": "stream",
          "name": "stdout",
          "text": [
            "\n",
            "WARNING ⚠️ imgsz=[102, 1152] must be multiple of max stride 32, updating to [128, 1152]\n",
            "0: 128x1152 (no detections), 207.5ms\n",
            "Speed: 1.7ms preprocess, 207.5ms inference, 1.1ms postprocess per image at shape (1, 3, 128, 1152)\n"
          ]
        },
        {
          "output_type": "stream",
          "name": "stderr",
          "text": [
            "0it [00:00, ?it/s]\n"
          ]
        },
        {
          "output_type": "stream",
          "name": "stdout",
          "text": [
            "\n",
            "WARNING ⚠️ imgsz=[1086, 768] must be multiple of max stride 32, updating to [1088, 768]\n",
            "0: 1088x768 1 isolated, 646.1ms\n",
            "Speed: 6.2ms preprocess, 646.1ms inference, 1.6ms postprocess per image at shape (1, 3, 1088, 768)\n"
          ]
        },
        {
          "output_type": "stream",
          "name": "stderr",
          "text": [
            "100%|██████████| 1/1 [00:02<00:00,  2.77s/it]\n"
          ]
        },
        {
          "output_type": "stream",
          "name": "stdout",
          "text": [
            "\n",
            "WARNING ⚠️ imgsz=[1086, 768] must be multiple of max stride 32, updating to [1088, 768]\n",
            "0: 1088x768 1 embedding, 648.0ms\n",
            "Speed: 6.2ms preprocess, 648.0ms inference, 1.9ms postprocess per image at shape (1, 3, 1088, 768)\n"
          ]
        },
        {
          "output_type": "stream",
          "name": "stderr",
          "text": [
            "100%|██████████| 1/1 [00:01<00:00,  1.10s/it]\n"
          ]
        },
        {
          "output_type": "stream",
          "name": "stdout",
          "text": [
            "\n",
            "WARNING ⚠️ imgsz=[205, 1728] must be multiple of max stride 32, updating to [224, 1728]\n",
            "0: 224x1728 (no detections), 302.2ms\n",
            "Speed: 3.6ms preprocess, 302.2ms inference, 5.9ms postprocess per image at shape (1, 3, 224, 1728)\n"
          ]
        },
        {
          "output_type": "stream",
          "name": "stderr",
          "text": [
            "0it [00:00, ?it/s]\n"
          ]
        },
        {
          "output_type": "stream",
          "name": "stdout",
          "text": [
            "\n",
            "WARNING ⚠️ imgsz=[90, 1152] must be multiple of max stride 32, updating to [96, 1152]\n",
            "0: 96x1152 (no detections), 79.2ms\n",
            "Speed: 1.3ms preprocess, 79.2ms inference, 0.8ms postprocess per image at shape (1, 3, 96, 1152)\n"
          ]
        },
        {
          "output_type": "stream",
          "name": "stderr",
          "text": [
            "0it [00:00, ?it/s]"
          ]
        },
        {
          "output_type": "stream",
          "name": "stdout",
          "text": [
            "\n",
            "WARNING ⚠️ imgsz=[83, 768] must be multiple of max stride 32, updating to [96, 768]\n"
          ]
        },
        {
          "output_type": "stream",
          "name": "stderr",
          "text": [
            "\n"
          ]
        },
        {
          "output_type": "stream",
          "name": "stdout",
          "text": [
            "0: 96x768 (no detections), 56.7ms\n",
            "Speed: 1.3ms preprocess, 56.7ms inference, 0.8ms postprocess per image at shape (1, 3, 96, 768)\n"
          ]
        },
        {
          "output_type": "stream",
          "name": "stderr",
          "text": [
            "0it [00:00, ?it/s]"
          ]
        },
        {
          "output_type": "stream",
          "name": "stdout",
          "text": [
            "\n",
            "WARNING ⚠️ imgsz=[331, 768] must be multiple of max stride 32, updating to [352, 768]\n"
          ]
        },
        {
          "output_type": "stream",
          "name": "stderr",
          "text": [
            "\n"
          ]
        },
        {
          "output_type": "stream",
          "name": "stdout",
          "text": [
            "0: 352x768 1 isolated, 206.9ms\n",
            "Speed: 2.2ms preprocess, 206.9ms inference, 1.9ms postprocess per image at shape (1, 3, 352, 768)\n"
          ]
        },
        {
          "output_type": "stream",
          "name": "stderr",
          "text": [
            "100%|██████████| 1/1 [00:00<00:00,  1.56it/s]"
          ]
        },
        {
          "output_type": "stream",
          "name": "stdout",
          "text": [
            "\n",
            "WARNING ⚠️ imgsz=[81, 1152] must be multiple of max stride 32, updating to [96, 1152]\n",
            "0: 96x1152 (no detections), 84.8ms\n",
            "Speed: 1.5ms preprocess, 84.8ms inference, 0.7ms postprocess per image at shape (1, 3, 96, 1152)\n"
          ]
        },
        {
          "output_type": "stream",
          "name": "stderr",
          "text": [
            "\n",
            "0it [00:00, ?it/s]"
          ]
        },
        {
          "output_type": "stream",
          "name": "stdout",
          "text": [
            "\n",
            "WARNING ⚠️ imgsz=[83, 1152] must be multiple of max stride 32, updating to [96, 1152]\n"
          ]
        },
        {
          "output_type": "stream",
          "name": "stderr",
          "text": [
            "\n"
          ]
        },
        {
          "output_type": "stream",
          "name": "stdout",
          "text": [
            "0: 96x1152 (no detections), 96.3ms\n",
            "Speed: 1.6ms preprocess, 96.3ms inference, 0.7ms postprocess per image at shape (1, 3, 96, 1152)\n"
          ]
        },
        {
          "output_type": "stream",
          "name": "stderr",
          "text": [
            "0it [00:00, ?it/s]"
          ]
        },
        {
          "output_type": "stream",
          "name": "stdout",
          "text": [
            "\n",
            "WARNING ⚠️ imgsz=[279, 768] must be multiple of max stride 32, updating to [288, 768]\n"
          ]
        },
        {
          "output_type": "stream",
          "name": "stderr",
          "text": [
            "\n"
          ]
        },
        {
          "output_type": "stream",
          "name": "stdout",
          "text": [
            "0: 288x768 1 embedding, 199.2ms\n",
            "Speed: 2.0ms preprocess, 199.2ms inference, 1.5ms postprocess per image at shape (1, 3, 288, 768)\n"
          ]
        },
        {
          "output_type": "stream",
          "name": "stderr",
          "text": [
            "100%|██████████| 1/1 [00:00<00:00,  2.13it/s]"
          ]
        },
        {
          "output_type": "stream",
          "name": "stdout",
          "text": [
            "\n",
            "WARNING ⚠️ imgsz=[145, 1728] must be multiple of max stride 32, updating to [160, 1728]\n"
          ]
        },
        {
          "output_type": "stream",
          "name": "stderr",
          "text": [
            "\n"
          ]
        },
        {
          "output_type": "stream",
          "name": "stdout",
          "text": [
            "0: 160x1728 (no detections), 230.8ms\n",
            "Speed: 2.1ms preprocess, 230.8ms inference, 0.8ms postprocess per image at shape (1, 3, 160, 1728)\n"
          ]
        },
        {
          "output_type": "stream",
          "name": "stderr",
          "text": [
            "0it [00:00, ?it/s]"
          ]
        },
        {
          "output_type": "stream",
          "name": "stdout",
          "text": [
            "\n",
            "WARNING ⚠️ imgsz=[108, 768] must be multiple of max stride 32, updating to [128, 768]\n"
          ]
        },
        {
          "output_type": "stream",
          "name": "stderr",
          "text": [
            "\n"
          ]
        },
        {
          "output_type": "stream",
          "name": "stdout",
          "text": [
            "0: 128x768 (no detections), 78.1ms\n",
            "Speed: 1.4ms preprocess, 78.1ms inference, 0.7ms postprocess per image at shape (1, 3, 128, 768)\n"
          ]
        },
        {
          "output_type": "stream",
          "name": "stderr",
          "text": [
            "0it [00:00, ?it/s]"
          ]
        },
        {
          "output_type": "stream",
          "name": "stdout",
          "text": [
            "\n",
            "WARNING ⚠️ imgsz=[148, 1728] must be multiple of max stride 32, updating to [160, 1728]\n"
          ]
        },
        {
          "output_type": "stream",
          "name": "stderr",
          "text": [
            "\n"
          ]
        },
        {
          "output_type": "stream",
          "name": "stdout",
          "text": [
            "0: 160x1728 (no detections), 212.3ms\n",
            "Speed: 2.0ms preprocess, 212.3ms inference, 0.8ms postprocess per image at shape (1, 3, 160, 1728)\n"
          ]
        },
        {
          "output_type": "stream",
          "name": "stderr",
          "text": [
            "0it [00:00, ?it/s]\n"
          ]
        },
        {
          "output_type": "stream",
          "name": "stdout",
          "text": [
            "\n",
            "0: 224x1728 (no detections), 321.1ms\n",
            "Speed: 2.6ms preprocess, 321.1ms inference, 0.8ms postprocess per image at shape (1, 3, 224, 1728)\n"
          ]
        },
        {
          "output_type": "stream",
          "name": "stderr",
          "text": [
            "0it [00:00, ?it/s]\n"
          ]
        },
        {
          "output_type": "stream",
          "name": "stdout",
          "text": [
            "\n",
            "WARNING ⚠️ imgsz=[1086, 768] must be multiple of max stride 32, updating to [1088, 768]\n",
            "0: 1088x768 (no detections), 663.7ms\n",
            "Speed: 7.8ms preprocess, 663.7ms inference, 0.8ms postprocess per image at shape (1, 3, 1088, 768)\n"
          ]
        },
        {
          "output_type": "stream",
          "name": "stderr",
          "text": [
            "0it [00:00, ?it/s]\n"
          ]
        },
        {
          "output_type": "stream",
          "name": "stdout",
          "text": [
            "\n",
            "WARNING ⚠️ imgsz=[204, 1728] must be multiple of max stride 32, updating to [224, 1728]\n",
            "0: 224x1728 (no detections), 433.2ms\n",
            "Speed: 2.7ms preprocess, 433.2ms inference, 6.9ms postprocess per image at shape (1, 3, 224, 1728)\n"
          ]
        },
        {
          "output_type": "stream",
          "name": "stderr",
          "text": [
            "0it [00:00, ?it/s]\n"
          ]
        },
        {
          "output_type": "stream",
          "name": "stdout",
          "text": [
            "\n",
            "WARNING ⚠️ imgsz=[111, 1152] must be multiple of max stride 32, updating to [128, 1152]\n",
            "0: 128x1152 (no detections), 165.3ms\n",
            "Speed: 2.0ms preprocess, 165.3ms inference, 1.0ms postprocess per image at shape (1, 3, 128, 1152)\n"
          ]
        },
        {
          "output_type": "stream",
          "name": "stderr",
          "text": [
            "0it [00:00, ?it/s]\n"
          ]
        },
        {
          "output_type": "stream",
          "name": "stdout",
          "text": [
            "\n",
            "WARNING ⚠️ imgsz=[201, 1728] must be multiple of max stride 32, updating to [224, 1728]\n",
            "0: 224x1728 (no detections), 429.8ms\n",
            "Speed: 3.9ms preprocess, 429.8ms inference, 1.0ms postprocess per image at shape (1, 3, 224, 1728)\n"
          ]
        },
        {
          "output_type": "stream",
          "name": "stderr",
          "text": [
            "0it [00:00, ?it/s]\n"
          ]
        },
        {
          "output_type": "stream",
          "name": "stdout",
          "text": [
            "\n",
            "WARNING ⚠️ imgsz=[91, 1152] must be multiple of max stride 32, updating to [96, 1152]\n",
            "0: 96x1152 (no detections), 146.6ms\n",
            "Speed: 1.4ms preprocess, 146.6ms inference, 1.0ms postprocess per image at shape (1, 3, 96, 1152)\n"
          ]
        },
        {
          "output_type": "stream",
          "name": "stderr",
          "text": [
            "0it [00:00, ?it/s]\n"
          ]
        },
        {
          "output_type": "stream",
          "name": "stdout",
          "text": [
            "\n",
            "WARNING ⚠️ imgsz=[141, 1728] must be multiple of max stride 32, updating to [160, 1728]\n",
            "0: 160x1728 (no detections), 331.5ms\n",
            "Speed: 2.7ms preprocess, 331.5ms inference, 1.1ms postprocess per image at shape (1, 3, 160, 1728)\n"
          ]
        },
        {
          "output_type": "stream",
          "name": "stderr",
          "text": [
            "0it [00:00, ?it/s]\n"
          ]
        },
        {
          "output_type": "stream",
          "name": "stdout",
          "text": [
            "\n",
            "WARNING ⚠️ imgsz=[98, 1728] must be multiple of max stride 32, updating to [128, 1728]\n",
            "0: 128x1728 (no detections), 165.1ms\n",
            "Speed: 1.7ms preprocess, 165.1ms inference, 0.8ms postprocess per image at shape (1, 3, 128, 1728)\n"
          ]
        },
        {
          "output_type": "stream",
          "name": "stderr",
          "text": [
            "0it [00:00, ?it/s]\n"
          ]
        },
        {
          "output_type": "stream",
          "name": "stdout",
          "text": [
            "\n",
            "WARNING ⚠️ imgsz=[340, 1728] must be multiple of max stride 32, updating to [352, 1728]\n",
            "0: 352x1728 (no detections), 468.0ms\n",
            "Speed: 3.9ms preprocess, 468.0ms inference, 0.8ms postprocess per image at shape (1, 3, 352, 1728)\n"
          ]
        },
        {
          "output_type": "stream",
          "name": "stderr",
          "text": [
            "0it [00:00, ?it/s]\n"
          ]
        },
        {
          "output_type": "stream",
          "name": "stdout",
          "text": [
            "\n",
            "WARNING ⚠️ imgsz=[333, 1728] must be multiple of max stride 32, updating to [352, 1728]\n",
            "0: 352x1728 (no detections), 476.6ms\n",
            "Speed: 4.2ms preprocess, 476.6ms inference, 0.8ms postprocess per image at shape (1, 3, 352, 1728)\n"
          ]
        },
        {
          "output_type": "stream",
          "name": "stderr",
          "text": [
            "0it [00:00, ?it/s]\n"
          ]
        },
        {
          "output_type": "stream",
          "name": "stdout",
          "text": [
            "\n",
            "WARNING ⚠️ imgsz=[319, 1728] must be multiple of max stride 32, updating to [320, 1728]\n",
            "0: 320x1728 (no detections), 420.0ms\n",
            "Speed: 3.7ms preprocess, 420.0ms inference, 0.8ms postprocess per image at shape (1, 3, 320, 1728)\n"
          ]
        },
        {
          "output_type": "stream",
          "name": "stderr",
          "text": [
            "0it [00:00, ?it/s]\n"
          ]
        },
        {
          "output_type": "stream",
          "name": "stdout",
          "text": [
            "\n",
            "WARNING ⚠️ imgsz=[155, 1728] must be multiple of max stride 32, updating to [160, 1728]\n",
            "0: 160x1728 (no detections), 199.1ms\n",
            "Speed: 2.2ms preprocess, 199.1ms inference, 0.7ms postprocess per image at shape (1, 3, 160, 1728)\n"
          ]
        },
        {
          "output_type": "stream",
          "name": "stderr",
          "text": [
            "0it [00:00, ?it/s]\n"
          ]
        },
        {
          "output_type": "stream",
          "name": "stdout",
          "text": [
            "\n",
            "WARNING ⚠️ imgsz=[145, 1728] must be multiple of max stride 32, updating to [160, 1728]\n",
            "0: 160x1728 (no detections), 209.3ms\n",
            "Speed: 2.0ms preprocess, 209.3ms inference, 0.8ms postprocess per image at shape (1, 3, 160, 1728)\n"
          ]
        },
        {
          "output_type": "stream",
          "name": "stderr",
          "text": [
            "0it [00:00, ?it/s]\n"
          ]
        },
        {
          "output_type": "stream",
          "name": "stdout",
          "text": [
            "\n",
            "WARNING ⚠️ imgsz=[146, 1728] must be multiple of max stride 32, updating to [160, 1728]\n",
            "0: 160x1728 (no detections), 212.1ms\n",
            "Speed: 2.9ms preprocess, 212.1ms inference, 0.8ms postprocess per image at shape (1, 3, 160, 1728)\n"
          ]
        },
        {
          "output_type": "stream",
          "name": "stderr",
          "text": [
            "0it [00:00, ?it/s]\n"
          ]
        },
        {
          "output_type": "stream",
          "name": "stdout",
          "text": [
            "\n",
            "WARNING ⚠️ imgsz=[149, 1728] must be multiple of max stride 32, updating to [160, 1728]\n",
            "0: 160x1728 (no detections), 208.7ms\n",
            "Speed: 2.0ms preprocess, 208.7ms inference, 0.8ms postprocess per image at shape (1, 3, 160, 1728)\n"
          ]
        },
        {
          "output_type": "stream",
          "name": "stderr",
          "text": [
            "0it [00:00, ?it/s]\n"
          ]
        },
        {
          "output_type": "stream",
          "name": "stdout",
          "text": [
            "\n",
            "WARNING ⚠️ imgsz=[156, 1728] must be multiple of max stride 32, updating to [160, 1728]\n",
            "0: 160x1728 (no detections), 221.1ms\n",
            "Speed: 3.0ms preprocess, 221.1ms inference, 0.8ms postprocess per image at shape (1, 3, 160, 1728)\n"
          ]
        },
        {
          "output_type": "stream",
          "name": "stderr",
          "text": [
            "0it [00:00, ?it/s]\n"
          ]
        },
        {
          "output_type": "stream",
          "name": "stdout",
          "text": [
            "\n",
            "WARNING ⚠️ imgsz=[1086, 768] must be multiple of max stride 32, updating to [1088, 768]\n",
            "0: 1088x768 1 isolated, 665.6ms\n",
            "Speed: 6.3ms preprocess, 665.6ms inference, 1.6ms postprocess per image at shape (1, 3, 1088, 768)\n"
          ]
        },
        {
          "output_type": "stream",
          "name": "stderr",
          "text": [
            "100%|██████████| 1/1 [00:05<00:00,  5.89s/it]\n"
          ]
        },
        {
          "output_type": "stream",
          "name": "stdout",
          "text": [
            "\n",
            "WARNING ⚠️ imgsz=[403, 768] must be multiple of max stride 32, updating to [416, 768]\n",
            "0: 416x768 1 isolated, 253.5ms\n",
            "Speed: 2.4ms preprocess, 253.5ms inference, 5.7ms postprocess per image at shape (1, 3, 416, 768)\n"
          ]
        },
        {
          "output_type": "stream",
          "name": "stderr",
          "text": [
            "100%|██████████| 1/1 [00:00<00:00,  1.08it/s]"
          ]
        },
        {
          "output_type": "stream",
          "name": "stdout",
          "text": [
            "\n",
            "WARNING ⚠️ imgsz=[88, 1152] must be multiple of max stride 32, updating to [96, 1152]\n"
          ]
        },
        {
          "output_type": "stream",
          "name": "stderr",
          "text": [
            "\n"
          ]
        },
        {
          "output_type": "stream",
          "name": "stdout",
          "text": [
            "0: 96x1152 (no detections), 101.5ms\n",
            "Speed: 1.7ms preprocess, 101.5ms inference, 0.7ms postprocess per image at shape (1, 3, 96, 1152)\n"
          ]
        },
        {
          "output_type": "stream",
          "name": "stderr",
          "text": [
            "0it [00:00, ?it/s]\n"
          ]
        },
        {
          "output_type": "stream",
          "name": "stdout",
          "text": [
            "\n",
            "WARNING ⚠️ imgsz=[269, 1728] must be multiple of max stride 32, updating to [288, 1728]\n",
            "0: 288x1728 (no detections), 386.5ms\n",
            "Speed: 3.2ms preprocess, 386.5ms inference, 0.7ms postprocess per image at shape (1, 3, 288, 1728)\n"
          ]
        },
        {
          "output_type": "stream",
          "name": "stderr",
          "text": [
            "0it [00:00, ?it/s]\n"
          ]
        },
        {
          "output_type": "stream",
          "name": "stdout",
          "text": [
            "\n",
            "WARNING ⚠️ imgsz=[270, 1728] must be multiple of max stride 32, updating to [288, 1728]\n",
            "0: 288x1728 (no detections), 384.8ms\n",
            "Speed: 3.4ms preprocess, 384.8ms inference, 0.7ms postprocess per image at shape (1, 3, 288, 1728)\n"
          ]
        },
        {
          "output_type": "stream",
          "name": "stderr",
          "text": [
            "0it [00:00, ?it/s]\n"
          ]
        },
        {
          "output_type": "stream",
          "name": "stdout",
          "text": [
            "\n",
            "WARNING ⚠️ imgsz=[130, 1728] must be multiple of max stride 32, updating to [160, 1728]\n",
            "0: 160x1728 2 embeddings, 208.7ms\n",
            "Speed: 2.2ms preprocess, 208.7ms inference, 1.5ms postprocess per image at shape (1, 3, 160, 1728)\n"
          ]
        },
        {
          "output_type": "stream",
          "name": "stderr",
          "text": [
            "100%|██████████| 2/2 [00:00<00:00,  2.42it/s]\n"
          ]
        },
        {
          "output_type": "stream",
          "name": "stdout",
          "text": [
            "\n",
            "WARNING ⚠️ imgsz=[110, 1152] must be multiple of max stride 32, updating to [128, 1152]\n",
            "0: 128x1152 1 embedding, 108.8ms\n",
            "Speed: 1.4ms preprocess, 108.8ms inference, 1.4ms postprocess per image at shape (1, 3, 128, 1152)\n"
          ]
        },
        {
          "output_type": "stream",
          "name": "stderr",
          "text": [
            "100%|██████████| 1/1 [00:00<00:00,  2.06it/s]"
          ]
        },
        {
          "output_type": "stream",
          "name": "stdout",
          "text": [
            "\n",
            "WARNING ⚠️ imgsz=[116, 1728] must be multiple of max stride 32, updating to [128, 1728]\n"
          ]
        },
        {
          "output_type": "stream",
          "name": "stderr",
          "text": [
            "\n"
          ]
        },
        {
          "output_type": "stream",
          "name": "stdout",
          "text": [
            "0: 128x1728 (no detections), 166.0ms\n",
            "Speed: 2.2ms preprocess, 166.0ms inference, 0.8ms postprocess per image at shape (1, 3, 128, 1728)\n"
          ]
        },
        {
          "output_type": "stream",
          "name": "stderr",
          "text": [
            "0it [00:00, ?it/s]"
          ]
        },
        {
          "output_type": "stream",
          "name": "stdout",
          "text": [
            "\n",
            "WARNING ⚠️ imgsz=[82, 768] must be multiple of max stride 32, updating to [96, 768]\n"
          ]
        },
        {
          "output_type": "stream",
          "name": "stderr",
          "text": [
            "\n"
          ]
        },
        {
          "output_type": "stream",
          "name": "stdout",
          "text": [
            "0: 96x768 (no detections), 59.1ms\n",
            "Speed: 1.1ms preprocess, 59.1ms inference, 0.7ms postprocess per image at shape (1, 3, 96, 768)\n"
          ]
        },
        {
          "output_type": "stream",
          "name": "stderr",
          "text": [
            "0it [00:00, ?it/s]"
          ]
        },
        {
          "output_type": "stream",
          "name": "stdout",
          "text": [
            "\n",
            "WARNING ⚠️ imgsz=[147, 1728] must be multiple of max stride 32, updating to [160, 1728]\n"
          ]
        },
        {
          "output_type": "stream",
          "name": "stderr",
          "text": [
            "\n"
          ]
        },
        {
          "output_type": "stream",
          "name": "stdout",
          "text": [
            "0: 160x1728 (no detections), 217.3ms\n",
            "Speed: 2.0ms preprocess, 217.3ms inference, 0.7ms postprocess per image at shape (1, 3, 160, 1728)\n"
          ]
        },
        {
          "output_type": "stream",
          "name": "stderr",
          "text": [
            "0it [00:00, ?it/s]\n"
          ]
        },
        {
          "output_type": "stream",
          "name": "stdout",
          "text": [
            "\n",
            "WARNING ⚠️ imgsz=[371, 1728] must be multiple of max stride 32, updating to [384, 1728]\n",
            "0: 384x1728 (no detections), 735.8ms\n",
            "Speed: 4.7ms preprocess, 735.8ms inference, 0.9ms postprocess per image at shape (1, 3, 384, 1728)\n"
          ]
        },
        {
          "output_type": "stream",
          "name": "stderr",
          "text": [
            "0it [00:00, ?it/s]\n"
          ]
        },
        {
          "output_type": "stream",
          "name": "stdout",
          "text": [
            "\n",
            "WARNING ⚠️ imgsz=[146, 1728] must be multiple of max stride 32, updating to [160, 1728]\n",
            "0: 160x1728 1 embedding, 328.6ms\n",
            "Speed: 2.9ms preprocess, 328.6ms inference, 2.1ms postprocess per image at shape (1, 3, 160, 1728)\n"
          ]
        },
        {
          "output_type": "stream",
          "name": "stderr",
          "text": [
            "100%|██████████| 1/1 [00:00<00:00,  1.35it/s]\n"
          ]
        },
        {
          "output_type": "stream",
          "name": "stdout",
          "text": [
            "\n",
            "WARNING ⚠️ imgsz=[213, 1728] must be multiple of max stride 32, updating to [224, 1728]\n",
            "0: 224x1728 (no detections), 447.8ms\n",
            "Speed: 3.8ms preprocess, 447.8ms inference, 0.8ms postprocess per image at shape (1, 3, 224, 1728)\n"
          ]
        },
        {
          "output_type": "stream",
          "name": "stderr",
          "text": [
            "0it [00:00, ?it/s]\n"
          ]
        },
        {
          "output_type": "stream",
          "name": "stdout",
          "text": [
            "\n",
            "WARNING ⚠️ imgsz=[207, 1728] must be multiple of max stride 32, updating to [224, 1728]\n",
            "0: 224x1728 (no detections), 295.5ms\n",
            "Speed: 4.1ms preprocess, 295.5ms inference, 0.7ms postprocess per image at shape (1, 3, 224, 1728)\n"
          ]
        },
        {
          "output_type": "stream",
          "name": "stderr",
          "text": [
            "0it [00:00, ?it/s]\n"
          ]
        },
        {
          "output_type": "stream",
          "name": "stdout",
          "text": [
            "\n",
            "WARNING ⚠️ imgsz=[162, 1728] must be multiple of max stride 32, updating to [192, 1728]\n",
            "0: 192x1728 (no detections), 250.0ms\n",
            "Speed: 2.9ms preprocess, 250.0ms inference, 0.8ms postprocess per image at shape (1, 3, 192, 1728)\n"
          ]
        },
        {
          "output_type": "stream",
          "name": "stderr",
          "text": [
            "0it [00:00, ?it/s]\n"
          ]
        },
        {
          "output_type": "stream",
          "name": "stdout",
          "text": [
            "\n",
            "WARNING ⚠️ imgsz=[1086, 768] must be multiple of max stride 32, updating to [1088, 768]\n",
            "0: 1088x768 (no detections), 645.8ms\n",
            "Speed: 6.2ms preprocess, 645.8ms inference, 1.1ms postprocess per image at shape (1, 3, 1088, 768)\n"
          ]
        },
        {
          "output_type": "stream",
          "name": "stderr",
          "text": [
            "0it [00:00, ?it/s]\n"
          ]
        },
        {
          "output_type": "stream",
          "name": "stdout",
          "text": [
            "\n",
            "WARNING ⚠️ imgsz=[147, 1728] must be multiple of max stride 32, updating to [160, 1728]\n",
            "0: 160x1728 1 embedding, 211.3ms\n",
            "Speed: 2.0ms preprocess, 211.3ms inference, 3.4ms postprocess per image at shape (1, 3, 160, 1728)\n"
          ]
        },
        {
          "output_type": "stream",
          "name": "stderr",
          "text": [
            "100%|██████████| 1/1 [00:00<00:00,  2.66it/s]\n"
          ]
        },
        {
          "output_type": "stream",
          "name": "stdout",
          "text": [
            "\n",
            "WARNING ⚠️ imgsz=[153, 1728] must be multiple of max stride 32, updating to [160, 1728]\n",
            "0: 160x1728 (no detections), 205.5ms\n",
            "Speed: 2.1ms preprocess, 205.5ms inference, 0.8ms postprocess per image at shape (1, 3, 160, 1728)\n"
          ]
        },
        {
          "output_type": "stream",
          "name": "stderr",
          "text": [
            "0it [00:00, ?it/s]\n"
          ]
        },
        {
          "output_type": "stream",
          "name": "stdout",
          "text": [
            "\n",
            "WARNING ⚠️ imgsz=[104, 1152] must be multiple of max stride 32, updating to [128, 1152]\n",
            "0: 128x1152 (no detections), 106.4ms\n",
            "Speed: 1.1ms preprocess, 106.4ms inference, 0.7ms postprocess per image at shape (1, 3, 128, 1152)\n"
          ]
        },
        {
          "output_type": "stream",
          "name": "stderr",
          "text": [
            "0it [00:00, ?it/s]"
          ]
        },
        {
          "output_type": "stream",
          "name": "stdout",
          "text": [
            "\n",
            "WARNING ⚠️ imgsz=[119, 1728] must be multiple of max stride 32, updating to [128, 1728]\n"
          ]
        },
        {
          "output_type": "stream",
          "name": "stderr",
          "text": [
            "\n"
          ]
        },
        {
          "output_type": "stream",
          "name": "stdout",
          "text": [
            "0: 128x1728 (no detections), 156.7ms\n",
            "Speed: 1.6ms preprocess, 156.7ms inference, 0.7ms postprocess per image at shape (1, 3, 128, 1728)\n"
          ]
        },
        {
          "output_type": "stream",
          "name": "stderr",
          "text": [
            "0it [00:00, ?it/s]"
          ]
        },
        {
          "output_type": "stream",
          "name": "stdout",
          "text": [
            "\n",
            "WARNING ⚠️ imgsz=[98, 1152] must be multiple of max stride 32, updating to [128, 1152]\n"
          ]
        },
        {
          "output_type": "stream",
          "name": "stderr",
          "text": [
            "\n"
          ]
        },
        {
          "output_type": "stream",
          "name": "stdout",
          "text": [
            "0: 128x1152 (no detections), 119.9ms\n",
            "Speed: 1.6ms preprocess, 119.9ms inference, 0.8ms postprocess per image at shape (1, 3, 128, 1152)\n"
          ]
        },
        {
          "output_type": "stream",
          "name": "stderr",
          "text": [
            "0it [00:00, ?it/s]"
          ]
        },
        {
          "output_type": "stream",
          "name": "stdout",
          "text": [
            "\n",
            "WARNING ⚠️ imgsz=[158, 1728] must be multiple of max stride 32, updating to [160, 1728]\n"
          ]
        },
        {
          "output_type": "stream",
          "name": "stderr",
          "text": [
            "\n"
          ]
        },
        {
          "output_type": "stream",
          "name": "stdout",
          "text": [
            "0: 160x1728 1 embedding, 209.2ms\n",
            "Speed: 2.1ms preprocess, 209.2ms inference, 1.5ms postprocess per image at shape (1, 3, 160, 1728)\n"
          ]
        },
        {
          "output_type": "stream",
          "name": "stderr",
          "text": [
            "100%|██████████| 1/1 [00:00<00:00,  1.99it/s]\n"
          ]
        },
        {
          "output_type": "stream",
          "name": "stdout",
          "text": [
            "\n",
            "WARNING ⚠️ imgsz=[154, 1728] must be multiple of max stride 32, updating to [160, 1728]\n",
            "0: 160x1728 (no detections), 203.6ms\n",
            "Speed: 2.9ms preprocess, 203.6ms inference, 0.8ms postprocess per image at shape (1, 3, 160, 1728)\n"
          ]
        },
        {
          "output_type": "stream",
          "name": "stderr",
          "text": [
            "0it [00:00, ?it/s]\n"
          ]
        },
        {
          "output_type": "stream",
          "name": "stdout",
          "text": [
            "\n",
            "WARNING ⚠️ imgsz=[150, 1728] must be multiple of max stride 32, updating to [160, 1728]\n",
            "0: 160x1728 (no detections), 211.4ms\n",
            "Speed: 2.0ms preprocess, 211.4ms inference, 0.8ms postprocess per image at shape (1, 3, 160, 1728)\n"
          ]
        },
        {
          "output_type": "stream",
          "name": "stderr",
          "text": [
            "0it [00:00, ?it/s]\n"
          ]
        },
        {
          "output_type": "stream",
          "name": "stdout",
          "text": [
            "\n",
            "WARNING ⚠️ imgsz=[184, 1728] must be multiple of max stride 32, updating to [192, 1728]\n",
            "0: 192x1728 (no detections), 297.4ms\n",
            "Speed: 3.4ms preprocess, 297.4ms inference, 1.0ms postprocess per image at shape (1, 3, 192, 1728)\n"
          ]
        },
        {
          "output_type": "stream",
          "name": "stderr",
          "text": [
            "0it [00:00, ?it/s]\n"
          ]
        },
        {
          "output_type": "stream",
          "name": "stdout",
          "text": [
            "\n",
            "WARNING ⚠️ imgsz=[213, 1728] must be multiple of max stride 32, updating to [224, 1728]\n",
            "0: 224x1728 (no detections), 409.8ms\n",
            "Speed: 3.8ms preprocess, 409.8ms inference, 0.9ms postprocess per image at shape (1, 3, 224, 1728)\n"
          ]
        },
        {
          "output_type": "stream",
          "name": "stderr",
          "text": [
            "0it [00:00, ?it/s]\n"
          ]
        },
        {
          "output_type": "stream",
          "name": "stdout",
          "text": [
            "\n",
            "WARNING ⚠️ imgsz=[97, 1152] must be multiple of max stride 32, updating to [128, 1152]\n",
            "0: 128x1152 (no detections), 168.6ms\n",
            "Speed: 1.5ms preprocess, 168.6ms inference, 0.9ms postprocess per image at shape (1, 3, 128, 1152)\n"
          ]
        },
        {
          "output_type": "stream",
          "name": "stderr",
          "text": [
            "0it [00:00, ?it/s]"
          ]
        },
        {
          "output_type": "stream",
          "name": "stdout",
          "text": [
            "\n",
            "WARNING ⚠️ imgsz=[111, 1152] must be multiple of max stride 32, updating to [128, 1152]\n"
          ]
        },
        {
          "output_type": "stream",
          "name": "stderr",
          "text": [
            "\n"
          ]
        },
        {
          "output_type": "stream",
          "name": "stdout",
          "text": [
            "0: 128x1152 (no detections), 195.2ms\n",
            "Speed: 1.7ms preprocess, 195.2ms inference, 1.0ms postprocess per image at shape (1, 3, 128, 1152)\n"
          ]
        },
        {
          "output_type": "stream",
          "name": "stderr",
          "text": [
            "0it [00:00, ?it/s]"
          ]
        },
        {
          "output_type": "stream",
          "name": "stdout",
          "text": [
            "\n",
            "WARNING ⚠️ imgsz=[92, 768] must be multiple of max stride 32, updating to [96, 768]\n"
          ]
        },
        {
          "output_type": "stream",
          "name": "stderr",
          "text": [
            "\n"
          ]
        },
        {
          "output_type": "stream",
          "name": "stdout",
          "text": [
            "0: 96x768 (no detections), 95.2ms\n",
            "Speed: 1.3ms preprocess, 95.2ms inference, 1.8ms postprocess per image at shape (1, 3, 96, 768)\n"
          ]
        },
        {
          "output_type": "stream",
          "name": "stderr",
          "text": [
            "0it [00:00, ?it/s]\n"
          ]
        },
        {
          "output_type": "stream",
          "name": "stdout",
          "text": [
            "\n",
            "WARNING ⚠️ imgsz=[154, 1728] must be multiple of max stride 32, updating to [160, 1728]\n",
            "0: 160x1728 (no detections), 312.9ms\n",
            "Speed: 3.0ms preprocess, 312.9ms inference, 0.8ms postprocess per image at shape (1, 3, 160, 1728)\n"
          ]
        },
        {
          "output_type": "stream",
          "name": "stderr",
          "text": [
            "0it [00:00, ?it/s]"
          ]
        },
        {
          "output_type": "stream",
          "name": "stdout",
          "text": [
            "\n",
            "WARNING ⚠️ imgsz=[130, 768] must be multiple of max stride 32, updating to [160, 768]\n"
          ]
        },
        {
          "output_type": "stream",
          "name": "stderr",
          "text": [
            "\n"
          ]
        },
        {
          "output_type": "stream",
          "name": "stdout",
          "text": [
            "0: 160x768 (no detections), 112.9ms\n",
            "Speed: 1.3ms preprocess, 112.9ms inference, 0.7ms postprocess per image at shape (1, 3, 160, 768)\n"
          ]
        },
        {
          "output_type": "stream",
          "name": "stderr",
          "text": [
            "0it [00:00, ?it/s]"
          ]
        },
        {
          "output_type": "stream",
          "name": "stdout",
          "text": [
            "\n",
            "WARNING ⚠️ imgsz=[154, 1728] must be multiple of max stride 32, updating to [160, 1728]\n"
          ]
        },
        {
          "output_type": "stream",
          "name": "stderr",
          "text": [
            "\n"
          ]
        },
        {
          "output_type": "stream",
          "name": "stdout",
          "text": [
            "0: 160x1728 (no detections), 216.4ms\n",
            "Speed: 3.3ms preprocess, 216.4ms inference, 0.8ms postprocess per image at shape (1, 3, 160, 1728)\n"
          ]
        },
        {
          "output_type": "stream",
          "name": "stderr",
          "text": [
            "0it [00:00, ?it/s]\n"
          ]
        },
        {
          "output_type": "stream",
          "name": "stdout",
          "text": [
            "\n",
            "WARNING ⚠️ imgsz=[104, 1152] must be multiple of max stride 32, updating to [128, 1152]\n",
            "0: 128x1152 (no detections), 112.4ms\n",
            "Speed: 1.5ms preprocess, 112.4ms inference, 0.7ms postprocess per image at shape (1, 3, 128, 1152)\n"
          ]
        },
        {
          "output_type": "stream",
          "name": "stderr",
          "text": [
            "0it [00:00, ?it/s]\n"
          ]
        },
        {
          "output_type": "stream",
          "name": "stdout",
          "text": [
            "\n",
            "WARNING ⚠️ imgsz=[159, 1728] must be multiple of max stride 32, updating to [160, 1728]\n",
            "0: 160x1728 (no detections), 209.7ms\n",
            "Speed: 2.9ms preprocess, 209.7ms inference, 0.8ms postprocess per image at shape (1, 3, 160, 1728)\n"
          ]
        },
        {
          "output_type": "stream",
          "name": "stderr",
          "text": [
            "0it [00:00, ?it/s]\n"
          ]
        },
        {
          "output_type": "stream",
          "name": "stdout",
          "text": [
            "\n",
            "WARNING ⚠️ imgsz=[145, 1728] must be multiple of max stride 32, updating to [160, 1728]\n",
            "0: 160x1728 (no detections), 203.2ms\n",
            "Speed: 2.0ms preprocess, 203.2ms inference, 0.7ms postprocess per image at shape (1, 3, 160, 1728)\n"
          ]
        },
        {
          "output_type": "stream",
          "name": "stderr",
          "text": [
            "0it [00:00, ?it/s]\n"
          ]
        },
        {
          "output_type": "stream",
          "name": "stdout",
          "text": [
            "\n",
            "WARNING ⚠️ imgsz=[226, 1728] must be multiple of max stride 32, updating to [256, 1728]\n",
            "0: 256x1728 (no detections), 338.3ms\n",
            "Speed: 3.0ms preprocess, 338.3ms inference, 0.8ms postprocess per image at shape (1, 3, 256, 1728)\n"
          ]
        },
        {
          "output_type": "stream",
          "name": "stderr",
          "text": [
            "0it [00:00, ?it/s]\n"
          ]
        },
        {
          "output_type": "stream",
          "name": "stdout",
          "text": [
            "\n",
            "WARNING ⚠️ imgsz=[1086, 768] must be multiple of max stride 32, updating to [1088, 768]\n",
            "0: 1088x768 (no detections), 666.2ms\n",
            "Speed: 6.2ms preprocess, 666.2ms inference, 0.8ms postprocess per image at shape (1, 3, 1088, 768)\n"
          ]
        },
        {
          "output_type": "stream",
          "name": "stderr",
          "text": [
            "0it [00:00, ?it/s]\n"
          ]
        },
        {
          "output_type": "stream",
          "name": "stdout",
          "text": [
            "\n",
            "WARNING ⚠️ imgsz=[219, 768] must be multiple of max stride 32, updating to [224, 768]\n",
            "0: 224x768 (no detections), 128.5ms\n",
            "Speed: 1.8ms preprocess, 128.5ms inference, 5.1ms postprocess per image at shape (1, 3, 224, 768)\n"
          ]
        },
        {
          "output_type": "stream",
          "name": "stderr",
          "text": [
            "0it [00:00, ?it/s]"
          ]
        },
        {
          "output_type": "stream",
          "name": "stdout",
          "text": [
            "\n",
            "WARNING ⚠️ imgsz=[152, 1728] must be multiple of max stride 32, updating to [160, 1728]\n"
          ]
        },
        {
          "output_type": "stream",
          "name": "stderr",
          "text": [
            "\n"
          ]
        },
        {
          "output_type": "stream",
          "name": "stdout",
          "text": [
            "0: 160x1728 (no detections), 209.5ms\n",
            "Speed: 2.4ms preprocess, 209.5ms inference, 0.7ms postprocess per image at shape (1, 3, 160, 1728)\n"
          ]
        },
        {
          "output_type": "stream",
          "name": "stderr",
          "text": [
            "0it [00:00, ?it/s]\n"
          ]
        },
        {
          "output_type": "stream",
          "name": "stdout",
          "text": [
            "\n",
            "WARNING ⚠️ imgsz=[158, 1728] must be multiple of max stride 32, updating to [160, 1728]\n",
            "0: 160x1728 (no detections), 218.2ms\n",
            "Speed: 2.0ms preprocess, 218.2ms inference, 0.7ms postprocess per image at shape (1, 3, 160, 1728)\n"
          ]
        },
        {
          "output_type": "stream",
          "name": "stderr",
          "text": [
            "0it [00:00, ?it/s]\n"
          ]
        },
        {
          "output_type": "stream",
          "name": "stdout",
          "text": [
            "\n",
            "WARNING ⚠️ imgsz=[199, 1728] must be multiple of max stride 32, updating to [224, 1728]\n",
            "0: 224x1728 2 embeddings, 295.3ms\n",
            "Speed: 2.7ms preprocess, 295.3ms inference, 1.6ms postprocess per image at shape (1, 3, 224, 1728)\n"
          ]
        },
        {
          "output_type": "stream",
          "name": "stderr",
          "text": [
            "100%|██████████| 1/1 [00:00<00:00,  1.95it/s]\n"
          ]
        },
        {
          "output_type": "stream",
          "name": "stdout",
          "text": [
            "\n",
            "WARNING ⚠️ imgsz=[196, 768] must be multiple of max stride 32, updating to [224, 768]\n",
            "0: 224x768 1 embedding, 134.3ms\n",
            "Speed: 1.6ms preprocess, 134.3ms inference, 1.8ms postprocess per image at shape (1, 3, 224, 768)\n"
          ]
        },
        {
          "output_type": "stream",
          "name": "stderr",
          "text": [
            "100%|██████████| 1/1 [00:00<00:00,  1.94it/s]"
          ]
        },
        {
          "output_type": "stream",
          "name": "stdout",
          "text": [
            "\n",
            "WARNING ⚠️ imgsz=[88, 1152] must be multiple of max stride 32, updating to [96, 1152]\n"
          ]
        },
        {
          "output_type": "stream",
          "name": "stderr",
          "text": [
            "\n"
          ]
        },
        {
          "output_type": "stream",
          "name": "stdout",
          "text": [
            "0: 96x1152 (no detections), 142.2ms\n",
            "Speed: 1.4ms preprocess, 142.2ms inference, 0.9ms postprocess per image at shape (1, 3, 96, 1152)\n"
          ]
        },
        {
          "output_type": "stream",
          "name": "stderr",
          "text": [
            "0it [00:00, ?it/s]"
          ]
        },
        {
          "output_type": "stream",
          "name": "stdout",
          "text": [
            "\n"
          ]
        },
        {
          "output_type": "stream",
          "name": "stderr",
          "text": [
            "\n"
          ]
        },
        {
          "output_type": "stream",
          "name": "stdout",
          "text": [
            "0: 96x1152 (no detections), 126.1ms\n",
            "Speed: 1.4ms preprocess, 126.1ms inference, 0.8ms postprocess per image at shape (1, 3, 96, 1152)\n"
          ]
        },
        {
          "output_type": "stream",
          "name": "stderr",
          "text": [
            "0it [00:00, ?it/s]"
          ]
        },
        {
          "output_type": "stream",
          "name": "stdout",
          "text": [
            "\n",
            "WARNING ⚠️ imgsz=[95, 1152] must be multiple of max stride 32, updating to [96, 1152]\n"
          ]
        },
        {
          "output_type": "stream",
          "name": "stderr",
          "text": [
            "\n"
          ]
        },
        {
          "output_type": "stream",
          "name": "stdout",
          "text": [
            "0: 96x1152 (no detections), 124.8ms\n",
            "Speed: 1.3ms preprocess, 124.8ms inference, 0.9ms postprocess per image at shape (1, 3, 96, 1152)\n"
          ]
        },
        {
          "output_type": "stream",
          "name": "stderr",
          "text": [
            "0it [00:00, ?it/s]"
          ]
        },
        {
          "output_type": "stream",
          "name": "stdout",
          "text": [
            "\n",
            "WARNING ⚠️ imgsz=[86, 768] must be multiple of max stride 32, updating to [96, 768]\n"
          ]
        },
        {
          "output_type": "stream",
          "name": "stderr",
          "text": [
            "\n"
          ]
        },
        {
          "output_type": "stream",
          "name": "stdout",
          "text": [
            "0: 96x768 (no detections), 104.3ms\n",
            "Speed: 1.1ms preprocess, 104.3ms inference, 1.1ms postprocess per image at shape (1, 3, 96, 768)\n"
          ]
        },
        {
          "output_type": "stream",
          "name": "stderr",
          "text": [
            "0it [00:00, ?it/s]"
          ]
        },
        {
          "output_type": "stream",
          "name": "stdout",
          "text": [
            "\n",
            "WARNING ⚠️ imgsz=[103, 768] must be multiple of max stride 32, updating to [128, 768]\n"
          ]
        },
        {
          "output_type": "stream",
          "name": "stderr",
          "text": [
            "\n"
          ]
        },
        {
          "output_type": "stream",
          "name": "stdout",
          "text": [
            "0: 128x768 (no detections), 121.9ms\n",
            "Speed: 1.3ms preprocess, 121.9ms inference, 1.1ms postprocess per image at shape (1, 3, 128, 768)\n"
          ]
        },
        {
          "output_type": "stream",
          "name": "stderr",
          "text": [
            "0it [00:00, ?it/s]"
          ]
        },
        {
          "output_type": "stream",
          "name": "stdout",
          "text": [
            "\n",
            "WARNING ⚠️ imgsz=[124, 768] must be multiple of max stride 32, updating to [128, 768]\n"
          ]
        },
        {
          "output_type": "stream",
          "name": "stderr",
          "text": [
            "\n"
          ]
        },
        {
          "output_type": "stream",
          "name": "stdout",
          "text": [
            "0: 128x768 (no detections), 131.8ms\n",
            "Speed: 1.2ms preprocess, 131.8ms inference, 0.9ms postprocess per image at shape (1, 3, 128, 768)\n"
          ]
        },
        {
          "output_type": "stream",
          "name": "stderr",
          "text": [
            "0it [00:00, ?it/s]"
          ]
        },
        {
          "output_type": "stream",
          "name": "stdout",
          "text": [
            "\n",
            "WARNING ⚠️ imgsz=[87, 768] must be multiple of max stride 32, updating to [96, 768]\n"
          ]
        },
        {
          "output_type": "stream",
          "name": "stderr",
          "text": [
            "\n"
          ]
        },
        {
          "output_type": "stream",
          "name": "stdout",
          "text": [
            "0: 96x768 (no detections), 94.7ms\n",
            "Speed: 1.1ms preprocess, 94.7ms inference, 0.9ms postprocess per image at shape (1, 3, 96, 768)\n"
          ]
        },
        {
          "output_type": "stream",
          "name": "stderr",
          "text": [
            "0it [00:00, ?it/s]"
          ]
        },
        {
          "output_type": "stream",
          "name": "stdout",
          "text": [
            "\n",
            "WARNING ⚠️ imgsz=[120, 768] must be multiple of max stride 32, updating to [128, 768]\n"
          ]
        },
        {
          "output_type": "stream",
          "name": "stderr",
          "text": [
            "\n"
          ]
        },
        {
          "output_type": "stream",
          "name": "stdout",
          "text": [
            "0: 128x768 (no detections), 131.7ms\n",
            "Speed: 1.3ms preprocess, 131.7ms inference, 0.9ms postprocess per image at shape (1, 3, 128, 768)\n"
          ]
        },
        {
          "output_type": "stream",
          "name": "stderr",
          "text": [
            "0it [00:00, ?it/s]"
          ]
        },
        {
          "output_type": "stream",
          "name": "stdout",
          "text": [
            "\n",
            "WARNING ⚠️ imgsz=[103, 768] must be multiple of max stride 32, updating to [128, 768]\n"
          ]
        },
        {
          "output_type": "stream",
          "name": "stderr",
          "text": [
            "\n"
          ]
        },
        {
          "output_type": "stream",
          "name": "stdout",
          "text": [
            "0: 128x768 (no detections), 126.7ms\n",
            "Speed: 1.2ms preprocess, 126.7ms inference, 0.9ms postprocess per image at shape (1, 3, 128, 768)\n"
          ]
        },
        {
          "output_type": "stream",
          "name": "stderr",
          "text": [
            "0it [00:00, ?it/s]"
          ]
        },
        {
          "output_type": "stream",
          "name": "stdout",
          "text": [
            "\n",
            "WARNING ⚠️ imgsz=[112, 768] must be multiple of max stride 32, updating to [128, 768]\n"
          ]
        },
        {
          "output_type": "stream",
          "name": "stderr",
          "text": [
            "\n"
          ]
        },
        {
          "output_type": "stream",
          "name": "stdout",
          "text": [
            "0: 128x768 (no detections), 140.0ms\n",
            "Speed: 1.2ms preprocess, 140.0ms inference, 1.0ms postprocess per image at shape (1, 3, 128, 768)\n"
          ]
        },
        {
          "output_type": "stream",
          "name": "stderr",
          "text": [
            "0it [00:00, ?it/s]\n"
          ]
        },
        {
          "output_type": "stream",
          "name": "stdout",
          "text": [
            "\n",
            "WARNING ⚠️ imgsz=[154, 1728] must be multiple of max stride 32, updating to [160, 1728]\n",
            "0: 160x1728 (no detections), 211.6ms\n",
            "Speed: 2.3ms preprocess, 211.6ms inference, 0.7ms postprocess per image at shape (1, 3, 160, 1728)\n"
          ]
        },
        {
          "output_type": "stream",
          "name": "stderr",
          "text": [
            "0it [00:00, ?it/s]\n"
          ]
        },
        {
          "output_type": "stream",
          "name": "stdout",
          "text": [
            "\n",
            "WARNING ⚠️ imgsz=[339, 1728] must be multiple of max stride 32, updating to [352, 1728]\n",
            "0: 352x1728 (no detections), 455.6ms\n",
            "Speed: 4.5ms preprocess, 455.6ms inference, 0.7ms postprocess per image at shape (1, 3, 352, 1728)\n"
          ]
        },
        {
          "output_type": "stream",
          "name": "stderr",
          "text": [
            "0it [00:00, ?it/s]\n"
          ]
        },
        {
          "output_type": "stream",
          "name": "stdout",
          "text": [
            "\n",
            "WARNING ⚠️ imgsz=[140, 1728] must be multiple of max stride 32, updating to [160, 1728]\n",
            "0: 160x1728 (no detections), 206.5ms\n",
            "Speed: 2.2ms preprocess, 206.5ms inference, 0.9ms postprocess per image at shape (1, 3, 160, 1728)\n"
          ]
        },
        {
          "output_type": "stream",
          "name": "stderr",
          "text": [
            "0it [00:00, ?it/s]\n"
          ]
        },
        {
          "output_type": "stream",
          "name": "stdout",
          "text": [
            "\n",
            "WARNING ⚠️ imgsz=[143, 1728] must be multiple of max stride 32, updating to [160, 1728]\n",
            "0: 160x1728 (no detections), 212.9ms\n",
            "Speed: 2.0ms preprocess, 212.9ms inference, 0.7ms postprocess per image at shape (1, 3, 160, 1728)\n"
          ]
        },
        {
          "output_type": "stream",
          "name": "stderr",
          "text": [
            "0it [00:00, ?it/s]\n"
          ]
        },
        {
          "output_type": "stream",
          "name": "stdout",
          "text": [
            "\n",
            "WARNING ⚠️ imgsz=[155, 1728] must be multiple of max stride 32, updating to [160, 1728]\n",
            "0: 160x1728 (no detections), 199.8ms\n",
            "Speed: 2.1ms preprocess, 199.8ms inference, 0.8ms postprocess per image at shape (1, 3, 160, 1728)\n"
          ]
        },
        {
          "output_type": "stream",
          "name": "stderr",
          "text": [
            "0it [00:00, ?it/s]\n"
          ]
        },
        {
          "output_type": "stream",
          "name": "stdout",
          "text": [
            "\n",
            "WARNING ⚠️ imgsz=[81, 768] must be multiple of max stride 32, updating to [96, 768]\n",
            "0: 96x768 (no detections), 63.3ms\n",
            "Speed: 1.0ms preprocess, 63.3ms inference, 0.7ms postprocess per image at shape (1, 3, 96, 768)\n"
          ]
        },
        {
          "output_type": "stream",
          "name": "stderr",
          "text": [
            "0it [00:00, ?it/s]"
          ]
        },
        {
          "output_type": "stream",
          "name": "stdout",
          "text": [
            "\n",
            "WARNING ⚠️ imgsz=[103, 768] must be multiple of max stride 32, updating to [128, 768]\n",
            "0: 128x768 (no detections), 87.2ms\n",
            "Speed: 1.1ms preprocess, 87.2ms inference, 1.0ms postprocess per image at shape (1, 3, 128, 768)\n"
          ]
        },
        {
          "output_type": "stream",
          "name": "stderr",
          "text": [
            "\n",
            "0it [00:00, ?it/s]\n"
          ]
        },
        {
          "output_type": "stream",
          "name": "stdout",
          "text": [
            "\n",
            "WARNING ⚠️ imgsz=[125, 768] must be multiple of max stride 32, updating to [128, 768]\n",
            "0: 128x768 (no detections), 81.3ms\n",
            "Speed: 1.3ms preprocess, 81.3ms inference, 0.7ms postprocess per image at shape (1, 3, 128, 768)\n"
          ]
        },
        {
          "output_type": "stream",
          "name": "stderr",
          "text": [
            "0it [00:00, ?it/s]\n"
          ]
        },
        {
          "output_type": "stream",
          "name": "stdout",
          "text": [
            "\n",
            "WARNING ⚠️ imgsz=[84, 768] must be multiple of max stride 32, updating to [96, 768]\n",
            "0: 96x768 (no detections), 58.4ms\n",
            "Speed: 1.1ms preprocess, 58.4ms inference, 0.7ms postprocess per image at shape (1, 3, 96, 768)\n"
          ]
        },
        {
          "output_type": "stream",
          "name": "stderr",
          "text": [
            "0it [00:00, ?it/s]\n"
          ]
        },
        {
          "output_type": "stream",
          "name": "stdout",
          "text": [
            "\n",
            "WARNING ⚠️ imgsz=[107, 768] must be multiple of max stride 32, updating to [128, 768]\n",
            "0: 128x768 (no detections), 78.8ms\n",
            "Speed: 1.1ms preprocess, 78.8ms inference, 0.7ms postprocess per image at shape (1, 3, 128, 768)\n"
          ]
        },
        {
          "output_type": "stream",
          "name": "stderr",
          "text": [
            "0it [00:00, ?it/s]\n"
          ]
        },
        {
          "output_type": "stream",
          "name": "stdout",
          "text": [
            "\n",
            "WARNING ⚠️ imgsz=[80, 768] must be multiple of max stride 32, updating to [96, 768]\n",
            "0: 96x768 (no detections), 69.7ms\n",
            "Speed: 1.4ms preprocess, 69.7ms inference, 0.9ms postprocess per image at shape (1, 3, 96, 768)\n"
          ]
        },
        {
          "output_type": "stream",
          "name": "stderr",
          "text": [
            "0it [00:00, ?it/s]\n"
          ]
        },
        {
          "output_type": "stream",
          "name": "stdout",
          "text": [
            "\n",
            "WARNING ⚠️ imgsz=[1086, 768] must be multiple of max stride 32, updating to [1088, 768]\n",
            "0: 1088x768 (no detections), 671.4ms\n",
            "Speed: 6.5ms preprocess, 671.4ms inference, 0.8ms postprocess per image at shape (1, 3, 1088, 768)\n"
          ]
        },
        {
          "output_type": "stream",
          "name": "stderr",
          "text": [
            "0it [00:00, ?it/s]\n"
          ]
        },
        {
          "output_type": "stream",
          "name": "stdout",
          "text": [
            "\n",
            "WARNING ⚠️ imgsz=[249, 1728] must be multiple of max stride 32, updating to [256, 1728]\n",
            "0: 256x1728 (no detections), 370.6ms\n",
            "Speed: 2.9ms preprocess, 370.6ms inference, 0.7ms postprocess per image at shape (1, 3, 256, 1728)\n"
          ]
        },
        {
          "output_type": "stream",
          "name": "stderr",
          "text": [
            "0it [00:00, ?it/s]\n"
          ]
        },
        {
          "output_type": "stream",
          "name": "stdout",
          "text": [
            "\n",
            "WARNING ⚠️ imgsz=[156, 1728] must be multiple of max stride 32, updating to [160, 1728]\n",
            "0: 160x1728 (no detections), 234.2ms\n",
            "Speed: 3.2ms preprocess, 234.2ms inference, 0.8ms postprocess per image at shape (1, 3, 160, 1728)\n"
          ]
        },
        {
          "output_type": "stream",
          "name": "stderr",
          "text": [
            "0it [00:00, ?it/s]\n"
          ]
        },
        {
          "output_type": "stream",
          "name": "stdout",
          "text": [
            "\n",
            "WARNING ⚠️ imgsz=[278, 1728] must be multiple of max stride 32, updating to [288, 1728]\n",
            "0: 288x1728 (no detections), 563.9ms\n",
            "Speed: 4.9ms preprocess, 563.9ms inference, 0.9ms postprocess per image at shape (1, 3, 288, 1728)\n"
          ]
        },
        {
          "output_type": "stream",
          "name": "stderr",
          "text": [
            "0it [00:00, ?it/s]\n"
          ]
        },
        {
          "output_type": "stream",
          "name": "stdout",
          "text": [
            "\n",
            "WARNING ⚠️ imgsz=[246, 1728] must be multiple of max stride 32, updating to [256, 1728]\n",
            "0: 256x1728 (no detections), 556.6ms\n",
            "Speed: 4.2ms preprocess, 556.6ms inference, 1.0ms postprocess per image at shape (1, 3, 256, 1728)\n"
          ]
        },
        {
          "output_type": "stream",
          "name": "stderr",
          "text": [
            "0it [00:00, ?it/s]\n"
          ]
        },
        {
          "output_type": "stream",
          "name": "stdout",
          "text": [
            "\n",
            "WARNING ⚠️ imgsz=[149, 1728] must be multiple of max stride 32, updating to [160, 1728]\n",
            "0: 160x1728 (no detections), 341.4ms\n",
            "Speed: 2.8ms preprocess, 341.4ms inference, 1.1ms postprocess per image at shape (1, 3, 160, 1728)\n"
          ]
        },
        {
          "output_type": "stream",
          "name": "stderr",
          "text": [
            "0it [00:00, ?it/s]\n"
          ]
        },
        {
          "output_type": "stream",
          "name": "stdout",
          "text": [
            "\n",
            "WARNING ⚠️ imgsz=[100, 1728] must be multiple of max stride 32, updating to [128, 1728]\n",
            "0: 128x1728 (no detections), 182.1ms\n",
            "Speed: 2.2ms preprocess, 182.1ms inference, 0.8ms postprocess per image at shape (1, 3, 128, 1728)\n"
          ]
        },
        {
          "output_type": "stream",
          "name": "stderr",
          "text": [
            "0it [00:00, ?it/s]"
          ]
        },
        {
          "output_type": "stream",
          "name": "stdout",
          "text": [
            "\n",
            "WARNING ⚠️ imgsz=[104, 768] must be multiple of max stride 32, updating to [128, 768]\n"
          ]
        },
        {
          "output_type": "stream",
          "name": "stderr",
          "text": [
            "\n"
          ]
        },
        {
          "output_type": "stream",
          "name": "stdout",
          "text": [
            "0: 128x768 (no detections), 86.0ms\n",
            "Speed: 1.1ms preprocess, 86.0ms inference, 0.7ms postprocess per image at shape (1, 3, 128, 768)\n"
          ]
        },
        {
          "output_type": "stream",
          "name": "stderr",
          "text": [
            "0it [00:00, ?it/s]"
          ]
        },
        {
          "output_type": "stream",
          "name": "stdout",
          "text": [
            "\n",
            "WARNING ⚠️ imgsz=[156, 768] must be multiple of max stride 32, updating to [160, 768]\n",
            "0: 160x768 (no detections), 95.1ms\n",
            "Speed: 1.9ms preprocess, 95.1ms inference, 0.8ms postprocess per image at shape (1, 3, 160, 768)\n"
          ]
        },
        {
          "output_type": "stream",
          "name": "stderr",
          "text": [
            "\n",
            "0it [00:00, ?it/s]\n"
          ]
        },
        {
          "output_type": "stream",
          "name": "stdout",
          "text": [
            "\n",
            "WARNING ⚠️ imgsz=[112, 1152] must be multiple of max stride 32, updating to [128, 1152]\n",
            "0: 128x1152 (no detections), 114.0ms\n",
            "Speed: 3.4ms preprocess, 114.0ms inference, 0.7ms postprocess per image at shape (1, 3, 128, 1152)\n"
          ]
        },
        {
          "output_type": "stream",
          "name": "stderr",
          "text": [
            "0it [00:00, ?it/s]"
          ]
        },
        {
          "output_type": "stream",
          "name": "stdout",
          "text": [
            "\n",
            "WARNING ⚠️ imgsz=[156, 1728] must be multiple of max stride 32, updating to [160, 1728]\n"
          ]
        },
        {
          "output_type": "stream",
          "name": "stderr",
          "text": [
            "\n"
          ]
        },
        {
          "output_type": "stream",
          "name": "stdout",
          "text": [
            "0: 160x1728 (no detections), 234.8ms\n",
            "Speed: 2.7ms preprocess, 234.8ms inference, 0.8ms postprocess per image at shape (1, 3, 160, 1728)\n"
          ]
        },
        {
          "output_type": "stream",
          "name": "stderr",
          "text": [
            "0it [00:00, ?it/s]\n"
          ]
        },
        {
          "output_type": "stream",
          "name": "stdout",
          "text": [
            "\n",
            "WARNING ⚠️ imgsz=[210, 1728] must be multiple of max stride 32, updating to [224, 1728]\n",
            "0: 224x1728 1 embedding, 279.2ms\n",
            "Speed: 3.4ms preprocess, 279.2ms inference, 1.5ms postprocess per image at shape (1, 3, 224, 1728)\n"
          ]
        },
        {
          "output_type": "stream",
          "name": "stderr",
          "text": [
            "100%|██████████| 1/1 [00:00<00:00,  2.15it/s]\n"
          ]
        },
        {
          "output_type": "stream",
          "name": "stdout",
          "text": [
            "\n",
            "WARNING ⚠️ imgsz=[194, 1728] must be multiple of max stride 32, updating to [224, 1728]\n",
            "0: 224x1728 (no detections), 309.3ms\n",
            "Speed: 3.4ms preprocess, 309.3ms inference, 0.8ms postprocess per image at shape (1, 3, 224, 1728)\n"
          ]
        },
        {
          "output_type": "stream",
          "name": "stderr",
          "text": [
            "0it [00:00, ?it/s]\n"
          ]
        },
        {
          "output_type": "stream",
          "name": "stdout",
          "text": [
            "\n",
            "WARNING ⚠️ imgsz=[117, 1728] must be multiple of max stride 32, updating to [128, 1728]\n",
            "0: 128x1728 1 embedding, 155.8ms\n",
            "Speed: 2.0ms preprocess, 155.8ms inference, 1.5ms postprocess per image at shape (1, 3, 128, 1728)\n"
          ]
        },
        {
          "output_type": "stream",
          "name": "stderr",
          "text": [
            "100%|██████████| 1/1 [00:01<00:00,  1.94s/it]\n"
          ]
        },
        {
          "output_type": "stream",
          "name": "stdout",
          "text": [
            "\n",
            "WARNING ⚠️ imgsz=[1086, 768] must be multiple of max stride 32, updating to [1088, 768]\n",
            "0: 1088x768 1 embedding, 895.8ms\n",
            "Speed: 6.2ms preprocess, 895.8ms inference, 1.9ms postprocess per image at shape (1, 3, 1088, 768)\n"
          ]
        },
        {
          "output_type": "stream",
          "name": "stderr",
          "text": [
            "100%|██████████| 1/1 [00:00<00:00,  1.57it/s]\n"
          ]
        },
        {
          "output_type": "stream",
          "name": "stdout",
          "text": [
            "\n",
            "WARNING ⚠️ imgsz=[220, 1728] must be multiple of max stride 32, updating to [224, 1728]\n",
            "0: 224x1728 (no detections), 456.3ms\n",
            "Speed: 4.0ms preprocess, 456.3ms inference, 3.5ms postprocess per image at shape (1, 3, 224, 1728)\n"
          ]
        },
        {
          "output_type": "stream",
          "name": "stderr",
          "text": [
            "0it [00:00, ?it/s]\n"
          ]
        },
        {
          "output_type": "stream",
          "name": "stdout",
          "text": [
            "\n",
            "WARNING ⚠️ imgsz=[184, 1728] must be multiple of max stride 32, updating to [192, 1728]\n",
            "0: 192x1728 (no detections), 405.9ms\n",
            "Speed: 3.4ms preprocess, 405.9ms inference, 1.0ms postprocess per image at shape (1, 3, 192, 1728)\n"
          ]
        },
        {
          "output_type": "stream",
          "name": "stderr",
          "text": [
            "0it [00:00, ?it/s]\n"
          ]
        },
        {
          "output_type": "stream",
          "name": "stdout",
          "text": [
            "\n",
            "WARNING ⚠️ imgsz=[92, 1152] must be multiple of max stride 32, updating to [96, 1152]\n",
            "0: 96x1152 (no detections), 100.9ms\n",
            "Speed: 1.4ms preprocess, 100.9ms inference, 0.7ms postprocess per image at shape (1, 3, 96, 1152)\n"
          ]
        },
        {
          "output_type": "stream",
          "name": "stderr",
          "text": [
            "0it [00:00, ?it/s]"
          ]
        },
        {
          "output_type": "stream",
          "name": "stdout",
          "text": [
            "\n",
            "WARNING ⚠️ imgsz=[85, 768] must be multiple of max stride 32, updating to [96, 768]\n",
            "0: 96x768 (no detections), 57.7ms\n",
            "Speed: 1.0ms preprocess, 57.7ms inference, 0.7ms postprocess per image at shape (1, 3, 96, 768)\n"
          ]
        },
        {
          "output_type": "stream",
          "name": "stderr",
          "text": [
            "\n",
            "0it [00:00, ?it/s]\n"
          ]
        },
        {
          "output_type": "stream",
          "name": "stdout",
          "text": [
            "\n",
            "WARNING ⚠️ imgsz=[134, 768] must be multiple of max stride 32, updating to [160, 768]\n",
            "0: 160x768 (no detections), 96.9ms\n",
            "Speed: 1.3ms preprocess, 96.9ms inference, 0.7ms postprocess per image at shape (1, 3, 160, 768)\n"
          ]
        },
        {
          "output_type": "stream",
          "name": "stderr",
          "text": [
            "0it [00:00, ?it/s]\n"
          ]
        },
        {
          "output_type": "stream",
          "name": "stdout",
          "text": [
            "\n",
            "WARNING ⚠️ imgsz=[104, 1152] must be multiple of max stride 32, updating to [128, 1152]\n",
            "0: 128x1152 (no detections), 107.6ms\n",
            "Speed: 1.5ms preprocess, 107.6ms inference, 0.7ms postprocess per image at shape (1, 3, 128, 1152)\n"
          ]
        },
        {
          "output_type": "stream",
          "name": "stderr",
          "text": [
            "0it [00:00, ?it/s]"
          ]
        },
        {
          "output_type": "stream",
          "name": "stdout",
          "text": [
            "\n",
            "WARNING ⚠️ imgsz=[106, 1152] must be multiple of max stride 32, updating to [128, 1152]\n"
          ]
        },
        {
          "output_type": "stream",
          "name": "stderr",
          "text": [
            "\n"
          ]
        },
        {
          "output_type": "stream",
          "name": "stdout",
          "text": [
            "0: 128x1152 (no detections), 128.3ms\n",
            "Speed: 1.6ms preprocess, 128.3ms inference, 0.8ms postprocess per image at shape (1, 3, 128, 1152)\n"
          ]
        },
        {
          "output_type": "stream",
          "name": "stderr",
          "text": [
            "0it [00:00, ?it/s]"
          ]
        },
        {
          "output_type": "stream",
          "name": "stdout",
          "text": [
            "\n",
            "WARNING ⚠️ imgsz=[144, 1728] must be multiple of max stride 32, updating to [160, 1728]\n"
          ]
        },
        {
          "output_type": "stream",
          "name": "stderr",
          "text": [
            "\n"
          ]
        },
        {
          "output_type": "stream",
          "name": "stdout",
          "text": [
            "0: 160x1728 (no detections), 208.3ms\n",
            "Speed: 2.4ms preprocess, 208.3ms inference, 0.8ms postprocess per image at shape (1, 3, 160, 1728)\n"
          ]
        },
        {
          "output_type": "stream",
          "name": "stderr",
          "text": [
            "0it [00:00, ?it/s]"
          ]
        },
        {
          "output_type": "stream",
          "name": "stdout",
          "text": [
            "\n",
            "WARNING ⚠️ imgsz=[216, 768] must be multiple of max stride 32, updating to [224, 768]\n"
          ]
        },
        {
          "output_type": "stream",
          "name": "stderr",
          "text": [
            "\n"
          ]
        },
        {
          "output_type": "stream",
          "name": "stdout",
          "text": [
            "0: 224x768 (no detections), 135.8ms\n",
            "Speed: 2.2ms preprocess, 135.8ms inference, 0.7ms postprocess per image at shape (1, 3, 224, 768)\n"
          ]
        },
        {
          "output_type": "stream",
          "name": "stderr",
          "text": [
            "0it [00:00, ?it/s]"
          ]
        },
        {
          "output_type": "stream",
          "name": "stdout",
          "text": [
            "\n",
            "WARNING ⚠️ imgsz=[150, 1728] must be multiple of max stride 32, updating to [160, 1728]\n"
          ]
        },
        {
          "output_type": "stream",
          "name": "stderr",
          "text": [
            "\n"
          ]
        },
        {
          "output_type": "stream",
          "name": "stdout",
          "text": [
            "0: 160x1728 (no detections), 225.4ms\n",
            "Speed: 1.9ms preprocess, 225.4ms inference, 0.7ms postprocess per image at shape (1, 3, 160, 1728)\n"
          ]
        },
        {
          "output_type": "stream",
          "name": "stderr",
          "text": [
            "0it [00:00, ?it/s]\n"
          ]
        },
        {
          "output_type": "stream",
          "name": "stdout",
          "text": [
            "\n",
            "WARNING ⚠️ imgsz=[95, 1152] must be multiple of max stride 32, updating to [96, 1152]\n",
            "0: 96x1152 (no detections), 83.0ms\n",
            "Speed: 1.0ms preprocess, 83.0ms inference, 0.7ms postprocess per image at shape (1, 3, 96, 1152)\n"
          ]
        },
        {
          "output_type": "stream",
          "name": "stderr",
          "text": [
            "0it [00:00, ?it/s]\n"
          ]
        },
        {
          "output_type": "stream",
          "name": "stdout",
          "text": [
            "\n",
            "WARNING ⚠️ imgsz=[265, 1728] must be multiple of max stride 32, updating to [288, 1728]\n",
            "0: 288x1728 (no detections), 401.6ms\n",
            "Speed: 3.2ms preprocess, 401.6ms inference, 0.8ms postprocess per image at shape (1, 3, 288, 1728)\n"
          ]
        },
        {
          "output_type": "stream",
          "name": "stderr",
          "text": [
            "0it [00:00, ?it/s]\n"
          ]
        },
        {
          "output_type": "stream",
          "name": "stdout",
          "text": [
            "\n",
            "0: 192x768 2 embeddings, 141.1ms\n",
            "Speed: 1.4ms preprocess, 141.1ms inference, 1.6ms postprocess per image at shape (1, 3, 192, 768)\n"
          ]
        },
        {
          "output_type": "stream",
          "name": "stderr",
          "text": [
            "100%|██████████| 2/2 [00:00<00:00,  2.34it/s]"
          ]
        },
        {
          "output_type": "stream",
          "name": "stdout",
          "text": [
            "\n",
            "WARNING ⚠️ imgsz=[205, 768] must be multiple of max stride 32, updating to [224, 768]\n"
          ]
        },
        {
          "output_type": "stream",
          "name": "stderr",
          "text": [
            "\n"
          ]
        },
        {
          "output_type": "stream",
          "name": "stdout",
          "text": [
            "0: 224x768 1 embedding, 131.5ms\n",
            "Speed: 1.6ms preprocess, 131.5ms inference, 1.5ms postprocess per image at shape (1, 3, 224, 768)\n"
          ]
        },
        {
          "output_type": "stream",
          "name": "stderr",
          "text": [
            "100%|██████████| 1/1 [00:00<00:00,  2.47it/s]"
          ]
        },
        {
          "output_type": "stream",
          "name": "stdout",
          "text": [
            "\n",
            "WARNING ⚠️ imgsz=[188, 768] must be multiple of max stride 32, updating to [192, 768]\n"
          ]
        },
        {
          "output_type": "stream",
          "name": "stderr",
          "text": [
            "\n"
          ]
        },
        {
          "output_type": "stream",
          "name": "stdout",
          "text": [
            "0: 192x768 1 embedding, 133.9ms\n",
            "Speed: 1.4ms preprocess, 133.9ms inference, 1.6ms postprocess per image at shape (1, 3, 192, 768)\n"
          ]
        },
        {
          "output_type": "stream",
          "name": "stderr",
          "text": [
            "100%|██████████| 1/1 [00:00<00:00,  1.67it/s]"
          ]
        },
        {
          "output_type": "stream",
          "name": "stdout",
          "text": [
            "\n",
            "WARNING ⚠️ imgsz=[185, 768] must be multiple of max stride 32, updating to [192, 768]\n",
            "0: 192x768 (no detections), 114.1ms\n",
            "Speed: 1.3ms preprocess, 114.1ms inference, 0.7ms postprocess per image at shape (1, 3, 192, 768)\n"
          ]
        },
        {
          "output_type": "stream",
          "name": "stderr",
          "text": [
            "\n",
            "0it [00:00, ?it/s]\n"
          ]
        },
        {
          "output_type": "stream",
          "name": "stdout",
          "text": [
            "\n",
            "WARNING ⚠️ imgsz=[170, 768] must be multiple of max stride 32, updating to [192, 768]\n",
            "0: 192x768 1 embedding, 120.5ms\n",
            "Speed: 2.1ms preprocess, 120.5ms inference, 1.4ms postprocess per image at shape (1, 3, 192, 768)\n"
          ]
        },
        {
          "output_type": "stream",
          "name": "stderr",
          "text": [
            "100%|██████████| 1/1 [00:00<00:00,  1.37it/s]"
          ]
        },
        {
          "output_type": "stream",
          "name": "stdout",
          "text": [
            "\n",
            "WARNING ⚠️ imgsz=[104, 1152] must be multiple of max stride 32, updating to [128, 1152]\n",
            "0: 128x1152 (no detections), 121.1ms\n"
          ]
        },
        {
          "output_type": "stream",
          "name": "stderr",
          "text": [
            "\n"
          ]
        },
        {
          "output_type": "stream",
          "name": "stdout",
          "text": [
            "Speed: 1.6ms preprocess, 121.1ms inference, 0.8ms postprocess per image at shape (1, 3, 128, 1152)\n"
          ]
        },
        {
          "output_type": "stream",
          "name": "stderr",
          "text": [
            "0it [00:00, ?it/s]"
          ]
        },
        {
          "output_type": "stream",
          "name": "stdout",
          "text": [
            "\n",
            "WARNING ⚠️ imgsz=[280, 768] must be multiple of max stride 32, updating to [288, 768]\n"
          ]
        },
        {
          "output_type": "stream",
          "name": "stderr",
          "text": [
            "\n"
          ]
        },
        {
          "output_type": "stream",
          "name": "stdout",
          "text": [
            "0: 288x768 1 embedding, 169.2ms\n",
            "Speed: 1.7ms preprocess, 169.2ms inference, 1.5ms postprocess per image at shape (1, 3, 288, 768)\n"
          ]
        },
        {
          "output_type": "stream",
          "name": "stderr",
          "text": [
            "100%|██████████| 1/1 [00:00<00:00,  1.97it/s]\n"
          ]
        },
        {
          "output_type": "stream",
          "name": "stdout",
          "text": [
            "\n",
            "WARNING ⚠️ imgsz=[152, 1728] must be multiple of max stride 32, updating to [160, 1728]\n",
            "0: 160x1728 (no detections), 204.7ms\n",
            "Speed: 2.3ms preprocess, 204.7ms inference, 0.8ms postprocess per image at shape (1, 3, 160, 1728)\n"
          ]
        },
        {
          "output_type": "stream",
          "name": "stderr",
          "text": [
            "0it [00:00, ?it/s]\n"
          ]
        },
        {
          "output_type": "stream",
          "name": "stdout",
          "text": [
            "\n",
            "WARNING ⚠️ imgsz=[85, 768] must be multiple of max stride 32, updating to [96, 768]\n",
            "0: 96x768 (no detections), 57.6ms\n",
            "Speed: 1.3ms preprocess, 57.6ms inference, 0.6ms postprocess per image at shape (1, 3, 96, 768)\n"
          ]
        },
        {
          "output_type": "stream",
          "name": "stderr",
          "text": [
            "0it [00:00, ?it/s]"
          ]
        },
        {
          "output_type": "stream",
          "name": "stdout",
          "text": [
            "\n",
            "WARNING ⚠️ imgsz=[102, 768] must be multiple of max stride 32, updating to [128, 768]\n"
          ]
        },
        {
          "output_type": "stream",
          "name": "stderr",
          "text": [
            "\n"
          ]
        },
        {
          "output_type": "stream",
          "name": "stdout",
          "text": [
            "0: 128x768 (no detections), 88.8ms\n",
            "Speed: 1.1ms preprocess, 88.8ms inference, 1.9ms postprocess per image at shape (1, 3, 128, 768)\n"
          ]
        },
        {
          "output_type": "stream",
          "name": "stderr",
          "text": [
            "0it [00:00, ?it/s]"
          ]
        },
        {
          "output_type": "stream",
          "name": "stdout",
          "text": [
            "\n",
            "WARNING ⚠️ imgsz=[113, 1152] must be multiple of max stride 32, updating to [128, 1152]\n"
          ]
        },
        {
          "output_type": "stream",
          "name": "stderr",
          "text": [
            "\n"
          ]
        },
        {
          "output_type": "stream",
          "name": "stdout",
          "text": [
            "0: 128x1152 (no detections), 127.3ms\n",
            "Speed: 1.6ms preprocess, 127.3ms inference, 0.7ms postprocess per image at shape (1, 3, 128, 1152)\n"
          ]
        },
        {
          "output_type": "stream",
          "name": "stderr",
          "text": [
            "0it [00:00, ?it/s]"
          ]
        },
        {
          "output_type": "stream",
          "name": "stdout",
          "text": [
            "\n",
            "WARNING ⚠️ imgsz=[255, 768] must be multiple of max stride 32, updating to [256, 768]\n"
          ]
        },
        {
          "output_type": "stream",
          "name": "stderr",
          "text": [
            "\n"
          ]
        },
        {
          "output_type": "stream",
          "name": "stdout",
          "text": [
            "0: 256x768 1 embedding, 162.7ms\n",
            "Speed: 1.6ms preprocess, 162.7ms inference, 1.4ms postprocess per image at shape (1, 3, 256, 768)\n"
          ]
        },
        {
          "output_type": "stream",
          "name": "stderr",
          "text": [
            "100%|██████████| 1/1 [00:00<00:00,  2.01it/s]"
          ]
        },
        {
          "output_type": "stream",
          "name": "stdout",
          "text": [
            "\n",
            "WARNING ⚠️ imgsz=[85, 1152] must be multiple of max stride 32, updating to [96, 1152]\n"
          ]
        },
        {
          "output_type": "stream",
          "name": "stderr",
          "text": [
            "\n"
          ]
        },
        {
          "output_type": "stream",
          "name": "stdout",
          "text": [
            "0: 96x1152 (no detections), 139.8ms\n",
            "Speed: 1.3ms preprocess, 139.8ms inference, 0.9ms postprocess per image at shape (1, 3, 96, 1152)\n"
          ]
        },
        {
          "output_type": "stream",
          "name": "stderr",
          "text": [
            "0it [00:00, ?it/s]\n"
          ]
        },
        {
          "output_type": "stream",
          "name": "stdout",
          "text": [
            "\n",
            "WARNING ⚠️ imgsz=[1086, 768] must be multiple of max stride 32, updating to [1088, 768]\n",
            "0: 1088x768 1 embedding, 1 isolated, 709.5ms\n",
            "Speed: 6.5ms preprocess, 709.5ms inference, 1.8ms postprocess per image at shape (1, 3, 1088, 768)\n"
          ]
        },
        {
          "output_type": "stream",
          "name": "stderr",
          "text": [
            "100%|██████████| 2/2 [00:17<00:00,  8.68s/it]\n"
          ]
        },
        {
          "output_type": "stream",
          "name": "stdout",
          "text": [
            "\n",
            "WARNING ⚠️ imgsz=[175, 768] must be multiple of max stride 32, updating to [192, 768]\n",
            "0: 192x768 (no detections), 120.2ms\n",
            "Speed: 1.3ms preprocess, 120.2ms inference, 3.6ms postprocess per image at shape (1, 3, 192, 768)\n"
          ]
        },
        {
          "output_type": "stream",
          "name": "stderr",
          "text": [
            "0it [00:00, ?it/s]\n"
          ]
        },
        {
          "output_type": "stream",
          "name": "stdout",
          "text": [
            "\n",
            "0: 256x1728 (no detections), 335.5ms\n",
            "Speed: 2.8ms preprocess, 335.5ms inference, 0.7ms postprocess per image at shape (1, 3, 256, 1728)\n"
          ]
        },
        {
          "output_type": "stream",
          "name": "stderr",
          "text": [
            "0it [00:00, ?it/s]\n"
          ]
        },
        {
          "output_type": "stream",
          "name": "stdout",
          "text": [
            "\n",
            "WARNING ⚠️ imgsz=[159, 1728] must be multiple of max stride 32, updating to [160, 1728]\n",
            "0: 160x1728 (no detections), 209.1ms\n",
            "Speed: 2.7ms preprocess, 209.1ms inference, 0.7ms postprocess per image at shape (1, 3, 160, 1728)\n"
          ]
        },
        {
          "output_type": "stream",
          "name": "stderr",
          "text": [
            "0it [00:00, ?it/s]\n"
          ]
        },
        {
          "output_type": "stream",
          "name": "stdout",
          "text": [
            "\n",
            "WARNING ⚠️ imgsz=[149, 1728] must be multiple of max stride 32, updating to [160, 1728]\n",
            "0: 160x1728 (no detections), 213.8ms\n",
            "Speed: 2.6ms preprocess, 213.8ms inference, 0.8ms postprocess per image at shape (1, 3, 160, 1728)\n"
          ]
        },
        {
          "output_type": "stream",
          "name": "stderr",
          "text": [
            "0it [00:00, ?it/s]\n"
          ]
        },
        {
          "output_type": "stream",
          "name": "stdout",
          "text": [
            "\n",
            "WARNING ⚠️ imgsz=[164, 1728] must be multiple of max stride 32, updating to [192, 1728]\n",
            "0: 192x1728 1 embedding, 246.2ms\n",
            "Speed: 2.9ms preprocess, 246.2ms inference, 1.5ms postprocess per image at shape (1, 3, 192, 1728)\n"
          ]
        },
        {
          "output_type": "stream",
          "name": "stderr",
          "text": [
            "100%|██████████| 1/1 [00:00<00:00,  2.37it/s]\n"
          ]
        },
        {
          "output_type": "stream",
          "name": "stdout",
          "text": [
            "\n",
            "WARNING ⚠️ imgsz=[152, 1728] must be multiple of max stride 32, updating to [160, 1728]\n",
            "0: 160x1728 (no detections), 213.9ms\n",
            "Speed: 2.0ms preprocess, 213.9ms inference, 0.8ms postprocess per image at shape (1, 3, 160, 1728)\n"
          ]
        },
        {
          "output_type": "stream",
          "name": "stderr",
          "text": [
            "0it [00:00, ?it/s]\n"
          ]
        },
        {
          "output_type": "stream",
          "name": "stdout",
          "text": [
            "\n",
            "WARNING ⚠️ imgsz=[209, 1728] must be multiple of max stride 32, updating to [224, 1728]\n",
            "0: 224x1728 (no detections), 378.9ms\n",
            "Speed: 3.9ms preprocess, 378.9ms inference, 0.9ms postprocess per image at shape (1, 3, 224, 1728)\n"
          ]
        },
        {
          "output_type": "stream",
          "name": "stderr",
          "text": [
            "0it [00:00, ?it/s]\n"
          ]
        },
        {
          "output_type": "stream",
          "name": "stdout",
          "text": [
            "\n",
            "WARNING ⚠️ imgsz=[223, 1728] must be multiple of max stride 32, updating to [224, 1728]\n",
            "0: 224x1728 (no detections), 390.0ms\n",
            "Speed: 3.4ms preprocess, 390.0ms inference, 0.9ms postprocess per image at shape (1, 3, 224, 1728)\n"
          ]
        },
        {
          "output_type": "stream",
          "name": "stderr",
          "text": [
            "0it [00:00, ?it/s]\n"
          ]
        },
        {
          "output_type": "stream",
          "name": "stdout",
          "text": [
            "\n",
            "WARNING ⚠️ imgsz=[1086, 768] must be multiple of max stride 32, updating to [1088, 768]\n",
            "0: 1088x768 (no detections), 637.4ms\n",
            "Speed: 6.1ms preprocess, 637.4ms inference, 0.8ms postprocess per image at shape (1, 3, 1088, 768)\n"
          ]
        },
        {
          "output_type": "stream",
          "name": "stderr",
          "text": [
            "0it [00:00, ?it/s]\n"
          ]
        },
        {
          "output_type": "stream",
          "name": "stdout",
          "text": [
            "\n",
            "WARNING ⚠️ imgsz=[152, 1728] must be multiple of max stride 32, updating to [160, 1728]\n",
            "0: 160x1728 (no detections), 196.4ms\n",
            "Speed: 2.7ms preprocess, 196.4ms inference, 2.7ms postprocess per image at shape (1, 3, 160, 1728)\n"
          ]
        },
        {
          "output_type": "stream",
          "name": "stderr",
          "text": [
            "0it [00:00, ?it/s]\n"
          ]
        },
        {
          "output_type": "stream",
          "name": "stdout",
          "text": [
            "\n",
            "WARNING ⚠️ imgsz=[147, 1728] must be multiple of max stride 32, updating to [160, 1728]\n",
            "0: 160x1728 1 embedding, 204.2ms\n",
            "Speed: 2.2ms preprocess, 204.2ms inference, 1.7ms postprocess per image at shape (1, 3, 160, 1728)\n"
          ]
        },
        {
          "output_type": "stream",
          "name": "stderr",
          "text": [
            "100%|██████████| 1/1 [00:00<00:00,  1.70it/s]"
          ]
        },
        {
          "output_type": "stream",
          "name": "stdout",
          "text": [
            "\n",
            "WARNING ⚠️ imgsz=[99, 1152] must be multiple of max stride 32, updating to [128, 1152]\n"
          ]
        },
        {
          "output_type": "stream",
          "name": "stderr",
          "text": [
            "\n"
          ]
        },
        {
          "output_type": "stream",
          "name": "stdout",
          "text": [
            "0: 128x1152 (no detections), 115.6ms\n",
            "Speed: 1.7ms preprocess, 115.6ms inference, 0.7ms postprocess per image at shape (1, 3, 128, 1152)\n"
          ]
        },
        {
          "output_type": "stream",
          "name": "stderr",
          "text": [
            "0it [00:00, ?it/s]"
          ]
        },
        {
          "output_type": "stream",
          "name": "stdout",
          "text": [
            "\n",
            "WARNING ⚠️ imgsz=[105, 1152] must be multiple of max stride 32, updating to [128, 1152]\n"
          ]
        },
        {
          "output_type": "stream",
          "name": "stderr",
          "text": [
            "\n"
          ]
        },
        {
          "output_type": "stream",
          "name": "stdout",
          "text": [
            "0: 128x1152 (no detections), 110.9ms\n",
            "Speed: 1.4ms preprocess, 110.9ms inference, 0.7ms postprocess per image at shape (1, 3, 128, 1152)\n"
          ]
        },
        {
          "output_type": "stream",
          "name": "stderr",
          "text": [
            "0it [00:00, ?it/s]"
          ]
        },
        {
          "output_type": "stream",
          "name": "stdout",
          "text": [
            "\n",
            "WARNING ⚠️ imgsz=[134, 1728] must be multiple of max stride 32, updating to [160, 1728]\n"
          ]
        },
        {
          "output_type": "stream",
          "name": "stderr",
          "text": [
            "\n"
          ]
        },
        {
          "output_type": "stream",
          "name": "stdout",
          "text": [
            "0: 160x1728 (no detections), 200.5ms\n",
            "Speed: 2.3ms preprocess, 200.5ms inference, 2.2ms postprocess per image at shape (1, 3, 160, 1728)\n"
          ]
        },
        {
          "output_type": "stream",
          "name": "stderr",
          "text": [
            "0it [00:00, ?it/s]"
          ]
        },
        {
          "output_type": "stream",
          "name": "stdout",
          "text": [
            "\n",
            "WARNING ⚠️ imgsz=[151, 768] must be multiple of max stride 32, updating to [160, 768]\n"
          ]
        },
        {
          "output_type": "stream",
          "name": "stderr",
          "text": [
            "\n"
          ]
        },
        {
          "output_type": "stream",
          "name": "stdout",
          "text": [
            "0: 160x768 (no detections), 140.4ms\n",
            "Speed: 1.3ms preprocess, 140.4ms inference, 0.8ms postprocess per image at shape (1, 3, 160, 768)\n"
          ]
        },
        {
          "output_type": "stream",
          "name": "stderr",
          "text": [
            "0it [00:00, ?it/s]"
          ]
        },
        {
          "output_type": "stream",
          "name": "stdout",
          "text": [
            "\n",
            "WARNING ⚠️ imgsz=[92, 1152] must be multiple of max stride 32, updating to [96, 1152]\n",
            "0: 96x1152 (no detections), 77.2ms\n",
            "Speed: 1.3ms preprocess, 77.2ms inference, 0.7ms postprocess per image at shape (1, 3, 96, 1152)\n"
          ]
        },
        {
          "output_type": "stream",
          "name": "stderr",
          "text": [
            "\n",
            "0it [00:00, ?it/s]\n"
          ]
        },
        {
          "output_type": "stream",
          "name": "stdout",
          "text": [
            "\n",
            "WARNING ⚠️ imgsz=[78, 1152] must be multiple of max stride 32, updating to [96, 1152]\n",
            "0: 96x1152 (no detections), 86.5ms\n",
            "Speed: 1.3ms preprocess, 86.5ms inference, 0.7ms postprocess per image at shape (1, 3, 96, 1152)\n"
          ]
        },
        {
          "output_type": "stream",
          "name": "stderr",
          "text": [
            "0it [00:00, ?it/s]"
          ]
        },
        {
          "output_type": "stream",
          "name": "stdout",
          "text": [
            "\n",
            "WARNING ⚠️ imgsz=[147, 1728] must be multiple of max stride 32, updating to [160, 1728]\n"
          ]
        },
        {
          "output_type": "stream",
          "name": "stderr",
          "text": [
            "\n"
          ]
        },
        {
          "output_type": "stream",
          "name": "stdout",
          "text": [
            "0: 160x1728 (no detections), 203.7ms\n",
            "Speed: 2.9ms preprocess, 203.7ms inference, 1.1ms postprocess per image at shape (1, 3, 160, 1728)\n"
          ]
        },
        {
          "output_type": "stream",
          "name": "stderr",
          "text": [
            "0it [00:00, ?it/s]\n"
          ]
        },
        {
          "output_type": "stream",
          "name": "stdout",
          "text": [
            "\n",
            "WARNING ⚠️ imgsz=[86, 1152] must be multiple of max stride 32, updating to [96, 1152]\n",
            "0: 96x1152 (no detections), 84.2ms\n",
            "Speed: 1.3ms preprocess, 84.2ms inference, 0.7ms postprocess per image at shape (1, 3, 96, 1152)\n"
          ]
        },
        {
          "output_type": "stream",
          "name": "stderr",
          "text": [
            "0it [00:00, ?it/s]"
          ]
        },
        {
          "output_type": "stream",
          "name": "stdout",
          "text": [
            "\n",
            "WARNING ⚠️ imgsz=[154, 1728] must be multiple of max stride 32, updating to [160, 1728]\n"
          ]
        },
        {
          "output_type": "stream",
          "name": "stderr",
          "text": [
            "\n"
          ]
        },
        {
          "output_type": "stream",
          "name": "stdout",
          "text": [
            "0: 160x1728 (no detections), 225.8ms\n",
            "Speed: 2.9ms preprocess, 225.8ms inference, 0.7ms postprocess per image at shape (1, 3, 160, 1728)\n"
          ]
        },
        {
          "output_type": "stream",
          "name": "stderr",
          "text": [
            "0it [00:00, ?it/s]\n"
          ]
        },
        {
          "output_type": "stream",
          "name": "stdout",
          "text": [
            "\n",
            "WARNING ⚠️ imgsz=[100, 1728] must be multiple of max stride 32, updating to [128, 1728]\n",
            "0: 128x1728 (no detections), 186.7ms\n",
            "Speed: 2.2ms preprocess, 186.7ms inference, 0.7ms postprocess per image at shape (1, 3, 128, 1728)\n"
          ]
        },
        {
          "output_type": "stream",
          "name": "stderr",
          "text": [
            "0it [00:00, ?it/s]"
          ]
        },
        {
          "output_type": "stream",
          "name": "stdout",
          "text": [
            "\n",
            "WARNING ⚠️ imgsz=[91, 768] must be multiple of max stride 32, updating to [96, 768]\n"
          ]
        },
        {
          "output_type": "stream",
          "name": "stderr",
          "text": [
            "\n"
          ]
        },
        {
          "output_type": "stream",
          "name": "stdout",
          "text": [
            "0: 96x768 (no detections), 68.9ms\n",
            "Speed: 1.1ms preprocess, 68.9ms inference, 0.7ms postprocess per image at shape (1, 3, 96, 768)\n"
          ]
        },
        {
          "output_type": "stream",
          "name": "stderr",
          "text": [
            "0it [00:00, ?it/s]"
          ]
        },
        {
          "output_type": "stream",
          "name": "stdout",
          "text": [
            "\n",
            "WARNING ⚠️ imgsz=[94, 768] must be multiple of max stride 32, updating to [96, 768]\n",
            "0: 96x768 (no detections), 60.5ms\n",
            "Speed: 1.0ms preprocess, 60.5ms inference, 0.7ms postprocess per image at shape (1, 3, 96, 768)\n"
          ]
        },
        {
          "output_type": "stream",
          "name": "stderr",
          "text": [
            "\n",
            "0it [00:00, ?it/s]\n"
          ]
        },
        {
          "output_type": "stream",
          "name": "stdout",
          "text": [
            "\n",
            "WARNING ⚠️ imgsz=[107, 1152] must be multiple of max stride 32, updating to [128, 1152]\n",
            "0: 128x1152 (no detections), 121.5ms\n",
            "Speed: 1.5ms preprocess, 121.5ms inference, 0.8ms postprocess per image at shape (1, 3, 128, 1152)\n"
          ]
        },
        {
          "output_type": "stream",
          "name": "stderr",
          "text": [
            "0it [00:00, ?it/s]"
          ]
        },
        {
          "output_type": "stream",
          "name": "stdout",
          "text": [
            "\n",
            "WARNING ⚠️ imgsz=[78, 768] must be multiple of max stride 32, updating to [96, 768]\n",
            "0: 96x768 1 isolated, 58.1ms\n",
            "Speed: 1.3ms preprocess, 58.1ms inference, 1.4ms postprocess per image at shape (1, 3, 96, 768)\n"
          ]
        },
        {
          "output_type": "stream",
          "name": "stderr",
          "text": [
            "\n",
            "100%|██████████| 1/1 [00:09<00:00,  9.63s/it]"
          ]
        },
        {
          "output_type": "stream",
          "name": "stdout",
          "text": [
            "\n",
            "WARNING ⚠️ imgsz=[127, 768] must be multiple of max stride 32, updating to [128, 768]\n",
            "0: 128x768 (no detections), 84.0ms\n",
            "Speed: 1.5ms preprocess, 84.0ms inference, 0.8ms postprocess per image at shape (1, 3, 128, 768)\n"
          ]
        },
        {
          "output_type": "stream",
          "name": "stderr",
          "text": [
            "\n",
            "0it [00:00, ?it/s]\n"
          ]
        },
        {
          "output_type": "stream",
          "name": "stdout",
          "text": [
            "\n",
            "WARNING ⚠️ imgsz=[92, 1152] must be multiple of max stride 32, updating to [96, 1152]\n",
            "0: 96x1152 (no detections), 88.5ms\n",
            "Speed: 1.8ms preprocess, 88.5ms inference, 0.7ms postprocess per image at shape (1, 3, 96, 1152)\n"
          ]
        },
        {
          "output_type": "stream",
          "name": "stderr",
          "text": [
            "0it [00:00, ?it/s]"
          ]
        },
        {
          "output_type": "stream",
          "name": "stdout",
          "text": [
            "\n",
            "WARNING ⚠️ imgsz=[165, 1728] must be multiple of max stride 32, updating to [192, 1728]\n"
          ]
        },
        {
          "output_type": "stream",
          "name": "stderr",
          "text": [
            "\n"
          ]
        },
        {
          "output_type": "stream",
          "name": "stdout",
          "text": [
            "0: 192x1728 (no detections), 252.2ms\n",
            "Speed: 3.1ms preprocess, 252.2ms inference, 0.8ms postprocess per image at shape (1, 3, 192, 1728)\n"
          ]
        },
        {
          "output_type": "stream",
          "name": "stderr",
          "text": [
            "0it [00:00, ?it/s]\n"
          ]
        },
        {
          "output_type": "stream",
          "name": "stdout",
          "text": [
            "\n",
            "WARNING ⚠️ imgsz=[81, 768] must be multiple of max stride 32, updating to [96, 768]\n",
            "0: 96x768 (no detections), 62.6ms\n",
            "Speed: 1.0ms preprocess, 62.6ms inference, 0.7ms postprocess per image at shape (1, 3, 96, 768)\n"
          ]
        },
        {
          "output_type": "stream",
          "name": "stderr",
          "text": [
            "0it [00:00, ?it/s]\n"
          ]
        },
        {
          "output_type": "stream",
          "name": "stdout",
          "text": [
            "\n",
            "WARNING ⚠️ imgsz=[142, 1728] must be multiple of max stride 32, updating to [160, 1728]\n",
            "0: 160x1728 (no detections), 200.2ms\n",
            "Speed: 2.8ms preprocess, 200.2ms inference, 0.7ms postprocess per image at shape (1, 3, 160, 1728)\n"
          ]
        },
        {
          "output_type": "stream",
          "name": "stderr",
          "text": [
            "0it [00:00, ?it/s]\n"
          ]
        },
        {
          "output_type": "stream",
          "name": "stdout",
          "text": [
            "\n",
            "WARNING ⚠️ imgsz=[1086, 768] must be multiple of max stride 32, updating to [1088, 768]\n",
            "0: 1088x768 (no detections), 649.8ms\n",
            "Speed: 6.3ms preprocess, 649.8ms inference, 0.7ms postprocess per image at shape (1, 3, 1088, 768)\n"
          ]
        },
        {
          "output_type": "stream",
          "name": "stderr",
          "text": [
            "0it [00:00, ?it/s]\n"
          ]
        },
        {
          "output_type": "stream",
          "name": "stdout",
          "text": [
            "\n",
            "WARNING ⚠️ imgsz=[136, 768] must be multiple of max stride 32, updating to [160, 768]\n",
            "0: 160x768 (no detections), 137.8ms\n",
            "Speed: 1.2ms preprocess, 137.8ms inference, 8.5ms postprocess per image at shape (1, 3, 160, 768)\n"
          ]
        },
        {
          "output_type": "stream",
          "name": "stderr",
          "text": [
            "0it [00:00, ?it/s]"
          ]
        },
        {
          "output_type": "stream",
          "name": "stdout",
          "text": [
            "\n",
            "WARNING ⚠️ imgsz=[92, 1152] must be multiple of max stride 32, updating to [96, 1152]\n"
          ]
        },
        {
          "output_type": "stream",
          "name": "stderr",
          "text": [
            "\n"
          ]
        },
        {
          "output_type": "stream",
          "name": "stdout",
          "text": [
            "0: 96x1152 (no detections), 119.9ms\n",
            "Speed: 1.5ms preprocess, 119.9ms inference, 2.0ms postprocess per image at shape (1, 3, 96, 1152)\n"
          ]
        },
        {
          "output_type": "stream",
          "name": "stderr",
          "text": [
            "0it [00:00, ?it/s]"
          ]
        },
        {
          "output_type": "stream",
          "name": "stdout",
          "text": [
            "\n",
            "WARNING ⚠️ imgsz=[90, 768] must be multiple of max stride 32, updating to [96, 768]\n"
          ]
        },
        {
          "output_type": "stream",
          "name": "stderr",
          "text": [
            "\n"
          ]
        },
        {
          "output_type": "stream",
          "name": "stdout",
          "text": [
            "0: 96x768 (no detections), 88.6ms\n",
            "Speed: 1.1ms preprocess, 88.6ms inference, 1.0ms postprocess per image at shape (1, 3, 96, 768)\n"
          ]
        },
        {
          "output_type": "stream",
          "name": "stderr",
          "text": [
            "0it [00:00, ?it/s]"
          ]
        },
        {
          "output_type": "stream",
          "name": "stdout",
          "text": [
            "\n",
            "WARNING ⚠️ imgsz=[91, 1152] must be multiple of max stride 32, updating to [96, 1152]\n"
          ]
        },
        {
          "output_type": "stream",
          "name": "stderr",
          "text": [
            "\n"
          ]
        },
        {
          "output_type": "stream",
          "name": "stdout",
          "text": [
            "0: 96x1152 (no detections), 138.9ms\n",
            "Speed: 1.4ms preprocess, 138.9ms inference, 1.0ms postprocess per image at shape (1, 3, 96, 1152)\n"
          ]
        },
        {
          "output_type": "stream",
          "name": "stderr",
          "text": [
            "0it [00:00, ?it/s]\n"
          ]
        },
        {
          "output_type": "stream",
          "name": "stdout",
          "text": [
            "\n",
            "WARNING ⚠️ imgsz=[138, 1728] must be multiple of max stride 32, updating to [160, 1728]\n",
            "0: 160x1728 (no detections), 326.3ms\n",
            "Speed: 3.3ms preprocess, 326.3ms inference, 1.0ms postprocess per image at shape (1, 3, 160, 1728)\n"
          ]
        },
        {
          "output_type": "stream",
          "name": "stderr",
          "text": [
            "0it [00:00, ?it/s]\n"
          ]
        },
        {
          "output_type": "stream",
          "name": "stdout",
          "text": [
            "\n",
            "WARNING ⚠️ imgsz=[86, 1152] must be multiple of max stride 32, updating to [96, 1152]\n",
            "0: 96x1152 (no detections), 132.5ms\n",
            "Speed: 1.4ms preprocess, 132.5ms inference, 1.0ms postprocess per image at shape (1, 3, 96, 1152)\n"
          ]
        },
        {
          "output_type": "stream",
          "name": "stderr",
          "text": [
            "0it [00:00, ?it/s]\n"
          ]
        },
        {
          "output_type": "stream",
          "name": "stdout",
          "text": [
            "\n",
            "WARNING ⚠️ imgsz=[153, 1728] must be multiple of max stride 32, updating to [160, 1728]\n",
            "0: 160x1728 (no detections), 197.5ms\n",
            "Speed: 2.4ms preprocess, 197.5ms inference, 0.8ms postprocess per image at shape (1, 3, 160, 1728)\n"
          ]
        },
        {
          "output_type": "stream",
          "name": "stderr",
          "text": [
            "0it [00:00, ?it/s]\n"
          ]
        },
        {
          "output_type": "stream",
          "name": "stdout",
          "text": [
            "\n",
            "WARNING ⚠️ imgsz=[148, 1728] must be multiple of max stride 32, updating to [160, 1728]\n",
            "0: 160x1728 (no detections), 203.3ms\n",
            "Speed: 2.3ms preprocess, 203.3ms inference, 0.7ms postprocess per image at shape (1, 3, 160, 1728)\n"
          ]
        },
        {
          "output_type": "stream",
          "name": "stderr",
          "text": [
            "0it [00:00, ?it/s]\n"
          ]
        },
        {
          "output_type": "stream",
          "name": "stdout",
          "text": [
            "\n",
            "WARNING ⚠️ imgsz=[105, 1728] must be multiple of max stride 32, updating to [128, 1728]\n",
            "0: 128x1728 (no detections), 161.0ms\n",
            "Speed: 2.5ms preprocess, 161.0ms inference, 0.7ms postprocess per image at shape (1, 3, 128, 1728)\n"
          ]
        },
        {
          "output_type": "stream",
          "name": "stderr",
          "text": [
            "0it [00:00, ?it/s]\n"
          ]
        },
        {
          "output_type": "stream",
          "name": "stdout",
          "text": [
            "\n",
            "WARNING ⚠️ imgsz=[214, 1728] must be multiple of max stride 32, updating to [224, 1728]\n",
            "0: 224x1728 (no detections), 277.2ms\n",
            "Speed: 2.7ms preprocess, 277.2ms inference, 0.9ms postprocess per image at shape (1, 3, 224, 1728)\n"
          ]
        },
        {
          "output_type": "stream",
          "name": "stderr",
          "text": [
            "0it [00:00, ?it/s]\n"
          ]
        },
        {
          "output_type": "stream",
          "name": "stdout",
          "text": [
            "\n",
            "WARNING ⚠️ imgsz=[104, 1152] must be multiple of max stride 32, updating to [128, 1152]\n",
            "0: 128x1152 (no detections), 109.6ms\n",
            "Speed: 1.5ms preprocess, 109.6ms inference, 0.7ms postprocess per image at shape (1, 3, 128, 1152)\n"
          ]
        },
        {
          "output_type": "stream",
          "name": "stderr",
          "text": [
            "0it [00:00, ?it/s]\n"
          ]
        },
        {
          "output_type": "stream",
          "name": "stdout",
          "text": [
            "\n",
            "WARNING ⚠️ imgsz=[105, 1152] must be multiple of max stride 32, updating to [128, 1152]\n",
            "0: 128x1152 (no detections), 138.0ms\n",
            "Speed: 1.9ms preprocess, 138.0ms inference, 0.7ms postprocess per image at shape (1, 3, 128, 1152)\n"
          ]
        },
        {
          "output_type": "stream",
          "name": "stderr",
          "text": [
            "0it [00:00, ?it/s]"
          ]
        },
        {
          "output_type": "stream",
          "name": "stdout",
          "text": [
            "\n",
            "WARNING ⚠️ imgsz=[212, 1728] must be multiple of max stride 32, updating to [224, 1728]\n"
          ]
        },
        {
          "output_type": "stream",
          "name": "stderr",
          "text": [
            "\n"
          ]
        },
        {
          "output_type": "stream",
          "name": "stdout",
          "text": [
            "0: 224x1728 (no detections), 272.3ms\n",
            "Speed: 3.9ms preprocess, 272.3ms inference, 0.8ms postprocess per image at shape (1, 3, 224, 1728)\n"
          ]
        },
        {
          "output_type": "stream",
          "name": "stderr",
          "text": [
            "0it [00:00, ?it/s]\n"
          ]
        },
        {
          "output_type": "stream",
          "name": "stdout",
          "text": [
            "\n",
            "WARNING ⚠️ imgsz=[145, 1728] must be multiple of max stride 32, updating to [160, 1728]\n",
            "0: 160x1728 (no detections), 224.3ms\n",
            "Speed: 3.5ms preprocess, 224.3ms inference, 0.8ms postprocess per image at shape (1, 3, 160, 1728)\n"
          ]
        },
        {
          "output_type": "stream",
          "name": "stderr",
          "text": [
            "0it [00:00, ?it/s]\n"
          ]
        },
        {
          "output_type": "stream",
          "name": "stdout",
          "text": [
            "\n",
            "WARNING ⚠️ imgsz=[216, 1728] must be multiple of max stride 32, updating to [224, 1728]\n",
            "0: 224x1728 (no detections), 285.1ms\n",
            "Speed: 2.6ms preprocess, 285.1ms inference, 0.8ms postprocess per image at shape (1, 3, 224, 1728)\n"
          ]
        },
        {
          "output_type": "stream",
          "name": "stderr",
          "text": [
            "0it [00:00, ?it/s]\n"
          ]
        },
        {
          "output_type": "stream",
          "name": "stdout",
          "text": [
            "\n",
            "WARNING ⚠️ imgsz=[1086, 768] must be multiple of max stride 32, updating to [1088, 768]\n",
            "0: 1088x768 (no detections), 647.8ms\n",
            "Speed: 6.1ms preprocess, 647.8ms inference, 0.7ms postprocess per image at shape (1, 3, 1088, 768)\n"
          ]
        },
        {
          "output_type": "stream",
          "name": "stderr",
          "text": [
            "0it [00:00, ?it/s]\n"
          ]
        },
        {
          "output_type": "stream",
          "name": "stdout",
          "text": [
            "\n",
            "WARNING ⚠️ imgsz=[147, 1728] must be multiple of max stride 32, updating to [160, 1728]\n",
            "0: 160x1728 (no detections), 227.2ms\n",
            "Speed: 2.6ms preprocess, 227.2ms inference, 4.5ms postprocess per image at shape (1, 3, 160, 1728)\n"
          ]
        },
        {
          "output_type": "stream",
          "name": "stderr",
          "text": [
            "0it [00:00, ?it/s]\n"
          ]
        },
        {
          "output_type": "stream",
          "name": "stdout",
          "text": [
            "\n",
            "WARNING ⚠️ imgsz=[149, 1728] must be multiple of max stride 32, updating to [160, 1728]\n",
            "0: 160x1728 (no detections), 215.2ms\n",
            "Speed: 2.7ms preprocess, 215.2ms inference, 0.7ms postprocess per image at shape (1, 3, 160, 1728)\n"
          ]
        },
        {
          "output_type": "stream",
          "name": "stderr",
          "text": [
            "0it [00:00, ?it/s]\n"
          ]
        },
        {
          "output_type": "stream",
          "name": "stdout",
          "text": [
            "\n",
            "WARNING ⚠️ imgsz=[155, 1728] must be multiple of max stride 32, updating to [160, 1728]\n",
            "0: 160x1728 (no detections), 299.1ms\n",
            "Speed: 2.8ms preprocess, 299.1ms inference, 0.9ms postprocess per image at shape (1, 3, 160, 1728)\n"
          ]
        },
        {
          "output_type": "stream",
          "name": "stderr",
          "text": [
            "0it [00:00, ?it/s]\n"
          ]
        },
        {
          "output_type": "stream",
          "name": "stdout",
          "text": [
            "\n",
            "WARNING ⚠️ imgsz=[158, 1728] must be multiple of max stride 32, updating to [160, 1728]\n",
            "0: 160x1728 (no detections), 298.2ms\n",
            "Speed: 2.7ms preprocess, 298.2ms inference, 0.9ms postprocess per image at shape (1, 3, 160, 1728)\n"
          ]
        },
        {
          "output_type": "stream",
          "name": "stderr",
          "text": [
            "0it [00:00, ?it/s]\n"
          ]
        },
        {
          "output_type": "stream",
          "name": "stdout",
          "text": [
            "\n",
            "WARNING ⚠️ imgsz=[217, 1728] must be multiple of max stride 32, updating to [224, 1728]\n",
            "0: 224x1728 (no detections), 450.4ms\n",
            "Speed: 4.2ms preprocess, 450.4ms inference, 1.0ms postprocess per image at shape (1, 3, 224, 1728)\n"
          ]
        },
        {
          "output_type": "stream",
          "name": "stderr",
          "text": [
            "0it [00:00, ?it/s]\n"
          ]
        },
        {
          "output_type": "stream",
          "name": "stdout",
          "text": [
            "\n",
            "WARNING ⚠️ imgsz=[134, 768] must be multiple of max stride 32, updating to [160, 768]\n",
            "0: 160x768 (no detections), 137.0ms\n",
            "Speed: 1.3ms preprocess, 137.0ms inference, 1.1ms postprocess per image at shape (1, 3, 160, 768)\n"
          ]
        },
        {
          "output_type": "stream",
          "name": "stderr",
          "text": [
            "0it [00:00, ?it/s]"
          ]
        },
        {
          "output_type": "stream",
          "name": "stdout",
          "text": [
            "\n",
            "WARNING ⚠️ imgsz=[218, 768] must be multiple of max stride 32, updating to [224, 768]\n"
          ]
        },
        {
          "output_type": "stream",
          "name": "stderr",
          "text": [
            "\n"
          ]
        },
        {
          "output_type": "stream",
          "name": "stdout",
          "text": [
            "0: 224x768 (no detections), 213.0ms\n",
            "Speed: 1.7ms preprocess, 213.0ms inference, 1.0ms postprocess per image at shape (1, 3, 224, 768)\n"
          ]
        },
        {
          "output_type": "stream",
          "name": "stderr",
          "text": [
            "0it [00:00, ?it/s]"
          ]
        },
        {
          "output_type": "stream",
          "name": "stdout",
          "text": [
            "\n",
            "WARNING ⚠️ imgsz=[107, 1152] must be multiple of max stride 32, updating to [128, 1152]\n"
          ]
        },
        {
          "output_type": "stream",
          "name": "stderr",
          "text": [
            "\n"
          ]
        },
        {
          "output_type": "stream",
          "name": "stdout",
          "text": [
            "0: 128x1152 (no detections), 197.4ms\n",
            "Speed: 1.7ms preprocess, 197.4ms inference, 0.9ms postprocess per image at shape (1, 3, 128, 1152)\n"
          ]
        },
        {
          "output_type": "stream",
          "name": "stderr",
          "text": [
            "0it [00:00, ?it/s]\n"
          ]
        },
        {
          "output_type": "stream",
          "name": "stdout",
          "text": [
            "\n",
            "WARNING ⚠️ imgsz=[1086, 768] must be multiple of max stride 32, updating to [1088, 768]\n",
            "0: 1088x768 (no detections), 657.0ms\n",
            "Speed: 6.4ms preprocess, 657.0ms inference, 0.8ms postprocess per image at shape (1, 3, 1088, 768)\n"
          ]
        },
        {
          "output_type": "stream",
          "name": "stderr",
          "text": [
            "0it [00:00, ?it/s]\n"
          ]
        },
        {
          "output_type": "stream",
          "name": "stdout",
          "text": [
            "\n",
            "WARNING ⚠️ imgsz=[1086, 768] must be multiple of max stride 32, updating to [1088, 768]\n",
            "0: 1088x768 (no detections), 642.7ms\n",
            "Speed: 6.1ms preprocess, 642.7ms inference, 0.8ms postprocess per image at shape (1, 3, 1088, 768)\n"
          ]
        },
        {
          "output_type": "stream",
          "name": "stderr",
          "text": [
            "0it [00:00, ?it/s]\n"
          ]
        },
        {
          "output_type": "stream",
          "name": "stdout",
          "text": [
            "\n",
            "WARNING ⚠️ imgsz=[222, 1728] must be multiple of max stride 32, updating to [224, 1728]\n",
            "0: 224x1728 (no detections), 395.7ms\n",
            "Speed: 3.5ms preprocess, 395.7ms inference, 8.4ms postprocess per image at shape (1, 3, 224, 1728)\n"
          ]
        },
        {
          "output_type": "stream",
          "name": "stderr",
          "text": [
            "0it [00:00, ?it/s]\n"
          ]
        },
        {
          "output_type": "stream",
          "name": "stdout",
          "text": [
            "\n",
            "WARNING ⚠️ imgsz=[197, 1728] must be multiple of max stride 32, updating to [224, 1728]\n",
            "0: 224x1728 (no detections), 467.7ms\n",
            "Speed: 4.5ms preprocess, 467.7ms inference, 0.9ms postprocess per image at shape (1, 3, 224, 1728)\n"
          ]
        },
        {
          "output_type": "stream",
          "name": "stderr",
          "text": [
            "0it [00:00, ?it/s]\n"
          ]
        },
        {
          "output_type": "stream",
          "name": "stdout",
          "text": [
            "\n",
            "WARNING ⚠️ imgsz=[85, 768] must be multiple of max stride 32, updating to [96, 768]\n",
            "0: 96x768 (no detections), 93.6ms\n",
            "Speed: 1.1ms preprocess, 93.6ms inference, 1.2ms postprocess per image at shape (1, 3, 96, 768)\n"
          ]
        },
        {
          "output_type": "stream",
          "name": "stderr",
          "text": [
            "0it [00:00, ?it/s]"
          ]
        },
        {
          "output_type": "stream",
          "name": "stdout",
          "text": [
            "\n",
            "WARNING ⚠️ imgsz=[112, 1728] must be multiple of max stride 32, updating to [128, 1728]\n"
          ]
        },
        {
          "output_type": "stream",
          "name": "stderr",
          "text": [
            "\n"
          ]
        },
        {
          "output_type": "stream",
          "name": "stdout",
          "text": [
            "0: 128x1728 (no detections), 305.5ms\n",
            "Speed: 6.5ms preprocess, 305.5ms inference, 1.0ms postprocess per image at shape (1, 3, 128, 1728)\n"
          ]
        },
        {
          "output_type": "stream",
          "name": "stderr",
          "text": [
            "0it [00:00, ?it/s]\n"
          ]
        },
        {
          "output_type": "stream",
          "name": "stdout",
          "text": [
            "\n",
            "WARNING ⚠️ imgsz=[113, 1152] must be multiple of max stride 32, updating to [128, 1152]\n",
            "0: 128x1152 (no detections), 190.3ms\n",
            "Speed: 1.6ms preprocess, 190.3ms inference, 1.0ms postprocess per image at shape (1, 3, 128, 1152)\n"
          ]
        },
        {
          "output_type": "stream",
          "name": "stderr",
          "text": [
            "0it [00:00, ?it/s]\n"
          ]
        },
        {
          "output_type": "stream",
          "name": "stdout",
          "text": [
            "\n",
            "WARNING ⚠️ imgsz=[1086, 768] must be multiple of max stride 32, updating to [1088, 768]\n",
            "0: 1088x768 (no detections), 654.4ms\n",
            "Speed: 9.0ms preprocess, 654.4ms inference, 0.7ms postprocess per image at shape (1, 3, 1088, 768)\n"
          ]
        },
        {
          "output_type": "stream",
          "name": "stderr",
          "text": [
            "0it [00:00, ?it/s]\n"
          ]
        },
        {
          "output_type": "stream",
          "name": "stdout",
          "text": [
            "\n",
            "WARNING ⚠️ imgsz=[1086, 768] must be multiple of max stride 32, updating to [1088, 768]\n",
            "0: 1088x768 (no detections), 1001.8ms\n",
            "Speed: 9.1ms preprocess, 1001.8ms inference, 1.0ms postprocess per image at shape (1, 3, 1088, 768)\n"
          ]
        },
        {
          "output_type": "stream",
          "name": "stderr",
          "text": [
            "0it [00:00, ?it/s]\n"
          ]
        },
        {
          "output_type": "stream",
          "name": "stdout",
          "text": [
            "\n",
            "WARNING ⚠️ imgsz=[377, 768] must be multiple of max stride 32, updating to [384, 768]\n",
            "0: 384x768 1 isolated, 377.9ms\n",
            "Speed: 3.1ms preprocess, 377.9ms inference, 17.9ms postprocess per image at shape (1, 3, 384, 768)\n"
          ]
        },
        {
          "output_type": "stream",
          "name": "stderr",
          "text": [
            "100%|██████████| 1/1 [00:00<00:00,  1.21it/s]\n"
          ]
        },
        {
          "output_type": "stream",
          "name": "stdout",
          "text": [
            "\n",
            "WARNING ⚠️ imgsz=[330, 1728] must be multiple of max stride 32, updating to [352, 1728]\n",
            "0: 352x1728 (no detections), 438.3ms\n",
            "Speed: 3.7ms preprocess, 438.3ms inference, 0.7ms postprocess per image at shape (1, 3, 352, 1728)\n"
          ]
        },
        {
          "output_type": "stream",
          "name": "stderr",
          "text": [
            "0it [00:00, ?it/s]\n"
          ]
        },
        {
          "output_type": "stream",
          "name": "stdout",
          "text": [
            "\n",
            "WARNING ⚠️ imgsz=[109, 1728] must be multiple of max stride 32, updating to [128, 1728]\n",
            "0: 128x1728 1 embedding, 170.5ms\n",
            "Speed: 1.9ms preprocess, 170.5ms inference, 1.4ms postprocess per image at shape (1, 3, 128, 1728)\n"
          ]
        },
        {
          "output_type": "stream",
          "name": "stderr",
          "text": [
            "100%|██████████| 1/1 [00:00<00:00,  2.11it/s]\n"
          ]
        },
        {
          "output_type": "stream",
          "name": "stdout",
          "text": [
            "\n",
            "WARNING ⚠️ imgsz=[147, 1728] must be multiple of max stride 32, updating to [160, 1728]\n",
            "0: 160x1728 (no detections), 205.2ms\n",
            "Speed: 3.4ms preprocess, 205.2ms inference, 0.7ms postprocess per image at shape (1, 3, 160, 1728)\n"
          ]
        },
        {
          "output_type": "stream",
          "name": "stderr",
          "text": [
            "0it [00:00, ?it/s]\n"
          ]
        },
        {
          "output_type": "stream",
          "name": "stdout",
          "text": [
            "\n",
            "WARNING ⚠️ imgsz=[80, 1152] must be multiple of max stride 32, updating to [96, 1152]\n",
            "0: 96x1152 (no detections), 86.6ms\n",
            "Speed: 1.3ms preprocess, 86.6ms inference, 0.7ms postprocess per image at shape (1, 3, 96, 1152)\n"
          ]
        },
        {
          "output_type": "stream",
          "name": "stderr",
          "text": [
            "0it [00:00, ?it/s]"
          ]
        },
        {
          "output_type": "stream",
          "name": "stdout",
          "text": [
            "\n",
            "WARNING ⚠️ imgsz=[109, 1728] must be multiple of max stride 32, updating to [128, 1728]\n"
          ]
        },
        {
          "output_type": "stream",
          "name": "stderr",
          "text": [
            "\n"
          ]
        },
        {
          "output_type": "stream",
          "name": "stdout",
          "text": [
            "0: 128x1728 (no detections), 170.7ms\n",
            "Speed: 2.3ms preprocess, 170.7ms inference, 0.7ms postprocess per image at shape (1, 3, 128, 1728)\n"
          ]
        },
        {
          "output_type": "stream",
          "name": "stderr",
          "text": [
            "0it [00:00, ?it/s]"
          ]
        },
        {
          "output_type": "stream",
          "name": "stdout",
          "text": [
            "\n",
            "WARNING ⚠️ imgsz=[104, 768] must be multiple of max stride 32, updating to [128, 768]\n"
          ]
        },
        {
          "output_type": "stream",
          "name": "stderr",
          "text": [
            "\n"
          ]
        },
        {
          "output_type": "stream",
          "name": "stdout",
          "text": [
            "0: 128x768 (no detections), 86.9ms\n",
            "Speed: 1.6ms preprocess, 86.9ms inference, 0.7ms postprocess per image at shape (1, 3, 128, 768)\n"
          ]
        },
        {
          "output_type": "stream",
          "name": "stderr",
          "text": [
            "0it [00:00, ?it/s]"
          ]
        },
        {
          "output_type": "stream",
          "name": "stdout",
          "text": [
            "\n",
            "WARNING ⚠️ imgsz=[104, 768] must be multiple of max stride 32, updating to [128, 768]\n",
            "0: 128x768 (no detections), 77.2ms\n",
            "Speed: 1.1ms preprocess, 77.2ms inference, 0.8ms postprocess per image at shape (1, 3, 128, 768)\n"
          ]
        },
        {
          "output_type": "stream",
          "name": "stderr",
          "text": [
            "\n",
            "0it [00:00, ?it/s]\n"
          ]
        },
        {
          "output_type": "stream",
          "name": "stdout",
          "text": [
            "\n",
            "WARNING ⚠️ imgsz=[325, 768] must be multiple of max stride 32, updating to [352, 768]\n",
            "0: 352x768 1 isolated, 205.0ms\n",
            "Speed: 2.0ms preprocess, 205.0ms inference, 1.6ms postprocess per image at shape (1, 3, 352, 768)\n"
          ]
        },
        {
          "output_type": "stream",
          "name": "stderr",
          "text": [
            "100%|██████████| 1/1 [00:00<00:00,  1.18it/s]\n"
          ]
        },
        {
          "output_type": "stream",
          "name": "stdout",
          "text": [
            "\n",
            "WARNING ⚠️ imgsz=[1086, 768] must be multiple of max stride 32, updating to [1088, 768]\n",
            "0: 1088x768 (no detections), 695.6ms\n",
            "Speed: 6.7ms preprocess, 695.6ms inference, 0.8ms postprocess per image at shape (1, 3, 1088, 768)\n"
          ]
        },
        {
          "output_type": "stream",
          "name": "stderr",
          "text": [
            "0it [00:00, ?it/s]\n"
          ]
        },
        {
          "output_type": "stream",
          "name": "stdout",
          "text": [
            "\n",
            "WARNING ⚠️ imgsz=[210, 768] must be multiple of max stride 32, updating to [224, 768]\n",
            "0: 224x768 1 embedding, 131.0ms\n",
            "Speed: 1.7ms preprocess, 131.0ms inference, 3.3ms postprocess per image at shape (1, 3, 224, 768)\n"
          ]
        },
        {
          "output_type": "stream",
          "name": "stderr",
          "text": [
            "100%|██████████| 1/1 [00:00<00:00,  1.61it/s]"
          ]
        },
        {
          "output_type": "stream",
          "name": "stdout",
          "text": [
            "\n",
            "WARNING ⚠️ imgsz=[93, 1152] must be multiple of max stride 32, updating to [96, 1152]\n"
          ]
        },
        {
          "output_type": "stream",
          "name": "stderr",
          "text": [
            "\n"
          ]
        },
        {
          "output_type": "stream",
          "name": "stdout",
          "text": [
            "0: 96x1152 (no detections), 132.0ms\n",
            "Speed: 1.2ms preprocess, 132.0ms inference, 1.0ms postprocess per image at shape (1, 3, 96, 1152)\n"
          ]
        },
        {
          "output_type": "stream",
          "name": "stderr",
          "text": [
            "0it [00:00, ?it/s]\n"
          ]
        },
        {
          "output_type": "stream",
          "name": "stdout",
          "text": [
            "\n",
            "WARNING ⚠️ imgsz=[1086, 768] must be multiple of max stride 32, updating to [1088, 768]\n",
            "0: 1088x768 (no detections), 671.3ms\n",
            "Speed: 5.9ms preprocess, 671.3ms inference, 0.8ms postprocess per image at shape (1, 3, 1088, 768)\n"
          ]
        },
        {
          "output_type": "stream",
          "name": "stderr",
          "text": [
            "0it [00:00, ?it/s]\n"
          ]
        },
        {
          "output_type": "stream",
          "name": "stdout",
          "text": [
            "\n",
            "WARNING ⚠️ imgsz=[99, 768] must be multiple of max stride 32, updating to [128, 768]\n",
            "0: 128x768 (no detections), 84.1ms\n",
            "Speed: 1.0ms preprocess, 84.1ms inference, 2.6ms postprocess per image at shape (1, 3, 128, 768)\n"
          ]
        },
        {
          "output_type": "stream",
          "name": "stderr",
          "text": [
            "0it [00:00, ?it/s]"
          ]
        },
        {
          "output_type": "stream",
          "name": "stdout",
          "text": [
            "\n",
            "WARNING ⚠️ imgsz=[380, 768] must be multiple of max stride 32, updating to [384, 768]\n"
          ]
        },
        {
          "output_type": "stream",
          "name": "stderr",
          "text": [
            "\n"
          ]
        },
        {
          "output_type": "stream",
          "name": "stdout",
          "text": [
            "0: 384x768 1 isolated, 256.8ms\n",
            "Speed: 2.6ms preprocess, 256.8ms inference, 1.5ms postprocess per image at shape (1, 3, 384, 768)\n"
          ]
        },
        {
          "output_type": "stream",
          "name": "stderr",
          "text": [
            "100%|██████████| 1/1 [00:00<00:00,  1.69it/s]"
          ]
        },
        {
          "output_type": "stream",
          "name": "stdout",
          "text": [
            "\n"
          ]
        },
        {
          "output_type": "stream",
          "name": "stderr",
          "text": [
            "\n"
          ]
        },
        {
          "output_type": "stream",
          "name": "stdout",
          "text": [
            "0: 544x768 1 isolated, 344.4ms\n",
            "Speed: 3.2ms preprocess, 344.4ms inference, 1.6ms postprocess per image at shape (1, 3, 544, 768)\n"
          ]
        },
        {
          "output_type": "stream",
          "name": "stderr",
          "text": [
            "100%|██████████| 1/1 [00:00<00:00,  2.31it/s]"
          ]
        },
        {
          "output_type": "stream",
          "name": "stdout",
          "text": [
            "\n",
            "WARNING ⚠️ imgsz=[270, 768] must be multiple of max stride 32, updating to [288, 768]\n"
          ]
        },
        {
          "output_type": "stream",
          "name": "stderr",
          "text": [
            "\n"
          ]
        },
        {
          "output_type": "stream",
          "name": "stdout",
          "text": [
            "0: 288x768 (no detections), 180.2ms\n",
            "Speed: 2.0ms preprocess, 180.2ms inference, 0.8ms postprocess per image at shape (1, 3, 288, 768)\n"
          ]
        },
        {
          "output_type": "stream",
          "name": "stderr",
          "text": [
            "0it [00:00, ?it/s]"
          ]
        },
        {
          "output_type": "stream",
          "name": "stdout",
          "text": [
            "\n",
            "WARNING ⚠️ imgsz=[534, 768] must be multiple of max stride 32, updating to [544, 768]\n"
          ]
        },
        {
          "output_type": "stream",
          "name": "stderr",
          "text": [
            "\n"
          ]
        },
        {
          "output_type": "stream",
          "name": "stdout",
          "text": [
            "0: 544x768 1 isolated, 361.7ms\n",
            "Speed: 2.5ms preprocess, 361.7ms inference, 1.6ms postprocess per image at shape (1, 3, 544, 768)\n"
          ]
        },
        {
          "output_type": "stream",
          "name": "stderr",
          "text": [
            "100%|██████████| 1/1 [00:00<00:00,  1.97it/s]"
          ]
        },
        {
          "output_type": "stream",
          "name": "stdout",
          "text": [
            "\n",
            "WARNING ⚠️ imgsz=[568, 768] must be multiple of max stride 32, updating to [576, 768]\n"
          ]
        },
        {
          "output_type": "stream",
          "name": "stderr",
          "text": [
            "\n"
          ]
        },
        {
          "output_type": "stream",
          "name": "stdout",
          "text": [
            "0: 576x768 1 isolated, 363.1ms\n",
            "Speed: 2.6ms preprocess, 363.1ms inference, 1.5ms postprocess per image at shape (1, 3, 576, 768)\n"
          ]
        },
        {
          "output_type": "stream",
          "name": "stderr",
          "text": [
            "100%|██████████| 1/1 [00:00<00:00,  1.68it/s]"
          ]
        },
        {
          "output_type": "stream",
          "name": "stdout",
          "text": [
            "\n",
            "WARNING ⚠️ imgsz=[260, 768] must be multiple of max stride 32, updating to [288, 768]\n"
          ]
        },
        {
          "output_type": "stream",
          "name": "stderr",
          "text": [
            "\n"
          ]
        },
        {
          "output_type": "stream",
          "name": "stdout",
          "text": [
            "0: 288x768 (no detections), 191.0ms\n",
            "Speed: 1.7ms preprocess, 191.0ms inference, 0.7ms postprocess per image at shape (1, 3, 288, 768)\n"
          ]
        },
        {
          "output_type": "stream",
          "name": "stderr",
          "text": [
            "0it [00:00, ?it/s]"
          ]
        },
        {
          "output_type": "stream",
          "name": "stdout",
          "text": [
            "\n",
            "WARNING ⚠️ imgsz=[474, 768] must be multiple of max stride 32, updating to [480, 768]\n"
          ]
        },
        {
          "output_type": "stream",
          "name": "stderr",
          "text": [
            "\n"
          ]
        },
        {
          "output_type": "stream",
          "name": "stdout",
          "text": [
            "0: 480x768 1 isolated, 293.1ms\n",
            "Speed: 2.3ms preprocess, 293.1ms inference, 1.6ms postprocess per image at shape (1, 3, 480, 768)\n"
          ]
        },
        {
          "output_type": "stream",
          "name": "stderr",
          "text": [
            "100%|██████████| 1/1 [00:00<00:00,  1.88it/s]"
          ]
        },
        {
          "output_type": "stream",
          "name": "stdout",
          "text": [
            "\n",
            "WARNING ⚠️ imgsz=[79, 768] must be multiple of max stride 32, updating to [96, 768]\n",
            "0: 96x768 1 isolated, 56.9ms\n",
            "Speed: 0.9ms preprocess, 56.9ms inference, 1.3ms postprocess per image at shape (1, 3, 96, 768)\n"
          ]
        },
        {
          "output_type": "stream",
          "name": "stderr",
          "text": [
            "\n",
            "100%|██████████| 1/1 [00:06<00:00,  6.92s/it]"
          ]
        },
        {
          "output_type": "stream",
          "name": "stdout",
          "text": [
            "\n",
            "WARNING ⚠️ imgsz=[119, 1728] must be multiple of max stride 32, updating to [128, 1728]\n"
          ]
        },
        {
          "output_type": "stream",
          "name": "stderr",
          "text": [
            "\n"
          ]
        },
        {
          "output_type": "stream",
          "name": "stdout",
          "text": [
            "0: 128x1728 (no detections), 173.6ms\n",
            "Speed: 2.3ms preprocess, 173.6ms inference, 0.7ms postprocess per image at shape (1, 3, 128, 1728)\n"
          ]
        },
        {
          "output_type": "stream",
          "name": "stderr",
          "text": [
            "0it [00:00, ?it/s]"
          ]
        },
        {
          "output_type": "stream",
          "name": "stdout",
          "text": [
            "\n",
            "WARNING ⚠️ imgsz=[295, 768] must be multiple of max stride 32, updating to [320, 768]\n"
          ]
        },
        {
          "output_type": "stream",
          "name": "stderr",
          "text": [
            "\n"
          ]
        },
        {
          "output_type": "stream",
          "name": "stdout",
          "text": [
            "0: 320x768 (no detections), 199.0ms\n",
            "Speed: 1.8ms preprocess, 199.0ms inference, 0.7ms postprocess per image at shape (1, 3, 320, 768)\n"
          ]
        },
        {
          "output_type": "stream",
          "name": "stderr",
          "text": [
            "0it [00:00, ?it/s]"
          ]
        },
        {
          "output_type": "stream",
          "name": "stdout",
          "text": [
            "\n",
            "WARNING ⚠️ imgsz=[111, 1152] must be multiple of max stride 32, updating to [128, 1152]\n"
          ]
        },
        {
          "output_type": "stream",
          "name": "stderr",
          "text": [
            "\n"
          ]
        },
        {
          "output_type": "stream",
          "name": "stdout",
          "text": [
            "0: 128x1152 3 embeddings, 130.1ms\n",
            "Speed: 2.0ms preprocess, 130.1ms inference, 1.5ms postprocess per image at shape (1, 3, 128, 1152)\n"
          ]
        },
        {
          "output_type": "stream",
          "name": "stderr",
          "text": [
            "100%|██████████| 3/3 [00:01<00:00,  2.05it/s]"
          ]
        },
        {
          "output_type": "stream",
          "name": "stdout",
          "text": [
            "\n",
            "WARNING ⚠️ imgsz=[290, 768] must be multiple of max stride 32, updating to [320, 768]\n"
          ]
        },
        {
          "output_type": "stream",
          "name": "stderr",
          "text": [
            "\n"
          ]
        },
        {
          "output_type": "stream",
          "name": "stdout",
          "text": [
            "0: 320x768 (no detections), 211.9ms\n",
            "Speed: 1.7ms preprocess, 211.9ms inference, 0.8ms postprocess per image at shape (1, 3, 320, 768)\n"
          ]
        },
        {
          "output_type": "stream",
          "name": "stderr",
          "text": [
            "0it [00:00, ?it/s]"
          ]
        },
        {
          "output_type": "stream",
          "name": "stdout",
          "text": [
            "\n",
            "WARNING ⚠️ imgsz=[75, 768] must be multiple of max stride 32, updating to [96, 768]\n",
            "0: 96x768 1 embedding, 64.7ms\n",
            "Speed: 1.1ms preprocess, 64.7ms inference, 1.6ms postprocess per image at shape (1, 3, 96, 768)\n"
          ]
        },
        {
          "output_type": "stream",
          "name": "stderr",
          "text": [
            "\n",
            "100%|██████████| 1/1 [00:00<00:00,  2.09it/s]"
          ]
        },
        {
          "output_type": "stream",
          "name": "stdout",
          "text": [
            "\n",
            "WARNING ⚠️ imgsz=[599, 768] must be multiple of max stride 32, updating to [608, 768]\n"
          ]
        },
        {
          "output_type": "stream",
          "name": "stderr",
          "text": [
            "\n"
          ]
        },
        {
          "output_type": "stream",
          "name": "stdout",
          "text": [
            "0: 608x768 1 isolated, 372.0ms\n",
            "Speed: 2.6ms preprocess, 372.0ms inference, 1.6ms postprocess per image at shape (1, 3, 608, 768)\n"
          ]
        },
        {
          "output_type": "stream",
          "name": "stderr",
          "text": [
            "100%|██████████| 1/1 [00:00<00:00,  1.63it/s]"
          ]
        },
        {
          "output_type": "stream",
          "name": "stdout",
          "text": [
            "\n",
            "WARNING ⚠️ imgsz=[802, 768] must be multiple of max stride 32, updating to [832, 768]\n"
          ]
        },
        {
          "output_type": "stream",
          "name": "stderr",
          "text": [
            "\n"
          ]
        },
        {
          "output_type": "stream",
          "name": "stdout",
          "text": [
            "0: 832x768 2 isolateds, 519.0ms\n",
            "Speed: 5.3ms preprocess, 519.0ms inference, 1.5ms postprocess per image at shape (1, 3, 832, 768)\n"
          ]
        },
        {
          "output_type": "stream",
          "name": "stderr",
          "text": [
            "100%|██████████| 1/1 [00:00<00:00,  2.43it/s]\n"
          ]
        },
        {
          "output_type": "stream",
          "name": "stdout",
          "text": [
            "\n",
            "WARNING ⚠️ imgsz=[151, 768] must be multiple of max stride 32, updating to [160, 768]\n",
            "0: 160x768 (no detections), 110.9ms\n",
            "Speed: 1.3ms preprocess, 110.9ms inference, 0.8ms postprocess per image at shape (1, 3, 160, 768)\n"
          ]
        },
        {
          "output_type": "stream",
          "name": "stderr",
          "text": [
            "0it [00:00, ?it/s]"
          ]
        },
        {
          "output_type": "stream",
          "name": "stdout",
          "text": [
            "\n",
            "WARNING ⚠️ imgsz=[90, 768] must be multiple of max stride 32, updating to [96, 768]\n",
            "0: 96x768 (no detections), 58.8ms\n",
            "Speed: 1.1ms preprocess, 58.8ms inference, 0.7ms postprocess per image at shape (1, 3, 96, 768)\n"
          ]
        },
        {
          "output_type": "stream",
          "name": "stderr",
          "text": [
            "\n",
            "0it [00:00, ?it/s]\n"
          ]
        },
        {
          "output_type": "stream",
          "name": "stdout",
          "text": [
            "\n",
            "WARNING ⚠️ imgsz=[193, 768] must be multiple of max stride 32, updating to [224, 768]\n",
            "0: 224x768 1 embedding, 132.5ms\n",
            "Speed: 1.4ms preprocess, 132.5ms inference, 1.5ms postprocess per image at shape (1, 3, 224, 768)\n"
          ]
        },
        {
          "output_type": "stream",
          "name": "stderr",
          "text": [
            "100%|██████████| 1/1 [00:00<00:00,  1.99it/s]"
          ]
        },
        {
          "output_type": "stream",
          "name": "stdout",
          "text": [
            "\n",
            "WARNING ⚠️ imgsz=[190, 768] must be multiple of max stride 32, updating to [192, 768]\n"
          ]
        },
        {
          "output_type": "stream",
          "name": "stderr",
          "text": [
            "\n"
          ]
        },
        {
          "output_type": "stream",
          "name": "stdout",
          "text": [
            "0: 192x768 1 embedding, 118.8ms\n",
            "Speed: 1.9ms preprocess, 118.8ms inference, 2.4ms postprocess per image at shape (1, 3, 192, 768)\n"
          ]
        },
        {
          "output_type": "stream",
          "name": "stderr",
          "text": [
            "100%|██████████| 1/1 [00:00<00:00,  2.49it/s]"
          ]
        },
        {
          "output_type": "stream",
          "name": "stdout",
          "text": [
            "\n",
            "WARNING ⚠️ imgsz=[282, 768] must be multiple of max stride 32, updating to [288, 768]\n"
          ]
        },
        {
          "output_type": "stream",
          "name": "stderr",
          "text": [
            "\n"
          ]
        },
        {
          "output_type": "stream",
          "name": "stdout",
          "text": [
            "0: 288x768 1 isolated, 187.5ms\n",
            "Speed: 1.7ms preprocess, 187.5ms inference, 1.5ms postprocess per image at shape (1, 3, 288, 768)\n"
          ]
        },
        {
          "output_type": "stream",
          "name": "stderr",
          "text": [
            "100%|██████████| 1/1 [00:00<00:00,  1.49it/s]"
          ]
        },
        {
          "output_type": "stream",
          "name": "stdout",
          "text": [
            "\n",
            "WARNING ⚠️ imgsz=[90, 1152] must be multiple of max stride 32, updating to [96, 1152]\n"
          ]
        },
        {
          "output_type": "stream",
          "name": "stderr",
          "text": [
            "\n"
          ]
        },
        {
          "output_type": "stream",
          "name": "stdout",
          "text": [
            "0: 96x1152 (no detections), 95.6ms\n",
            "Speed: 1.5ms preprocess, 95.6ms inference, 0.8ms postprocess per image at shape (1, 3, 96, 1152)\n"
          ]
        },
        {
          "output_type": "stream",
          "name": "stderr",
          "text": [
            "0it [00:00, ?it/s]\n"
          ]
        },
        {
          "output_type": "stream",
          "name": "stdout",
          "text": [
            "\n",
            "WARNING ⚠️ imgsz=[150, 1728] must be multiple of max stride 32, updating to [160, 1728]\n",
            "0: 160x1728 (no detections), 318.4ms\n",
            "Speed: 4.9ms preprocess, 318.4ms inference, 1.0ms postprocess per image at shape (1, 3, 160, 1728)\n"
          ]
        },
        {
          "output_type": "stream",
          "name": "stderr",
          "text": [
            "0it [00:00, ?it/s]\n"
          ]
        },
        {
          "output_type": "stream",
          "name": "stdout",
          "text": [
            "\n",
            "WARNING ⚠️ imgsz=[151, 1728] must be multiple of max stride 32, updating to [160, 1728]\n",
            "0: 160x1728 (no detections), 301.8ms\n",
            "Speed: 3.0ms preprocess, 301.8ms inference, 0.9ms postprocess per image at shape (1, 3, 160, 1728)\n"
          ]
        },
        {
          "output_type": "stream",
          "name": "stderr",
          "text": [
            "0it [00:00, ?it/s]\n"
          ]
        },
        {
          "output_type": "stream",
          "name": "stdout",
          "text": [
            "\n",
            "WARNING ⚠️ imgsz=[159, 768] must be multiple of max stride 32, updating to [160, 768]\n",
            "0: 160x768 (no detections), 150.2ms\n",
            "Speed: 1.2ms preprocess, 150.2ms inference, 1.1ms postprocess per image at shape (1, 3, 160, 768)\n"
          ]
        },
        {
          "output_type": "stream",
          "name": "stderr",
          "text": [
            "0it [00:00, ?it/s]"
          ]
        },
        {
          "output_type": "stream",
          "name": "stdout",
          "text": [
            "\n",
            "WARNING ⚠️ imgsz=[163, 768] must be multiple of max stride 32, updating to [192, 768]\n"
          ]
        },
        {
          "output_type": "stream",
          "name": "stderr",
          "text": [
            "\n"
          ]
        },
        {
          "output_type": "stream",
          "name": "stdout",
          "text": [
            "0: 192x768 (no detections), 193.5ms\n",
            "Speed: 1.3ms preprocess, 193.5ms inference, 2.1ms postprocess per image at shape (1, 3, 192, 768)\n"
          ]
        },
        {
          "output_type": "stream",
          "name": "stderr",
          "text": [
            "0it [00:00, ?it/s]"
          ]
        },
        {
          "output_type": "stream",
          "name": "stdout",
          "text": [
            "\n",
            "WARNING ⚠️ imgsz=[92, 768] must be multiple of max stride 32, updating to [96, 768]\n"
          ]
        },
        {
          "output_type": "stream",
          "name": "stderr",
          "text": [
            "\n"
          ]
        },
        {
          "output_type": "stream",
          "name": "stdout",
          "text": [
            "0: 96x768 (no detections), 93.4ms\n",
            "Speed: 1.0ms preprocess, 93.4ms inference, 0.9ms postprocess per image at shape (1, 3, 96, 768)\n"
          ]
        },
        {
          "output_type": "stream",
          "name": "stderr",
          "text": [
            "0it [00:00, ?it/s]"
          ]
        },
        {
          "output_type": "stream",
          "name": "stdout",
          "text": [
            "\n",
            "WARNING ⚠️ imgsz=[203, 768] must be multiple of max stride 32, updating to [224, 768]\n"
          ]
        },
        {
          "output_type": "stream",
          "name": "stderr",
          "text": [
            "\n"
          ]
        },
        {
          "output_type": "stream",
          "name": "stdout",
          "text": [
            "0: 224x768 (no detections), 204.9ms\n",
            "Speed: 1.5ms preprocess, 204.9ms inference, 1.0ms postprocess per image at shape (1, 3, 224, 768)\n"
          ]
        },
        {
          "output_type": "stream",
          "name": "stderr",
          "text": [
            "0it [00:00, ?it/s]"
          ]
        },
        {
          "output_type": "stream",
          "name": "stdout",
          "text": [
            "\n",
            "WARNING ⚠️ imgsz=[163, 768] must be multiple of max stride 32, updating to [192, 768]\n"
          ]
        },
        {
          "output_type": "stream",
          "name": "stderr",
          "text": [
            "\n"
          ]
        },
        {
          "output_type": "stream",
          "name": "stdout",
          "text": [
            "0: 192x768 1 embedding, 191.0ms\n",
            "Speed: 1.5ms preprocess, 191.0ms inference, 2.3ms postprocess per image at shape (1, 3, 192, 768)\n"
          ]
        },
        {
          "output_type": "stream",
          "name": "stderr",
          "text": [
            "100%|██████████| 1/1 [00:00<00:00,  1.30it/s]"
          ]
        },
        {
          "output_type": "stream",
          "name": "stdout",
          "text": [
            "\n",
            "WARNING ⚠️ imgsz=[119, 768] must be multiple of max stride 32, updating to [128, 768]\n",
            "0: 128x768 (no detections), 81.2ms\n",
            "Speed: 1.3ms preprocess, 81.2ms inference, 0.8ms postprocess per image at shape (1, 3, 128, 768)\n"
          ]
        },
        {
          "output_type": "stream",
          "name": "stderr",
          "text": [
            "\n",
            "0it [00:00, ?it/s]\n"
          ]
        },
        {
          "output_type": "stream",
          "name": "stdout",
          "text": [
            "\n",
            "WARNING ⚠️ imgsz=[156, 1728] must be multiple of max stride 32, updating to [160, 1728]\n",
            "0: 160x1728 (no detections), 216.3ms\n",
            "Speed: 3.3ms preprocess, 216.3ms inference, 0.8ms postprocess per image at shape (1, 3, 160, 1728)\n"
          ]
        },
        {
          "output_type": "stream",
          "name": "stderr",
          "text": [
            "0it [00:00, ?it/s]\n"
          ]
        },
        {
          "output_type": "stream",
          "name": "stdout",
          "text": [
            "\n",
            "WARNING ⚠️ imgsz=[172, 1728] must be multiple of max stride 32, updating to [192, 1728]\n",
            "0: 192x1728 (no detections), 264.1ms\n",
            "Speed: 3.0ms preprocess, 264.1ms inference, 0.8ms postprocess per image at shape (1, 3, 192, 1728)\n"
          ]
        },
        {
          "output_type": "stream",
          "name": "stderr",
          "text": [
            "0it [00:00, ?it/s]\n"
          ]
        },
        {
          "output_type": "stream",
          "name": "stdout",
          "text": [
            "\n",
            "WARNING ⚠️ imgsz=[110, 768] must be multiple of max stride 32, updating to [128, 768]\n",
            "0: 128x768 (no detections), 89.0ms\n",
            "Speed: 1.3ms preprocess, 89.0ms inference, 0.8ms postprocess per image at shape (1, 3, 128, 768)\n"
          ]
        },
        {
          "output_type": "stream",
          "name": "stderr",
          "text": [
            "0it [00:00, ?it/s]"
          ]
        },
        {
          "output_type": "stream",
          "name": "stdout",
          "text": [
            "\n",
            "WARNING ⚠️ imgsz=[376, 768] must be multiple of max stride 32, updating to [384, 768]\n"
          ]
        },
        {
          "output_type": "stream",
          "name": "stderr",
          "text": [
            "\n"
          ]
        },
        {
          "output_type": "stream",
          "name": "stdout",
          "text": [
            "0: 384x768 1 isolated, 249.6ms\n",
            "Speed: 2.6ms preprocess, 249.6ms inference, 1.5ms postprocess per image at shape (1, 3, 384, 768)\n"
          ]
        },
        {
          "output_type": "stream",
          "name": "stderr",
          "text": [
            "100%|██████████| 1/1 [00:00<00:00,  1.52it/s]"
          ]
        },
        {
          "output_type": "stream",
          "name": "stdout",
          "text": [
            "\n",
            "WARNING ⚠️ imgsz=[95, 1728] must be multiple of max stride 32, updating to [96, 1728]\n"
          ]
        },
        {
          "output_type": "stream",
          "name": "stderr",
          "text": [
            "\n"
          ]
        },
        {
          "output_type": "stream",
          "name": "stdout",
          "text": [
            "0: 96x1728 (no detections), 131.0ms\n",
            "Speed: 1.8ms preprocess, 131.0ms inference, 0.8ms postprocess per image at shape (1, 3, 96, 1728)\n"
          ]
        },
        {
          "output_type": "stream",
          "name": "stderr",
          "text": [
            "0it [00:00, ?it/s]\n"
          ]
        },
        {
          "output_type": "stream",
          "name": "stdout",
          "text": [
            "\n",
            "WARNING ⚠️ imgsz=[1086, 768] must be multiple of max stride 32, updating to [1088, 768]\n",
            "0: 1088x768 (no detections), 655.7ms\n",
            "Speed: 6.2ms preprocess, 655.7ms inference, 0.7ms postprocess per image at shape (1, 3, 1088, 768)\n"
          ]
        },
        {
          "output_type": "stream",
          "name": "stderr",
          "text": [
            "0it [00:00, ?it/s]\n"
          ]
        },
        {
          "output_type": "stream",
          "name": "stdout",
          "text": [
            "\n",
            "WARNING ⚠️ imgsz=[209, 1728] must be multiple of max stride 32, updating to [224, 1728]\n",
            "0: 224x1728 1 embedding, 289.9ms\n",
            "Speed: 3.5ms preprocess, 289.9ms inference, 6.8ms postprocess per image at shape (1, 3, 224, 1728)\n"
          ]
        },
        {
          "output_type": "stream",
          "name": "stderr",
          "text": [
            "100%|██████████| 1/1 [00:00<00:00,  2.08it/s]\n"
          ]
        },
        {
          "output_type": "stream",
          "name": "stdout",
          "text": [
            "\n",
            "WARNING ⚠️ imgsz=[257, 1728] must be multiple of max stride 32, updating to [288, 1728]\n",
            "0: 288x1728 2 embeddings, 387.5ms\n",
            "Speed: 4.5ms preprocess, 387.5ms inference, 2.2ms postprocess per image at shape (1, 3, 288, 1728)\n"
          ]
        },
        {
          "output_type": "stream",
          "name": "stderr",
          "text": [
            "100%|██████████| 2/2 [00:00<00:00,  2.10it/s]\n"
          ]
        },
        {
          "output_type": "stream",
          "name": "stdout",
          "text": [
            "\n",
            "WARNING ⚠️ imgsz=[85, 1152] must be multiple of max stride 32, updating to [96, 1152]\n",
            "0: 96x1152 (no detections), 147.9ms\n",
            "Speed: 1.5ms preprocess, 147.9ms inference, 1.3ms postprocess per image at shape (1, 3, 96, 1152)\n"
          ]
        },
        {
          "output_type": "stream",
          "name": "stderr",
          "text": [
            "0it [00:00, ?it/s]"
          ]
        },
        {
          "output_type": "stream",
          "name": "stdout",
          "text": [
            "\n",
            "WARNING ⚠️ imgsz=[183, 768] must be multiple of max stride 32, updating to [192, 768]\n"
          ]
        },
        {
          "output_type": "stream",
          "name": "stderr",
          "text": [
            "\n"
          ]
        },
        {
          "output_type": "stream",
          "name": "stdout",
          "text": [
            "0: 192x768 2 embeddings, 174.1ms\n",
            "Speed: 1.4ms preprocess, 174.1ms inference, 1.8ms postprocess per image at shape (1, 3, 192, 768)\n"
          ]
        },
        {
          "output_type": "stream",
          "name": "stderr",
          "text": [
            "100%|██████████| 1/1 [00:00<00:00,  1.48it/s]"
          ]
        },
        {
          "output_type": "stream",
          "name": "stdout",
          "text": [
            "\n",
            "WARNING ⚠️ imgsz=[108, 1728] must be multiple of max stride 32, updating to [128, 1728]\n"
          ]
        },
        {
          "output_type": "stream",
          "name": "stderr",
          "text": [
            "\n"
          ]
        },
        {
          "output_type": "stream",
          "name": "stdout",
          "text": [
            "0: 128x1728 (no detections), 254.2ms\n",
            "Speed: 2.0ms preprocess, 254.2ms inference, 0.9ms postprocess per image at shape (1, 3, 128, 1728)\n"
          ]
        },
        {
          "output_type": "stream",
          "name": "stderr",
          "text": [
            "0it [00:00, ?it/s]\n"
          ]
        },
        {
          "output_type": "stream",
          "name": "stdout",
          "text": [
            "\n",
            "WARNING ⚠️ imgsz=[154, 1728] must be multiple of max stride 32, updating to [160, 1728]\n",
            "0: 160x1728 (no detections), 337.9ms\n",
            "Speed: 2.8ms preprocess, 337.9ms inference, 1.0ms postprocess per image at shape (1, 3, 160, 1728)\n"
          ]
        },
        {
          "output_type": "stream",
          "name": "stderr",
          "text": [
            "0it [00:00, ?it/s]\n"
          ]
        },
        {
          "output_type": "stream",
          "name": "stdout",
          "text": [
            "\n",
            "WARNING ⚠️ imgsz=[148, 1728] must be multiple of max stride 32, updating to [160, 1728]\n",
            "0: 160x1728 (no detections), 336.6ms\n",
            "Speed: 3.2ms preprocess, 336.6ms inference, 1.2ms postprocess per image at shape (1, 3, 160, 1728)\n"
          ]
        },
        {
          "output_type": "stream",
          "name": "stderr",
          "text": [
            "0it [00:00, ?it/s]\n"
          ]
        },
        {
          "output_type": "stream",
          "name": "stdout",
          "text": [
            "\n",
            "WARNING ⚠️ imgsz=[143, 1728] must be multiple of max stride 32, updating to [160, 1728]\n",
            "0: 160x1728 (no detections), 211.1ms\n",
            "Speed: 2.8ms preprocess, 211.1ms inference, 0.7ms postprocess per image at shape (1, 3, 160, 1728)\n"
          ]
        },
        {
          "output_type": "stream",
          "name": "stderr",
          "text": [
            "0it [00:00, ?it/s]"
          ]
        },
        {
          "output_type": "stream",
          "name": "stdout",
          "text": [
            "\n",
            "WARNING ⚠️ imgsz=[80, 768] must be multiple of max stride 32, updating to [96, 768]\n"
          ]
        },
        {
          "output_type": "stream",
          "name": "stderr",
          "text": [
            "\n"
          ]
        },
        {
          "output_type": "stream",
          "name": "stdout",
          "text": [
            "0: 96x768 (no detections), 69.2ms\n",
            "Speed: 1.2ms preprocess, 69.2ms inference, 0.7ms postprocess per image at shape (1, 3, 96, 768)\n"
          ]
        },
        {
          "output_type": "stream",
          "name": "stderr",
          "text": [
            "0it [00:00, ?it/s]"
          ]
        },
        {
          "output_type": "stream",
          "name": "stdout",
          "text": [
            "\n",
            "WARNING ⚠️ imgsz=[264, 768] must be multiple of max stride 32, updating to [288, 768]\n"
          ]
        },
        {
          "output_type": "stream",
          "name": "stderr",
          "text": [
            "\n"
          ]
        },
        {
          "output_type": "stream",
          "name": "stdout",
          "text": [
            "0: 288x768 1 embedding, 192.2ms\n",
            "Speed: 1.7ms preprocess, 192.2ms inference, 1.5ms postprocess per image at shape (1, 3, 288, 768)\n"
          ]
        },
        {
          "output_type": "stream",
          "name": "stderr",
          "text": [
            "100%|██████████| 1/1 [00:00<00:00,  1.76it/s]"
          ]
        },
        {
          "output_type": "stream",
          "name": "stdout",
          "text": [
            "\n",
            "WARNING ⚠️ imgsz=[90, 1152] must be multiple of max stride 32, updating to [96, 1152]\n",
            "0: 96x1152 (no detections), 81.0ms\n",
            "Speed: 1.3ms preprocess, 81.0ms inference, 0.7ms postprocess per image at shape (1, 3, 96, 1152)\n"
          ]
        },
        {
          "output_type": "stream",
          "name": "stderr",
          "text": [
            "\n",
            "0it [00:00, ?it/s]\n"
          ]
        },
        {
          "output_type": "stream",
          "name": "stdout",
          "text": [
            "\n",
            "WARNING ⚠️ imgsz=[305, 768] must be multiple of max stride 32, updating to [320, 768]\n",
            "0: 320x768 1 isolated, 192.0ms\n",
            "Speed: 4.2ms preprocess, 192.0ms inference, 2.1ms postprocess per image at shape (1, 3, 320, 768)\n"
          ]
        },
        {
          "output_type": "stream",
          "name": "stderr",
          "text": [
            "100%|██████████| 1/1 [00:00<00:00,  1.80it/s]"
          ]
        },
        {
          "output_type": "stream",
          "name": "stdout",
          "text": [
            "\n",
            "WARNING ⚠️ imgsz=[201, 1728] must be multiple of max stride 32, updating to [224, 1728]\n"
          ]
        },
        {
          "output_type": "stream",
          "name": "stderr",
          "text": [
            "\n"
          ]
        },
        {
          "output_type": "stream",
          "name": "stdout",
          "text": [
            "0: 224x1728 (no detections), 310.2ms\n",
            "Speed: 3.3ms preprocess, 310.2ms inference, 0.8ms postprocess per image at shape (1, 3, 224, 1728)\n"
          ]
        },
        {
          "output_type": "stream",
          "name": "stderr",
          "text": [
            "0it [00:00, ?it/s]\n"
          ]
        },
        {
          "output_type": "stream",
          "name": "stdout",
          "text": [
            "\n",
            "WARNING ⚠️ imgsz=[334, 768] must be multiple of max stride 32, updating to [352, 768]\n",
            "0: 352x768 1 isolated, 213.0ms\n",
            "Speed: 2.0ms preprocess, 213.0ms inference, 1.5ms postprocess per image at shape (1, 3, 352, 768)\n"
          ]
        },
        {
          "output_type": "stream",
          "name": "stderr",
          "text": [
            "100%|██████████| 1/1 [00:00<00:00,  1.42it/s]"
          ]
        },
        {
          "output_type": "stream",
          "name": "stdout",
          "text": [
            "\n",
            "WARNING ⚠️ imgsz=[111, 1152] must be multiple of max stride 32, updating to [128, 1152]\n"
          ]
        },
        {
          "output_type": "stream",
          "name": "stderr",
          "text": [
            "\n"
          ]
        },
        {
          "output_type": "stream",
          "name": "stdout",
          "text": [
            "0: 128x1152 (no detections), 114.5ms\n",
            "Speed: 1.6ms preprocess, 114.5ms inference, 0.7ms postprocess per image at shape (1, 3, 128, 1152)\n"
          ]
        },
        {
          "output_type": "stream",
          "name": "stderr",
          "text": [
            "0it [00:00, ?it/s]"
          ]
        },
        {
          "output_type": "stream",
          "name": "stdout",
          "text": [
            "\n",
            "WARNING ⚠️ imgsz=[361, 768] must be multiple of max stride 32, updating to [384, 768]\n"
          ]
        },
        {
          "output_type": "stream",
          "name": "stderr",
          "text": [
            "\n"
          ]
        },
        {
          "output_type": "stream",
          "name": "stdout",
          "text": [
            "0: 384x768 1 isolated, 234.0ms\n",
            "Speed: 2.1ms preprocess, 234.0ms inference, 1.5ms postprocess per image at shape (1, 3, 384, 768)\n"
          ]
        },
        {
          "output_type": "stream",
          "name": "stderr",
          "text": [
            "100%|██████████| 1/1 [00:00<00:00,  1.68it/s]"
          ]
        },
        {
          "output_type": "stream",
          "name": "stdout",
          "text": [
            "\n",
            "WARNING ⚠️ imgsz=[197, 1728] must be multiple of max stride 32, updating to [224, 1728]\n"
          ]
        },
        {
          "output_type": "stream",
          "name": "stderr",
          "text": [
            "\n"
          ]
        },
        {
          "output_type": "stream",
          "name": "stdout",
          "text": [
            "0: 224x1728 1 embedding, 286.3ms\n",
            "Speed: 3.5ms preprocess, 286.3ms inference, 1.5ms postprocess per image at shape (1, 3, 224, 1728)\n"
          ]
        },
        {
          "output_type": "stream",
          "name": "stderr",
          "text": [
            "100%|██████████| 1/1 [00:00<00:00,  2.45it/s]\n"
          ]
        },
        {
          "output_type": "stream",
          "name": "stdout",
          "text": [
            "\n",
            "WARNING ⚠️ imgsz=[79, 1152] must be multiple of max stride 32, updating to [96, 1152]\n",
            "0: 96x1152 (no detections), 99.2ms\n",
            "Speed: 1.3ms preprocess, 99.2ms inference, 1.0ms postprocess per image at shape (1, 3, 96, 1152)\n"
          ]
        },
        {
          "output_type": "stream",
          "name": "stderr",
          "text": [
            "0it [00:00, ?it/s]"
          ]
        },
        {
          "output_type": "stream",
          "name": "stdout",
          "text": [
            "\n",
            "WARNING ⚠️ imgsz=[93, 1152] must be multiple of max stride 32, updating to [96, 1152]\n"
          ]
        },
        {
          "output_type": "stream",
          "name": "stderr",
          "text": [
            "\n"
          ]
        },
        {
          "output_type": "stream",
          "name": "stdout",
          "text": [
            "0: 96x1152 (no detections), 105.3ms\n",
            "Speed: 1.4ms preprocess, 105.3ms inference, 1.0ms postprocess per image at shape (1, 3, 96, 1152)\n"
          ]
        },
        {
          "output_type": "stream",
          "name": "stderr",
          "text": [
            "0it [00:00, ?it/s]"
          ]
        },
        {
          "output_type": "stream",
          "name": "stdout",
          "text": [
            "\n",
            "WARNING ⚠️ imgsz=[306, 768] must be multiple of max stride 32, updating to [320, 768]\n"
          ]
        },
        {
          "output_type": "stream",
          "name": "stderr",
          "text": [
            "\n"
          ]
        },
        {
          "output_type": "stream",
          "name": "stdout",
          "text": [
            "0: 320x768 1 isolated, 214.8ms\n",
            "Speed: 2.0ms preprocess, 214.8ms inference, 1.8ms postprocess per image at shape (1, 3, 320, 768)\n"
          ]
        },
        {
          "output_type": "stream",
          "name": "stderr",
          "text": [
            "100%|██████████| 1/1 [00:00<00:00,  1.34it/s]"
          ]
        },
        {
          "output_type": "stream",
          "name": "stdout",
          "text": [
            "\n",
            "WARNING ⚠️ imgsz=[84, 1152] must be multiple of max stride 32, updating to [96, 1152]\n"
          ]
        },
        {
          "output_type": "stream",
          "name": "stderr",
          "text": [
            "\n"
          ]
        },
        {
          "output_type": "stream",
          "name": "stdout",
          "text": [
            "0: 96x1152 (no detections), 96.2ms\n",
            "Speed: 1.6ms preprocess, 96.2ms inference, 0.7ms postprocess per image at shape (1, 3, 96, 1152)\n"
          ]
        },
        {
          "output_type": "stream",
          "name": "stderr",
          "text": [
            "0it [00:00, ?it/s]"
          ]
        },
        {
          "output_type": "stream",
          "name": "stdout",
          "text": [
            "\n"
          ]
        },
        {
          "output_type": "stream",
          "name": "stderr",
          "text": [
            "\n"
          ]
        },
        {
          "output_type": "stream",
          "name": "stdout",
          "text": [
            "WARNING ⚠️ imgsz=[211, 1728] must be multiple of max stride 32, updating to [224, 1728]\n",
            "0: 224x1728 (no detections), 288.8ms\n",
            "Speed: 3.8ms preprocess, 288.8ms inference, 0.8ms postprocess per image at shape (1, 3, 224, 1728)\n"
          ]
        },
        {
          "output_type": "stream",
          "name": "stderr",
          "text": [
            "0it [00:00, ?it/s]\n"
          ]
        },
        {
          "output_type": "stream",
          "name": "stdout",
          "text": [
            "\n",
            "WARNING ⚠️ imgsz=[81, 768] must be multiple of max stride 32, updating to [96, 768]\n",
            "0: 96x768 (no detections), 61.1ms\n",
            "Speed: 1.2ms preprocess, 61.1ms inference, 0.7ms postprocess per image at shape (1, 3, 96, 768)\n"
          ]
        },
        {
          "output_type": "stream",
          "name": "stderr",
          "text": [
            "0it [00:00, ?it/s]"
          ]
        },
        {
          "output_type": "stream",
          "name": "stdout",
          "text": [
            "\n",
            "WARNING ⚠️ imgsz=[121, 768] must be multiple of max stride 32, updating to [128, 768]\n",
            "0: 128x768 1 embedding, 84.4ms\n",
            "Speed: 1.2ms preprocess, 84.4ms inference, 1.5ms postprocess per image at shape (1, 3, 128, 768)\n"
          ]
        },
        {
          "output_type": "stream",
          "name": "stderr",
          "text": [
            "\n",
            "100%|██████████| 1/1 [00:00<00:00,  2.62it/s]"
          ]
        },
        {
          "output_type": "stream",
          "name": "stdout",
          "text": [
            "\n",
            "WARNING ⚠️ imgsz=[129, 768] must be multiple of max stride 32, updating to [160, 768]\n"
          ]
        },
        {
          "output_type": "stream",
          "name": "stderr",
          "text": [
            "\n"
          ]
        },
        {
          "output_type": "stream",
          "name": "stdout",
          "text": [
            "0: 160x768 (no detections), 172.5ms\n",
            "Speed: 1.5ms preprocess, 172.5ms inference, 0.9ms postprocess per image at shape (1, 3, 160, 768)\n"
          ]
        },
        {
          "output_type": "stream",
          "name": "stderr",
          "text": [
            "0it [00:00, ?it/s]\n"
          ]
        },
        {
          "output_type": "stream",
          "name": "stdout",
          "text": [
            "\n",
            "WARNING ⚠️ imgsz=[1086, 768] must be multiple of max stride 32, updating to [1088, 768]\n",
            "0: 1088x768 (no detections), 664.9ms\n",
            "Speed: 6.1ms preprocess, 664.9ms inference, 0.8ms postprocess per image at shape (1, 3, 1088, 768)\n"
          ]
        },
        {
          "output_type": "stream",
          "name": "stderr",
          "text": [
            "0it [00:00, ?it/s]\n"
          ]
        },
        {
          "output_type": "stream",
          "name": "stdout",
          "text": [
            "\n",
            "WARNING ⚠️ imgsz=[198, 768] must be multiple of max stride 32, updating to [224, 768]\n",
            "0: 224x768 (no detections), 136.7ms\n",
            "Speed: 1.4ms preprocess, 136.7ms inference, 3.9ms postprocess per image at shape (1, 3, 224, 768)\n"
          ]
        },
        {
          "output_type": "stream",
          "name": "stderr",
          "text": [
            "0it [00:00, ?it/s]"
          ]
        },
        {
          "output_type": "stream",
          "name": "stdout",
          "text": [
            "\n",
            "WARNING ⚠️ imgsz=[84, 768] must be multiple of max stride 32, updating to [96, 768]\n",
            "0: 96x768 (no detections), 69.7ms\n",
            "Speed: 1.0ms preprocess, 69.7ms inference, 0.7ms postprocess per image at shape (1, 3, 96, 768)\n"
          ]
        },
        {
          "output_type": "stream",
          "name": "stderr",
          "text": [
            "\n",
            "0it [00:00, ?it/s]\n"
          ]
        },
        {
          "output_type": "stream",
          "name": "stdout",
          "text": [
            "\n",
            "WARNING ⚠️ imgsz=[135, 768] must be multiple of max stride 32, updating to [160, 768]\n",
            "0: 160x768 (no detections), 103.0ms\n",
            "Speed: 1.3ms preprocess, 103.0ms inference, 0.7ms postprocess per image at shape (1, 3, 160, 768)\n"
          ]
        },
        {
          "output_type": "stream",
          "name": "stderr",
          "text": [
            "0it [00:00, ?it/s]"
          ]
        },
        {
          "output_type": "stream",
          "name": "stdout",
          "text": [
            "\n",
            "WARNING ⚠️ imgsz=[167, 768] must be multiple of max stride 32, updating to [192, 768]\n"
          ]
        },
        {
          "output_type": "stream",
          "name": "stderr",
          "text": [
            "\n"
          ]
        },
        {
          "output_type": "stream",
          "name": "stdout",
          "text": [
            "0: 192x768 (no detections), 135.2ms\n",
            "Speed: 1.3ms preprocess, 135.2ms inference, 0.7ms postprocess per image at shape (1, 3, 192, 768)\n"
          ]
        },
        {
          "output_type": "stream",
          "name": "stderr",
          "text": [
            "0it [00:00, ?it/s]\n"
          ]
        },
        {
          "output_type": "stream",
          "name": "stdout",
          "text": [
            "\n",
            "WARNING ⚠️ imgsz=[1086, 768] must be multiple of max stride 32, updating to [1088, 768]\n",
            "0: 1088x768 (no detections), 695.8ms\n",
            "Speed: 6.2ms preprocess, 695.8ms inference, 0.7ms postprocess per image at shape (1, 3, 1088, 768)\n"
          ]
        },
        {
          "output_type": "stream",
          "name": "stderr",
          "text": [
            "0it [00:00, ?it/s]\n"
          ]
        },
        {
          "output_type": "stream",
          "name": "stdout",
          "text": [
            "\n",
            "WARNING ⚠️ imgsz=[158, 1728] must be multiple of max stride 32, updating to [160, 1728]\n",
            "0: 160x1728 (no detections), 208.6ms\n",
            "Speed: 2.6ms preprocess, 208.6ms inference, 2.4ms postprocess per image at shape (1, 3, 160, 1728)\n"
          ]
        },
        {
          "output_type": "stream",
          "name": "stderr",
          "text": [
            "0it [00:00, ?it/s]\n"
          ]
        },
        {
          "output_type": "stream",
          "name": "stdout",
          "text": [
            "\n",
            "WARNING ⚠️ imgsz=[392, 1728] must be multiple of max stride 32, updating to [416, 1728]\n",
            "0: 416x1728 3 embeddings, 556.9ms\n",
            "Speed: 4.6ms preprocess, 556.9ms inference, 1.6ms postprocess per image at shape (1, 3, 416, 1728)\n"
          ]
        },
        {
          "output_type": "stream",
          "name": "stderr",
          "text": [
            "100%|██████████| 3/3 [00:01<00:00,  1.76it/s]\n"
          ]
        },
        {
          "output_type": "stream",
          "name": "stdout",
          "text": [
            "\n",
            "WARNING ⚠️ imgsz=[217, 1728] must be multiple of max stride 32, updating to [224, 1728]\n",
            "0: 224x1728 (no detections), 456.1ms\n",
            "Speed: 3.6ms preprocess, 456.1ms inference, 1.1ms postprocess per image at shape (1, 3, 224, 1728)\n"
          ]
        },
        {
          "output_type": "stream",
          "name": "stderr",
          "text": [
            "0it [00:00, ?it/s]\n"
          ]
        },
        {
          "output_type": "stream",
          "name": "stdout",
          "text": [
            "\n",
            "WARNING ⚠️ imgsz=[90, 1152] must be multiple of max stride 32, updating to [96, 1152]\n",
            "0: 96x1152 (no detections), 135.2ms\n",
            "Speed: 1.3ms preprocess, 135.2ms inference, 1.0ms postprocess per image at shape (1, 3, 96, 1152)\n"
          ]
        },
        {
          "output_type": "stream",
          "name": "stderr",
          "text": [
            "0it [00:00, ?it/s]"
          ]
        },
        {
          "output_type": "stream",
          "name": "stdout",
          "text": [
            "\n",
            "WARNING ⚠️ imgsz=[89, 768] must be multiple of max stride 32, updating to [96, 768]\n"
          ]
        },
        {
          "output_type": "stream",
          "name": "stderr",
          "text": [
            "\n"
          ]
        },
        {
          "output_type": "stream",
          "name": "stdout",
          "text": [
            "0: 96x768 (no detections), 104.6ms\n",
            "Speed: 1.5ms preprocess, 104.6ms inference, 1.0ms postprocess per image at shape (1, 3, 96, 768)\n"
          ]
        },
        {
          "output_type": "stream",
          "name": "stderr",
          "text": [
            "0it [00:00, ?it/s]"
          ]
        },
        {
          "output_type": "stream",
          "name": "stdout",
          "text": [
            "\n",
            "WARNING ⚠️ imgsz=[98, 1152] must be multiple of max stride 32, updating to [128, 1152]\n"
          ]
        },
        {
          "output_type": "stream",
          "name": "stderr",
          "text": [
            "\n"
          ]
        },
        {
          "output_type": "stream",
          "name": "stdout",
          "text": [
            "0: 128x1152 (no detections), 196.0ms\n",
            "Speed: 1.5ms preprocess, 196.0ms inference, 1.0ms postprocess per image at shape (1, 3, 128, 1152)\n"
          ]
        },
        {
          "output_type": "stream",
          "name": "stderr",
          "text": [
            "0it [00:00, ?it/s]"
          ]
        },
        {
          "output_type": "stream",
          "name": "stdout",
          "text": [
            "\n",
            "WARNING ⚠️ imgsz=[269, 768] must be multiple of max stride 32, updating to [288, 768]\n"
          ]
        },
        {
          "output_type": "stream",
          "name": "stderr",
          "text": [
            "\n"
          ]
        },
        {
          "output_type": "stream",
          "name": "stdout",
          "text": [
            "0: 288x768 2 embeddings, 267.3ms\n",
            "Speed: 2.2ms preprocess, 267.3ms inference, 2.2ms postprocess per image at shape (1, 3, 288, 768)\n"
          ]
        },
        {
          "output_type": "stream",
          "name": "stderr",
          "text": [
            "100%|██████████| 2/2 [00:01<00:00,  1.72it/s]"
          ]
        },
        {
          "output_type": "stream",
          "name": "stdout",
          "text": [
            "\n",
            "WARNING ⚠️ imgsz=[134, 1728] must be multiple of max stride 32, updating to [160, 1728]\n"
          ]
        },
        {
          "output_type": "stream",
          "name": "stderr",
          "text": [
            "\n"
          ]
        },
        {
          "output_type": "stream",
          "name": "stdout",
          "text": [
            "0: 160x1728 (no detections), 213.4ms\n",
            "Speed: 2.6ms preprocess, 213.4ms inference, 0.8ms postprocess per image at shape (1, 3, 160, 1728)\n"
          ]
        },
        {
          "output_type": "stream",
          "name": "stderr",
          "text": [
            "0it [00:00, ?it/s]"
          ]
        },
        {
          "output_type": "stream",
          "name": "stdout",
          "text": [
            "\n",
            "WARNING ⚠️ imgsz=[103, 768] must be multiple of max stride 32, updating to [128, 768]\n"
          ]
        },
        {
          "output_type": "stream",
          "name": "stderr",
          "text": [
            "\n"
          ]
        },
        {
          "output_type": "stream",
          "name": "stdout",
          "text": [
            "0: 128x768 (no detections), 91.8ms\n",
            "Speed: 1.1ms preprocess, 91.8ms inference, 0.8ms postprocess per image at shape (1, 3, 128, 768)\n"
          ]
        },
        {
          "output_type": "stream",
          "name": "stderr",
          "text": [
            "0it [00:00, ?it/s]"
          ]
        },
        {
          "output_type": "stream",
          "name": "stdout",
          "text": [
            "\n",
            "WARNING ⚠️ imgsz=[155, 1728] must be multiple of max stride 32, updating to [160, 1728]\n"
          ]
        },
        {
          "output_type": "stream",
          "name": "stderr",
          "text": [
            "\n"
          ]
        },
        {
          "output_type": "stream",
          "name": "stdout",
          "text": [
            "0: 160x1728 (no detections), 243.6ms\n",
            "Speed: 3.0ms preprocess, 243.6ms inference, 0.9ms postprocess per image at shape (1, 3, 160, 1728)\n"
          ]
        },
        {
          "output_type": "stream",
          "name": "stderr",
          "text": [
            "0it [00:00, ?it/s]\n"
          ]
        },
        {
          "output_type": "stream",
          "name": "stdout",
          "text": [
            "\n",
            "WARNING ⚠️ imgsz=[166, 1728] must be multiple of max stride 32, updating to [192, 1728]\n",
            "0: 192x1728 (no detections), 271.8ms\n",
            "Speed: 2.3ms preprocess, 271.8ms inference, 0.7ms postprocess per image at shape (1, 3, 192, 1728)\n"
          ]
        },
        {
          "output_type": "stream",
          "name": "stderr",
          "text": [
            "0it [00:00, ?it/s]\n"
          ]
        },
        {
          "output_type": "stream",
          "name": "stdout",
          "text": [
            "\n",
            "WARNING ⚠️ imgsz=[81, 768] must be multiple of max stride 32, updating to [96, 768]\n",
            "0: 96x768 (no detections), 61.1ms\n",
            "Speed: 1.1ms preprocess, 61.1ms inference, 0.7ms postprocess per image at shape (1, 3, 96, 768)\n"
          ]
        },
        {
          "output_type": "stream",
          "name": "stderr",
          "text": [
            "0it [00:00, ?it/s]\n"
          ]
        },
        {
          "output_type": "stream",
          "name": "stdout",
          "text": [
            "\n",
            "WARNING ⚠️ imgsz=[1086, 768] must be multiple of max stride 32, updating to [1088, 768]\n",
            "0: 1088x768 (no detections), 674.5ms\n",
            "Speed: 6.6ms preprocess, 674.5ms inference, 0.7ms postprocess per image at shape (1, 3, 1088, 768)\n"
          ]
        },
        {
          "output_type": "stream",
          "name": "stderr",
          "text": [
            "0it [00:00, ?it/s]\n"
          ]
        },
        {
          "output_type": "stream",
          "name": "stdout",
          "text": [
            "\n",
            "WARNING ⚠️ imgsz=[134, 768] must be multiple of max stride 32, updating to [160, 768]\n",
            "0: 160x768 1 embedding, 1 isolated, 99.9ms\n",
            "Speed: 1.5ms preprocess, 99.9ms inference, 1.5ms postprocess per image at shape (1, 3, 160, 768)\n"
          ]
        },
        {
          "output_type": "stream",
          "name": "stderr",
          "text": [
            "100%|██████████| 1/1 [00:00<00:00,  1.49it/s]\n"
          ]
        },
        {
          "output_type": "stream",
          "name": "stdout",
          "text": [
            "\n",
            "WARNING ⚠️ imgsz=[107, 768] must be multiple of max stride 32, updating to [128, 768]\n",
            "0: 128x768 (no detections), 80.8ms\n",
            "Speed: 1.0ms preprocess, 80.8ms inference, 0.7ms postprocess per image at shape (1, 3, 128, 768)\n"
          ]
        },
        {
          "output_type": "stream",
          "name": "stderr",
          "text": [
            "0it [00:00, ?it/s]"
          ]
        },
        {
          "output_type": "stream",
          "name": "stdout",
          "text": [
            "\n",
            "WARNING ⚠️ imgsz=[105, 768] must be multiple of max stride 32, updating to [128, 768]\n",
            "0: 128x768 (no detections), 83.3ms\n",
            "Speed: 1.1ms preprocess, 83.3ms inference, 0.7ms postprocess per image at shape (1, 3, 128, 768)\n"
          ]
        },
        {
          "output_type": "stream",
          "name": "stderr",
          "text": [
            "\n",
            "0it [00:00, ?it/s]\n"
          ]
        },
        {
          "output_type": "stream",
          "name": "stdout",
          "text": [
            "\n",
            "WARNING ⚠️ imgsz=[202, 768] must be multiple of max stride 32, updating to [224, 768]\n",
            "0: 224x768 (no detections), 141.7ms\n",
            "Speed: 1.5ms preprocess, 141.7ms inference, 0.7ms postprocess per image at shape (1, 3, 224, 768)\n"
          ]
        },
        {
          "output_type": "stream",
          "name": "stderr",
          "text": [
            "0it [00:00, ?it/s]"
          ]
        },
        {
          "output_type": "stream",
          "name": "stdout",
          "text": [
            "\n",
            "WARNING ⚠️ imgsz=[272, 768] must be multiple of max stride 32, updating to [288, 768]\n"
          ]
        },
        {
          "output_type": "stream",
          "name": "stderr",
          "text": [
            "\n"
          ]
        },
        {
          "output_type": "stream",
          "name": "stdout",
          "text": [
            "0: 288x768 3 embeddings, 183.3ms\n",
            "Speed: 1.8ms preprocess, 183.3ms inference, 1.5ms postprocess per image at shape (1, 3, 288, 768)\n"
          ]
        },
        {
          "output_type": "stream",
          "name": "stderr",
          "text": [
            "100%|██████████| 3/3 [00:01<00:00,  2.42it/s]"
          ]
        },
        {
          "output_type": "stream",
          "name": "stdout",
          "text": [
            "\n"
          ]
        },
        {
          "output_type": "stream",
          "name": "stderr",
          "text": [
            "\n"
          ]
        },
        {
          "output_type": "stream",
          "name": "stdout",
          "text": [
            "0: 416x768 1 isolated, 293.1ms\n",
            "Speed: 2.1ms preprocess, 293.1ms inference, 2.1ms postprocess per image at shape (1, 3, 416, 768)\n"
          ]
        },
        {
          "output_type": "stream",
          "name": "stderr",
          "text": [
            "100%|██████████| 1/1 [00:00<00:00,  1.26it/s]\n"
          ]
        },
        {
          "output_type": "stream",
          "name": "stdout",
          "text": [
            "\n",
            "WARNING ⚠️ imgsz=[1086, 768] must be multiple of max stride 32, updating to [1088, 768]\n",
            "0: 1088x768 (no detections), 663.8ms\n",
            "Speed: 6.3ms preprocess, 663.8ms inference, 0.8ms postprocess per image at shape (1, 3, 1088, 768)\n"
          ]
        },
        {
          "output_type": "stream",
          "name": "stderr",
          "text": [
            "0it [00:00, ?it/s]\n"
          ]
        },
        {
          "output_type": "stream",
          "name": "stdout",
          "text": [
            "\n",
            "WARNING ⚠️ imgsz=[251, 768] must be multiple of max stride 32, updating to [256, 768]\n",
            "0: 256x768 (no detections), 174.1ms\n",
            "Speed: 1.6ms preprocess, 174.1ms inference, 2.4ms postprocess per image at shape (1, 3, 256, 768)\n"
          ]
        },
        {
          "output_type": "stream",
          "name": "stderr",
          "text": [
            "0it [00:00, ?it/s]"
          ]
        },
        {
          "output_type": "stream",
          "name": "stdout",
          "text": [
            "\n",
            "WARNING ⚠️ imgsz=[252, 768] must be multiple of max stride 32, updating to [256, 768]\n"
          ]
        },
        {
          "output_type": "stream",
          "name": "stderr",
          "text": [
            "\n"
          ]
        },
        {
          "output_type": "stream",
          "name": "stdout",
          "text": [
            "0: 256x768 (no detections), 161.5ms\n",
            "Speed: 3.9ms preprocess, 161.5ms inference, 0.7ms postprocess per image at shape (1, 3, 256, 768)\n"
          ]
        },
        {
          "output_type": "stream",
          "name": "stderr",
          "text": [
            "0it [00:00, ?it/s]"
          ]
        },
        {
          "output_type": "stream",
          "name": "stdout",
          "text": [
            "\n",
            "WARNING ⚠️ imgsz=[207, 768] must be multiple of max stride 32, updating to [224, 768]\n"
          ]
        },
        {
          "output_type": "stream",
          "name": "stderr",
          "text": [
            "\n"
          ]
        },
        {
          "output_type": "stream",
          "name": "stdout",
          "text": [
            "0: 224x768 (no detections), 163.2ms\n",
            "Speed: 2.2ms preprocess, 163.2ms inference, 0.7ms postprocess per image at shape (1, 3, 224, 768)\n"
          ]
        },
        {
          "output_type": "stream",
          "name": "stderr",
          "text": [
            "0it [00:00, ?it/s]"
          ]
        },
        {
          "output_type": "stream",
          "name": "stdout",
          "text": [
            "\n"
          ]
        },
        {
          "output_type": "stream",
          "name": "stderr",
          "text": [
            "\n"
          ]
        },
        {
          "output_type": "stream",
          "name": "stdout",
          "text": [
            "0: 192x768 1 embedding, 121.6ms\n",
            "Speed: 1.3ms preprocess, 121.6ms inference, 2.3ms postprocess per image at shape (1, 3, 192, 768)\n"
          ]
        },
        {
          "output_type": "stream",
          "name": "stderr",
          "text": [
            "100%|██████████| 1/1 [00:00<00:00,  2.02it/s]"
          ]
        },
        {
          "output_type": "stream",
          "name": "stdout",
          "text": [
            "\n",
            "WARNING ⚠️ imgsz=[190, 768] must be multiple of max stride 32, updating to [192, 768]\n"
          ]
        },
        {
          "output_type": "stream",
          "name": "stderr",
          "text": [
            "\n"
          ]
        },
        {
          "output_type": "stream",
          "name": "stdout",
          "text": [
            "0: 192x768 2 embeddings, 147.1ms\n",
            "Speed: 1.2ms preprocess, 147.1ms inference, 2.0ms postprocess per image at shape (1, 3, 192, 768)\n"
          ]
        },
        {
          "output_type": "stream",
          "name": "stderr",
          "text": [
            "100%|██████████| 2/2 [00:00<00:00,  2.21it/s]"
          ]
        },
        {
          "output_type": "stream",
          "name": "stdout",
          "text": [
            "\n",
            "WARNING ⚠️ imgsz=[261, 768] must be multiple of max stride 32, updating to [288, 768]\n"
          ]
        },
        {
          "output_type": "stream",
          "name": "stderr",
          "text": [
            "\n"
          ]
        },
        {
          "output_type": "stream",
          "name": "stdout",
          "text": [
            "0: 288x768 2 embeddings, 193.5ms\n",
            "Speed: 2.1ms preprocess, 193.5ms inference, 1.6ms postprocess per image at shape (1, 3, 288, 768)\n"
          ]
        },
        {
          "output_type": "stream",
          "name": "stderr",
          "text": [
            "100%|██████████| 1/1 [00:00<00:00,  2.36it/s]"
          ]
        },
        {
          "output_type": "stream",
          "name": "stdout",
          "text": [
            "\n",
            "WARNING ⚠️ imgsz=[98, 768] must be multiple of max stride 32, updating to [128, 768]\n",
            "0: 128x768 (no detections), 83.7ms\n",
            "Speed: 1.1ms preprocess, 83.7ms inference, 0.7ms postprocess per image at shape (1, 3, 128, 768)\n"
          ]
        },
        {
          "output_type": "stream",
          "name": "stderr",
          "text": [
            "\n",
            "0it [00:00, ?it/s]\n"
          ]
        },
        {
          "output_type": "stream",
          "name": "stdout",
          "text": [
            "\n",
            "WARNING ⚠️ imgsz=[111, 768] must be multiple of max stride 32, updating to [128, 768]\n",
            "0: 128x768 (no detections), 97.4ms\n",
            "Speed: 1.1ms preprocess, 97.4ms inference, 0.9ms postprocess per image at shape (1, 3, 128, 768)\n"
          ]
        },
        {
          "output_type": "stream",
          "name": "stderr",
          "text": [
            "0it [00:00, ?it/s]\n"
          ]
        },
        {
          "output_type": "stream",
          "name": "stdout",
          "text": [
            "\n",
            "WARNING ⚠️ imgsz=[346, 768] must be multiple of max stride 32, updating to [352, 768]\n",
            "0: 352x768 1 isolated, 228.3ms\n",
            "Speed: 2.2ms preprocess, 228.3ms inference, 1.5ms postprocess per image at shape (1, 3, 352, 768)\n"
          ]
        },
        {
          "output_type": "stream",
          "name": "stderr",
          "text": [
            "100%|██████████| 1/1 [00:00<00:00,  1.26it/s]"
          ]
        },
        {
          "output_type": "stream",
          "name": "stdout",
          "text": [
            "\n",
            "WARNING ⚠️ imgsz=[197, 768] must be multiple of max stride 32, updating to [224, 768]\n"
          ]
        },
        {
          "output_type": "stream",
          "name": "stderr",
          "text": [
            "\n"
          ]
        },
        {
          "output_type": "stream",
          "name": "stdout",
          "text": [
            "0: 224x768 (no detections), 144.6ms\n",
            "Speed: 1.8ms preprocess, 144.6ms inference, 0.7ms postprocess per image at shape (1, 3, 224, 768)\n"
          ]
        },
        {
          "output_type": "stream",
          "name": "stderr",
          "text": [
            "0it [00:00, ?it/s]"
          ]
        },
        {
          "output_type": "stream",
          "name": "stdout",
          "text": [
            "\n",
            "WARNING ⚠️ imgsz=[267, 768] must be multiple of max stride 32, updating to [288, 768]\n"
          ]
        },
        {
          "output_type": "stream",
          "name": "stderr",
          "text": [
            "\n"
          ]
        },
        {
          "output_type": "stream",
          "name": "stdout",
          "text": [
            "0: 288x768 (no detections), 176.8ms\n",
            "Speed: 1.8ms preprocess, 176.8ms inference, 0.7ms postprocess per image at shape (1, 3, 288, 768)\n"
          ]
        },
        {
          "output_type": "stream",
          "name": "stderr",
          "text": [
            "0it [00:00, ?it/s]"
          ]
        },
        {
          "output_type": "stream",
          "name": "stdout",
          "text": [
            "\n",
            "WARNING ⚠️ imgsz=[141, 768] must be multiple of max stride 32, updating to [160, 768]\n"
          ]
        },
        {
          "output_type": "stream",
          "name": "stderr",
          "text": [
            "\n"
          ]
        },
        {
          "output_type": "stream",
          "name": "stdout",
          "text": [
            "0: 160x768 (no detections), 148.5ms\n",
            "Speed: 1.3ms preprocess, 148.5ms inference, 1.0ms postprocess per image at shape (1, 3, 160, 768)\n"
          ]
        },
        {
          "output_type": "stream",
          "name": "stderr",
          "text": [
            "0it [00:00, ?it/s]"
          ]
        },
        {
          "output_type": "stream",
          "name": "stdout",
          "text": [
            "\n",
            "WARNING ⚠️ imgsz=[157, 768] must be multiple of max stride 32, updating to [160, 768]\n"
          ]
        },
        {
          "output_type": "stream",
          "name": "stderr",
          "text": [
            "\n"
          ]
        },
        {
          "output_type": "stream",
          "name": "stdout",
          "text": [
            "0: 160x768 (no detections), 160.0ms\n",
            "Speed: 1.2ms preprocess, 160.0ms inference, 0.9ms postprocess per image at shape (1, 3, 160, 768)\n"
          ]
        },
        {
          "output_type": "stream",
          "name": "stderr",
          "text": [
            "0it [00:00, ?it/s]"
          ]
        },
        {
          "output_type": "stream",
          "name": "stdout",
          "text": [
            "\n",
            "WARNING ⚠️ imgsz=[179, 768] must be multiple of max stride 32, updating to [192, 768]\n"
          ]
        },
        {
          "output_type": "stream",
          "name": "stderr",
          "text": [
            "\n"
          ]
        },
        {
          "output_type": "stream",
          "name": "stdout",
          "text": [
            "0: 192x768 (no detections), 165.7ms\n",
            "Speed: 1.5ms preprocess, 165.7ms inference, 0.9ms postprocess per image at shape (1, 3, 192, 768)\n"
          ]
        },
        {
          "output_type": "stream",
          "name": "stderr",
          "text": [
            "0it [00:00, ?it/s]"
          ]
        },
        {
          "output_type": "stream",
          "name": "stdout",
          "text": [
            "\n",
            "WARNING ⚠️ imgsz=[153, 768] must be multiple of max stride 32, updating to [160, 768]\n"
          ]
        },
        {
          "output_type": "stream",
          "name": "stderr",
          "text": [
            "\n"
          ]
        },
        {
          "output_type": "stream",
          "name": "stdout",
          "text": [
            "0: 160x768 (no detections), 135.6ms\n",
            "Speed: 1.2ms preprocess, 135.6ms inference, 0.9ms postprocess per image at shape (1, 3, 160, 768)\n"
          ]
        },
        {
          "output_type": "stream",
          "name": "stderr",
          "text": [
            "0it [00:00, ?it/s]"
          ]
        },
        {
          "output_type": "stream",
          "name": "stdout",
          "text": [
            "\n",
            "WARNING ⚠️ imgsz=[187, 768] must be multiple of max stride 32, updating to [192, 768]\n"
          ]
        },
        {
          "output_type": "stream",
          "name": "stderr",
          "text": [
            "\n"
          ]
        },
        {
          "output_type": "stream",
          "name": "stdout",
          "text": [
            "0: 192x768 1 embedding, 160.4ms\n",
            "Speed: 1.3ms preprocess, 160.4ms inference, 2.5ms postprocess per image at shape (1, 3, 192, 768)\n"
          ]
        },
        {
          "output_type": "stream",
          "name": "stderr",
          "text": [
            "100%|██████████| 1/1 [00:00<00:00,  1.47it/s]"
          ]
        },
        {
          "output_type": "stream",
          "name": "stdout",
          "text": [
            "\n",
            "WARNING ⚠️ imgsz=[190, 768] must be multiple of max stride 32, updating to [192, 768]\n"
          ]
        },
        {
          "output_type": "stream",
          "name": "stderr",
          "text": [
            "\n"
          ]
        },
        {
          "output_type": "stream",
          "name": "stdout",
          "text": [
            "0: 192x768 2 embeddings, 205.6ms\n",
            "Speed: 1.7ms preprocess, 205.6ms inference, 2.5ms postprocess per image at shape (1, 3, 192, 768)\n"
          ]
        },
        {
          "output_type": "stream",
          "name": "stderr",
          "text": [
            "100%|██████████| 1/1 [00:00<00:00,  1.13it/s]"
          ]
        },
        {
          "output_type": "stream",
          "name": "stdout",
          "text": [
            "\n",
            "WARNING ⚠️ imgsz=[214, 768] must be multiple of max stride 32, updating to [224, 768]\n"
          ]
        },
        {
          "output_type": "stream",
          "name": "stderr",
          "text": [
            "\n"
          ]
        },
        {
          "output_type": "stream",
          "name": "stdout",
          "text": [
            "0: 224x768 (no detections), 216.2ms\n",
            "Speed: 1.4ms preprocess, 216.2ms inference, 0.9ms postprocess per image at shape (1, 3, 224, 768)\n"
          ]
        },
        {
          "output_type": "stream",
          "name": "stderr",
          "text": [
            "0it [00:00, ?it/s]"
          ]
        },
        {
          "output_type": "stream",
          "name": "stdout",
          "text": [
            "\n",
            "WARNING ⚠️ imgsz=[130, 768] must be multiple of max stride 32, updating to [160, 768]\n"
          ]
        },
        {
          "output_type": "stream",
          "name": "stderr",
          "text": [
            "\n"
          ]
        },
        {
          "output_type": "stream",
          "name": "stdout",
          "text": [
            "0: 160x768 (no detections), 164.3ms\n",
            "Speed: 1.3ms preprocess, 164.3ms inference, 0.9ms postprocess per image at shape (1, 3, 160, 768)\n"
          ]
        },
        {
          "output_type": "stream",
          "name": "stderr",
          "text": [
            "0it [00:00, ?it/s]"
          ]
        },
        {
          "output_type": "stream",
          "name": "stdout",
          "text": [
            "\n",
            "WARNING ⚠️ imgsz=[123, 768] must be multiple of max stride 32, updating to [128, 768]\n"
          ]
        },
        {
          "output_type": "stream",
          "name": "stderr",
          "text": [
            "\n"
          ]
        },
        {
          "output_type": "stream",
          "name": "stdout",
          "text": [
            "0: 128x768 1 embedding, 117.8ms\n",
            "Speed: 1.2ms preprocess, 117.8ms inference, 1.7ms postprocess per image at shape (1, 3, 128, 768)\n"
          ]
        },
        {
          "output_type": "stream",
          "name": "stderr",
          "text": [
            "100%|██████████| 1/1 [00:00<00:00,  1.42it/s]"
          ]
        },
        {
          "output_type": "stream",
          "name": "stdout",
          "text": [
            "\n",
            "WARNING ⚠️ imgsz=[121, 768] must be multiple of max stride 32, updating to [128, 768]\n"
          ]
        },
        {
          "output_type": "stream",
          "name": "stderr",
          "text": [
            "\n"
          ]
        },
        {
          "output_type": "stream",
          "name": "stdout",
          "text": [
            "0: 128x768 (no detections), 157.7ms\n",
            "Speed: 1.4ms preprocess, 157.7ms inference, 1.2ms postprocess per image at shape (1, 3, 128, 768)\n"
          ]
        },
        {
          "output_type": "stream",
          "name": "stderr",
          "text": [
            "0it [00:00, ?it/s]"
          ]
        },
        {
          "output_type": "stream",
          "name": "stdout",
          "text": [
            "\n",
            "WARNING ⚠️ imgsz=[91, 768] must be multiple of max stride 32, updating to [96, 768]\n"
          ]
        },
        {
          "output_type": "stream",
          "name": "stderr",
          "text": [
            "\n"
          ]
        },
        {
          "output_type": "stream",
          "name": "stdout",
          "text": [
            "0: 96x768 (no detections), 100.6ms\n",
            "Speed: 1.0ms preprocess, 100.6ms inference, 0.8ms postprocess per image at shape (1, 3, 96, 768)\n"
          ]
        },
        {
          "output_type": "stream",
          "name": "stderr",
          "text": [
            "0it [00:00, ?it/s]"
          ]
        },
        {
          "output_type": "stream",
          "name": "stdout",
          "text": [
            "\n",
            "WARNING ⚠️ imgsz=[301, 768] must be multiple of max stride 32, updating to [320, 768]\n"
          ]
        },
        {
          "output_type": "stream",
          "name": "stderr",
          "text": [
            "\n"
          ]
        },
        {
          "output_type": "stream",
          "name": "stdout",
          "text": [
            "0: 320x768 1 isolated, 336.5ms\n",
            "Speed: 2.1ms preprocess, 336.5ms inference, 2.4ms postprocess per image at shape (1, 3, 320, 768)\n"
          ]
        },
        {
          "output_type": "stream",
          "name": "stderr",
          "text": [
            "100%|██████████| 1/1 [00:00<00:00,  1.11it/s]"
          ]
        },
        {
          "output_type": "stream",
          "name": "stdout",
          "text": [
            "\n",
            "WARNING ⚠️ imgsz=[85, 768] must be multiple of max stride 32, updating to [96, 768]\n"
          ]
        },
        {
          "output_type": "stream",
          "name": "stderr",
          "text": [
            "\n"
          ]
        },
        {
          "output_type": "stream",
          "name": "stdout",
          "text": [
            "0: 96x768 (no detections), 104.8ms\n",
            "Speed: 1.1ms preprocess, 104.8ms inference, 1.1ms postprocess per image at shape (1, 3, 96, 768)\n"
          ]
        },
        {
          "output_type": "stream",
          "name": "stderr",
          "text": [
            "0it [00:00, ?it/s]\n"
          ]
        },
        {
          "output_type": "stream",
          "name": "stdout",
          "text": [
            "\n",
            "WARNING ⚠️ imgsz=[1086, 768] must be multiple of max stride 32, updating to [1088, 768]\n",
            "0: 1088x768 (no detections), 643.6ms\n",
            "Speed: 6.0ms preprocess, 643.6ms inference, 0.8ms postprocess per image at shape (1, 3, 1088, 768)\n"
          ]
        },
        {
          "output_type": "stream",
          "name": "stderr",
          "text": [
            "0it [00:00, ?it/s]\n"
          ]
        },
        {
          "output_type": "stream",
          "name": "stdout",
          "text": [
            "\n",
            "WARNING ⚠️ imgsz=[411, 768] must be multiple of max stride 32, updating to [416, 768]\n",
            "0: 416x768 1 isolated, 247.8ms\n",
            "Speed: 2.2ms preprocess, 247.8ms inference, 1.5ms postprocess per image at shape (1, 3, 416, 768)\n"
          ]
        },
        {
          "output_type": "stream",
          "name": "stderr",
          "text": [
            "100%|██████████| 1/1 [00:00<00:00,  2.11it/s]\n"
          ]
        },
        {
          "output_type": "stream",
          "name": "stdout",
          "text": [
            "\n",
            "WARNING ⚠️ imgsz=[159, 1728] must be multiple of max stride 32, updating to [160, 1728]\n",
            "0: 160x1728 (no detections), 204.3ms\n",
            "Speed: 2.8ms preprocess, 204.3ms inference, 0.7ms postprocess per image at shape (1, 3, 160, 1728)\n"
          ]
        },
        {
          "output_type": "stream",
          "name": "stderr",
          "text": [
            "0it [00:00, ?it/s]\n"
          ]
        },
        {
          "output_type": "stream",
          "name": "stdout",
          "text": [
            "\n",
            "WARNING ⚠️ imgsz=[105, 1728] must be multiple of max stride 32, updating to [128, 1728]\n",
            "0: 128x1728 1 embedding, 175.4ms\n",
            "Speed: 2.0ms preprocess, 175.4ms inference, 2.1ms postprocess per image at shape (1, 3, 128, 1728)\n"
          ]
        },
        {
          "output_type": "stream",
          "name": "stderr",
          "text": [
            "100%|██████████| 1/1 [00:00<00:00,  1.54it/s]\n"
          ]
        },
        {
          "output_type": "stream",
          "name": "stdout",
          "text": [
            "\n",
            "WARNING ⚠️ imgsz=[209, 1728] must be multiple of max stride 32, updating to [224, 1728]\n",
            "0: 224x1728 (no detections), 278.1ms\n",
            "Speed: 3.1ms preprocess, 278.1ms inference, 0.7ms postprocess per image at shape (1, 3, 224, 1728)\n"
          ]
        },
        {
          "output_type": "stream",
          "name": "stderr",
          "text": [
            "0it [00:00, ?it/s]\n"
          ]
        },
        {
          "output_type": "stream",
          "name": "stdout",
          "text": [
            "\n",
            "WARNING ⚠️ imgsz=[80, 1152] must be multiple of max stride 32, updating to [96, 1152]\n",
            "0: 96x1152 1 isolated, 91.0ms\n",
            "Speed: 1.2ms preprocess, 91.0ms inference, 1.4ms postprocess per image at shape (1, 3, 96, 1152)\n"
          ]
        },
        {
          "output_type": "stream",
          "name": "stderr",
          "text": [
            "100%|██████████| 1/1 [00:26<00:00, 26.90s/it]"
          ]
        },
        {
          "output_type": "stream",
          "name": "stdout",
          "text": [
            "\n",
            "WARNING ⚠️ imgsz=[99, 1152] must be multiple of max stride 32, updating to [128, 1152]\n"
          ]
        },
        {
          "output_type": "stream",
          "name": "stderr",
          "text": [
            "\n"
          ]
        },
        {
          "output_type": "stream",
          "name": "stdout",
          "text": [
            "0: 128x1152 (no detections), 121.7ms\n",
            "Speed: 1.5ms preprocess, 121.7ms inference, 1.2ms postprocess per image at shape (1, 3, 128, 1152)\n"
          ]
        },
        {
          "output_type": "stream",
          "name": "stderr",
          "text": [
            "0it [00:00, ?it/s]"
          ]
        },
        {
          "output_type": "stream",
          "name": "stdout",
          "text": [
            "\n",
            "WARNING ⚠️ imgsz=[173, 1728] must be multiple of max stride 32, updating to [192, 1728]\n"
          ]
        },
        {
          "output_type": "stream",
          "name": "stderr",
          "text": [
            "\n"
          ]
        },
        {
          "output_type": "stream",
          "name": "stdout",
          "text": [
            "0: 192x1728 (no detections), 254.1ms\n",
            "Speed: 3.0ms preprocess, 254.1ms inference, 0.8ms postprocess per image at shape (1, 3, 192, 1728)\n"
          ]
        },
        {
          "output_type": "stream",
          "name": "stderr",
          "text": [
            "0it [00:00, ?it/s]\n"
          ]
        },
        {
          "output_type": "stream",
          "name": "stdout",
          "text": [
            "\n",
            "WARNING ⚠️ imgsz=[155, 1728] must be multiple of max stride 32, updating to [160, 1728]\n",
            "0: 160x1728 (no detections), 210.0ms\n",
            "Speed: 2.7ms preprocess, 210.0ms inference, 0.7ms postprocess per image at shape (1, 3, 160, 1728)\n"
          ]
        },
        {
          "output_type": "stream",
          "name": "stderr",
          "text": [
            "0it [00:00, ?it/s]\n"
          ]
        },
        {
          "output_type": "stream",
          "name": "stdout",
          "text": [
            "\n",
            "WARNING ⚠️ imgsz=[163, 1728] must be multiple of max stride 32, updating to [192, 1728]\n",
            "0: 192x1728 (no detections), 241.6ms\n",
            "Speed: 2.8ms preprocess, 241.6ms inference, 0.7ms postprocess per image at shape (1, 3, 192, 1728)\n"
          ]
        },
        {
          "output_type": "stream",
          "name": "stderr",
          "text": [
            "0it [00:00, ?it/s]"
          ]
        },
        {
          "output_type": "stream",
          "name": "stdout",
          "text": [
            "\n"
          ]
        },
        {
          "output_type": "stream",
          "name": "stderr",
          "text": [
            "\n"
          ]
        },
        {
          "output_type": "stream",
          "name": "stdout",
          "text": [
            "WARNING ⚠️ imgsz=[104, 1152] must be multiple of max stride 32, updating to [128, 1152]\n",
            "0: 128x1152 (no detections), 129.1ms\n",
            "Speed: 1.4ms preprocess, 129.1ms inference, 0.7ms postprocess per image at shape (1, 3, 128, 1152)\n"
          ]
        },
        {
          "output_type": "stream",
          "name": "stderr",
          "text": [
            "0it [00:00, ?it/s]"
          ]
        },
        {
          "output_type": "stream",
          "name": "stdout",
          "text": [
            "\n",
            "WARNING ⚠️ imgsz=[151, 1728] must be multiple of max stride 32, updating to [160, 1728]\n"
          ]
        },
        {
          "output_type": "stream",
          "name": "stderr",
          "text": [
            "\n"
          ]
        },
        {
          "output_type": "stream",
          "name": "stdout",
          "text": [
            "0: 160x1728 (no detections), 212.7ms\n",
            "Speed: 2.8ms preprocess, 212.7ms inference, 0.7ms postprocess per image at shape (1, 3, 160, 1728)\n"
          ]
        },
        {
          "output_type": "stream",
          "name": "stderr",
          "text": [
            "0it [00:00, ?it/s]\n"
          ]
        },
        {
          "output_type": "stream",
          "name": "stdout",
          "text": [
            "\n",
            "WARNING ⚠️ imgsz=[146, 1728] must be multiple of max stride 32, updating to [160, 1728]\n",
            "0: 160x1728 (no detections), 233.9ms\n",
            "Speed: 2.0ms preprocess, 233.9ms inference, 1.2ms postprocess per image at shape (1, 3, 160, 1728)\n"
          ]
        },
        {
          "output_type": "stream",
          "name": "stderr",
          "text": [
            "0it [00:00, ?it/s]\n"
          ]
        },
        {
          "output_type": "stream",
          "name": "stdout",
          "text": [
            "\n",
            "WARNING ⚠️ imgsz=[153, 1728] must be multiple of max stride 32, updating to [160, 1728]\n",
            "0: 160x1728 (no detections), 236.6ms\n",
            "Speed: 3.0ms preprocess, 236.6ms inference, 0.9ms postprocess per image at shape (1, 3, 160, 1728)\n"
          ]
        },
        {
          "output_type": "stream",
          "name": "stderr",
          "text": [
            "0it [00:00, ?it/s]\n"
          ]
        },
        {
          "output_type": "stream",
          "name": "stdout",
          "text": [
            "\n",
            "WARNING ⚠️ imgsz=[159, 1728] must be multiple of max stride 32, updating to [160, 1728]\n",
            "0: 160x1728 (no detections), 365.0ms\n",
            "Speed: 3.5ms preprocess, 365.0ms inference, 1.0ms postprocess per image at shape (1, 3, 160, 1728)\n"
          ]
        },
        {
          "output_type": "stream",
          "name": "stderr",
          "text": [
            "0it [00:00, ?it/s]\n"
          ]
        },
        {
          "output_type": "stream",
          "name": "stdout",
          "text": [
            "\n",
            "WARNING ⚠️ imgsz=[90, 1152] must be multiple of max stride 32, updating to [96, 1152]\n",
            "0: 96x1152 (no detections), 138.1ms\n",
            "Speed: 1.5ms preprocess, 138.1ms inference, 0.9ms postprocess per image at shape (1, 3, 96, 1152)\n"
          ]
        },
        {
          "output_type": "stream",
          "name": "stderr",
          "text": [
            "0it [00:00, ?it/s]"
          ]
        },
        {
          "output_type": "stream",
          "name": "stdout",
          "text": [
            "\n",
            "WARNING ⚠️ imgsz=[86, 1152] must be multiple of max stride 32, updating to [96, 1152]\n"
          ]
        },
        {
          "output_type": "stream",
          "name": "stderr",
          "text": [
            "\n"
          ]
        },
        {
          "output_type": "stream",
          "name": "stdout",
          "text": [
            "0: 96x1152 (no detections), 143.0ms\n",
            "Speed: 1.4ms preprocess, 143.0ms inference, 0.9ms postprocess per image at shape (1, 3, 96, 1152)\n"
          ]
        },
        {
          "output_type": "stream",
          "name": "stderr",
          "text": [
            "0it [00:00, ?it/s]"
          ]
        },
        {
          "output_type": "stream",
          "name": "stdout",
          "text": [
            "\n",
            "WARNING ⚠️ imgsz=[100, 768] must be multiple of max stride 32, updating to [128, 768]\n"
          ]
        },
        {
          "output_type": "stream",
          "name": "stderr",
          "text": [
            "\n"
          ]
        },
        {
          "output_type": "stream",
          "name": "stdout",
          "text": [
            "0: 128x768 (no detections), 107.2ms\n",
            "Speed: 1.1ms preprocess, 107.2ms inference, 0.8ms postprocess per image at shape (1, 3, 128, 768)\n"
          ]
        },
        {
          "output_type": "stream",
          "name": "stderr",
          "text": [
            "0it [00:00, ?it/s]\n"
          ]
        },
        {
          "output_type": "stream",
          "name": "stdout",
          "text": [
            "\n",
            "WARNING ⚠️ imgsz=[158, 1728] must be multiple of max stride 32, updating to [160, 1728]\n",
            "0: 160x1728 (no detections), 311.6ms\n",
            "Speed: 4.8ms preprocess, 311.6ms inference, 0.9ms postprocess per image at shape (1, 3, 160, 1728)\n"
          ]
        },
        {
          "output_type": "stream",
          "name": "stderr",
          "text": [
            "0it [00:00, ?it/s]\n"
          ]
        },
        {
          "output_type": "stream",
          "name": "stdout",
          "text": [
            "\n",
            "WARNING ⚠️ imgsz=[91, 1152] must be multiple of max stride 32, updating to [96, 1152]\n",
            "0: 96x1152 (no detections), 148.8ms\n",
            "Speed: 1.4ms preprocess, 148.8ms inference, 0.9ms postprocess per image at shape (1, 3, 96, 1152)\n"
          ]
        },
        {
          "output_type": "stream",
          "name": "stderr",
          "text": [
            "0it [00:00, ?it/s]\n"
          ]
        },
        {
          "output_type": "stream",
          "name": "stdout",
          "text": [
            "\n",
            "WARNING ⚠️ imgsz=[164, 1728] must be multiple of max stride 32, updating to [192, 1728]\n",
            "0: 192x1728 (no detections), 377.3ms\n",
            "Speed: 3.1ms preprocess, 377.3ms inference, 1.0ms postprocess per image at shape (1, 3, 192, 1728)\n"
          ]
        },
        {
          "output_type": "stream",
          "name": "stderr",
          "text": [
            "0it [00:00, ?it/s]\n"
          ]
        },
        {
          "output_type": "stream",
          "name": "stdout",
          "text": [
            "\n",
            "WARNING ⚠️ imgsz=[103, 768] must be multiple of max stride 32, updating to [128, 768]\n",
            "0: 128x768 (no detections), 123.3ms\n",
            "Speed: 1.2ms preprocess, 123.3ms inference, 2.0ms postprocess per image at shape (1, 3, 128, 768)\n"
          ]
        },
        {
          "output_type": "stream",
          "name": "stderr",
          "text": [
            "0it [00:00, ?it/s]"
          ]
        },
        {
          "output_type": "stream",
          "name": "stdout",
          "text": [
            "\n",
            "WARNING ⚠️ imgsz=[105, 1728] must be multiple of max stride 32, updating to [128, 1728]\n"
          ]
        },
        {
          "output_type": "stream",
          "name": "stderr",
          "text": [
            "\n"
          ]
        },
        {
          "output_type": "stream",
          "name": "stdout",
          "text": [
            "0: 128x1728 (no detections), 320.0ms\n",
            "Speed: 2.0ms preprocess, 320.0ms inference, 1.1ms postprocess per image at shape (1, 3, 128, 1728)\n"
          ]
        },
        {
          "output_type": "stream",
          "name": "stderr",
          "text": [
            "0it [00:00, ?it/s]\n"
          ]
        },
        {
          "output_type": "stream",
          "name": "stdout",
          "text": [
            "\n",
            "WARNING ⚠️ imgsz=[112, 1152] must be multiple of max stride 32, updating to [128, 1152]\n",
            "0: 128x1152 (no detections), 125.3ms\n",
            "Speed: 1.7ms preprocess, 125.3ms inference, 1.1ms postprocess per image at shape (1, 3, 128, 1152)\n"
          ]
        },
        {
          "output_type": "stream",
          "name": "stderr",
          "text": [
            "0it [00:00, ?it/s]"
          ]
        },
        {
          "output_type": "stream",
          "name": "stdout",
          "text": [
            "\n",
            "WARNING ⚠️ imgsz=[94, 768] must be multiple of max stride 32, updating to [96, 768]\n"
          ]
        },
        {
          "output_type": "stream",
          "name": "stderr",
          "text": [
            "\n"
          ]
        },
        {
          "output_type": "stream",
          "name": "stdout",
          "text": [
            "0: 96x768 (no detections), 73.7ms\n",
            "Speed: 1.1ms preprocess, 73.7ms inference, 0.8ms postprocess per image at shape (1, 3, 96, 768)\n"
          ]
        },
        {
          "output_type": "stream",
          "name": "stderr",
          "text": [
            "0it [00:00, ?it/s]\n"
          ]
        },
        {
          "output_type": "stream",
          "name": "stdout",
          "text": [
            "\n",
            "WARNING ⚠️ imgsz=[1086, 768] must be multiple of max stride 32, updating to [1088, 768]\n",
            "0: 1088x768 (no detections), 727.9ms\n",
            "Speed: 6.5ms preprocess, 727.9ms inference, 0.8ms postprocess per image at shape (1, 3, 1088, 768)\n"
          ]
        },
        {
          "output_type": "stream",
          "name": "stderr",
          "text": [
            "0it [00:00, ?it/s]\n"
          ]
        },
        {
          "output_type": "stream",
          "name": "stdout",
          "text": [
            "\n",
            "WARNING ⚠️ imgsz=[95, 768] must be multiple of max stride 32, updating to [96, 768]\n",
            "0: 96x768 (no detections), 60.9ms\n",
            "Speed: 1.0ms preprocess, 60.9ms inference, 0.7ms postprocess per image at shape (1, 3, 96, 768)\n"
          ]
        },
        {
          "output_type": "stream",
          "name": "stderr",
          "text": [
            "0it [00:00, ?it/s]"
          ]
        },
        {
          "output_type": "stream",
          "name": "stdout",
          "text": [
            "\n",
            "WARNING ⚠️ imgsz=[85, 768] must be multiple of max stride 32, updating to [96, 768]\n",
            "0: 96x768 (no detections), 67.6ms\n",
            "Speed: 1.0ms preprocess, 67.6ms inference, 0.7ms postprocess per image at shape (1, 3, 96, 768)\n"
          ]
        },
        {
          "output_type": "stream",
          "name": "stderr",
          "text": [
            "\n",
            "0it [00:00, ?it/s]\n"
          ]
        },
        {
          "output_type": "stream",
          "name": "stdout",
          "text": [
            "\n",
            "WARNING ⚠️ imgsz=[279, 768] must be multiple of max stride 32, updating to [288, 768]\n",
            "0: 288x768 (no detections), 197.9ms\n",
            "Speed: 2.1ms preprocess, 197.9ms inference, 0.8ms postprocess per image at shape (1, 3, 288, 768)\n"
          ]
        },
        {
          "output_type": "stream",
          "name": "stderr",
          "text": [
            "0it [00:00, ?it/s]\n"
          ]
        },
        {
          "output_type": "stream",
          "name": "stdout",
          "text": [
            "\n",
            "WARNING ⚠️ imgsz=[1086, 768] must be multiple of max stride 32, updating to [1088, 768]\n",
            "0: 1088x768 (no detections), 807.2ms\n",
            "Speed: 6.9ms preprocess, 807.2ms inference, 0.9ms postprocess per image at shape (1, 3, 1088, 768)\n"
          ]
        },
        {
          "output_type": "stream",
          "name": "stderr",
          "text": [
            "0it [00:00, ?it/s]\n"
          ]
        },
        {
          "output_type": "stream",
          "name": "stdout",
          "text": [
            "\n",
            "WARNING ⚠️ imgsz=[407, 768] must be multiple of max stride 32, updating to [416, 768]\n",
            "0: 416x768 1 isolated, 292.5ms\n",
            "Speed: 2.3ms preprocess, 292.5ms inference, 1.5ms postprocess per image at shape (1, 3, 416, 768)\n"
          ]
        },
        {
          "output_type": "stream",
          "name": "stderr",
          "text": [
            "100%|██████████| 1/1 [00:00<00:00,  1.13it/s]"
          ]
        },
        {
          "output_type": "stream",
          "name": "stdout",
          "text": [
            "\n",
            "WARNING ⚠️ imgsz=[346, 768] must be multiple of max stride 32, updating to [352, 768]\n"
          ]
        },
        {
          "output_type": "stream",
          "name": "stderr",
          "text": [
            "\n"
          ]
        },
        {
          "output_type": "stream",
          "name": "stdout",
          "text": [
            "0: 352x768 1 isolated, 349.8ms\n",
            "Speed: 2.4ms preprocess, 349.8ms inference, 2.0ms postprocess per image at shape (1, 3, 352, 768)\n"
          ]
        },
        {
          "output_type": "stream",
          "name": "stderr",
          "text": [
            "100%|██████████| 1/1 [00:00<00:00,  1.06it/s]\n"
          ]
        },
        {
          "output_type": "stream",
          "name": "stdout",
          "text": [
            "\n",
            "WARNING ⚠️ imgsz=[214, 1728] must be multiple of max stride 32, updating to [224, 1728]\n",
            "0: 224x1728 1 embedding, 545.6ms\n",
            "Speed: 9.0ms preprocess, 545.6ms inference, 2.3ms postprocess per image at shape (1, 3, 224, 1728)\n"
          ]
        },
        {
          "output_type": "stream",
          "name": "stderr",
          "text": [
            "100%|██████████| 1/1 [00:00<00:00,  1.14it/s]\n"
          ]
        },
        {
          "output_type": "stream",
          "name": "stdout",
          "text": [
            "\n",
            "WARNING ⚠️ imgsz=[275, 768] must be multiple of max stride 32, updating to [288, 768]\n",
            "0: 288x768 (no detections), 217.2ms\n",
            "Speed: 2.2ms preprocess, 217.2ms inference, 0.8ms postprocess per image at shape (1, 3, 288, 768)\n"
          ]
        },
        {
          "output_type": "stream",
          "name": "stderr",
          "text": [
            "0it [00:00, ?it/s]"
          ]
        },
        {
          "output_type": "stream",
          "name": "stdout",
          "text": [
            "\n",
            "WARNING ⚠️ imgsz=[131, 1728] must be multiple of max stride 32, updating to [160, 1728]\n"
          ]
        },
        {
          "output_type": "stream",
          "name": "stderr",
          "text": [
            "\n"
          ]
        },
        {
          "output_type": "stream",
          "name": "stdout",
          "text": [
            "0: 160x1728 1 embedding, 244.5ms\n",
            "Speed: 2.7ms preprocess, 244.5ms inference, 1.8ms postprocess per image at shape (1, 3, 160, 1728)\n"
          ]
        },
        {
          "output_type": "stream",
          "name": "stderr",
          "text": [
            "100%|██████████| 1/1 [00:00<00:00,  1.90it/s]"
          ]
        },
        {
          "output_type": "stream",
          "name": "stdout",
          "text": [
            "\n",
            "WARNING ⚠️ imgsz=[281, 768] must be multiple of max stride 32, updating to [288, 768]\n"
          ]
        },
        {
          "output_type": "stream",
          "name": "stderr",
          "text": [
            "\n"
          ]
        },
        {
          "output_type": "stream",
          "name": "stdout",
          "text": [
            "0: 288x768 (no detections), 200.6ms\n",
            "Speed: 1.9ms preprocess, 200.6ms inference, 0.7ms postprocess per image at shape (1, 3, 288, 768)\n"
          ]
        },
        {
          "output_type": "stream",
          "name": "stderr",
          "text": [
            "0it [00:00, ?it/s]\n"
          ]
        },
        {
          "output_type": "stream",
          "name": "stdout",
          "text": [
            "\n",
            "WARNING ⚠️ imgsz=[1086, 768] must be multiple of max stride 32, updating to [1088, 768]\n",
            "0: 1088x768 (no detections), 723.9ms\n",
            "Speed: 8.7ms preprocess, 723.9ms inference, 0.8ms postprocess per image at shape (1, 3, 1088, 768)\n"
          ]
        },
        {
          "output_type": "stream",
          "name": "stderr",
          "text": [
            "0it [00:00, ?it/s]\n"
          ]
        },
        {
          "output_type": "stream",
          "name": "stdout",
          "text": [
            "\n",
            "WARNING ⚠️ imgsz=[414, 768] must be multiple of max stride 32, updating to [416, 768]\n",
            "0: 416x768 1 isolated, 278.3ms\n",
            "Speed: 2.3ms preprocess, 278.3ms inference, 3.4ms postprocess per image at shape (1, 3, 416, 768)\n"
          ]
        },
        {
          "output_type": "stream",
          "name": "stderr",
          "text": [
            "100%|██████████| 1/1 [00:00<00:00,  1.40it/s]"
          ]
        },
        {
          "output_type": "stream",
          "name": "stdout",
          "text": [
            "\n",
            "WARNING ⚠️ imgsz=[334, 768] must be multiple of max stride 32, updating to [352, 768]\n"
          ]
        },
        {
          "output_type": "stream",
          "name": "stderr",
          "text": [
            "\n"
          ]
        },
        {
          "output_type": "stream",
          "name": "stdout",
          "text": [
            "0: 352x768 1 isolated, 250.0ms\n",
            "Speed: 2.2ms preprocess, 250.0ms inference, 1.8ms postprocess per image at shape (1, 3, 352, 768)\n"
          ]
        },
        {
          "output_type": "stream",
          "name": "stderr",
          "text": [
            "100%|██████████| 1/1 [00:00<00:00,  1.35it/s]"
          ]
        },
        {
          "output_type": "stream",
          "name": "stdout",
          "text": [
            "\n",
            "WARNING ⚠️ imgsz=[212, 1728] must be multiple of max stride 32, updating to [224, 1728]\n"
          ]
        },
        {
          "output_type": "stream",
          "name": "stderr",
          "text": [
            "\n"
          ]
        },
        {
          "output_type": "stream",
          "name": "stdout",
          "text": [
            "0: 224x1728 (no detections), 343.5ms\n",
            "Speed: 4.1ms preprocess, 343.5ms inference, 0.8ms postprocess per image at shape (1, 3, 224, 1728)\n"
          ]
        },
        {
          "output_type": "stream",
          "name": "stderr",
          "text": [
            "0it [00:00, ?it/s]\n"
          ]
        },
        {
          "output_type": "stream",
          "name": "stdout",
          "text": [
            "\n",
            "WARNING ⚠️ imgsz=[266, 768] must be multiple of max stride 32, updating to [288, 768]\n",
            "0: 288x768 (no detections), 195.0ms\n",
            "Speed: 1.9ms preprocess, 195.0ms inference, 3.1ms postprocess per image at shape (1, 3, 288, 768)\n"
          ]
        },
        {
          "output_type": "stream",
          "name": "stderr",
          "text": [
            "0it [00:00, ?it/s]"
          ]
        },
        {
          "output_type": "stream",
          "name": "stdout",
          "text": [
            "\n",
            "WARNING ⚠️ imgsz=[371, 768] must be multiple of max stride 32, updating to [384, 768]\n"
          ]
        },
        {
          "output_type": "stream",
          "name": "stderr",
          "text": [
            "\n"
          ]
        },
        {
          "output_type": "stream",
          "name": "stdout",
          "text": [
            "0: 384x768 1 isolated, 261.3ms\n",
            "Speed: 2.1ms preprocess, 261.3ms inference, 1.6ms postprocess per image at shape (1, 3, 384, 768)\n"
          ]
        },
        {
          "output_type": "stream",
          "name": "stderr",
          "text": [
            "100%|██████████| 1/1 [00:01<00:00,  1.02s/it]"
          ]
        },
        {
          "output_type": "stream",
          "name": "stdout",
          "text": [
            "\n",
            "WARNING ⚠️ imgsz=[190, 768] must be multiple of max stride 32, updating to [192, 768]\n"
          ]
        },
        {
          "output_type": "stream",
          "name": "stderr",
          "text": [
            "\n"
          ]
        },
        {
          "output_type": "stream",
          "name": "stdout",
          "text": [
            "0: 192x768 2 embeddings, 183.6ms\n",
            "Speed: 1.4ms preprocess, 183.6ms inference, 1.8ms postprocess per image at shape (1, 3, 192, 768)\n"
          ]
        },
        {
          "output_type": "stream",
          "name": "stderr",
          "text": [
            "100%|██████████| 2/2 [00:01<00:00,  1.13it/s]\n"
          ]
        },
        {
          "output_type": "stream",
          "name": "stdout",
          "text": [
            "\n",
            "WARNING ⚠️ imgsz=[273, 768] must be multiple of max stride 32, updating to [288, 768]\n",
            "0: 288x768 (no detections), 301.7ms\n",
            "Speed: 1.9ms preprocess, 301.7ms inference, 1.1ms postprocess per image at shape (1, 3, 288, 768)\n"
          ]
        },
        {
          "output_type": "stream",
          "name": "stderr",
          "text": [
            "0it [00:00, ?it/s]\n"
          ]
        },
        {
          "output_type": "stream",
          "name": "stdout",
          "text": [
            "\n",
            "WARNING ⚠️ imgsz=[1086, 768] must be multiple of max stride 32, updating to [1088, 768]\n",
            "0: 1088x768 3 embeddings, 705.8ms\n",
            "Speed: 6.3ms preprocess, 705.8ms inference, 1.6ms postprocess per image at shape (1, 3, 1088, 768)\n"
          ]
        },
        {
          "output_type": "stream",
          "name": "stderr",
          "text": [
            "100%|██████████| 3/3 [00:01<00:00,  1.88it/s]\n"
          ]
        },
        {
          "output_type": "stream",
          "name": "stdout",
          "text": [
            "\n",
            "WARNING ⚠️ imgsz=[229, 768] must be multiple of max stride 32, updating to [256, 768]\n",
            "0: 256x768 (no detections), 174.3ms\n",
            "Speed: 1.6ms preprocess, 174.3ms inference, 0.7ms postprocess per image at shape (1, 3, 256, 768)\n"
          ]
        },
        {
          "output_type": "stream",
          "name": "stderr",
          "text": [
            "0it [00:00, ?it/s]"
          ]
        },
        {
          "output_type": "stream",
          "name": "stdout",
          "text": [
            "\n",
            "WARNING ⚠️ imgsz=[155, 1728] must be multiple of max stride 32, updating to [160, 1728]\n"
          ]
        },
        {
          "output_type": "stream",
          "name": "stderr",
          "text": [
            "\n"
          ]
        },
        {
          "output_type": "stream",
          "name": "stdout",
          "text": [
            "0: 160x1728 (no detections), 224.4ms\n",
            "Speed: 2.7ms preprocess, 224.4ms inference, 0.7ms postprocess per image at shape (1, 3, 160, 1728)\n"
          ]
        },
        {
          "output_type": "stream",
          "name": "stderr",
          "text": [
            "0it [00:00, ?it/s]\n"
          ]
        },
        {
          "output_type": "stream",
          "name": "stdout",
          "text": [
            "\n",
            "WARNING ⚠️ imgsz=[83, 1152] must be multiple of max stride 32, updating to [96, 1152]\n",
            "0: 96x1152 (no detections), 85.8ms\n",
            "Speed: 1.4ms preprocess, 85.8ms inference, 0.7ms postprocess per image at shape (1, 3, 96, 1152)\n"
          ]
        },
        {
          "output_type": "stream",
          "name": "stderr",
          "text": [
            "0it [00:00, ?it/s]"
          ]
        },
        {
          "output_type": "stream",
          "name": "stdout",
          "text": [
            "\n",
            "WARNING ⚠️ imgsz=[135, 1728] must be multiple of max stride 32, updating to [160, 1728]\n"
          ]
        },
        {
          "output_type": "stream",
          "name": "stderr",
          "text": [
            "\n"
          ]
        },
        {
          "output_type": "stream",
          "name": "stdout",
          "text": [
            "0: 160x1728 1 embedding, 226.1ms\n",
            "Speed: 2.7ms preprocess, 226.1ms inference, 1.9ms postprocess per image at shape (1, 3, 160, 1728)\n"
          ]
        },
        {
          "output_type": "stream",
          "name": "stderr",
          "text": [
            "100%|██████████| 1/1 [00:00<00:00,  2.18it/s]"
          ]
        },
        {
          "output_type": "stream",
          "name": "stdout",
          "text": [
            "\n",
            "WARNING ⚠️ imgsz=[275, 768] must be multiple of max stride 32, updating to [288, 768]\n"
          ]
        },
        {
          "output_type": "stream",
          "name": "stderr",
          "text": [
            "\n"
          ]
        },
        {
          "output_type": "stream",
          "name": "stdout",
          "text": [
            "0: 288x768 (no detections), 181.1ms\n",
            "Speed: 1.8ms preprocess, 181.1ms inference, 0.8ms postprocess per image at shape (1, 3, 288, 768)\n"
          ]
        },
        {
          "output_type": "stream",
          "name": "stderr",
          "text": [
            "0it [00:00, ?it/s]\n"
          ]
        },
        {
          "output_type": "stream",
          "name": "stdout",
          "text": [
            "\n",
            "WARNING ⚠️ imgsz=[1086, 768] must be multiple of max stride 32, updating to [1088, 768]\n",
            "0: 1088x768 (no detections), 973.1ms\n",
            "Speed: 9.9ms preprocess, 973.1ms inference, 1.0ms postprocess per image at shape (1, 3, 1088, 768)\n"
          ]
        },
        {
          "output_type": "stream",
          "name": "stderr",
          "text": [
            "0it [00:00, ?it/s]\n"
          ]
        },
        {
          "output_type": "stream",
          "name": "stdout",
          "text": [
            "\n",
            "WARNING ⚠️ imgsz=[407, 768] must be multiple of max stride 32, updating to [416, 768]\n",
            "0: 416x768 1 isolated, 377.4ms\n",
            "Speed: 2.3ms preprocess, 377.4ms inference, 1.6ms postprocess per image at shape (1, 3, 416, 768)\n"
          ]
        },
        {
          "output_type": "stream",
          "name": "stderr",
          "text": [
            "100%|██████████| 1/1 [00:00<00:00,  1.90it/s]"
          ]
        },
        {
          "output_type": "stream",
          "name": "stdout",
          "text": [
            "\n",
            "WARNING ⚠️ imgsz=[77, 1152] must be multiple of max stride 32, updating to [96, 1152]\n"
          ]
        },
        {
          "output_type": "stream",
          "name": "stderr",
          "text": [
            "\n"
          ]
        },
        {
          "output_type": "stream",
          "name": "stdout",
          "text": [
            "0: 96x1152 (no detections), 100.2ms\n",
            "Speed: 1.3ms preprocess, 100.2ms inference, 0.7ms postprocess per image at shape (1, 3, 96, 1152)\n"
          ]
        },
        {
          "output_type": "stream",
          "name": "stderr",
          "text": [
            "0it [00:00, ?it/s]"
          ]
        },
        {
          "output_type": "stream",
          "name": "stdout",
          "text": [
            "\n",
            "WARNING ⚠️ imgsz=[102, 1152] must be multiple of max stride 32, updating to [128, 1152]\n"
          ]
        },
        {
          "output_type": "stream",
          "name": "stderr",
          "text": [
            "\n"
          ]
        },
        {
          "output_type": "stream",
          "name": "stdout",
          "text": [
            "0: 128x1152 1 embedding, 119.9ms\n",
            "Speed: 1.5ms preprocess, 119.9ms inference, 1.4ms postprocess per image at shape (1, 3, 128, 1152)\n"
          ]
        },
        {
          "output_type": "stream",
          "name": "stderr",
          "text": [
            "100%|██████████| 1/1 [00:00<00:00,  1.74it/s]"
          ]
        },
        {
          "output_type": "stream",
          "name": "stdout",
          "text": [
            "\n",
            "WARNING ⚠️ imgsz=[86, 768] must be multiple of max stride 32, updating to [96, 768]\n",
            "0: 96x768 (no detections), 63.4ms\n",
            "Speed: 1.0ms preprocess, 63.4ms inference, 0.7ms postprocess per image at shape (1, 3, 96, 768)\n"
          ]
        },
        {
          "output_type": "stream",
          "name": "stderr",
          "text": [
            "\n",
            "0it [00:00, ?it/s]\n"
          ]
        },
        {
          "output_type": "stream",
          "name": "stdout",
          "text": [
            "\n",
            "WARNING ⚠️ imgsz=[105, 768] must be multiple of max stride 32, updating to [128, 768]\n",
            "0: 128x768 (no detections), 83.6ms\n",
            "Speed: 1.2ms preprocess, 83.6ms inference, 0.6ms postprocess per image at shape (1, 3, 128, 768)\n"
          ]
        },
        {
          "output_type": "stream",
          "name": "stderr",
          "text": [
            "0it [00:00, ?it/s]\n"
          ]
        },
        {
          "output_type": "stream",
          "name": "stdout",
          "text": [
            "\n",
            "WARNING ⚠️ imgsz=[285, 768] must be multiple of max stride 32, updating to [288, 768]\n",
            "0: 288x768 (no detections), 181.5ms\n",
            "Speed: 1.7ms preprocess, 181.5ms inference, 0.8ms postprocess per image at shape (1, 3, 288, 768)\n"
          ]
        },
        {
          "output_type": "stream",
          "name": "stderr",
          "text": [
            "0it [00:00, ?it/s]\n"
          ]
        },
        {
          "output_type": "stream",
          "name": "stdout",
          "text": [
            "\n",
            "WARNING ⚠️ imgsz=[1086, 768] must be multiple of max stride 32, updating to [1088, 768]\n",
            "0: 1088x768 (no detections), 676.1ms\n",
            "Speed: 6.5ms preprocess, 676.1ms inference, 0.8ms postprocess per image at shape (1, 3, 1088, 768)\n"
          ]
        },
        {
          "output_type": "stream",
          "name": "stderr",
          "text": [
            "0it [00:00, ?it/s]\n"
          ]
        },
        {
          "output_type": "stream",
          "name": "stdout",
          "text": [
            "\n",
            "WARNING ⚠️ imgsz=[411, 768] must be multiple of max stride 32, updating to [416, 768]\n",
            "0: 416x768 1 isolated, 290.9ms\n",
            "Speed: 2.7ms preprocess, 290.9ms inference, 3.6ms postprocess per image at shape (1, 3, 416, 768)\n"
          ]
        },
        {
          "output_type": "stream",
          "name": "stderr",
          "text": [
            "100%|██████████| 1/1 [00:00<00:00,  1.41it/s]"
          ]
        },
        {
          "output_type": "stream",
          "name": "stdout",
          "text": [
            "\n",
            "WARNING ⚠️ imgsz=[167, 768] must be multiple of max stride 32, updating to [192, 768]\n"
          ]
        },
        {
          "output_type": "stream",
          "name": "stderr",
          "text": [
            "\n"
          ]
        },
        {
          "output_type": "stream",
          "name": "stdout",
          "text": [
            "0: 192x768 (no detections), 141.3ms\n",
            "Speed: 1.4ms preprocess, 141.3ms inference, 0.7ms postprocess per image at shape (1, 3, 192, 768)\n"
          ]
        },
        {
          "output_type": "stream",
          "name": "stderr",
          "text": [
            "0it [00:00, ?it/s]"
          ]
        },
        {
          "output_type": "stream",
          "name": "stdout",
          "text": [
            "\n",
            "WARNING ⚠️ imgsz=[94, 1728] must be multiple of max stride 32, updating to [96, 1728]\n"
          ]
        },
        {
          "output_type": "stream",
          "name": "stderr",
          "text": [
            "\n"
          ]
        },
        {
          "output_type": "stream",
          "name": "stdout",
          "text": [
            "0: 96x1728 (no detections), 138.9ms\n",
            "Speed: 1.9ms preprocess, 138.9ms inference, 0.7ms postprocess per image at shape (1, 3, 96, 1728)\n"
          ]
        },
        {
          "output_type": "stream",
          "name": "stderr",
          "text": [
            "0it [00:00, ?it/s]"
          ]
        },
        {
          "output_type": "stream",
          "name": "stdout",
          "text": [
            "\n",
            "WARNING ⚠️ imgsz=[207, 768] must be multiple of max stride 32, updating to [224, 768]\n"
          ]
        },
        {
          "output_type": "stream",
          "name": "stderr",
          "text": [
            "\n"
          ]
        },
        {
          "output_type": "stream",
          "name": "stdout",
          "text": [
            "0: 224x768 (no detections), 154.7ms\n",
            "Speed: 1.5ms preprocess, 154.7ms inference, 0.8ms postprocess per image at shape (1, 3, 224, 768)\n"
          ]
        },
        {
          "output_type": "stream",
          "name": "stderr",
          "text": [
            "0it [00:00, ?it/s]"
          ]
        },
        {
          "output_type": "stream",
          "name": "stdout",
          "text": [
            "\n",
            "WARNING ⚠️ imgsz=[142, 768] must be multiple of max stride 32, updating to [160, 768]\n"
          ]
        },
        {
          "output_type": "stream",
          "name": "stderr",
          "text": [
            "\n"
          ]
        },
        {
          "output_type": "stream",
          "name": "stdout",
          "text": [
            "0: 160x768 (no detections), 128.1ms\n",
            "Speed: 1.2ms preprocess, 128.1ms inference, 1.1ms postprocess per image at shape (1, 3, 160, 768)\n"
          ]
        },
        {
          "output_type": "stream",
          "name": "stderr",
          "text": [
            "0it [00:00, ?it/s]\n"
          ]
        },
        {
          "output_type": "stream",
          "name": "stdout",
          "text": [
            "\n",
            "WARNING ⚠️ imgsz=[247, 1728] must be multiple of max stride 32, updating to [256, 1728]\n",
            "0: 256x1728 (no detections), 386.1ms\n",
            "Speed: 4.7ms preprocess, 386.1ms inference, 0.8ms postprocess per image at shape (1, 3, 256, 1728)\n"
          ]
        },
        {
          "output_type": "stream",
          "name": "stderr",
          "text": [
            "0it [00:00, ?it/s]\n"
          ]
        },
        {
          "output_type": "stream",
          "name": "stdout",
          "text": [
            "\n",
            "WARNING ⚠️ imgsz=[278, 768] must be multiple of max stride 32, updating to [288, 768]\n",
            "0: 288x768 (no detections), 177.3ms\n",
            "Speed: 1.7ms preprocess, 177.3ms inference, 0.8ms postprocess per image at shape (1, 3, 288, 768)\n"
          ]
        },
        {
          "output_type": "stream",
          "name": "stderr",
          "text": [
            "0it [00:00, ?it/s]\n"
          ]
        },
        {
          "output_type": "stream",
          "name": "stdout",
          "text": [
            "\n",
            "WARNING ⚠️ imgsz=[1086, 768] must be multiple of max stride 32, updating to [1088, 768]\n",
            "0: 1088x768 (no detections), 693.5ms\n",
            "Speed: 6.8ms preprocess, 693.5ms inference, 0.8ms postprocess per image at shape (1, 3, 1088, 768)\n"
          ]
        },
        {
          "output_type": "stream",
          "name": "stderr",
          "text": [
            "0it [00:00, ?it/s]\n"
          ]
        },
        {
          "output_type": "stream",
          "name": "stdout",
          "text": [
            "\n",
            "WARNING ⚠️ imgsz=[333, 768] must be multiple of max stride 32, updating to [352, 768]\n",
            "0: 352x768 1 isolated, 229.1ms\n",
            "Speed: 2.0ms preprocess, 229.1ms inference, 6.4ms postprocess per image at shape (1, 3, 352, 768)\n"
          ]
        },
        {
          "output_type": "stream",
          "name": "stderr",
          "text": [
            "100%|██████████| 1/1 [00:01<00:00,  1.48s/it]"
          ]
        },
        {
          "output_type": "stream",
          "name": "stdout",
          "text": [
            "\n",
            "WARNING ⚠️ imgsz=[99, 1152] must be multiple of max stride 32, updating to [128, 1152]\n"
          ]
        },
        {
          "output_type": "stream",
          "name": "stderr",
          "text": [
            "\n"
          ]
        },
        {
          "output_type": "stream",
          "name": "stdout",
          "text": [
            "0: 128x1152 (no detections), 133.8ms\n",
            "Speed: 1.5ms preprocess, 133.8ms inference, 0.7ms postprocess per image at shape (1, 3, 128, 1152)\n"
          ]
        },
        {
          "output_type": "stream",
          "name": "stderr",
          "text": [
            "0it [00:00, ?it/s]\n"
          ]
        },
        {
          "output_type": "stream",
          "name": "stdout",
          "text": [
            "\n",
            "WARNING ⚠️ imgsz=[1086, 768] must be multiple of max stride 32, updating to [1088, 768]\n",
            "0: 1088x768 (no detections), 699.7ms\n",
            "Speed: 9.8ms preprocess, 699.7ms inference, 0.8ms postprocess per image at shape (1, 3, 1088, 768)\n"
          ]
        },
        {
          "output_type": "stream",
          "name": "stderr",
          "text": [
            "0it [00:00, ?it/s]\n"
          ]
        },
        {
          "output_type": "stream",
          "name": "stdout",
          "text": [
            "\n",
            "WARNING ⚠️ imgsz=[417, 768] must be multiple of max stride 32, updating to [448, 768]\n",
            "0: 448x768 1 isolated, 472.0ms\n",
            "Speed: 2.5ms preprocess, 472.0ms inference, 8.9ms postprocess per image at shape (1, 3, 448, 768)\n"
          ]
        },
        {
          "output_type": "stream",
          "name": "stderr",
          "text": [
            "100%|██████████| 1/1 [00:00<00:00,  1.15it/s]"
          ]
        },
        {
          "output_type": "stream",
          "name": "stdout",
          "text": [
            "\n",
            "WARNING ⚠️ imgsz=[105, 768] must be multiple of max stride 32, updating to [128, 768]\n"
          ]
        },
        {
          "output_type": "stream",
          "name": "stderr",
          "text": [
            "\n"
          ]
        },
        {
          "output_type": "stream",
          "name": "stdout",
          "text": [
            "0: 128x768 (no detections), 134.2ms\n",
            "Speed: 1.1ms preprocess, 134.2ms inference, 0.9ms postprocess per image at shape (1, 3, 128, 768)\n"
          ]
        },
        {
          "output_type": "stream",
          "name": "stderr",
          "text": [
            "0it [00:00, ?it/s]\n"
          ]
        },
        {
          "output_type": "stream",
          "name": "stdout",
          "text": [
            "\n",
            "WARNING ⚠️ imgsz=[1086, 768] must be multiple of max stride 32, updating to [1088, 768]\n",
            "0: 1088x768 (no detections), 740.0ms\n",
            "Speed: 6.3ms preprocess, 740.0ms inference, 0.9ms postprocess per image at shape (1, 3, 1088, 768)\n"
          ]
        },
        {
          "output_type": "stream",
          "name": "stderr",
          "text": [
            "0it [00:00, ?it/s]\n"
          ]
        },
        {
          "output_type": "stream",
          "name": "stdout",
          "text": [
            "\n",
            "WARNING ⚠️ imgsz=[418, 768] must be multiple of max stride 32, updating to [448, 768]\n",
            "0: 448x768 1 isolated, 299.7ms\n",
            "Speed: 2.4ms preprocess, 299.7ms inference, 1.5ms postprocess per image at shape (1, 3, 448, 768)\n"
          ]
        },
        {
          "output_type": "stream",
          "name": "stderr",
          "text": [
            "100%|██████████| 1/1 [00:00<00:00,  1.33it/s]"
          ]
        },
        {
          "output_type": "stream",
          "name": "stdout",
          "text": [
            "\n",
            "WARNING ⚠️ imgsz=[127, 768] must be multiple of max stride 32, updating to [128, 768]\n"
          ]
        },
        {
          "output_type": "stream",
          "name": "stderr",
          "text": [
            "\n"
          ]
        },
        {
          "output_type": "stream",
          "name": "stdout",
          "text": [
            "0: 128x768 (no detections), 91.8ms\n",
            "Speed: 1.1ms preprocess, 91.8ms inference, 0.6ms postprocess per image at shape (1, 3, 128, 768)\n"
          ]
        },
        {
          "output_type": "stream",
          "name": "stderr",
          "text": [
            "0it [00:00, ?it/s]"
          ]
        },
        {
          "output_type": "stream",
          "name": "stdout",
          "text": [
            "\n",
            "WARNING ⚠️ imgsz=[109, 768] must be multiple of max stride 32, updating to [128, 768]\n",
            "0: 128x768 (no detections), 76.4ms\n",
            "Speed: 1.1ms preprocess, 76.4ms inference, 0.7ms postprocess per image at shape (1, 3, 128, 768)\n"
          ]
        },
        {
          "output_type": "stream",
          "name": "stderr",
          "text": [
            "\n",
            "0it [00:00, ?it/s]\n"
          ]
        },
        {
          "output_type": "stream",
          "name": "stdout",
          "text": [
            "\n",
            "WARNING ⚠️ imgsz=[1086, 768] must be multiple of max stride 32, updating to [1088, 768]\n",
            "0: 1088x768 (no detections), 725.0ms\n",
            "Speed: 8.3ms preprocess, 725.0ms inference, 0.8ms postprocess per image at shape (1, 3, 1088, 768)\n"
          ]
        },
        {
          "output_type": "stream",
          "name": "stderr",
          "text": [
            "0it [00:00, ?it/s]\n"
          ]
        },
        {
          "output_type": "stream",
          "name": "stdout",
          "text": [
            "\n",
            "WARNING ⚠️ imgsz=[100, 1152] must be multiple of max stride 32, updating to [128, 1152]\n",
            "0: 128x1152 (no detections), 122.3ms\n",
            "Speed: 1.4ms preprocess, 122.3ms inference, 0.7ms postprocess per image at shape (1, 3, 128, 1152)\n"
          ]
        },
        {
          "output_type": "stream",
          "name": "stderr",
          "text": [
            "0it [00:00, ?it/s]"
          ]
        },
        {
          "output_type": "stream",
          "name": "stdout",
          "text": [
            "\n",
            "WARNING ⚠️ imgsz=[475, 768] must be multiple of max stride 32, updating to [480, 768]\n"
          ]
        },
        {
          "output_type": "stream",
          "name": "stderr",
          "text": [
            "\n"
          ]
        },
        {
          "output_type": "stream",
          "name": "stdout",
          "text": [
            "0: 480x768 1 isolated, 305.7ms\n",
            "Speed: 2.6ms preprocess, 305.7ms inference, 1.5ms postprocess per image at shape (1, 3, 480, 768)\n"
          ]
        },
        {
          "output_type": "stream",
          "name": "stderr",
          "text": [
            "100%|██████████| 1/1 [00:00<00:00,  1.02it/s]\n"
          ]
        },
        {
          "output_type": "stream",
          "name": "stdout",
          "text": [
            "\n",
            "WARNING ⚠️ imgsz=[97, 1152] must be multiple of max stride 32, updating to [128, 1152]\n",
            "0: 128x1152 (no detections), 192.4ms\n",
            "Speed: 1.7ms preprocess, 192.4ms inference, 1.0ms postprocess per image at shape (1, 3, 128, 1152)\n"
          ]
        },
        {
          "output_type": "stream",
          "name": "stderr",
          "text": [
            "0it [00:00, ?it/s]"
          ]
        },
        {
          "output_type": "stream",
          "name": "stdout",
          "text": [
            "\n",
            "WARNING ⚠️ imgsz=[92, 1152] must be multiple of max stride 32, updating to [96, 1152]\n"
          ]
        },
        {
          "output_type": "stream",
          "name": "stderr",
          "text": [
            "\n"
          ]
        },
        {
          "output_type": "stream",
          "name": "stdout",
          "text": [
            "0: 96x1152 (no detections), 137.9ms\n",
            "Speed: 2.3ms preprocess, 137.9ms inference, 1.0ms postprocess per image at shape (1, 3, 96, 1152)\n"
          ]
        },
        {
          "output_type": "stream",
          "name": "stderr",
          "text": [
            "0it [00:00, ?it/s]"
          ]
        },
        {
          "output_type": "stream",
          "name": "stdout",
          "text": [
            "\n",
            "WARNING ⚠️ imgsz=[85, 1152] must be multiple of max stride 32, updating to [96, 1152]\n"
          ]
        },
        {
          "output_type": "stream",
          "name": "stderr",
          "text": [
            "\n"
          ]
        },
        {
          "output_type": "stream",
          "name": "stdout",
          "text": [
            "0: 96x1152 (no detections), 142.6ms\n",
            "Speed: 1.5ms preprocess, 142.6ms inference, 1.0ms postprocess per image at shape (1, 3, 96, 1152)\n"
          ]
        },
        {
          "output_type": "stream",
          "name": "stderr",
          "text": [
            "0it [00:00, ?it/s]"
          ]
        },
        {
          "output_type": "stream",
          "name": "stdout",
          "text": [
            "\n",
            "WARNING ⚠️ imgsz=[405, 768] must be multiple of max stride 32, updating to [416, 768]\n"
          ]
        },
        {
          "output_type": "stream",
          "name": "stderr",
          "text": [
            "\n"
          ]
        },
        {
          "output_type": "stream",
          "name": "stdout",
          "text": [
            "0: 416x768 1 isolated, 395.9ms\n",
            "Speed: 2.4ms preprocess, 395.9ms inference, 1.9ms postprocess per image at shape (1, 3, 416, 768)\n"
          ]
        },
        {
          "output_type": "stream",
          "name": "stderr",
          "text": [
            "100%|██████████| 1/1 [00:00<00:00,  1.40it/s]"
          ]
        },
        {
          "output_type": "stream",
          "name": "stdout",
          "text": [
            "\n",
            "WARNING ⚠️ imgsz=[149, 768] must be multiple of max stride 32, updating to [160, 768]\n"
          ]
        },
        {
          "output_type": "stream",
          "name": "stderr",
          "text": [
            "\n"
          ]
        },
        {
          "output_type": "stream",
          "name": "stdout",
          "text": [
            "0: 160x768 (no detections), 152.0ms\n",
            "Speed: 1.4ms preprocess, 152.0ms inference, 1.0ms postprocess per image at shape (1, 3, 160, 768)\n"
          ]
        },
        {
          "output_type": "stream",
          "name": "stderr",
          "text": [
            "0it [00:00, ?it/s]"
          ]
        },
        {
          "output_type": "stream",
          "name": "stdout",
          "text": [
            "\n",
            "WARNING ⚠️ imgsz=[273, 768] must be multiple of max stride 32, updating to [288, 768]\n"
          ]
        },
        {
          "output_type": "stream",
          "name": "stderr",
          "text": [
            "\n"
          ]
        },
        {
          "output_type": "stream",
          "name": "stdout",
          "text": [
            "0: 288x768 (no detections), 307.6ms\n",
            "Speed: 1.7ms preprocess, 307.6ms inference, 1.0ms postprocess per image at shape (1, 3, 288, 768)\n"
          ]
        },
        {
          "output_type": "stream",
          "name": "stderr",
          "text": [
            "0it [00:00, ?it/s]\n"
          ]
        },
        {
          "output_type": "stream",
          "name": "stdout",
          "text": [
            "\n",
            "WARNING ⚠️ imgsz=[1086, 768] must be multiple of max stride 32, updating to [1088, 768]\n",
            "0: 1088x768 (no detections), 660.3ms\n",
            "Speed: 6.6ms preprocess, 660.3ms inference, 0.8ms postprocess per image at shape (1, 3, 1088, 768)\n"
          ]
        },
        {
          "output_type": "stream",
          "name": "stderr",
          "text": [
            "0it [00:00, ?it/s]\n"
          ]
        },
        {
          "output_type": "stream",
          "name": "stdout",
          "text": [
            "\n",
            "WARNING ⚠️ imgsz=[329, 768] must be multiple of max stride 32, updating to [352, 768]\n",
            "0: 352x768 1 isolated, 216.2ms\n",
            "Speed: 2.3ms preprocess, 216.2ms inference, 1.5ms postprocess per image at shape (1, 3, 352, 768)\n"
          ]
        },
        {
          "output_type": "stream",
          "name": "stderr",
          "text": [
            "100%|██████████| 1/1 [00:00<00:00,  1.98it/s]"
          ]
        },
        {
          "output_type": "stream",
          "name": "stdout",
          "text": [
            "\n",
            "WARNING ⚠️ imgsz=[124, 768] must be multiple of max stride 32, updating to [128, 768]\n",
            "0: 128x768 (no detections), 91.1ms\n",
            "Speed: 1.3ms preprocess, 91.1ms inference, 0.7ms postprocess per image at shape (1, 3, 128, 768)\n"
          ]
        },
        {
          "output_type": "stream",
          "name": "stderr",
          "text": [
            "\n",
            "0it [00:00, ?it/s]"
          ]
        },
        {
          "output_type": "stream",
          "name": "stdout",
          "text": [
            "\n",
            "WARNING ⚠️ imgsz=[109, 1728] must be multiple of max stride 32, updating to [128, 1728]\n"
          ]
        },
        {
          "output_type": "stream",
          "name": "stderr",
          "text": [
            "\n"
          ]
        },
        {
          "output_type": "stream",
          "name": "stdout",
          "text": [
            "0: 128x1728 (no detections), 175.0ms\n",
            "Speed: 2.4ms preprocess, 175.0ms inference, 0.8ms postprocess per image at shape (1, 3, 128, 1728)\n"
          ]
        },
        {
          "output_type": "stream",
          "name": "stderr",
          "text": [
            "0it [00:00, ?it/s]"
          ]
        },
        {
          "output_type": "stream",
          "name": "stdout",
          "text": [
            "\n",
            "WARNING ⚠️ imgsz=[167, 768] must be multiple of max stride 32, updating to [192, 768]\n"
          ]
        },
        {
          "output_type": "stream",
          "name": "stderr",
          "text": [
            "\n"
          ]
        },
        {
          "output_type": "stream",
          "name": "stdout",
          "text": [
            "0: 192x768 (no detections), 136.0ms\n",
            "Speed: 1.7ms preprocess, 136.0ms inference, 0.7ms postprocess per image at shape (1, 3, 192, 768)\n"
          ]
        },
        {
          "output_type": "stream",
          "name": "stderr",
          "text": [
            "0it [00:00, ?it/s]"
          ]
        },
        {
          "output_type": "stream",
          "name": "stdout",
          "text": [
            "\n",
            "WARNING ⚠️ imgsz=[133, 1728] must be multiple of max stride 32, updating to [160, 1728]\n"
          ]
        },
        {
          "output_type": "stream",
          "name": "stderr",
          "text": [
            "\n"
          ]
        },
        {
          "output_type": "stream",
          "name": "stdout",
          "text": [
            "0: 160x1728 1 isolated, 207.2ms\n",
            "Speed: 3.3ms preprocess, 207.2ms inference, 1.6ms postprocess per image at shape (1, 3, 160, 1728)\n"
          ]
        },
        {
          "output_type": "stream",
          "name": "stderr",
          "text": [
            "100%|██████████| 1/1 [00:12<00:00, 12.31s/it]"
          ]
        },
        {
          "output_type": "stream",
          "name": "stdout",
          "text": [
            "\n",
            "WARNING ⚠️ imgsz=[161, 1728] must be multiple of max stride 32, updating to [192, 1728]\n"
          ]
        },
        {
          "output_type": "stream",
          "name": "stderr",
          "text": [
            "\n"
          ]
        },
        {
          "output_type": "stream",
          "name": "stdout",
          "text": [
            "0: 192x1728 (no detections), 273.2ms\n",
            "Speed: 4.7ms preprocess, 273.2ms inference, 0.8ms postprocess per image at shape (1, 3, 192, 1728)\n"
          ]
        },
        {
          "output_type": "stream",
          "name": "stderr",
          "text": [
            "0it [00:00, ?it/s]\n"
          ]
        },
        {
          "output_type": "stream",
          "name": "stdout",
          "text": [
            "\n",
            "WARNING ⚠️ imgsz=[117, 1728] must be multiple of max stride 32, updating to [128, 1728]\n",
            "0: 128x1728 (no detections), 187.7ms\n",
            "Speed: 2.7ms preprocess, 187.7ms inference, 1.1ms postprocess per image at shape (1, 3, 128, 1728)\n"
          ]
        },
        {
          "output_type": "stream",
          "name": "stderr",
          "text": [
            "0it [00:00, ?it/s]"
          ]
        },
        {
          "output_type": "stream",
          "name": "stdout",
          "text": [
            "\n",
            "WARNING ⚠️ imgsz=[105, 1152] must be multiple of max stride 32, updating to [128, 1152]\n"
          ]
        },
        {
          "output_type": "stream",
          "name": "stderr",
          "text": [
            "\n"
          ]
        },
        {
          "output_type": "stream",
          "name": "stdout",
          "text": [
            "0: 128x1152 (no detections), 129.4ms\n",
            "Speed: 4.0ms preprocess, 129.4ms inference, 0.8ms postprocess per image at shape (1, 3, 128, 1152)\n"
          ]
        },
        {
          "output_type": "stream",
          "name": "stderr",
          "text": [
            "0it [00:00, ?it/s]"
          ]
        },
        {
          "output_type": "stream",
          "name": "stdout",
          "text": [
            "\n",
            "WARNING ⚠️ imgsz=[261, 768] must be multiple of max stride 32, updating to [288, 768]\n"
          ]
        },
        {
          "output_type": "stream",
          "name": "stderr",
          "text": [
            "\n"
          ]
        },
        {
          "output_type": "stream",
          "name": "stdout",
          "text": [
            "0: 288x768 (no detections), 197.2ms\n",
            "Speed: 1.8ms preprocess, 197.2ms inference, 0.8ms postprocess per image at shape (1, 3, 288, 768)\n"
          ]
        },
        {
          "output_type": "stream",
          "name": "stderr",
          "text": [
            "0it [00:00, ?it/s]"
          ]
        },
        {
          "output_type": "stream",
          "name": "stdout",
          "text": [
            "\n",
            "WARNING ⚠️ imgsz=[79, 1152] must be multiple of max stride 32, updating to [96, 1152]\n"
          ]
        },
        {
          "output_type": "stream",
          "name": "stderr",
          "text": [
            "\n"
          ]
        },
        {
          "output_type": "stream",
          "name": "stdout",
          "text": [
            "0: 96x1152 (no detections), 101.7ms\n",
            "Speed: 1.5ms preprocess, 101.7ms inference, 0.7ms postprocess per image at shape (1, 3, 96, 1152)\n"
          ]
        },
        {
          "output_type": "stream",
          "name": "stderr",
          "text": [
            "0it [00:00, ?it/s]"
          ]
        },
        {
          "output_type": "stream",
          "name": "stdout",
          "text": [
            "\n",
            "WARNING ⚠️ imgsz=[161, 1728] must be multiple of max stride 32, updating to [192, 1728]\n"
          ]
        },
        {
          "output_type": "stream",
          "name": "stderr",
          "text": [
            "\n"
          ]
        },
        {
          "output_type": "stream",
          "name": "stdout",
          "text": [
            "0: 192x1728 (no detections), 272.8ms\n",
            "Speed: 3.2ms preprocess, 272.8ms inference, 0.8ms postprocess per image at shape (1, 3, 192, 1728)\n"
          ]
        },
        {
          "output_type": "stream",
          "name": "stderr",
          "text": [
            "0it [00:00, ?it/s]\n"
          ]
        },
        {
          "output_type": "stream",
          "name": "stdout",
          "text": [
            "\n",
            "WARNING ⚠️ imgsz=[1086, 768] must be multiple of max stride 32, updating to [1088, 768]\n",
            "0: 1088x768 1 embedding, 711.2ms\n",
            "Speed: 6.4ms preprocess, 711.2ms inference, 2.4ms postprocess per image at shape (1, 3, 1088, 768)\n"
          ]
        },
        {
          "output_type": "stream",
          "name": "stderr",
          "text": [
            "100%|██████████| 1/1 [00:52<00:00, 52.15s/it]\n"
          ]
        },
        {
          "output_type": "stream",
          "name": "stdout",
          "text": [
            "\n",
            "WARNING ⚠️ imgsz=[147, 1728] must be multiple of max stride 32, updating to [160, 1728]\n",
            "0: 160x1728 (no detections), 220.6ms\n",
            "Speed: 2.9ms preprocess, 220.6ms inference, 0.9ms postprocess per image at shape (1, 3, 160, 1728)\n"
          ]
        },
        {
          "output_type": "stream",
          "name": "stderr",
          "text": [
            "0it [00:00, ?it/s]\n"
          ]
        },
        {
          "output_type": "stream",
          "name": "stdout",
          "text": [
            "\n",
            "WARNING ⚠️ imgsz=[143, 768] must be multiple of max stride 32, updating to [160, 768]\n",
            "0: 160x768 (no detections), 112.3ms\n",
            "Speed: 1.2ms preprocess, 112.3ms inference, 0.7ms postprocess per image at shape (1, 3, 160, 768)\n"
          ]
        },
        {
          "output_type": "stream",
          "name": "stderr",
          "text": [
            "0it [00:00, ?it/s]"
          ]
        },
        {
          "output_type": "stream",
          "name": "stdout",
          "text": [
            "\n",
            "WARNING ⚠️ imgsz=[208, 1728] must be multiple of max stride 32, updating to [224, 1728]\n"
          ]
        },
        {
          "output_type": "stream",
          "name": "stderr",
          "text": [
            "\n"
          ]
        },
        {
          "output_type": "stream",
          "name": "stdout",
          "text": [
            "0: 224x1728 (no detections), 332.9ms\n",
            "Speed: 3.8ms preprocess, 332.9ms inference, 0.8ms postprocess per image at shape (1, 3, 224, 1728)\n"
          ]
        },
        {
          "output_type": "stream",
          "name": "stderr",
          "text": [
            "0it [00:00, ?it/s]\n"
          ]
        },
        {
          "output_type": "stream",
          "name": "stdout",
          "text": [
            "\n",
            "WARNING ⚠️ imgsz=[107, 1728] must be multiple of max stride 32, updating to [128, 1728]\n",
            "0: 128x1728 (no detections), 184.6ms\n",
            "Speed: 2.3ms preprocess, 184.6ms inference, 0.8ms postprocess per image at shape (1, 3, 128, 1728)\n"
          ]
        },
        {
          "output_type": "stream",
          "name": "stderr",
          "text": [
            "0it [00:00, ?it/s]"
          ]
        },
        {
          "output_type": "stream",
          "name": "stdout",
          "text": [
            "\n",
            "WARNING ⚠️ imgsz=[189, 1728] must be multiple of max stride 32, updating to [192, 1728]\n"
          ]
        },
        {
          "output_type": "stream",
          "name": "stderr",
          "text": [
            "\n"
          ]
        },
        {
          "output_type": "stream",
          "name": "stdout",
          "text": [
            "0: 192x1728 2 embeddings, 273.3ms\n",
            "Speed: 3.4ms preprocess, 273.3ms inference, 1.5ms postprocess per image at shape (1, 3, 192, 1728)\n"
          ]
        },
        {
          "output_type": "stream",
          "name": "stderr",
          "text": [
            "100%|██████████| 2/2 [00:01<00:00,  1.14it/s]\n",
            "WARNING:py.warnings:/usr/local/lib/python3.10/dist-packages/numpy/core/fromnumeric.py:3504: RuntimeWarning: Mean of empty slice.\n",
            "  return _methods._mean(a, axis=axis, dtype=dtype,\n",
            "\n",
            "WARNING:py.warnings:/usr/local/lib/python3.10/dist-packages/numpy/core/_methods.py:129: RuntimeWarning: invalid value encountered in scalar divide\n",
            "  ret = ret.dtype.type(ret / rcount)\n",
            "\n"
          ]
        },
        {
          "output_type": "stream",
          "name": "stdout",
          "text": [
            "\n",
            "WARNING ⚠️ imgsz=[157, 1728] must be multiple of max stride 32, updating to [160, 1728]\n",
            "0: 160x1728 (no detections), 339.8ms\n",
            "Speed: 2.8ms preprocess, 339.8ms inference, 1.1ms postprocess per image at shape (1, 3, 160, 1728)\n"
          ]
        },
        {
          "output_type": "stream",
          "name": "stderr",
          "text": [
            "0it [00:00, ?it/s]\n"
          ]
        },
        {
          "output_type": "stream",
          "name": "stdout",
          "text": [
            "\n",
            "WARNING ⚠️ imgsz=[279, 768] must be multiple of max stride 32, updating to [288, 768]\n",
            "0: 288x768 (no detections), 276.9ms\n",
            "Speed: 1.9ms preprocess, 276.9ms inference, 1.0ms postprocess per image at shape (1, 3, 288, 768)\n"
          ]
        },
        {
          "output_type": "stream",
          "name": "stderr",
          "text": [
            "0it [00:00, ?it/s]"
          ]
        },
        {
          "output_type": "stream",
          "name": "stdout",
          "text": [
            "\n",
            "WARNING ⚠️ imgsz=[78, 1152] must be multiple of max stride 32, updating to [96, 1152]\n"
          ]
        },
        {
          "output_type": "stream",
          "name": "stderr",
          "text": [
            "\n"
          ]
        },
        {
          "output_type": "stream",
          "name": "stdout",
          "text": [
            "0: 96x1152 (no detections), 138.0ms\n",
            "Speed: 1.4ms preprocess, 138.0ms inference, 1.0ms postprocess per image at shape (1, 3, 96, 1152)\n"
          ]
        },
        {
          "output_type": "stream",
          "name": "stderr",
          "text": [
            "0it [00:00, ?it/s]"
          ]
        },
        {
          "output_type": "stream",
          "name": "stdout",
          "text": [
            "\n",
            "WARNING ⚠️ imgsz=[85, 1152] must be multiple of max stride 32, updating to [96, 1152]\n"
          ]
        },
        {
          "output_type": "stream",
          "name": "stderr",
          "text": [
            "\n"
          ]
        },
        {
          "output_type": "stream",
          "name": "stdout",
          "text": [
            "0: 96x1152 (no detections), 139.9ms\n",
            "Speed: 1.6ms preprocess, 139.9ms inference, 1.0ms postprocess per image at shape (1, 3, 96, 1152)\n"
          ]
        },
        {
          "output_type": "stream",
          "name": "stderr",
          "text": [
            "0it [00:00, ?it/s]\n"
          ]
        },
        {
          "output_type": "stream",
          "name": "stdout",
          "text": [
            "\n",
            "WARNING ⚠️ imgsz=[1086, 768] must be multiple of max stride 32, updating to [1088, 768]\n",
            "0: 1088x768 2 embeddings, 686.9ms\n",
            "Speed: 6.1ms preprocess, 686.9ms inference, 1.5ms postprocess per image at shape (1, 3, 1088, 768)\n"
          ]
        },
        {
          "output_type": "stream",
          "name": "stderr",
          "text": [
            "100%|██████████| 2/2 [00:02<00:00,  1.05s/it]\n"
          ]
        },
        {
          "output_type": "stream",
          "name": "stdout",
          "text": [
            "\n",
            "WARNING ⚠️ imgsz=[123, 768] must be multiple of max stride 32, updating to [128, 768]\n",
            "0: 128x768 (no detections), 88.6ms\n",
            "Speed: 1.4ms preprocess, 88.6ms inference, 2.6ms postprocess per image at shape (1, 3, 128, 768)\n"
          ]
        },
        {
          "output_type": "stream",
          "name": "stderr",
          "text": [
            "0it [00:00, ?it/s]"
          ]
        },
        {
          "output_type": "stream",
          "name": "stdout",
          "text": [
            "\n",
            "WARNING ⚠️ imgsz=[393, 768] must be multiple of max stride 32, updating to [416, 768]\n"
          ]
        },
        {
          "output_type": "stream",
          "name": "stderr",
          "text": [
            "\n"
          ]
        },
        {
          "output_type": "stream",
          "name": "stdout",
          "text": [
            "0: 416x768 1 isolated, 271.7ms\n",
            "Speed: 2.3ms preprocess, 271.7ms inference, 1.6ms postprocess per image at shape (1, 3, 416, 768)\n"
          ]
        },
        {
          "output_type": "stream",
          "name": "stderr",
          "text": [
            "100%|██████████| 1/1 [00:01<00:00,  1.11s/it]"
          ]
        },
        {
          "output_type": "stream",
          "name": "stdout",
          "text": [
            "\n",
            "WARNING ⚠️ imgsz=[85, 1152] must be multiple of max stride 32, updating to [96, 1152]\n"
          ]
        },
        {
          "output_type": "stream",
          "name": "stderr",
          "text": [
            "\n"
          ]
        },
        {
          "output_type": "stream",
          "name": "stdout",
          "text": [
            "0: 96x1152 (no detections), 94.4ms\n",
            "Speed: 1.3ms preprocess, 94.4ms inference, 0.7ms postprocess per image at shape (1, 3, 96, 1152)\n"
          ]
        },
        {
          "output_type": "stream",
          "name": "stderr",
          "text": [
            "0it [00:00, ?it/s]\n"
          ]
        },
        {
          "output_type": "stream",
          "name": "stdout",
          "text": [
            "\n",
            "WARNING ⚠️ imgsz=[1086, 768] must be multiple of max stride 32, updating to [1088, 768]\n",
            "0: 1088x768 (no detections), 1043.6ms\n",
            "Speed: 9.2ms preprocess, 1043.6ms inference, 0.9ms postprocess per image at shape (1, 3, 1088, 768)\n"
          ]
        },
        {
          "output_type": "stream",
          "name": "stderr",
          "text": [
            "0it [00:00, ?it/s]\n"
          ]
        },
        {
          "output_type": "stream",
          "name": "stdout",
          "text": [
            "\n",
            "WARNING ⚠️ imgsz=[342, 768] must be multiple of max stride 32, updating to [352, 768]\n",
            "0: 352x768 1 isolated, 340.3ms\n",
            "Speed: 1.8ms preprocess, 340.3ms inference, 6.8ms postprocess per image at shape (1, 3, 352, 768)\n"
          ]
        },
        {
          "output_type": "stream",
          "name": "stderr",
          "text": [
            "100%|██████████| 1/1 [00:00<00:00,  1.74it/s]"
          ]
        },
        {
          "output_type": "stream",
          "name": "stdout",
          "text": [
            "\n",
            "WARNING ⚠️ imgsz=[122, 768] must be multiple of max stride 32, updating to [128, 768]\n"
          ]
        },
        {
          "output_type": "stream",
          "name": "stderr",
          "text": [
            "\n"
          ]
        },
        {
          "output_type": "stream",
          "name": "stdout",
          "text": [
            "0: 128x768 (no detections), 96.4ms\n",
            "Speed: 1.1ms preprocess, 96.4ms inference, 0.7ms postprocess per image at shape (1, 3, 128, 768)\n"
          ]
        },
        {
          "output_type": "stream",
          "name": "stderr",
          "text": [
            "0it [00:00, ?it/s]"
          ]
        },
        {
          "output_type": "stream",
          "name": "stdout",
          "text": [
            "\n",
            "0: 160x768 1 embedding, 95.7ms\n",
            "Speed: 1.3ms preprocess, 95.7ms inference, 1.5ms postprocess per image at shape (1, 3, 160, 768)\n"
          ]
        },
        {
          "output_type": "stream",
          "name": "stderr",
          "text": [
            "\n",
            "100%|██████████| 1/1 [00:00<00:00,  1.95it/s]"
          ]
        },
        {
          "output_type": "stream",
          "name": "stdout",
          "text": [
            "\n",
            "WARNING ⚠️ imgsz=[251, 1728] must be multiple of max stride 32, updating to [256, 1728]\n"
          ]
        },
        {
          "output_type": "stream",
          "name": "stderr",
          "text": [
            "\n"
          ]
        },
        {
          "output_type": "stream",
          "name": "stdout",
          "text": [
            "0: 256x1728 1 isolated, 345.0ms\n",
            "Speed: 4.8ms preprocess, 345.0ms inference, 1.7ms postprocess per image at shape (1, 3, 256, 1728)\n"
          ]
        },
        {
          "output_type": "stream",
          "name": "stderr",
          "text": [
            "100%|██████████| 1/1 [00:01<00:00,  1.21s/it]\n"
          ]
        },
        {
          "output_type": "stream",
          "name": "stdout",
          "text": [
            "\n",
            "WARNING ⚠️ imgsz=[114, 1152] must be multiple of max stride 32, updating to [128, 1152]\n",
            "0: 128x1152 (no detections), 122.0ms\n",
            "Speed: 1.9ms preprocess, 122.0ms inference, 0.7ms postprocess per image at shape (1, 3, 128, 1152)\n"
          ]
        },
        {
          "output_type": "stream",
          "name": "stderr",
          "text": [
            "0it [00:00, ?it/s]"
          ]
        },
        {
          "output_type": "stream",
          "name": "stdout",
          "text": [
            "\n",
            "WARNING ⚠️ imgsz=[268, 768] must be multiple of max stride 32, updating to [288, 768]\n"
          ]
        },
        {
          "output_type": "stream",
          "name": "stderr",
          "text": [
            "\n"
          ]
        },
        {
          "output_type": "stream",
          "name": "stdout",
          "text": [
            "0: 288x768 (no detections), 188.7ms\n",
            "Speed: 1.8ms preprocess, 188.7ms inference, 0.8ms postprocess per image at shape (1, 3, 288, 768)\n"
          ]
        },
        {
          "output_type": "stream",
          "name": "stderr",
          "text": [
            "0it [00:00, ?it/s]"
          ]
        },
        {
          "output_type": "stream",
          "name": "stdout",
          "text": [
            "\n",
            "WARNING ⚠️ imgsz=[116, 768] must be multiple of max stride 32, updating to [128, 768]\n"
          ]
        },
        {
          "output_type": "stream",
          "name": "stderr",
          "text": [
            "\n"
          ]
        },
        {
          "output_type": "stream",
          "name": "stdout",
          "text": [
            "0: 128x768 (no detections), 112.9ms\n",
            "Speed: 1.2ms preprocess, 112.9ms inference, 0.8ms postprocess per image at shape (1, 3, 128, 768)\n"
          ]
        },
        {
          "output_type": "stream",
          "name": "stderr",
          "text": [
            "0it [00:00, ?it/s]\n"
          ]
        },
        {
          "output_type": "stream",
          "name": "stdout",
          "text": [
            "\n",
            "WARNING ⚠️ imgsz=[1086, 768] must be multiple of max stride 32, updating to [1088, 768]\n",
            "0: 1088x768 (no detections), 664.5ms\n",
            "Speed: 6.2ms preprocess, 664.5ms inference, 0.8ms postprocess per image at shape (1, 3, 1088, 768)\n"
          ]
        },
        {
          "output_type": "stream",
          "name": "stderr",
          "text": [
            "0it [00:00, ?it/s]\n"
          ]
        },
        {
          "output_type": "stream",
          "name": "stdout",
          "text": [
            "\n",
            "WARNING ⚠️ imgsz=[344, 768] must be multiple of max stride 32, updating to [352, 768]\n",
            "0: 352x768 1 isolated, 216.0ms\n",
            "Speed: 2.0ms preprocess, 216.0ms inference, 1.6ms postprocess per image at shape (1, 3, 352, 768)\n"
          ]
        },
        {
          "output_type": "stream",
          "name": "stderr",
          "text": [
            "100%|██████████| 1/1 [00:00<00:00,  1.77it/s]"
          ]
        },
        {
          "output_type": "stream",
          "name": "stdout",
          "text": [
            "\n",
            "WARNING ⚠️ imgsz=[123, 768] must be multiple of max stride 32, updating to [128, 768]\n"
          ]
        },
        {
          "output_type": "stream",
          "name": "stderr",
          "text": [
            "\n"
          ]
        },
        {
          "output_type": "stream",
          "name": "stdout",
          "text": [
            "0: 128x768 (no detections), 109.9ms\n",
            "Speed: 1.2ms preprocess, 109.9ms inference, 0.8ms postprocess per image at shape (1, 3, 128, 768)\n"
          ]
        },
        {
          "output_type": "stream",
          "name": "stderr",
          "text": [
            "0it [00:00, ?it/s]"
          ]
        },
        {
          "output_type": "stream",
          "name": "stdout",
          "text": [
            "\n",
            "WARNING ⚠️ imgsz=[175, 768] must be multiple of max stride 32, updating to [192, 768]\n"
          ]
        },
        {
          "output_type": "stream",
          "name": "stderr",
          "text": [
            "\n"
          ]
        },
        {
          "output_type": "stream",
          "name": "stdout",
          "text": [
            "0: 192x768 (no detections), 143.2ms\n",
            "Speed: 1.5ms preprocess, 143.2ms inference, 0.7ms postprocess per image at shape (1, 3, 192, 768)\n"
          ]
        },
        {
          "output_type": "stream",
          "name": "stderr",
          "text": [
            "0it [00:00, ?it/s]"
          ]
        },
        {
          "output_type": "stream",
          "name": "stdout",
          "text": [
            "\n",
            "WARNING ⚠️ imgsz=[175, 768] must be multiple of max stride 32, updating to [192, 768]\n"
          ]
        },
        {
          "output_type": "stream",
          "name": "stderr",
          "text": [
            "\n"
          ]
        },
        {
          "output_type": "stream",
          "name": "stdout",
          "text": [
            "0: 192x768 (no detections), 127.9ms\n",
            "Speed: 1.3ms preprocess, 127.9ms inference, 0.9ms postprocess per image at shape (1, 3, 192, 768)\n"
          ]
        },
        {
          "output_type": "stream",
          "name": "stderr",
          "text": [
            "0it [00:00, ?it/s]"
          ]
        },
        {
          "output_type": "stream",
          "name": "stdout",
          "text": [
            "\n",
            "WARNING ⚠️ imgsz=[266, 768] must be multiple of max stride 32, updating to [288, 768]\n"
          ]
        },
        {
          "output_type": "stream",
          "name": "stderr",
          "text": [
            "\n"
          ]
        },
        {
          "output_type": "stream",
          "name": "stdout",
          "text": [
            "0: 288x768 1 isolated, 218.2ms\n",
            "Speed: 1.7ms preprocess, 218.2ms inference, 2.2ms postprocess per image at shape (1, 3, 288, 768)\n"
          ]
        },
        {
          "output_type": "stream",
          "name": "stderr",
          "text": [
            "100%|██████████| 1/1 [00:01<00:00,  1.63s/it]"
          ]
        },
        {
          "output_type": "stream",
          "name": "stdout",
          "text": [
            "\n",
            "WARNING ⚠️ imgsz=[233, 768] must be multiple of max stride 32, updating to [256, 768]\n"
          ]
        },
        {
          "output_type": "stream",
          "name": "stderr",
          "text": [
            "\n"
          ]
        },
        {
          "output_type": "stream",
          "name": "stdout",
          "text": [
            "0: 256x768 1 isolated, 271.0ms\n",
            "Speed: 1.9ms preprocess, 271.0ms inference, 2.2ms postprocess per image at shape (1, 3, 256, 768)\n"
          ]
        },
        {
          "output_type": "stream",
          "name": "stderr",
          "text": [
            "100%|██████████| 1/1 [00:01<00:00,  1.70s/it]\n"
          ]
        },
        {
          "output_type": "stream",
          "name": "stdout",
          "text": [
            "\n",
            "WARNING ⚠️ imgsz=[182, 1728] must be multiple of max stride 32, updating to [192, 1728]\n",
            "0: 192x1728 (no detections), 266.6ms\n",
            "Speed: 3.2ms preprocess, 266.6ms inference, 0.7ms postprocess per image at shape (1, 3, 192, 1728)\n"
          ]
        },
        {
          "output_type": "stream",
          "name": "stderr",
          "text": [
            "0it [00:00, ?it/s]\n"
          ]
        },
        {
          "output_type": "stream",
          "name": "stdout",
          "text": [
            "\n",
            "WARNING ⚠️ imgsz=[205, 1728] must be multiple of max stride 32, updating to [224, 1728]\n",
            "0: 224x1728 1 embedding, 293.9ms\n",
            "Speed: 4.0ms preprocess, 293.9ms inference, 1.6ms postprocess per image at shape (1, 3, 224, 1728)\n"
          ]
        },
        {
          "output_type": "stream",
          "name": "stderr",
          "text": [
            "100%|██████████| 1/1 [00:00<00:00,  1.85it/s]\n"
          ]
        },
        {
          "output_type": "stream",
          "name": "stdout",
          "text": [
            "\n",
            "WARNING ⚠️ imgsz=[131, 768] must be multiple of max stride 32, updating to [160, 768]\n",
            "0: 160x768 (no detections), 111.7ms\n",
            "Speed: 1.3ms preprocess, 111.7ms inference, 0.8ms postprocess per image at shape (1, 3, 160, 768)\n"
          ]
        },
        {
          "output_type": "stream",
          "name": "stderr",
          "text": [
            "0it [00:00, ?it/s]"
          ]
        },
        {
          "output_type": "stream",
          "name": "stdout",
          "text": [
            "\n",
            "WARNING ⚠️ imgsz=[106, 1728] must be multiple of max stride 32, updating to [128, 1728]\n"
          ]
        },
        {
          "output_type": "stream",
          "name": "stderr",
          "text": [
            "\n"
          ]
        },
        {
          "output_type": "stream",
          "name": "stdout",
          "text": [
            "0: 128x1728 (no detections), 186.9ms\n",
            "Speed: 2.2ms preprocess, 186.9ms inference, 1.2ms postprocess per image at shape (1, 3, 128, 1728)\n"
          ]
        },
        {
          "output_type": "stream",
          "name": "stderr",
          "text": [
            "0it [00:00, ?it/s]\n"
          ]
        },
        {
          "output_type": "stream",
          "name": "stdout",
          "text": [
            "\n",
            "WARNING ⚠️ imgsz=[168, 1728] must be multiple of max stride 32, updating to [192, 1728]\n",
            "0: 192x1728 (no detections), 285.8ms\n",
            "Speed: 3.1ms preprocess, 285.8ms inference, 0.7ms postprocess per image at shape (1, 3, 192, 1728)\n"
          ]
        },
        {
          "output_type": "stream",
          "name": "stderr",
          "text": [
            "0it [00:00, ?it/s]\n"
          ]
        },
        {
          "output_type": "stream",
          "name": "stdout",
          "text": [
            "\n",
            "WARNING ⚠️ imgsz=[115, 1728] must be multiple of max stride 32, updating to [128, 1728]\n",
            "0: 128x1728 (no detections), 180.7ms\n",
            "Speed: 2.7ms preprocess, 180.7ms inference, 0.8ms postprocess per image at shape (1, 3, 128, 1728)\n"
          ]
        },
        {
          "output_type": "stream",
          "name": "stderr",
          "text": [
            "0it [00:00, ?it/s]"
          ]
        },
        {
          "output_type": "stream",
          "name": "stdout",
          "text": [
            "\n",
            "WARNING ⚠️ imgsz=[102, 1728] must be multiple of max stride 32, updating to [128, 1728]\n"
          ]
        },
        {
          "output_type": "stream",
          "name": "stderr",
          "text": [
            "\n"
          ]
        },
        {
          "output_type": "stream",
          "name": "stdout",
          "text": [
            "0: 128x1728 (no detections), 203.7ms\n",
            "Speed: 2.2ms preprocess, 203.7ms inference, 0.8ms postprocess per image at shape (1, 3, 128, 1728)\n"
          ]
        },
        {
          "output_type": "stream",
          "name": "stderr",
          "text": [
            "0it [00:00, ?it/s]\n"
          ]
        },
        {
          "output_type": "stream",
          "name": "stdout",
          "text": [
            "\n",
            "WARNING ⚠️ imgsz=[144, 1728] must be multiple of max stride 32, updating to [160, 1728]\n",
            "0: 160x1728 (no detections), 230.2ms\n",
            "Speed: 3.1ms preprocess, 230.2ms inference, 0.7ms postprocess per image at shape (1, 3, 160, 1728)\n"
          ]
        },
        {
          "output_type": "stream",
          "name": "stderr",
          "text": [
            "0it [00:00, ?it/s]\n"
          ]
        },
        {
          "output_type": "stream",
          "name": "stdout",
          "text": [
            "\n",
            "WARNING ⚠️ imgsz=[152, 1728] must be multiple of max stride 32, updating to [160, 1728]\n",
            "0: 160x1728 (no detections), 237.9ms\n",
            "Speed: 4.9ms preprocess, 237.9ms inference, 0.8ms postprocess per image at shape (1, 3, 160, 1728)\n"
          ]
        },
        {
          "output_type": "stream",
          "name": "stderr",
          "text": [
            "0it [00:00, ?it/s]\n"
          ]
        },
        {
          "output_type": "stream",
          "name": "stdout",
          "text": [
            "\n",
            "WARNING ⚠️ imgsz=[153, 1728] must be multiple of max stride 32, updating to [160, 1728]\n",
            "0: 160x1728 (no detections), 220.7ms\n",
            "Speed: 3.1ms preprocess, 220.7ms inference, 0.8ms postprocess per image at shape (1, 3, 160, 1728)\n"
          ]
        },
        {
          "output_type": "stream",
          "name": "stderr",
          "text": [
            "0it [00:00, ?it/s]\n"
          ]
        },
        {
          "output_type": "stream",
          "name": "stdout",
          "text": [
            "\n",
            "WARNING ⚠️ imgsz=[108, 1728] must be multiple of max stride 32, updating to [128, 1728]\n",
            "0: 128x1728 (no detections), 201.0ms\n",
            "Speed: 2.0ms preprocess, 201.0ms inference, 0.8ms postprocess per image at shape (1, 3, 128, 1728)\n"
          ]
        },
        {
          "output_type": "stream",
          "name": "stderr",
          "text": [
            "0it [00:00, ?it/s]"
          ]
        },
        {
          "output_type": "stream",
          "name": "stdout",
          "text": [
            "\n",
            "WARNING ⚠️ imgsz=[166, 1728] must be multiple of max stride 32, updating to [192, 1728]\n"
          ]
        },
        {
          "output_type": "stream",
          "name": "stderr",
          "text": [
            "\n"
          ]
        },
        {
          "output_type": "stream",
          "name": "stdout",
          "text": [
            "0: 192x1728 (no detections), 277.9ms\n",
            "Speed: 3.2ms preprocess, 277.9ms inference, 1.2ms postprocess per image at shape (1, 3, 192, 1728)\n"
          ]
        },
        {
          "output_type": "stream",
          "name": "stderr",
          "text": [
            "0it [00:00, ?it/s]\n"
          ]
        },
        {
          "output_type": "stream",
          "name": "stdout",
          "text": [
            "\n",
            "WARNING ⚠️ imgsz=[103, 1728] must be multiple of max stride 32, updating to [128, 1728]\n",
            "0: 128x1728 (no detections), 180.4ms\n",
            "Speed: 2.7ms preprocess, 180.4ms inference, 0.8ms postprocess per image at shape (1, 3, 128, 1728)\n"
          ]
        },
        {
          "output_type": "stream",
          "name": "stderr",
          "text": [
            "0it [00:00, ?it/s]"
          ]
        },
        {
          "output_type": "stream",
          "name": "stdout",
          "text": [
            "\n"
          ]
        },
        {
          "output_type": "stream",
          "name": "stderr",
          "text": [
            "\n"
          ]
        },
        {
          "output_type": "stream",
          "name": "stdout",
          "text": [
            "0: 96x1152 (no detections), 98.2ms\n",
            "Speed: 1.7ms preprocess, 98.2ms inference, 0.7ms postprocess per image at shape (1, 3, 96, 1152)\n"
          ]
        },
        {
          "output_type": "stream",
          "name": "stderr",
          "text": [
            "0it [00:00, ?it/s]"
          ]
        },
        {
          "output_type": "stream",
          "name": "stdout",
          "text": [
            "\n",
            "WARNING ⚠️ imgsz=[111, 1152] must be multiple of max stride 32, updating to [128, 1152]\n"
          ]
        },
        {
          "output_type": "stream",
          "name": "stderr",
          "text": [
            "\n"
          ]
        },
        {
          "output_type": "stream",
          "name": "stdout",
          "text": [
            "0: 128x1152 (no detections), 128.1ms\n",
            "Speed: 1.5ms preprocess, 128.1ms inference, 0.7ms postprocess per image at shape (1, 3, 128, 1152)\n"
          ]
        },
        {
          "output_type": "stream",
          "name": "stderr",
          "text": [
            "0it [00:00, ?it/s]\n"
          ]
        },
        {
          "output_type": "stream",
          "name": "stdout",
          "text": [
            "\n",
            "WARNING ⚠️ imgsz=[1086, 768] must be multiple of max stride 32, updating to [1088, 768]\n",
            "0: 1088x768 (no detections), 678.2ms\n",
            "Speed: 6.0ms preprocess, 678.2ms inference, 0.8ms postprocess per image at shape (1, 3, 1088, 768)\n"
          ]
        },
        {
          "output_type": "stream",
          "name": "stderr",
          "text": [
            "0it [00:00, ?it/s]\n"
          ]
        },
        {
          "output_type": "stream",
          "name": "stdout",
          "text": [
            "\n",
            "WARNING ⚠️ imgsz=[121, 768] must be multiple of max stride 32, updating to [128, 768]\n",
            "0: 128x768 (no detections), 129.8ms\n",
            "Speed: 1.4ms preprocess, 129.8ms inference, 1.0ms postprocess per image at shape (1, 3, 128, 768)\n"
          ]
        },
        {
          "output_type": "stream",
          "name": "stderr",
          "text": [
            "0it [00:00, ?it/s]"
          ]
        },
        {
          "output_type": "stream",
          "name": "stdout",
          "text": [
            "\n",
            "WARNING ⚠️ imgsz=[208, 768] must be multiple of max stride 32, updating to [224, 768]\n"
          ]
        },
        {
          "output_type": "stream",
          "name": "stderr",
          "text": [
            "\n"
          ]
        },
        {
          "output_type": "stream",
          "name": "stdout",
          "text": [
            "0: 224x768 (no detections), 236.7ms\n",
            "Speed: 1.5ms preprocess, 236.7ms inference, 1.0ms postprocess per image at shape (1, 3, 224, 768)\n"
          ]
        },
        {
          "output_type": "stream",
          "name": "stderr",
          "text": [
            "0it [00:00, ?it/s]\n"
          ]
        },
        {
          "output_type": "stream",
          "name": "stdout",
          "text": [
            "\n",
            "WARNING ⚠️ imgsz=[86, 1152] must be multiple of max stride 32, updating to [96, 1152]\n",
            "0: 96x1152 (no detections), 158.3ms\n",
            "Speed: 1.5ms preprocess, 158.3ms inference, 1.1ms postprocess per image at shape (1, 3, 96, 1152)\n"
          ]
        },
        {
          "output_type": "stream",
          "name": "stderr",
          "text": [
            "0it [00:00, ?it/s]"
          ]
        },
        {
          "output_type": "stream",
          "name": "stdout",
          "text": [
            "\n",
            "WARNING ⚠️ imgsz=[344, 768] must be multiple of max stride 32, updating to [352, 768]\n"
          ]
        },
        {
          "output_type": "stream",
          "name": "stderr",
          "text": [
            "\n"
          ]
        },
        {
          "output_type": "stream",
          "name": "stdout",
          "text": [
            "0: 352x768 1 isolated, 378.6ms\n",
            "Speed: 4.3ms preprocess, 378.6ms inference, 2.3ms postprocess per image at shape (1, 3, 352, 768)\n"
          ]
        },
        {
          "output_type": "stream",
          "name": "stderr",
          "text": [
            "100%|██████████| 1/1 [00:00<00:00,  1.50it/s]\n"
          ]
        },
        {
          "output_type": "stream",
          "name": "stdout",
          "text": [
            "\n",
            "WARNING ⚠️ imgsz=[1086, 768] must be multiple of max stride 32, updating to [1088, 768]\n",
            "0: 1088x768 (no detections), 699.0ms\n",
            "Speed: 6.1ms preprocess, 699.0ms inference, 0.7ms postprocess per image at shape (1, 3, 1088, 768)\n"
          ]
        },
        {
          "output_type": "stream",
          "name": "stderr",
          "text": [
            "0it [00:00, ?it/s]\n"
          ]
        },
        {
          "output_type": "stream",
          "name": "stdout",
          "text": [
            "\n",
            "WARNING ⚠️ imgsz=[170, 768] must be multiple of max stride 32, updating to [192, 768]\n",
            "0: 192x768 1 embedding, 128.7ms\n",
            "Speed: 1.3ms preprocess, 128.7ms inference, 1.6ms postprocess per image at shape (1, 3, 192, 768)\n"
          ]
        },
        {
          "output_type": "stream",
          "name": "stderr",
          "text": [
            "100%|██████████| 1/1 [00:00<00:00,  2.21it/s]\n"
          ]
        },
        {
          "output_type": "stream",
          "name": "stdout",
          "text": [
            "\n",
            "WARNING ⚠️ imgsz=[254, 1728] must be multiple of max stride 32, updating to [256, 1728]\n",
            "0: 256x1728 (no detections), 353.6ms\n",
            "Speed: 3.6ms preprocess, 353.6ms inference, 0.8ms postprocess per image at shape (1, 3, 256, 1728)\n"
          ]
        },
        {
          "output_type": "stream",
          "name": "stderr",
          "text": [
            "0it [00:00, ?it/s]\n"
          ]
        },
        {
          "output_type": "stream",
          "name": "stdout",
          "text": [
            "\n",
            "WARNING ⚠️ imgsz=[215, 1728] must be multiple of max stride 32, updating to [224, 1728]\n",
            "0: 224x1728 6 embeddings, 356.4ms\n",
            "Speed: 3.7ms preprocess, 356.4ms inference, 1.5ms postprocess per image at shape (1, 3, 224, 1728)\n"
          ]
        },
        {
          "output_type": "stream",
          "name": "stderr",
          "text": [
            "100%|██████████| 4/4 [00:02<00:00,  1.63it/s]\n"
          ]
        },
        {
          "output_type": "stream",
          "name": "stdout",
          "text": [
            "\n",
            "WARNING ⚠️ imgsz=[99, 1728] must be multiple of max stride 32, updating to [128, 1728]\n",
            "0: 128x1728 (no detections), 257.5ms\n",
            "Speed: 9.0ms preprocess, 257.5ms inference, 1.0ms postprocess per image at shape (1, 3, 128, 1728)\n"
          ]
        },
        {
          "output_type": "stream",
          "name": "stderr",
          "text": [
            "0it [00:00, ?it/s]"
          ]
        },
        {
          "output_type": "stream",
          "name": "stdout",
          "text": [
            "\n",
            "WARNING ⚠️ imgsz=[136, 768] must be multiple of max stride 32, updating to [160, 768]\n"
          ]
        },
        {
          "output_type": "stream",
          "name": "stderr",
          "text": [
            "\n"
          ]
        },
        {
          "output_type": "stream",
          "name": "stdout",
          "text": [
            "0: 160x768 (no detections), 163.2ms\n",
            "Speed: 1.4ms preprocess, 163.2ms inference, 0.9ms postprocess per image at shape (1, 3, 160, 768)\n"
          ]
        },
        {
          "output_type": "stream",
          "name": "stderr",
          "text": [
            "0it [00:00, ?it/s]\n"
          ]
        },
        {
          "output_type": "stream",
          "name": "stdout",
          "text": [
            "\n",
            "WARNING ⚠️ imgsz=[1086, 768] must be multiple of max stride 32, updating to [1088, 768]\n",
            "0: 1088x768 (no detections), 713.9ms\n",
            "Speed: 8.2ms preprocess, 713.9ms inference, 0.8ms postprocess per image at shape (1, 3, 1088, 768)\n"
          ]
        },
        {
          "output_type": "stream",
          "name": "stderr",
          "text": [
            "0it [00:00, ?it/s]\n"
          ]
        },
        {
          "output_type": "stream",
          "name": "stdout",
          "text": [
            "\n",
            "WARNING ⚠️ imgsz=[217, 768] must be multiple of max stride 32, updating to [224, 768]\n",
            "0: 224x768 1 embedding, 154.5ms\n",
            "Speed: 1.4ms preprocess, 154.5ms inference, 1.5ms postprocess per image at shape (1, 3, 224, 768)\n"
          ]
        },
        {
          "output_type": "stream",
          "name": "stderr",
          "text": [
            "100%|██████████| 1/1 [00:00<00:00,  2.26it/s]"
          ]
        },
        {
          "output_type": "stream",
          "name": "stdout",
          "text": [
            "\n",
            "WARNING ⚠️ imgsz=[510, 768] must be multiple of max stride 32, updating to [512, 768]\n"
          ]
        },
        {
          "output_type": "stream",
          "name": "stderr",
          "text": [
            "\n"
          ]
        },
        {
          "output_type": "stream",
          "name": "stdout",
          "text": [
            "0: 512x768 1 isolated, 333.4ms\n",
            "Speed: 2.4ms preprocess, 333.4ms inference, 1.5ms postprocess per image at shape (1, 3, 512, 768)\n"
          ]
        },
        {
          "output_type": "stream",
          "name": "stderr",
          "text": [
            "100%|██████████| 1/1 [00:03<00:00,  3.22s/it]"
          ]
        },
        {
          "output_type": "stream",
          "name": "stdout",
          "text": [
            "\n",
            "WARNING ⚠️ imgsz=[112, 1728] must be multiple of max stride 32, updating to [128, 1728]\n"
          ]
        },
        {
          "output_type": "stream",
          "name": "stderr",
          "text": [
            "\n"
          ]
        },
        {
          "output_type": "stream",
          "name": "stdout",
          "text": [
            "0: 128x1728 (no detections), 183.2ms\n",
            "Speed: 2.2ms preprocess, 183.2ms inference, 0.8ms postprocess per image at shape (1, 3, 128, 1728)\n"
          ]
        },
        {
          "output_type": "stream",
          "name": "stderr",
          "text": [
            "0it [00:00, ?it/s]\n"
          ]
        },
        {
          "output_type": "stream",
          "name": "stdout",
          "text": [
            "\n",
            "WARNING ⚠️ imgsz=[211, 1728] must be multiple of max stride 32, updating to [224, 1728]\n",
            "0: 224x1728 1 embedding, 311.5ms\n",
            "Speed: 3.1ms preprocess, 311.5ms inference, 1.6ms postprocess per image at shape (1, 3, 224, 1728)\n"
          ]
        },
        {
          "output_type": "stream",
          "name": "stderr",
          "text": [
            "100%|██████████| 1/1 [00:00<00:00,  2.27it/s]\n"
          ]
        },
        {
          "output_type": "stream",
          "name": "stdout",
          "text": [
            "\n",
            "WARNING ⚠️ imgsz=[215, 1728] must be multiple of max stride 32, updating to [224, 1728]\n",
            "0: 224x1728 7 embeddings, 312.4ms\n",
            "Speed: 5.2ms preprocess, 312.4ms inference, 2.3ms postprocess per image at shape (1, 3, 224, 1728)\n"
          ]
        },
        {
          "output_type": "stream",
          "name": "stderr",
          "text": [
            "100%|██████████| 4/4 [00:03<00:00,  1.09it/s]\n"
          ]
        },
        {
          "output_type": "stream",
          "name": "stdout",
          "text": [
            "\n",
            "WARNING ⚠️ imgsz=[169, 1728] must be multiple of max stride 32, updating to [192, 1728]\n",
            "0: 192x1728 (no detections), 283.1ms\n",
            "Speed: 3.3ms preprocess, 283.1ms inference, 0.8ms postprocess per image at shape (1, 3, 192, 1728)\n"
          ]
        },
        {
          "output_type": "stream",
          "name": "stderr",
          "text": [
            "0it [00:00, ?it/s]\n"
          ]
        },
        {
          "output_type": "stream",
          "name": "stdout",
          "text": [
            "\n",
            "WARNING ⚠️ imgsz=[1086, 768] must be multiple of max stride 32, updating to [1088, 768]\n",
            "0: 1088x768 6 embeddings, 668.4ms\n",
            "Speed: 7.1ms preprocess, 668.4ms inference, 1.5ms postprocess per image at shape (1, 3, 1088, 768)\n"
          ]
        },
        {
          "output_type": "stream",
          "name": "stderr",
          "text": [
            "100%|██████████| 6/6 [00:02<00:00,  2.22it/s]\n"
          ]
        },
        {
          "output_type": "stream",
          "name": "stdout",
          "text": [
            "\n",
            "WARNING ⚠️ imgsz=[122, 768] must be multiple of max stride 32, updating to [128, 768]\n",
            "0: 128x768 (no detections), 114.8ms\n",
            "Speed: 2.0ms preprocess, 114.8ms inference, 4.1ms postprocess per image at shape (1, 3, 128, 768)\n"
          ]
        },
        {
          "output_type": "stream",
          "name": "stderr",
          "text": [
            "0it [00:00, ?it/s]"
          ]
        },
        {
          "output_type": "stream",
          "name": "stdout",
          "text": [
            "\n",
            "WARNING ⚠️ imgsz=[240, 768] must be multiple of max stride 32, updating to [256, 768]\n"
          ]
        },
        {
          "output_type": "stream",
          "name": "stderr",
          "text": [
            "\n"
          ]
        },
        {
          "output_type": "stream",
          "name": "stdout",
          "text": [
            "0: 256x768 (no detections), 199.6ms\n",
            "Speed: 1.7ms preprocess, 199.6ms inference, 0.7ms postprocess per image at shape (1, 3, 256, 768)\n"
          ]
        },
        {
          "output_type": "stream",
          "name": "stderr",
          "text": [
            "0it [00:00, ?it/s]\n"
          ]
        },
        {
          "output_type": "stream",
          "name": "stdout",
          "text": [
            "\n",
            "WARNING ⚠️ imgsz=[344, 768] must be multiple of max stride 32, updating to [352, 768]\n",
            "0: 352x768 1 isolated, 259.3ms\n",
            "Speed: 1.9ms preprocess, 259.3ms inference, 1.6ms postprocess per image at shape (1, 3, 352, 768)\n"
          ]
        },
        {
          "output_type": "stream",
          "name": "stderr",
          "text": [
            "100%|██████████| 1/1 [00:00<00:00,  1.73it/s]\n"
          ]
        },
        {
          "output_type": "stream",
          "name": "stdout",
          "text": [
            "\n",
            "WARNING ⚠️ imgsz=[1086, 768] must be multiple of max stride 32, updating to [1088, 768]\n",
            "0: 1088x768 (no detections), 1098.3ms\n",
            "Speed: 10.6ms preprocess, 1098.3ms inference, 1.0ms postprocess per image at shape (1, 3, 1088, 768)\n"
          ]
        },
        {
          "output_type": "stream",
          "name": "stderr",
          "text": [
            "0it [00:00, ?it/s]\n"
          ]
        },
        {
          "output_type": "stream",
          "name": "stdout",
          "text": [
            "\n",
            "WARNING ⚠️ imgsz=[119, 768] must be multiple of max stride 32, updating to [128, 768]\n",
            "0: 128x768 (no detections), 87.5ms\n",
            "Speed: 1.1ms preprocess, 87.5ms inference, 3.6ms postprocess per image at shape (1, 3, 128, 768)\n"
          ]
        },
        {
          "output_type": "stream",
          "name": "stderr",
          "text": [
            "0it [00:00, ?it/s]"
          ]
        },
        {
          "output_type": "stream",
          "name": "stdout",
          "text": [
            "\n",
            "WARNING ⚠️ imgsz=[273, 768] must be multiple of max stride 32, updating to [288, 768]\n"
          ]
        },
        {
          "output_type": "stream",
          "name": "stderr",
          "text": [
            "\n"
          ]
        },
        {
          "output_type": "stream",
          "name": "stdout",
          "text": [
            "0: 288x768 (no detections), 194.7ms\n",
            "Speed: 1.8ms preprocess, 194.7ms inference, 0.8ms postprocess per image at shape (1, 3, 288, 768)\n"
          ]
        },
        {
          "output_type": "stream",
          "name": "stderr",
          "text": [
            "0it [00:00, ?it/s]"
          ]
        },
        {
          "output_type": "stream",
          "name": "stdout",
          "text": [
            "\n",
            "WARNING ⚠️ imgsz=[138, 768] must be multiple of max stride 32, updating to [160, 768]\n"
          ]
        },
        {
          "output_type": "stream",
          "name": "stderr",
          "text": [
            "\n"
          ]
        },
        {
          "output_type": "stream",
          "name": "stdout",
          "text": [
            "0: 160x768 1 embedding, 109.2ms\n",
            "Speed: 1.2ms preprocess, 109.2ms inference, 1.4ms postprocess per image at shape (1, 3, 160, 768)\n"
          ]
        },
        {
          "output_type": "stream",
          "name": "stderr",
          "text": [
            "100%|██████████| 1/1 [00:00<00:00,  2.06it/s]"
          ]
        },
        {
          "output_type": "stream",
          "name": "stdout",
          "text": [
            "\n",
            "WARNING ⚠️ imgsz=[137, 768] must be multiple of max stride 32, updating to [160, 768]\n",
            "0: 160x768 1 embedding, 117.7ms\n",
            "Speed: 1.2ms preprocess, 117.7ms inference, 1.6ms postprocess per image at shape (1, 3, 160, 768)\n"
          ]
        },
        {
          "output_type": "stream",
          "name": "stderr",
          "text": [
            "\n",
            "100%|██████████| 1/1 [00:00<00:00,  2.37it/s]\n"
          ]
        },
        {
          "output_type": "stream",
          "name": "stdout",
          "text": [
            "\n",
            "WARNING ⚠️ imgsz=[1086, 768] must be multiple of max stride 32, updating to [1088, 768]\n",
            "0: 1088x768 (no detections), 692.8ms\n",
            "Speed: 6.2ms preprocess, 692.8ms inference, 0.8ms postprocess per image at shape (1, 3, 1088, 768)\n"
          ]
        },
        {
          "output_type": "stream",
          "name": "stderr",
          "text": [
            "0it [00:00, ?it/s]\n"
          ]
        },
        {
          "output_type": "stream",
          "name": "stdout",
          "text": [
            "\n",
            "WARNING ⚠️ imgsz=[351, 768] must be multiple of max stride 32, updating to [352, 768]\n",
            "0: 352x768 1 isolated, 226.2ms\n",
            "Speed: 2.1ms preprocess, 226.2ms inference, 3.5ms postprocess per image at shape (1, 3, 352, 768)\n"
          ]
        },
        {
          "output_type": "stream",
          "name": "stderr",
          "text": [
            "100%|██████████| 1/1 [00:00<00:00,  1.93it/s]\n"
          ]
        },
        {
          "output_type": "stream",
          "name": "stdout",
          "text": [
            "\n",
            "WARNING ⚠️ imgsz=[193, 1728] must be multiple of max stride 32, updating to [224, 1728]\n",
            "0: 224x1728 (no detections), 321.2ms\n",
            "Speed: 3.7ms preprocess, 321.2ms inference, 0.9ms postprocess per image at shape (1, 3, 224, 1728)\n"
          ]
        },
        {
          "output_type": "stream",
          "name": "stderr",
          "text": [
            "0it [00:00, ?it/s]\n"
          ]
        },
        {
          "output_type": "stream",
          "name": "stdout",
          "text": [
            "\n",
            "WARNING ⚠️ imgsz=[170, 1728] must be multiple of max stride 32, updating to [192, 1728]\n",
            "0: 192x1728 3 embeddings, 271.4ms\n",
            "Speed: 3.3ms preprocess, 271.4ms inference, 1.5ms postprocess per image at shape (1, 3, 192, 1728)\n"
          ]
        },
        {
          "output_type": "stream",
          "name": "stderr",
          "text": [
            "100%|██████████| 3/3 [00:01<00:00,  2.37it/s]\n"
          ]
        },
        {
          "output_type": "stream",
          "name": "stdout",
          "text": [
            "\n",
            "WARNING ⚠️ imgsz=[351, 768] must be multiple of max stride 32, updating to [352, 768]\n",
            "0: 352x768 1 isolated, 338.4ms\n",
            "Speed: 2.0ms preprocess, 338.4ms inference, 1.9ms postprocess per image at shape (1, 3, 352, 768)\n"
          ]
        },
        {
          "output_type": "stream",
          "name": "stderr",
          "text": [
            "100%|██████████| 1/1 [00:01<00:00,  1.06s/it]"
          ]
        },
        {
          "output_type": "stream",
          "name": "stdout",
          "text": [
            "\n"
          ]
        },
        {
          "output_type": "stream",
          "name": "stderr",
          "text": [
            "\n"
          ]
        },
        {
          "output_type": "stream",
          "name": "stdout",
          "text": [
            "0: 256x768 (no detections), 258.6ms\n",
            "Speed: 1.6ms preprocess, 258.6ms inference, 0.9ms postprocess per image at shape (1, 3, 256, 768)\n"
          ]
        },
        {
          "output_type": "stream",
          "name": "stderr",
          "text": [
            "0it [00:00, ?it/s]"
          ]
        },
        {
          "output_type": "stream",
          "name": "stdout",
          "text": [
            "\n",
            "WARNING ⚠️ imgsz=[154, 768] must be multiple of max stride 32, updating to [160, 768]\n"
          ]
        },
        {
          "output_type": "stream",
          "name": "stderr",
          "text": [
            "\n"
          ]
        },
        {
          "output_type": "stream",
          "name": "stdout",
          "text": [
            "0: 160x768 (no detections), 156.3ms\n",
            "Speed: 1.3ms preprocess, 156.3ms inference, 1.0ms postprocess per image at shape (1, 3, 160, 768)\n"
          ]
        },
        {
          "output_type": "stream",
          "name": "stderr",
          "text": [
            "0it [00:00, ?it/s]"
          ]
        },
        {
          "output_type": "stream",
          "name": "stdout",
          "text": [
            "\n",
            "WARNING ⚠️ imgsz=[146, 768] must be multiple of max stride 32, updating to [160, 768]\n"
          ]
        },
        {
          "output_type": "stream",
          "name": "stderr",
          "text": [
            "\n"
          ]
        },
        {
          "output_type": "stream",
          "name": "stdout",
          "text": [
            "0: 160x768 (no detections), 163.0ms\n",
            "Speed: 1.3ms preprocess, 163.0ms inference, 1.0ms postprocess per image at shape (1, 3, 160, 768)\n"
          ]
        },
        {
          "output_type": "stream",
          "name": "stderr",
          "text": [
            "0it [00:00, ?it/s]\n"
          ]
        },
        {
          "output_type": "stream",
          "name": "stdout",
          "text": [
            "\n",
            "WARNING ⚠️ imgsz=[1086, 768] must be multiple of max stride 32, updating to [1088, 768]\n",
            "0: 1088x768 1 embedding, 681.5ms\n",
            "Speed: 6.5ms preprocess, 681.5ms inference, 1.6ms postprocess per image at shape (1, 3, 1088, 768)\n"
          ]
        },
        {
          "output_type": "stream",
          "name": "stderr",
          "text": [
            "100%|██████████| 1/1 [00:00<00:00,  1.93it/s]\n"
          ]
        },
        {
          "output_type": "stream",
          "name": "stdout",
          "text": [
            "\n",
            "WARNING ⚠️ imgsz=[153, 768] must be multiple of max stride 32, updating to [160, 768]\n",
            "0: 160x768 (no detections), 107.3ms\n",
            "Speed: 1.5ms preprocess, 107.3ms inference, 3.2ms postprocess per image at shape (1, 3, 160, 768)\n"
          ]
        },
        {
          "output_type": "stream",
          "name": "stderr",
          "text": [
            "0it [00:00, ?it/s]\n"
          ]
        },
        {
          "output_type": "stream",
          "name": "stdout",
          "text": [
            "\n",
            "WARNING ⚠️ imgsz=[133, 1728] must be multiple of max stride 32, updating to [160, 1728]\n",
            "0: 160x1728 (no detections), 217.4ms\n",
            "Speed: 2.8ms preprocess, 217.4ms inference, 0.7ms postprocess per image at shape (1, 3, 160, 1728)\n"
          ]
        },
        {
          "output_type": "stream",
          "name": "stderr",
          "text": [
            "0it [00:00, ?it/s]\n"
          ]
        },
        {
          "output_type": "stream",
          "name": "stdout",
          "text": [
            "\n",
            "WARNING ⚠️ imgsz=[293, 768] must be multiple of max stride 32, updating to [320, 768]\n",
            "0: 320x768 1 isolated, 205.7ms\n",
            "Speed: 1.7ms preprocess, 205.7ms inference, 1.5ms postprocess per image at shape (1, 3, 320, 768)\n"
          ]
        },
        {
          "output_type": "stream",
          "name": "stderr",
          "text": [
            "100%|██████████| 1/1 [00:00<00:00,  1.53it/s]"
          ]
        },
        {
          "output_type": "stream",
          "name": "stdout",
          "text": [
            "\n",
            "WARNING ⚠️ imgsz=[121, 768] must be multiple of max stride 32, updating to [128, 768]\n"
          ]
        },
        {
          "output_type": "stream",
          "name": "stderr",
          "text": [
            "\n"
          ]
        },
        {
          "output_type": "stream",
          "name": "stdout",
          "text": [
            "0: 128x768 (no detections), 97.8ms\n",
            "Speed: 1.3ms preprocess, 97.8ms inference, 1.0ms postprocess per image at shape (1, 3, 128, 768)\n"
          ]
        },
        {
          "output_type": "stream",
          "name": "stderr",
          "text": [
            "0it [00:00, ?it/s]\n"
          ]
        },
        {
          "output_type": "stream",
          "name": "stdout",
          "text": [
            "\n",
            "WARNING ⚠️ imgsz=[1086, 768] must be multiple of max stride 32, updating to [1088, 768]\n",
            "0: 1088x768 (no detections), 694.5ms\n",
            "Speed: 6.0ms preprocess, 694.5ms inference, 0.8ms postprocess per image at shape (1, 3, 1088, 768)\n"
          ]
        },
        {
          "output_type": "stream",
          "name": "stderr",
          "text": [
            "0it [00:00, ?it/s]\n"
          ]
        },
        {
          "output_type": "stream",
          "name": "stdout",
          "text": [
            "\n",
            "WARNING ⚠️ imgsz=[290, 768] must be multiple of max stride 32, updating to [320, 768]\n",
            "0: 320x768 1 isolated, 295.5ms\n",
            "Speed: 3.5ms preprocess, 295.5ms inference, 11.9ms postprocess per image at shape (1, 3, 320, 768)\n"
          ]
        },
        {
          "output_type": "stream",
          "name": "stderr",
          "text": [
            "100%|██████████| 1/1 [00:01<00:00,  1.06s/it]"
          ]
        },
        {
          "output_type": "stream",
          "name": "stdout",
          "text": [
            "\n",
            "WARNING ⚠️ imgsz=[120, 768] must be multiple of max stride 32, updating to [128, 768]\n"
          ]
        },
        {
          "output_type": "stream",
          "name": "stderr",
          "text": [
            "\n"
          ]
        },
        {
          "output_type": "stream",
          "name": "stdout",
          "text": [
            "0: 128x768 (no detections), 135.7ms\n",
            "Speed: 1.3ms preprocess, 135.7ms inference, 0.9ms postprocess per image at shape (1, 3, 128, 768)\n"
          ]
        },
        {
          "output_type": "stream",
          "name": "stderr",
          "text": [
            "0it [00:00, ?it/s]"
          ]
        },
        {
          "output_type": "stream",
          "name": "stdout",
          "text": [
            "\n",
            "WARNING ⚠️ imgsz=[146, 768] must be multiple of max stride 32, updating to [160, 768]\n"
          ]
        },
        {
          "output_type": "stream",
          "name": "stderr",
          "text": [
            "\n"
          ]
        },
        {
          "output_type": "stream",
          "name": "stdout",
          "text": [
            "0: 160x768 (no detections), 156.5ms\n",
            "Speed: 1.5ms preprocess, 156.5ms inference, 1.0ms postprocess per image at shape (1, 3, 160, 768)\n"
          ]
        },
        {
          "output_type": "stream",
          "name": "stderr",
          "text": [
            "0it [00:00, ?it/s]"
          ]
        },
        {
          "output_type": "stream",
          "name": "stdout",
          "text": [
            "\n",
            "WARNING ⚠️ imgsz=[119, 1728] must be multiple of max stride 32, updating to [128, 1728]\n"
          ]
        },
        {
          "output_type": "stream",
          "name": "stderr",
          "text": [
            "\n"
          ]
        },
        {
          "output_type": "stream",
          "name": "stdout",
          "text": [
            "0: 128x1728 (no detections), 299.8ms\n",
            "Speed: 2.2ms preprocess, 299.8ms inference, 1.0ms postprocess per image at shape (1, 3, 128, 1728)\n"
          ]
        },
        {
          "output_type": "stream",
          "name": "stderr",
          "text": [
            "0it [00:00, ?it/s]\n"
          ]
        },
        {
          "output_type": "stream",
          "name": "stdout",
          "text": [
            "\n",
            "WARNING ⚠️ imgsz=[161, 768] must be multiple of max stride 32, updating to [192, 768]\n",
            "0: 192x768 1 embedding, 182.1ms\n",
            "Speed: 1.4ms preprocess, 182.1ms inference, 2.0ms postprocess per image at shape (1, 3, 192, 768)\n"
          ]
        },
        {
          "output_type": "stream",
          "name": "stderr",
          "text": [
            "100%|██████████| 1/1 [00:00<00:00,  1.43it/s]"
          ]
        },
        {
          "output_type": "stream",
          "name": "stdout",
          "text": [
            "\n",
            "WARNING ⚠️ imgsz=[110, 1728] must be multiple of max stride 32, updating to [128, 1728]\n"
          ]
        },
        {
          "output_type": "stream",
          "name": "stderr",
          "text": [
            "\n"
          ]
        },
        {
          "output_type": "stream",
          "name": "stdout",
          "text": [
            "0: 128x1728 (no detections), 292.0ms\n",
            "Speed: 2.2ms preprocess, 292.0ms inference, 1.9ms postprocess per image at shape (1, 3, 128, 1728)\n"
          ]
        },
        {
          "output_type": "stream",
          "name": "stderr",
          "text": [
            "0it [00:00, ?it/s]"
          ]
        },
        {
          "output_type": "stream",
          "name": "stdout",
          "text": [
            "\n",
            "WARNING ⚠️ imgsz=[129, 768] must be multiple of max stride 32, updating to [160, 768]\n"
          ]
        },
        {
          "output_type": "stream",
          "name": "stderr",
          "text": [
            "\n"
          ]
        },
        {
          "output_type": "stream",
          "name": "stdout",
          "text": [
            "0: 160x768 (no detections), 173.5ms\n",
            "Speed: 1.4ms preprocess, 173.5ms inference, 1.2ms postprocess per image at shape (1, 3, 160, 768)\n"
          ]
        },
        {
          "output_type": "stream",
          "name": "stderr",
          "text": [
            "0it [00:00, ?it/s]"
          ]
        },
        {
          "output_type": "stream",
          "name": "stdout",
          "text": [
            "\n",
            "WARNING ⚠️ imgsz=[284, 768] must be multiple of max stride 32, updating to [288, 768]\n"
          ]
        },
        {
          "output_type": "stream",
          "name": "stderr",
          "text": [
            "\n"
          ]
        },
        {
          "output_type": "stream",
          "name": "stdout",
          "text": [
            "0: 288x768 (no detections), 201.7ms\n",
            "Speed: 1.9ms preprocess, 201.7ms inference, 0.7ms postprocess per image at shape (1, 3, 288, 768)\n"
          ]
        },
        {
          "output_type": "stream",
          "name": "stderr",
          "text": [
            "0it [00:00, ?it/s]\n"
          ]
        },
        {
          "output_type": "stream",
          "name": "stdout",
          "text": [
            "\n",
            "WARNING ⚠️ imgsz=[1086, 768] must be multiple of max stride 32, updating to [1088, 768]\n",
            "0: 1088x768 3 embeddings, 722.3ms\n",
            "Speed: 7.0ms preprocess, 722.3ms inference, 1.6ms postprocess per image at shape (1, 3, 1088, 768)\n"
          ]
        },
        {
          "output_type": "stream",
          "name": "stderr",
          "text": [
            "100%|██████████| 3/3 [00:03<00:00,  1.16s/it]\n"
          ]
        },
        {
          "output_type": "stream",
          "name": "stdout",
          "text": [
            "\n",
            "WARNING ⚠️ imgsz=[169, 768] must be multiple of max stride 32, updating to [192, 768]\n",
            "0: 192x768 (no detections), 141.3ms\n",
            "Speed: 1.4ms preprocess, 141.3ms inference, 2.9ms postprocess per image at shape (1, 3, 192, 768)\n"
          ]
        },
        {
          "output_type": "stream",
          "name": "stderr",
          "text": [
            "0it [00:00, ?it/s]"
          ]
        },
        {
          "output_type": "stream",
          "name": "stdout",
          "text": [
            "\n",
            "WARNING ⚠️ imgsz=[198, 768] must be multiple of max stride 32, updating to [224, 768]\n"
          ]
        },
        {
          "output_type": "stream",
          "name": "stderr",
          "text": [
            "\n"
          ]
        },
        {
          "output_type": "stream",
          "name": "stdout",
          "text": [
            "0: 224x768 1 embedding, 150.0ms\n",
            "Speed: 1.4ms preprocess, 150.0ms inference, 1.6ms postprocess per image at shape (1, 3, 224, 768)\n"
          ]
        },
        {
          "output_type": "stream",
          "name": "stderr",
          "text": [
            "100%|██████████| 1/1 [00:00<00:00,  1.42it/s]"
          ]
        },
        {
          "output_type": "stream",
          "name": "stdout",
          "text": [
            "\n",
            "WARNING ⚠️ imgsz=[194, 768] must be multiple of max stride 32, updating to [224, 768]\n"
          ]
        },
        {
          "output_type": "stream",
          "name": "stderr",
          "text": [
            "\n"
          ]
        },
        {
          "output_type": "stream",
          "name": "stdout",
          "text": [
            "0: 224x768 1 embedding, 225.8ms\n",
            "Speed: 1.7ms preprocess, 225.8ms inference, 2.7ms postprocess per image at shape (1, 3, 224, 768)\n"
          ]
        },
        {
          "output_type": "stream",
          "name": "stderr",
          "text": [
            "100%|██████████| 1/1 [00:00<00:00,  1.23it/s]"
          ]
        },
        {
          "output_type": "stream",
          "name": "stdout",
          "text": [
            "\n",
            "WARNING ⚠️ imgsz=[338, 768] must be multiple of max stride 32, updating to [352, 768]\n"
          ]
        },
        {
          "output_type": "stream",
          "name": "stderr",
          "text": [
            "\n"
          ]
        },
        {
          "output_type": "stream",
          "name": "stdout",
          "text": [
            "0: 352x768 (no detections), 333.8ms\n",
            "Speed: 2.0ms preprocess, 333.8ms inference, 1.1ms postprocess per image at shape (1, 3, 352, 768)\n"
          ]
        },
        {
          "output_type": "stream",
          "name": "stderr",
          "text": [
            "0it [00:00, ?it/s]"
          ]
        },
        {
          "output_type": "stream",
          "name": "stdout",
          "text": [
            "\n",
            "WARNING ⚠️ imgsz=[143, 768] must be multiple of max stride 32, updating to [160, 768]\n"
          ]
        },
        {
          "output_type": "stream",
          "name": "stderr",
          "text": [
            "\n"
          ]
        },
        {
          "output_type": "stream",
          "name": "stdout",
          "text": [
            "0: 160x768 (no detections), 163.0ms\n",
            "Speed: 1.5ms preprocess, 163.0ms inference, 0.8ms postprocess per image at shape (1, 3, 160, 768)\n"
          ]
        },
        {
          "output_type": "stream",
          "name": "stderr",
          "text": [
            "0it [00:00, ?it/s]"
          ]
        },
        {
          "output_type": "stream",
          "name": "stdout",
          "text": [
            "\n",
            "WARNING ⚠️ imgsz=[139, 768] must be multiple of max stride 32, updating to [160, 768]\n"
          ]
        },
        {
          "output_type": "stream",
          "name": "stderr",
          "text": [
            "\n"
          ]
        },
        {
          "output_type": "stream",
          "name": "stdout",
          "text": [
            "0: 160x768 (no detections), 160.9ms\n",
            "Speed: 1.2ms preprocess, 160.9ms inference, 1.1ms postprocess per image at shape (1, 3, 160, 768)\n"
          ]
        },
        {
          "output_type": "stream",
          "name": "stderr",
          "text": [
            "0it [00:00, ?it/s]"
          ]
        },
        {
          "output_type": "stream",
          "name": "stdout",
          "text": [
            "\n",
            "WARNING ⚠️ imgsz=[132, 768] must be multiple of max stride 32, updating to [160, 768]\n"
          ]
        },
        {
          "output_type": "stream",
          "name": "stderr",
          "text": [
            "\n"
          ]
        },
        {
          "output_type": "stream",
          "name": "stdout",
          "text": [
            "0: 160x768 (no detections), 160.6ms\n",
            "Speed: 1.3ms preprocess, 160.6ms inference, 0.9ms postprocess per image at shape (1, 3, 160, 768)\n"
          ]
        },
        {
          "output_type": "stream",
          "name": "stderr",
          "text": [
            "0it [00:00, ?it/s]"
          ]
        },
        {
          "output_type": "stream",
          "name": "stdout",
          "text": [
            "\n",
            "WARNING ⚠️ imgsz=[484, 768] must be multiple of max stride 32, updating to [512, 768]\n"
          ]
        },
        {
          "output_type": "stream",
          "name": "stderr",
          "text": [
            "\n"
          ]
        },
        {
          "output_type": "stream",
          "name": "stdout",
          "text": [
            "0: 512x768 1 isolated, 525.3ms\n",
            "Speed: 2.6ms preprocess, 525.3ms inference, 2.1ms postprocess per image at shape (1, 3, 512, 768)\n"
          ]
        },
        {
          "output_type": "stream",
          "name": "stderr",
          "text": [
            "100%|██████████| 1/1 [00:00<00:00,  1.55it/s]"
          ]
        },
        {
          "output_type": "stream",
          "name": "stdout",
          "text": [
            "\n",
            "WARNING ⚠️ imgsz=[147, 768] must be multiple of max stride 32, updating to [160, 768]\n"
          ]
        },
        {
          "output_type": "stream",
          "name": "stderr",
          "text": [
            "\n"
          ]
        },
        {
          "output_type": "stream",
          "name": "stdout",
          "text": [
            "0: 160x768 (no detections), 165.4ms\n",
            "Speed: 1.5ms preprocess, 165.4ms inference, 1.0ms postprocess per image at shape (1, 3, 160, 768)\n"
          ]
        },
        {
          "output_type": "stream",
          "name": "stderr",
          "text": [
            "0it [00:00, ?it/s]"
          ]
        },
        {
          "output_type": "stream",
          "name": "stdout",
          "text": [
            "\n",
            "WARNING ⚠️ imgsz=[84, 768] must be multiple of max stride 32, updating to [96, 768]\n"
          ]
        },
        {
          "output_type": "stream",
          "name": "stderr",
          "text": [
            "\n"
          ]
        },
        {
          "output_type": "stream",
          "name": "stdout",
          "text": [
            "0: 96x768 (no detections), 115.3ms\n",
            "Speed: 1.1ms preprocess, 115.3ms inference, 1.5ms postprocess per image at shape (1, 3, 96, 768)\n"
          ]
        },
        {
          "output_type": "stream",
          "name": "stderr",
          "text": [
            "0it [00:00, ?it/s]"
          ]
        },
        {
          "output_type": "stream",
          "name": "stdout",
          "text": [
            "\n",
            "WARNING ⚠️ imgsz=[274, 768] must be multiple of max stride 32, updating to [288, 768]\n"
          ]
        },
        {
          "output_type": "stream",
          "name": "stderr",
          "text": [
            "\n"
          ]
        },
        {
          "output_type": "stream",
          "name": "stdout",
          "text": [
            "0: 288x768 (no detections), 261.7ms\n",
            "Speed: 1.7ms preprocess, 261.7ms inference, 0.9ms postprocess per image at shape (1, 3, 288, 768)\n"
          ]
        },
        {
          "output_type": "stream",
          "name": "stderr",
          "text": [
            "0it [00:00, ?it/s]"
          ]
        },
        {
          "output_type": "stream",
          "name": "stdout",
          "text": [
            "\n",
            "WARNING ⚠️ imgsz=[237, 768] must be multiple of max stride 32, updating to [256, 768]\n"
          ]
        },
        {
          "output_type": "stream",
          "name": "stderr",
          "text": [
            "\n"
          ]
        },
        {
          "output_type": "stream",
          "name": "stdout",
          "text": [
            "0: 256x768 (no detections), 190.7ms\n",
            "Speed: 1.5ms preprocess, 190.7ms inference, 0.7ms postprocess per image at shape (1, 3, 256, 768)\n"
          ]
        },
        {
          "output_type": "stream",
          "name": "stderr",
          "text": [
            "0it [00:00, ?it/s]"
          ]
        },
        {
          "output_type": "stream",
          "name": "stdout",
          "text": [
            "\n",
            "WARNING ⚠️ imgsz=[87, 768] must be multiple of max stride 32, updating to [96, 768]\n",
            "0: 96x768 (no detections), 76.1ms\n",
            "Speed: 1.0ms preprocess, 76.1ms inference, 0.8ms postprocess per image at shape (1, 3, 96, 768)\n"
          ]
        },
        {
          "output_type": "stream",
          "name": "stderr",
          "text": [
            "\n",
            "0it [00:00, ?it/s]\n"
          ]
        },
        {
          "output_type": "stream",
          "name": "stdout",
          "text": [
            "\n",
            "WARNING ⚠️ imgsz=[153, 1728] must be multiple of max stride 32, updating to [160, 1728]\n",
            "0: 160x1728 (no detections), 237.1ms\n",
            "Speed: 3.0ms preprocess, 237.1ms inference, 0.7ms postprocess per image at shape (1, 3, 160, 1728)\n"
          ]
        },
        {
          "output_type": "stream",
          "name": "stderr",
          "text": [
            "0it [00:00, ?it/s]\n"
          ]
        },
        {
          "output_type": "stream",
          "name": "stdout",
          "text": [
            "\n",
            "WARNING ⚠️ imgsz=[101, 1152] must be multiple of max stride 32, updating to [128, 1152]\n",
            "0: 128x1152 (no detections), 122.6ms\n",
            "Speed: 1.6ms preprocess, 122.6ms inference, 0.8ms postprocess per image at shape (1, 3, 128, 1152)\n"
          ]
        },
        {
          "output_type": "stream",
          "name": "stderr",
          "text": [
            "0it [00:00, ?it/s]"
          ]
        },
        {
          "output_type": "stream",
          "name": "stdout",
          "text": [
            "\n",
            "WARNING ⚠️ imgsz=[109, 1152] must be multiple of max stride 32, updating to [128, 1152]\n"
          ]
        },
        {
          "output_type": "stream",
          "name": "stderr",
          "text": [
            "\n"
          ]
        },
        {
          "output_type": "stream",
          "name": "stdout",
          "text": [
            "0: 128x1152 (no detections), 133.5ms\n",
            "Speed: 1.5ms preprocess, 133.5ms inference, 0.7ms postprocess per image at shape (1, 3, 128, 1152)\n"
          ]
        },
        {
          "output_type": "stream",
          "name": "stderr",
          "text": [
            "0it [00:00, ?it/s]"
          ]
        },
        {
          "output_type": "stream",
          "name": "stdout",
          "text": [
            "\n",
            "WARNING ⚠️ imgsz=[123, 768] must be multiple of max stride 32, updating to [128, 768]\n"
          ]
        },
        {
          "output_type": "stream",
          "name": "stderr",
          "text": [
            "\n"
          ]
        },
        {
          "output_type": "stream",
          "name": "stdout",
          "text": [
            "0: 128x768 (no detections), 109.7ms\n",
            "Speed: 1.2ms preprocess, 109.7ms inference, 0.7ms postprocess per image at shape (1, 3, 128, 768)\n"
          ]
        },
        {
          "output_type": "stream",
          "name": "stderr",
          "text": [
            "0it [00:00, ?it/s]\n"
          ]
        },
        {
          "output_type": "stream",
          "name": "stdout",
          "text": [
            "\n",
            "WARNING ⚠️ imgsz=[1086, 768] must be multiple of max stride 32, updating to [1088, 768]\n",
            "0: 1088x768 (no detections), 683.2ms\n",
            "Speed: 6.3ms preprocess, 683.2ms inference, 0.8ms postprocess per image at shape (1, 3, 1088, 768)\n"
          ]
        },
        {
          "output_type": "stream",
          "name": "stderr",
          "text": [
            "0it [00:00, ?it/s]\n"
          ]
        },
        {
          "output_type": "stream",
          "name": "stdout",
          "text": [
            "\n",
            "WARNING ⚠️ imgsz=[412, 768] must be multiple of max stride 32, updating to [416, 768]\n",
            "0: 416x768 1 isolated, 291.6ms\n",
            "Speed: 2.3ms preprocess, 291.6ms inference, 5.4ms postprocess per image at shape (1, 3, 416, 768)\n"
          ]
        },
        {
          "output_type": "stream",
          "name": "stderr",
          "text": [
            "100%|██████████| 1/1 [00:16<00:00, 16.66s/it]"
          ]
        },
        {
          "output_type": "stream",
          "name": "stdout",
          "text": [
            "\n",
            "WARNING ⚠️ imgsz=[425, 768] must be multiple of max stride 32, updating to [448, 768]\n"
          ]
        },
        {
          "output_type": "stream",
          "name": "stderr",
          "text": [
            "\n"
          ]
        },
        {
          "output_type": "stream",
          "name": "stdout",
          "text": [
            "0: 448x768 1 isolated, 311.5ms\n",
            "Speed: 2.9ms preprocess, 311.5ms inference, 1.7ms postprocess per image at shape (1, 3, 448, 768)\n"
          ]
        },
        {
          "output_type": "stream",
          "name": "stderr",
          "text": [
            "100%|██████████| 1/1 [00:00<00:00,  1.03it/s]"
          ]
        },
        {
          "output_type": "stream",
          "name": "stdout",
          "text": [
            "\n",
            "WARNING ⚠️ imgsz=[94, 768] must be multiple of max stride 32, updating to [96, 768]\n"
          ]
        },
        {
          "output_type": "stream",
          "name": "stderr",
          "text": [
            "\n"
          ]
        },
        {
          "output_type": "stream",
          "name": "stdout",
          "text": [
            "0: 96x768 (no detections), 110.1ms\n",
            "Speed: 1.5ms preprocess, 110.1ms inference, 1.0ms postprocess per image at shape (1, 3, 96, 768)\n"
          ]
        },
        {
          "output_type": "stream",
          "name": "stderr",
          "text": [
            "0it [00:00, ?it/s]"
          ]
        },
        {
          "output_type": "stream",
          "name": "stdout",
          "text": [
            "\n",
            "WARNING ⚠️ imgsz=[131, 768] must be multiple of max stride 32, updating to [160, 768]\n"
          ]
        },
        {
          "output_type": "stream",
          "name": "stderr",
          "text": [
            "\n"
          ]
        },
        {
          "output_type": "stream",
          "name": "stdout",
          "text": [
            "0: 160x768 (no detections), 161.9ms\n",
            "Speed: 1.4ms preprocess, 161.9ms inference, 1.0ms postprocess per image at shape (1, 3, 160, 768)\n"
          ]
        },
        {
          "output_type": "stream",
          "name": "stderr",
          "text": [
            "0it [00:00, ?it/s]"
          ]
        },
        {
          "output_type": "stream",
          "name": "stdout",
          "text": [
            "\n",
            "WARNING ⚠️ imgsz=[521, 768] must be multiple of max stride 32, updating to [544, 768]\n"
          ]
        },
        {
          "output_type": "stream",
          "name": "stderr",
          "text": [
            "\n"
          ]
        },
        {
          "output_type": "stream",
          "name": "stdout",
          "text": [
            "0: 544x768 1 isolated, 498.6ms\n",
            "Speed: 2.9ms preprocess, 498.6ms inference, 2.4ms postprocess per image at shape (1, 3, 544, 768)\n"
          ]
        },
        {
          "output_type": "stream",
          "name": "stderr",
          "text": [
            "100%|██████████| 1/1 [00:00<00:00,  1.38it/s]\n"
          ]
        },
        {
          "output_type": "stream",
          "name": "stdout",
          "text": [
            "\n",
            "WARNING ⚠️ imgsz=[296, 768] must be multiple of max stride 32, updating to [320, 768]\n",
            "0: 320x768 1 isolated, 342.5ms\n",
            "Speed: 2.0ms preprocess, 342.5ms inference, 2.1ms postprocess per image at shape (1, 3, 320, 768)\n"
          ]
        },
        {
          "output_type": "stream",
          "name": "stderr",
          "text": [
            "100%|██████████| 1/1 [00:01<00:00,  1.12s/it]"
          ]
        },
        {
          "output_type": "stream",
          "name": "stdout",
          "text": [
            "\n",
            "WARNING ⚠️ imgsz=[90, 768] must be multiple of max stride 32, updating to [96, 768]\n"
          ]
        },
        {
          "output_type": "stream",
          "name": "stderr",
          "text": [
            "\n"
          ]
        },
        {
          "output_type": "stream",
          "name": "stdout",
          "text": [
            "0: 96x768 (no detections), 106.4ms\n",
            "Speed: 1.2ms preprocess, 106.4ms inference, 0.9ms postprocess per image at shape (1, 3, 96, 768)\n"
          ]
        },
        {
          "output_type": "stream",
          "name": "stderr",
          "text": [
            "0it [00:00, ?it/s]"
          ]
        },
        {
          "output_type": "stream",
          "name": "stdout",
          "text": [
            "\n",
            "WARNING ⚠️ imgsz=[72, 768] must be multiple of max stride 32, updating to [96, 768]\n"
          ]
        },
        {
          "output_type": "stream",
          "name": "stderr",
          "text": [
            "\n"
          ]
        },
        {
          "output_type": "stream",
          "name": "stdout",
          "text": [
            "0: 96x768 (no detections), 129.2ms\n",
            "Speed: 1.6ms preprocess, 129.2ms inference, 1.1ms postprocess per image at shape (1, 3, 96, 768)\n"
          ]
        },
        {
          "output_type": "stream",
          "name": "stderr",
          "text": [
            "0it [00:00, ?it/s]"
          ]
        },
        {
          "output_type": "stream",
          "name": "stdout",
          "text": [
            "\n",
            "WARNING ⚠️ imgsz=[195, 768] must be multiple of max stride 32, updating to [224, 768]\n"
          ]
        },
        {
          "output_type": "stream",
          "name": "stderr",
          "text": [
            "\n"
          ]
        },
        {
          "output_type": "stream",
          "name": "stdout",
          "text": [
            "0: 224x768 1 embedding, 205.8ms\n",
            "Speed: 1.5ms preprocess, 205.8ms inference, 1.9ms postprocess per image at shape (1, 3, 224, 768)\n"
          ]
        },
        {
          "output_type": "stream",
          "name": "stderr",
          "text": [
            "100%|██████████| 1/1 [00:00<00:00,  1.61it/s]"
          ]
        },
        {
          "output_type": "stream",
          "name": "stdout",
          "text": [
            "\n",
            "WARNING ⚠️ imgsz=[262, 768] must be multiple of max stride 32, updating to [288, 768]\n"
          ]
        },
        {
          "output_type": "stream",
          "name": "stderr",
          "text": [
            "\n"
          ]
        },
        {
          "output_type": "stream",
          "name": "stdout",
          "text": [
            "0: 288x768 (no detections), 212.1ms\n",
            "Speed: 2.1ms preprocess, 212.1ms inference, 0.9ms postprocess per image at shape (1, 3, 288, 768)\n"
          ]
        },
        {
          "output_type": "stream",
          "name": "stderr",
          "text": [
            "0it [00:00, ?it/s]"
          ]
        },
        {
          "output_type": "stream",
          "name": "stdout",
          "text": [
            "\n",
            "WARNING ⚠️ imgsz=[110, 1152] must be multiple of max stride 32, updating to [128, 1152]\n"
          ]
        },
        {
          "output_type": "stream",
          "name": "stderr",
          "text": [
            "\n"
          ]
        },
        {
          "output_type": "stream",
          "name": "stdout",
          "text": [
            "0: 128x1152 (no detections), 153.8ms\n",
            "Speed: 2.7ms preprocess, 153.8ms inference, 0.8ms postprocess per image at shape (1, 3, 128, 1152)\n"
          ]
        },
        {
          "output_type": "stream",
          "name": "stderr",
          "text": [
            "0it [00:00, ?it/s]"
          ]
        },
        {
          "output_type": "stream",
          "name": "stdout",
          "text": [
            "\n",
            "WARNING ⚠️ imgsz=[126, 768] must be multiple of max stride 32, updating to [128, 768]\n",
            "0: 128x768 (no detections), 98.4ms\n",
            "Speed: 1.2ms preprocess, 98.4ms inference, 0.8ms postprocess per image at shape (1, 3, 128, 768)\n"
          ]
        },
        {
          "output_type": "stream",
          "name": "stderr",
          "text": [
            "\n",
            "0it [00:00, ?it/s]\n"
          ]
        },
        {
          "output_type": "stream",
          "name": "stdout",
          "text": [
            "\n",
            "WARNING ⚠️ imgsz=[151, 768] must be multiple of max stride 32, updating to [160, 768]\n",
            "0: 160x768 (no detections), 125.7ms\n",
            "Speed: 1.4ms preprocess, 125.7ms inference, 0.8ms postprocess per image at shape (1, 3, 160, 768)\n"
          ]
        },
        {
          "output_type": "stream",
          "name": "stderr",
          "text": [
            "0it [00:00, ?it/s]"
          ]
        },
        {
          "output_type": "stream",
          "name": "stdout",
          "text": [
            "\n",
            "WARNING ⚠️ imgsz=[151, 768] must be multiple of max stride 32, updating to [160, 768]\n"
          ]
        },
        {
          "output_type": "stream",
          "name": "stderr",
          "text": [
            "\n"
          ]
        },
        {
          "output_type": "stream",
          "name": "stdout",
          "text": [
            "0: 160x768 (no detections), 117.8ms\n",
            "Speed: 1.9ms preprocess, 117.8ms inference, 1.0ms postprocess per image at shape (1, 3, 160, 768)\n"
          ]
        },
        {
          "output_type": "stream",
          "name": "stderr",
          "text": [
            "0it [00:00, ?it/s]"
          ]
        },
        {
          "output_type": "stream",
          "name": "stdout",
          "text": [
            "\n",
            "WARNING ⚠️ imgsz=[230, 768] must be multiple of max stride 32, updating to [256, 768]\n"
          ]
        },
        {
          "output_type": "stream",
          "name": "stderr",
          "text": [
            "\n"
          ]
        },
        {
          "output_type": "stream",
          "name": "stdout",
          "text": [
            "0: 256x768 (no detections), 205.6ms\n",
            "Speed: 1.7ms preprocess, 205.6ms inference, 0.7ms postprocess per image at shape (1, 3, 256, 768)\n"
          ]
        },
        {
          "output_type": "stream",
          "name": "stderr",
          "text": [
            "0it [00:00, ?it/s]"
          ]
        },
        {
          "output_type": "stream",
          "name": "stdout",
          "text": [
            "\n",
            "WARNING ⚠️ imgsz=[90, 768] must be multiple of max stride 32, updating to [96, 768]\n",
            "0: 96x768 (no detections), 69.1ms\n",
            "Speed: 1.1ms preprocess, 69.1ms inference, 0.7ms postprocess per image at shape (1, 3, 96, 768)\n"
          ]
        },
        {
          "output_type": "stream",
          "name": "stderr",
          "text": [
            "\n",
            "0it [00:00, ?it/s]\n"
          ]
        },
        {
          "output_type": "stream",
          "name": "stdout",
          "text": [
            "\n",
            "WARNING ⚠️ imgsz=[79, 1152] must be multiple of max stride 32, updating to [96, 1152]\n",
            "0: 96x1152 1 isolated, 92.7ms\n",
            "Speed: 1.7ms preprocess, 92.7ms inference, 1.5ms postprocess per image at shape (1, 3, 96, 1152)\n"
          ]
        },
        {
          "output_type": "stream",
          "name": "stderr",
          "text": [
            "100%|██████████| 1/1 [00:12<00:00, 12.16s/it]"
          ]
        },
        {
          "output_type": "stream",
          "name": "stdout",
          "text": [
            "\n",
            "WARNING ⚠️ imgsz=[186, 768] must be multiple of max stride 32, updating to [192, 768]\n"
          ]
        },
        {
          "output_type": "stream",
          "name": "stderr",
          "text": [
            "\n"
          ]
        },
        {
          "output_type": "stream",
          "name": "stdout",
          "text": [
            "0: 192x768 (no detections), 142.7ms\n",
            "Speed: 1.4ms preprocess, 142.7ms inference, 1.0ms postprocess per image at shape (1, 3, 192, 768)\n"
          ]
        },
        {
          "output_type": "stream",
          "name": "stderr",
          "text": [
            "0it [00:00, ?it/s]"
          ]
        },
        {
          "output_type": "stream",
          "name": "stdout",
          "text": [
            "\n",
            "WARNING ⚠️ imgsz=[135, 768] must be multiple of max stride 32, updating to [160, 768]\n"
          ]
        },
        {
          "output_type": "stream",
          "name": "stderr",
          "text": [
            "\n"
          ]
        },
        {
          "output_type": "stream",
          "name": "stdout",
          "text": [
            "0: 160x768 (no detections), 116.1ms\n",
            "Speed: 2.1ms preprocess, 116.1ms inference, 1.0ms postprocess per image at shape (1, 3, 160, 768)\n"
          ]
        },
        {
          "output_type": "stream",
          "name": "stderr",
          "text": [
            "0it [00:00, ?it/s]"
          ]
        },
        {
          "output_type": "stream",
          "name": "stdout",
          "text": [
            "\n",
            "WARNING ⚠️ imgsz=[138, 768] must be multiple of max stride 32, updating to [160, 768]\n",
            "0: 160x768 (no detections), 116.4ms\n",
            "Speed: 1.5ms preprocess, 116.4ms inference, 0.8ms postprocess per image at shape (1, 3, 160, 768)\n"
          ]
        },
        {
          "output_type": "stream",
          "name": "stderr",
          "text": [
            "\n",
            "0it [00:00, ?it/s]\n"
          ]
        },
        {
          "output_type": "stream",
          "name": "stdout",
          "text": [
            "\n",
            "WARNING ⚠️ imgsz=[129, 768] must be multiple of max stride 32, updating to [160, 768]\n",
            "0: 160x768 (no detections), 124.2ms\n",
            "Speed: 1.4ms preprocess, 124.2ms inference, 0.8ms postprocess per image at shape (1, 3, 160, 768)\n"
          ]
        },
        {
          "output_type": "stream",
          "name": "stderr",
          "text": [
            "0it [00:00, ?it/s]"
          ]
        },
        {
          "output_type": "stream",
          "name": "stdout",
          "text": [
            "\n",
            "WARNING ⚠️ imgsz=[132, 768] must be multiple of max stride 32, updating to [160, 768]\n"
          ]
        },
        {
          "output_type": "stream",
          "name": "stderr",
          "text": [
            "\n"
          ]
        },
        {
          "output_type": "stream",
          "name": "stdout",
          "text": [
            "0: 160x768 (no detections), 134.5ms\n",
            "Speed: 1.8ms preprocess, 134.5ms inference, 0.8ms postprocess per image at shape (1, 3, 160, 768)\n"
          ]
        },
        {
          "output_type": "stream",
          "name": "stderr",
          "text": [
            "0it [00:00, ?it/s]"
          ]
        },
        {
          "output_type": "stream",
          "name": "stdout",
          "text": [
            "\n",
            "WARNING ⚠️ imgsz=[477, 768] must be multiple of max stride 32, updating to [480, 768]\n"
          ]
        },
        {
          "output_type": "stream",
          "name": "stderr",
          "text": [
            "\n"
          ]
        },
        {
          "output_type": "stream",
          "name": "stdout",
          "text": [
            "0: 480x768 1 isolated, 389.3ms\n",
            "Speed: 2.6ms preprocess, 389.3ms inference, 1.7ms postprocess per image at shape (1, 3, 480, 768)\n"
          ]
        },
        {
          "output_type": "stream",
          "name": "stderr",
          "text": [
            "100%|██████████| 1/1 [00:00<00:00,  2.24it/s]"
          ]
        },
        {
          "output_type": "stream",
          "name": "stdout",
          "text": [
            "\n",
            "WARNING ⚠️ imgsz=[142, 768] must be multiple of max stride 32, updating to [160, 768]\n"
          ]
        },
        {
          "output_type": "stream",
          "name": "stderr",
          "text": [
            "\n"
          ]
        },
        {
          "output_type": "stream",
          "name": "stdout",
          "text": [
            "0: 160x768 (no detections), 122.7ms\n",
            "Speed: 1.7ms preprocess, 122.7ms inference, 0.8ms postprocess per image at shape (1, 3, 160, 768)\n"
          ]
        },
        {
          "output_type": "stream",
          "name": "stderr",
          "text": [
            "0it [00:00, ?it/s]"
          ]
        },
        {
          "output_type": "stream",
          "name": "stdout",
          "text": [
            "\n",
            "WARNING ⚠️ imgsz=[154, 768] must be multiple of max stride 32, updating to [160, 768]\n"
          ]
        },
        {
          "output_type": "stream",
          "name": "stderr",
          "text": [
            "\n"
          ]
        },
        {
          "output_type": "stream",
          "name": "stdout",
          "text": [
            "0: 160x768 (no detections), 125.3ms\n",
            "Speed: 1.5ms preprocess, 125.3ms inference, 0.8ms postprocess per image at shape (1, 3, 160, 768)\n"
          ]
        },
        {
          "output_type": "stream",
          "name": "stderr",
          "text": [
            "0it [00:00, ?it/s]"
          ]
        },
        {
          "output_type": "stream",
          "name": "stdout",
          "text": [
            "\n",
            "WARNING ⚠️ imgsz=[231, 768] must be multiple of max stride 32, updating to [256, 768]\n"
          ]
        },
        {
          "output_type": "stream",
          "name": "stderr",
          "text": [
            "\n"
          ]
        },
        {
          "output_type": "stream",
          "name": "stdout",
          "text": [
            "0: 256x768 (no detections), 182.8ms\n",
            "Speed: 2.0ms preprocess, 182.8ms inference, 0.8ms postprocess per image at shape (1, 3, 256, 768)\n"
          ]
        },
        {
          "output_type": "stream",
          "name": "stderr",
          "text": [
            "0it [00:00, ?it/s]"
          ]
        },
        {
          "output_type": "stream",
          "name": "stdout",
          "text": [
            "\n"
          ]
        },
        {
          "output_type": "stream",
          "name": "stderr",
          "text": [
            "\n"
          ]
        },
        {
          "output_type": "stream",
          "name": "stdout",
          "text": [
            "WARNING ⚠️ imgsz=[142, 1728] must be multiple of max stride 32, updating to [160, 1728]\n",
            "0: 160x1728 (no detections), 262.0ms\n",
            "Speed: 4.2ms preprocess, 262.0ms inference, 0.8ms postprocess per image at shape (1, 3, 160, 1728)\n"
          ]
        },
        {
          "output_type": "stream",
          "name": "stderr",
          "text": [
            "0it [00:00, ?it/s]\n"
          ]
        },
        {
          "output_type": "stream",
          "name": "stdout",
          "text": [
            "\n",
            "WARNING ⚠️ imgsz=[95, 1728] must be multiple of max stride 32, updating to [96, 1728]\n",
            "0: 96x1728 (no detections), 142.8ms\n",
            "Speed: 2.3ms preprocess, 142.8ms inference, 0.8ms postprocess per image at shape (1, 3, 96, 1728)\n"
          ]
        },
        {
          "output_type": "stream",
          "name": "stderr",
          "text": [
            "0it [00:00, ?it/s]\n"
          ]
        },
        {
          "output_type": "stream",
          "name": "stdout",
          "text": [
            "\n",
            "WARNING ⚠️ imgsz=[1086, 768] must be multiple of max stride 32, updating to [1088, 768]\n",
            "0: 1088x768 (no detections), 722.5ms\n",
            "Speed: 6.8ms preprocess, 722.5ms inference, 0.8ms postprocess per image at shape (1, 3, 1088, 768)\n"
          ]
        },
        {
          "output_type": "stream",
          "name": "stderr",
          "text": [
            "0it [00:00, ?it/s]\n"
          ]
        },
        {
          "output_type": "stream",
          "name": "stdout",
          "text": [
            "\n",
            "WARNING ⚠️ imgsz=[80, 1152] must be multiple of max stride 32, updating to [96, 1152]\n",
            "0: 96x1152 (no detections), 100.4ms\n",
            "Speed: 1.3ms preprocess, 100.4ms inference, 5.0ms postprocess per image at shape (1, 3, 96, 1152)\n"
          ]
        },
        {
          "output_type": "stream",
          "name": "stderr",
          "text": [
            "0it [00:00, ?it/s]"
          ]
        },
        {
          "output_type": "stream",
          "name": "stdout",
          "text": [
            "\n",
            "WARNING ⚠️ imgsz=[116, 1152] must be multiple of max stride 32, updating to [128, 1152]\n"
          ]
        },
        {
          "output_type": "stream",
          "name": "stderr",
          "text": [
            "\n"
          ]
        },
        {
          "output_type": "stream",
          "name": "stdout",
          "text": [
            "0: 128x1152 (no detections), 143.9ms\n",
            "Speed: 1.7ms preprocess, 143.9ms inference, 0.7ms postprocess per image at shape (1, 3, 128, 1152)\n"
          ]
        },
        {
          "output_type": "stream",
          "name": "stderr",
          "text": [
            "0it [00:00, ?it/s]"
          ]
        },
        {
          "output_type": "stream",
          "name": "stdout",
          "text": [
            "\n",
            "WARNING ⚠️ imgsz=[103, 1152] must be multiple of max stride 32, updating to [128, 1152]\n"
          ]
        },
        {
          "output_type": "stream",
          "name": "stderr",
          "text": [
            "\n"
          ]
        },
        {
          "output_type": "stream",
          "name": "stdout",
          "text": [
            "0: 128x1152 (no detections), 134.6ms\n",
            "Speed: 2.0ms preprocess, 134.6ms inference, 0.7ms postprocess per image at shape (1, 3, 128, 1152)\n"
          ]
        },
        {
          "output_type": "stream",
          "name": "stderr",
          "text": [
            "0it [00:00, ?it/s]"
          ]
        },
        {
          "output_type": "stream",
          "name": "stdout",
          "text": [
            "\n",
            "WARNING ⚠️ imgsz=[108, 1152] must be multiple of max stride 32, updating to [128, 1152]\n"
          ]
        },
        {
          "output_type": "stream",
          "name": "stderr",
          "text": [
            "\n"
          ]
        },
        {
          "output_type": "stream",
          "name": "stdout",
          "text": [
            "0: 128x1152 (no detections), 137.3ms\n",
            "Speed: 1.9ms preprocess, 137.3ms inference, 0.8ms postprocess per image at shape (1, 3, 128, 1152)\n"
          ]
        },
        {
          "output_type": "stream",
          "name": "stderr",
          "text": [
            "0it [00:00, ?it/s]"
          ]
        },
        {
          "output_type": "stream",
          "name": "stdout",
          "text": [
            "\n",
            "WARNING ⚠️ imgsz=[123, 768] must be multiple of max stride 32, updating to [128, 768]\n"
          ]
        },
        {
          "output_type": "stream",
          "name": "stderr",
          "text": [
            "\n"
          ]
        },
        {
          "output_type": "stream",
          "name": "stdout",
          "text": [
            "0: 128x768 1 embedding, 138.9ms\n",
            "Speed: 6.0ms preprocess, 138.9ms inference, 1.9ms postprocess per image at shape (1, 3, 128, 768)\n"
          ]
        },
        {
          "output_type": "stream",
          "name": "stderr",
          "text": [
            "100%|██████████| 1/1 [00:00<00:00,  1.63it/s]\n"
          ]
        },
        {
          "output_type": "stream",
          "name": "stdout",
          "text": [
            "\n",
            "WARNING ⚠️ imgsz=[146, 1728] must be multiple of max stride 32, updating to [160, 1728]\n",
            "0: 160x1728 (no detections), 325.2ms\n",
            "Speed: 3.8ms preprocess, 325.2ms inference, 0.9ms postprocess per image at shape (1, 3, 160, 1728)\n"
          ]
        },
        {
          "output_type": "stream",
          "name": "stderr",
          "text": [
            "0it [00:00, ?it/s]\n"
          ]
        },
        {
          "output_type": "stream",
          "name": "stdout",
          "text": [
            "\n",
            "WARNING ⚠️ imgsz=[1086, 768] must be multiple of max stride 32, updating to [1088, 768]\n",
            "0: 1088x768 (no detections), 717.1ms\n",
            "Speed: 8.1ms preprocess, 717.1ms inference, 2.0ms postprocess per image at shape (1, 3, 1088, 768)\n"
          ]
        },
        {
          "output_type": "stream",
          "name": "stderr",
          "text": [
            "0it [00:00, ?it/s]\n"
          ]
        },
        {
          "output_type": "stream",
          "name": "stdout",
          "text": [
            "\n",
            "WARNING ⚠️ imgsz=[286, 768] must be multiple of max stride 32, updating to [288, 768]\n",
            "0: 288x768 1 isolated, 192.2ms\n",
            "Speed: 1.9ms preprocess, 192.2ms inference, 7.2ms postprocess per image at shape (1, 3, 288, 768)\n"
          ]
        },
        {
          "output_type": "stream",
          "name": "stderr",
          "text": [
            "100%|██████████| 1/1 [00:00<00:00,  1.59it/s]"
          ]
        },
        {
          "output_type": "stream",
          "name": "stdout",
          "text": [
            "\n",
            "WARNING ⚠️ imgsz=[121, 768] must be multiple of max stride 32, updating to [128, 768]\n",
            "0: 128x768 (no detections), 92.1ms\n",
            "Speed: 1.1ms preprocess, 92.1ms inference, 0.9ms postprocess per image at shape (1, 3, 128, 768)\n"
          ]
        },
        {
          "output_type": "stream",
          "name": "stderr",
          "text": [
            "\n",
            "0it [00:00, ?it/s]"
          ]
        },
        {
          "output_type": "stream",
          "name": "stdout",
          "text": [
            "\n",
            "WARNING ⚠️ imgsz=[81, 768] must be multiple of max stride 32, updating to [96, 768]\n"
          ]
        },
        {
          "output_type": "stream",
          "name": "stderr",
          "text": [
            "\n"
          ]
        },
        {
          "output_type": "stream",
          "name": "stdout",
          "text": [
            "0: 96x768 (no detections), 73.4ms\n",
            "Speed: 1.3ms preprocess, 73.4ms inference, 1.1ms postprocess per image at shape (1, 3, 96, 768)\n"
          ]
        },
        {
          "output_type": "stream",
          "name": "stderr",
          "text": [
            "0it [00:00, ?it/s]\n"
          ]
        },
        {
          "output_type": "stream",
          "name": "stdout",
          "text": [
            "\n",
            "WARNING ⚠️ imgsz=[1086, 768] must be multiple of max stride 32, updating to [1088, 768]\n",
            "0: 1088x768 (no detections), 731.8ms\n",
            "Speed: 7.2ms preprocess, 731.8ms inference, 0.8ms postprocess per image at shape (1, 3, 1088, 768)\n"
          ]
        },
        {
          "output_type": "stream",
          "name": "stderr",
          "text": [
            "0it [00:00, ?it/s]\n"
          ]
        },
        {
          "output_type": "stream",
          "name": "stdout",
          "text": [
            "\n",
            "WARNING ⚠️ imgsz=[287, 768] must be multiple of max stride 32, updating to [288, 768]\n",
            "0: 288x768 1 isolated, 200.5ms\n",
            "Speed: 1.9ms preprocess, 200.5ms inference, 4.8ms postprocess per image at shape (1, 3, 288, 768)\n"
          ]
        },
        {
          "output_type": "stream",
          "name": "stderr",
          "text": [
            "100%|██████████| 1/1 [00:00<00:00,  1.28it/s]"
          ]
        },
        {
          "output_type": "stream",
          "name": "stdout",
          "text": [
            "\n",
            "WARNING ⚠️ imgsz=[108, 768] must be multiple of max stride 32, updating to [128, 768]\n"
          ]
        },
        {
          "output_type": "stream",
          "name": "stderr",
          "text": [
            "\n"
          ]
        },
        {
          "output_type": "stream",
          "name": "stdout",
          "text": [
            "0: 128x768 (no detections), 95.4ms\n",
            "Speed: 1.7ms preprocess, 95.4ms inference, 0.9ms postprocess per image at shape (1, 3, 128, 768)\n"
          ]
        },
        {
          "output_type": "stream",
          "name": "stderr",
          "text": [
            "0it [00:00, ?it/s]"
          ]
        },
        {
          "output_type": "stream",
          "name": "stdout",
          "text": [
            "\n",
            "WARNING ⚠️ imgsz=[138, 768] must be multiple of max stride 32, updating to [160, 768]\n"
          ]
        },
        {
          "output_type": "stream",
          "name": "stderr",
          "text": [
            "\n"
          ]
        },
        {
          "output_type": "stream",
          "name": "stdout",
          "text": [
            "0: 160x768 (no detections), 109.5ms\n",
            "Speed: 1.3ms preprocess, 109.5ms inference, 0.9ms postprocess per image at shape (1, 3, 160, 768)\n"
          ]
        },
        {
          "output_type": "stream",
          "name": "stderr",
          "text": [
            "0it [00:00, ?it/s]"
          ]
        },
        {
          "output_type": "stream",
          "name": "stdout",
          "text": [
            "\n",
            "WARNING ⚠️ imgsz=[332, 768] must be multiple of max stride 32, updating to [352, 768]\n"
          ]
        },
        {
          "output_type": "stream",
          "name": "stderr",
          "text": [
            "\n"
          ]
        },
        {
          "output_type": "stream",
          "name": "stdout",
          "text": [
            "0: 352x768 1 isolated, 286.2ms\n",
            "Speed: 2.2ms preprocess, 286.2ms inference, 2.3ms postprocess per image at shape (1, 3, 352, 768)\n"
          ]
        },
        {
          "output_type": "stream",
          "name": "stderr",
          "text": [
            "100%|██████████| 1/1 [00:01<00:00,  1.41s/it]\n"
          ]
        },
        {
          "output_type": "stream",
          "name": "stdout",
          "text": [
            "\n",
            "WARNING ⚠️ imgsz=[166, 1728] must be multiple of max stride 32, updating to [192, 1728]\n",
            "0: 192x1728 (no detections), 418.7ms\n",
            "Speed: 3.2ms preprocess, 418.7ms inference, 1.0ms postprocess per image at shape (1, 3, 192, 1728)\n"
          ]
        },
        {
          "output_type": "stream",
          "name": "stderr",
          "text": [
            "0it [00:00, ?it/s]\n"
          ]
        },
        {
          "output_type": "stream",
          "name": "stdout",
          "text": [
            "\n",
            "WARNING ⚠️ imgsz=[109, 1152] must be multiple of max stride 32, updating to [128, 1152]\n",
            "0: 128x1152 (no detections), 191.9ms\n",
            "Speed: 1.5ms preprocess, 191.9ms inference, 1.0ms postprocess per image at shape (1, 3, 128, 1152)\n"
          ]
        },
        {
          "output_type": "stream",
          "name": "stderr",
          "text": [
            "0it [00:00, ?it/s]"
          ]
        },
        {
          "output_type": "stream",
          "name": "stdout",
          "text": [
            "\n",
            "WARNING ⚠️ imgsz=[93, 1152] must be multiple of max stride 32, updating to [96, 1152]\n"
          ]
        },
        {
          "output_type": "stream",
          "name": "stderr",
          "text": [
            "\n"
          ]
        },
        {
          "output_type": "stream",
          "name": "stdout",
          "text": [
            "0: 96x1152 (no detections), 143.3ms\n",
            "Speed: 1.5ms preprocess, 143.3ms inference, 0.9ms postprocess per image at shape (1, 3, 96, 1152)\n"
          ]
        },
        {
          "output_type": "stream",
          "name": "stderr",
          "text": [
            "0it [00:00, ?it/s]"
          ]
        },
        {
          "output_type": "stream",
          "name": "stdout",
          "text": [
            "\n",
            "WARNING ⚠️ imgsz=[77, 768] must be multiple of max stride 32, updating to [96, 768]\n"
          ]
        },
        {
          "output_type": "stream",
          "name": "stderr",
          "text": [
            "\n"
          ]
        },
        {
          "output_type": "stream",
          "name": "stdout",
          "text": [
            "0: 96x768 2 embeddings, 124.0ms\n",
            "Speed: 1.1ms preprocess, 124.0ms inference, 5.8ms postprocess per image at shape (1, 3, 96, 768)\n"
          ]
        },
        {
          "output_type": "stream",
          "name": "stderr",
          "text": [
            "100%|██████████| 2/2 [00:01<00:00,  1.14it/s]"
          ]
        },
        {
          "output_type": "stream",
          "name": "stdout",
          "text": [
            "\n",
            "WARNING ⚠️ imgsz=[116, 1728] must be multiple of max stride 32, updating to [128, 1728]\n"
          ]
        },
        {
          "output_type": "stream",
          "name": "stderr",
          "text": [
            "\n"
          ]
        },
        {
          "output_type": "stream",
          "name": "stdout",
          "text": [
            "0: 128x1728 1 embedding, 198.3ms\n",
            "Speed: 2.5ms preprocess, 198.3ms inference, 1.6ms postprocess per image at shape (1, 3, 128, 1728)\n"
          ]
        },
        {
          "output_type": "stream",
          "name": "stderr",
          "text": [
            "100%|██████████| 1/1 [00:00<00:00,  1.93it/s]\n"
          ]
        },
        {
          "output_type": "stream",
          "name": "stdout",
          "text": [
            "\n",
            "WARNING ⚠️ imgsz=[134, 768] must be multiple of max stride 32, updating to [160, 768]\n",
            "0: 160x768 (no detections), 128.2ms\n",
            "Speed: 1.3ms preprocess, 128.2ms inference, 1.1ms postprocess per image at shape (1, 3, 160, 768)\n"
          ]
        },
        {
          "output_type": "stream",
          "name": "stderr",
          "text": [
            "0it [00:00, ?it/s]"
          ]
        },
        {
          "output_type": "stream",
          "name": "stdout",
          "text": [
            "\n",
            "WARNING ⚠️ imgsz=[95, 1152] must be multiple of max stride 32, updating to [96, 1152]\n"
          ]
        },
        {
          "output_type": "stream",
          "name": "stderr",
          "text": [
            "\n"
          ]
        },
        {
          "output_type": "stream",
          "name": "stdout",
          "text": [
            "0: 96x1152 (no detections), 103.8ms\n",
            "Speed: 1.8ms preprocess, 103.8ms inference, 0.7ms postprocess per image at shape (1, 3, 96, 1152)\n"
          ]
        },
        {
          "output_type": "stream",
          "name": "stderr",
          "text": [
            "0it [00:00, ?it/s]"
          ]
        },
        {
          "output_type": "stream",
          "name": "stdout",
          "text": [
            "\n",
            "WARNING ⚠️ imgsz=[176, 768] must be multiple of max stride 32, updating to [192, 768]\n"
          ]
        },
        {
          "output_type": "stream",
          "name": "stderr",
          "text": [
            "\n"
          ]
        },
        {
          "output_type": "stream",
          "name": "stdout",
          "text": [
            "0: 192x768 1 embedding, 142.3ms\n",
            "Speed: 2.2ms preprocess, 142.3ms inference, 1.5ms postprocess per image at shape (1, 3, 192, 768)\n"
          ]
        },
        {
          "output_type": "stream",
          "name": "stderr",
          "text": [
            "100%|██████████| 1/1 [00:00<00:00,  2.03it/s]"
          ]
        },
        {
          "output_type": "stream",
          "name": "stdout",
          "text": [
            "\n"
          ]
        },
        {
          "output_type": "stream",
          "name": "stderr",
          "text": [
            "\n"
          ]
        },
        {
          "output_type": "stream",
          "name": "stdout",
          "text": [
            "0: 160x1728 (no detections), 220.4ms\n",
            "Speed: 3.5ms preprocess, 220.4ms inference, 0.7ms postprocess per image at shape (1, 3, 160, 1728)\n"
          ]
        },
        {
          "output_type": "stream",
          "name": "stderr",
          "text": [
            "0it [00:00, ?it/s]\n"
          ]
        },
        {
          "output_type": "stream",
          "name": "stdout",
          "text": [
            "\n",
            "WARNING ⚠️ imgsz=[153, 1728] must be multiple of max stride 32, updating to [160, 1728]\n",
            "0: 160x1728 (no detections), 241.1ms\n",
            "Speed: 3.0ms preprocess, 241.1ms inference, 0.8ms postprocess per image at shape (1, 3, 160, 1728)\n"
          ]
        },
        {
          "output_type": "stream",
          "name": "stderr",
          "text": [
            "0it [00:00, ?it/s]\n"
          ]
        },
        {
          "output_type": "stream",
          "name": "stdout",
          "text": [
            "\n",
            "WARNING ⚠️ imgsz=[210, 768] must be multiple of max stride 32, updating to [224, 768]\n",
            "0: 224x768 (no detections), 138.5ms\n",
            "Speed: 1.5ms preprocess, 138.5ms inference, 0.7ms postprocess per image at shape (1, 3, 224, 768)\n"
          ]
        },
        {
          "output_type": "stream",
          "name": "stderr",
          "text": [
            "0it [00:00, ?it/s]"
          ]
        },
        {
          "output_type": "stream",
          "name": "stdout",
          "text": [
            "\n",
            "WARNING ⚠️ imgsz=[109, 1728] must be multiple of max stride 32, updating to [128, 1728]\n"
          ]
        },
        {
          "output_type": "stream",
          "name": "stderr",
          "text": [
            "\n"
          ]
        },
        {
          "output_type": "stream",
          "name": "stdout",
          "text": [
            "0: 128x1728 (no detections), 227.2ms\n",
            "Speed: 1.9ms preprocess, 227.2ms inference, 0.9ms postprocess per image at shape (1, 3, 128, 1728)\n"
          ]
        },
        {
          "output_type": "stream",
          "name": "stderr",
          "text": [
            "0it [00:00, ?it/s]\n"
          ]
        },
        {
          "output_type": "stream",
          "name": "stdout",
          "text": [
            "\n",
            "WARNING ⚠️ imgsz=[139, 1728] must be multiple of max stride 32, updating to [160, 1728]\n",
            "0: 160x1728 2 embeddings, 250.6ms\n",
            "Speed: 3.3ms preprocess, 250.6ms inference, 1.5ms postprocess per image at shape (1, 3, 160, 1728)\n"
          ]
        },
        {
          "output_type": "stream",
          "name": "stderr",
          "text": [
            "100%|██████████| 2/2 [00:00<00:00,  2.14it/s]"
          ]
        },
        {
          "output_type": "stream",
          "name": "stdout",
          "text": [
            "\n",
            "WARNING ⚠️ imgsz=[117, 1728] must be multiple of max stride 32, updating to [128, 1728]\n"
          ]
        },
        {
          "output_type": "stream",
          "name": "stderr",
          "text": [
            "\n"
          ]
        },
        {
          "output_type": "stream",
          "name": "stdout",
          "text": [
            "0: 128x1728 (no detections), 196.5ms\n",
            "Speed: 2.3ms preprocess, 196.5ms inference, 0.7ms postprocess per image at shape (1, 3, 128, 1728)\n"
          ]
        },
        {
          "output_type": "stream",
          "name": "stderr",
          "text": [
            "0it [00:00, ?it/s]"
          ]
        },
        {
          "output_type": "stream",
          "name": "stdout",
          "text": [
            "\n"
          ]
        },
        {
          "output_type": "stream",
          "name": "stderr",
          "text": [
            "\n"
          ]
        },
        {
          "output_type": "stream",
          "name": "stdout",
          "text": [
            "0: 288x768 (no detections), 191.3ms\n",
            "Speed: 1.8ms preprocess, 191.3ms inference, 1.0ms postprocess per image at shape (1, 3, 288, 768)\n"
          ]
        },
        {
          "output_type": "stream",
          "name": "stderr",
          "text": [
            "0it [00:00, ?it/s]"
          ]
        },
        {
          "output_type": "stream",
          "name": "stdout",
          "text": [
            "\n",
            "WARNING ⚠️ imgsz=[147, 1728] must be multiple of max stride 32, updating to [160, 1728]\n"
          ]
        },
        {
          "output_type": "stream",
          "name": "stderr",
          "text": [
            "\n"
          ]
        },
        {
          "output_type": "stream",
          "name": "stdout",
          "text": [
            "0: 160x1728 (no detections), 231.9ms\n",
            "Speed: 2.9ms preprocess, 231.9ms inference, 0.9ms postprocess per image at shape (1, 3, 160, 1728)\n"
          ]
        },
        {
          "output_type": "stream",
          "name": "stderr",
          "text": [
            "0it [00:00, ?it/s]\n"
          ]
        },
        {
          "output_type": "stream",
          "name": "stdout",
          "text": [
            "\n",
            "WARNING ⚠️ imgsz=[116, 1728] must be multiple of max stride 32, updating to [128, 1728]\n",
            "0: 128x1728 (no detections), 173.2ms\n",
            "Speed: 2.1ms preprocess, 173.2ms inference, 0.8ms postprocess per image at shape (1, 3, 128, 1728)\n"
          ]
        },
        {
          "output_type": "stream",
          "name": "stderr",
          "text": [
            "0it [00:00, ?it/s]"
          ]
        },
        {
          "output_type": "stream",
          "name": "stdout",
          "text": [
            "\n",
            "WARNING ⚠️ imgsz=[84, 1152] must be multiple of max stride 32, updating to [96, 1152]\n"
          ]
        },
        {
          "output_type": "stream",
          "name": "stderr",
          "text": [
            "\n"
          ]
        },
        {
          "output_type": "stream",
          "name": "stdout",
          "text": [
            "0: 96x1152 (no detections), 100.6ms\n",
            "Speed: 1.5ms preprocess, 100.6ms inference, 0.7ms postprocess per image at shape (1, 3, 96, 1152)\n"
          ]
        },
        {
          "output_type": "stream",
          "name": "stderr",
          "text": [
            "0it [00:00, ?it/s]\n"
          ]
        },
        {
          "output_type": "stream",
          "name": "stdout",
          "text": [
            "\n",
            "WARNING ⚠️ imgsz=[145, 1728] must be multiple of max stride 32, updating to [160, 1728]\n",
            "0: 160x1728 (no detections), 225.8ms\n",
            "Speed: 2.8ms preprocess, 225.8ms inference, 0.8ms postprocess per image at shape (1, 3, 160, 1728)\n"
          ]
        },
        {
          "output_type": "stream",
          "name": "stderr",
          "text": [
            "0it [00:00, ?it/s]\n"
          ]
        },
        {
          "output_type": "stream",
          "name": "stdout",
          "text": [
            "\n",
            "WARNING ⚠️ imgsz=[107, 1728] must be multiple of max stride 32, updating to [128, 1728]\n",
            "0: 128x1728 (no detections), 197.4ms\n",
            "Speed: 2.1ms preprocess, 197.4ms inference, 0.7ms postprocess per image at shape (1, 3, 128, 1728)\n"
          ]
        },
        {
          "output_type": "stream",
          "name": "stderr",
          "text": [
            "0it [00:00, ?it/s]"
          ]
        },
        {
          "output_type": "stream",
          "name": "stdout",
          "text": [
            "\n",
            "WARNING ⚠️ imgsz=[259, 768] must be multiple of max stride 32, updating to [288, 768]\n"
          ]
        },
        {
          "output_type": "stream",
          "name": "stderr",
          "text": [
            "\n"
          ]
        },
        {
          "output_type": "stream",
          "name": "stdout",
          "text": [
            "0: 288x768 (no detections), 213.3ms\n",
            "Speed: 2.1ms preprocess, 213.3ms inference, 0.8ms postprocess per image at shape (1, 3, 288, 768)\n"
          ]
        },
        {
          "output_type": "stream",
          "name": "stderr",
          "text": [
            "0it [00:00, ?it/s]"
          ]
        },
        {
          "output_type": "stream",
          "name": "stdout",
          "text": [
            "\n",
            "WARNING ⚠️ imgsz=[131, 768] must be multiple of max stride 32, updating to [160, 768]\n"
          ]
        },
        {
          "output_type": "stream",
          "name": "stderr",
          "text": [
            "\n"
          ]
        },
        {
          "output_type": "stream",
          "name": "stdout",
          "text": [
            "0: 160x768 (no detections), 122.8ms\n",
            "Speed: 1.4ms preprocess, 122.8ms inference, 0.8ms postprocess per image at shape (1, 3, 160, 768)\n"
          ]
        },
        {
          "output_type": "stream",
          "name": "stderr",
          "text": [
            "0it [00:00, ?it/s]"
          ]
        },
        {
          "output_type": "stream",
          "name": "stdout",
          "text": [
            "\n",
            "WARNING ⚠️ imgsz=[141, 768] must be multiple of max stride 32, updating to [160, 768]\n"
          ]
        },
        {
          "output_type": "stream",
          "name": "stderr",
          "text": [
            "\n"
          ]
        },
        {
          "output_type": "stream",
          "name": "stdout",
          "text": [
            "0: 160x768 (no detections), 114.5ms\n",
            "Speed: 1.2ms preprocess, 114.5ms inference, 1.2ms postprocess per image at shape (1, 3, 160, 768)\n"
          ]
        },
        {
          "output_type": "stream",
          "name": "stderr",
          "text": [
            "0it [00:00, ?it/s]\n"
          ]
        },
        {
          "output_type": "stream",
          "name": "stdout",
          "text": [
            "\n",
            "WARNING ⚠️ imgsz=[1086, 768] must be multiple of max stride 32, updating to [1088, 768]\n",
            "0: 1088x768 (no detections), 732.0ms\n",
            "Speed: 6.3ms preprocess, 732.0ms inference, 0.8ms postprocess per image at shape (1, 3, 1088, 768)\n"
          ]
        },
        {
          "output_type": "stream",
          "name": "stderr",
          "text": [
            "0it [00:00, ?it/s]\n"
          ]
        },
        {
          "output_type": "stream",
          "name": "stdout",
          "text": [
            "\n",
            "WARNING ⚠️ imgsz=[1086, 768] must be multiple of max stride 32, updating to [1088, 768]\n",
            "0: 1088x768 (no detections), 682.0ms\n",
            "Speed: 6.3ms preprocess, 682.0ms inference, 0.8ms postprocess per image at shape (1, 3, 1088, 768)\n"
          ]
        },
        {
          "output_type": "stream",
          "name": "stderr",
          "text": [
            "0it [00:00, ?it/s]\n"
          ]
        },
        {
          "output_type": "stream",
          "name": "stdout",
          "text": [
            "\n",
            "WARNING ⚠️ imgsz=[294, 768] must be multiple of max stride 32, updating to [320, 768]\n",
            "0: 320x768 1 isolated, 218.4ms\n",
            "Speed: 1.9ms preprocess, 218.4ms inference, 9.6ms postprocess per image at shape (1, 3, 320, 768)\n"
          ]
        },
        {
          "output_type": "stream",
          "name": "stderr",
          "text": [
            "100%|██████████| 1/1 [00:00<00:00,  1.85it/s]"
          ]
        },
        {
          "output_type": "stream",
          "name": "stdout",
          "text": [
            "\n",
            "WARNING ⚠️ imgsz=[504, 768] must be multiple of max stride 32, updating to [512, 768]\n"
          ]
        },
        {
          "output_type": "stream",
          "name": "stderr",
          "text": [
            "\n"
          ]
        },
        {
          "output_type": "stream",
          "name": "stdout",
          "text": [
            "0: 512x768 1 isolated, 336.6ms\n",
            "Speed: 2.5ms preprocess, 336.6ms inference, 1.5ms postprocess per image at shape (1, 3, 512, 768)\n"
          ]
        },
        {
          "output_type": "stream",
          "name": "stderr",
          "text": [
            "100%|██████████| 1/1 [00:00<00:00,  1.40it/s]\n"
          ]
        },
        {
          "output_type": "stream",
          "name": "stdout",
          "text": [
            "\n",
            "0: 128x1728 (no detections), 174.5ms\n",
            "Speed: 2.5ms preprocess, 174.5ms inference, 1.0ms postprocess per image at shape (1, 3, 128, 1728)\n"
          ]
        },
        {
          "output_type": "stream",
          "name": "stderr",
          "text": [
            "0it [00:00, ?it/s]\n"
          ]
        },
        {
          "output_type": "stream",
          "name": "stdout",
          "text": [
            "\n",
            "WARNING ⚠️ imgsz=[149, 1728] must be multiple of max stride 32, updating to [160, 1728]\n",
            "0: 160x1728 (no detections), 243.1ms\n",
            "Speed: 2.8ms preprocess, 243.1ms inference, 0.8ms postprocess per image at shape (1, 3, 160, 1728)\n"
          ]
        },
        {
          "output_type": "stream",
          "name": "stderr",
          "text": [
            "0it [00:00, ?it/s]"
          ]
        },
        {
          "output_type": "stream",
          "name": "stdout",
          "text": [
            "\n",
            "WARNING ⚠️ imgsz=[116, 768] must be multiple of max stride 32, updating to [128, 768]\n"
          ]
        },
        {
          "output_type": "stream",
          "name": "stderr",
          "text": [
            "\n"
          ]
        },
        {
          "output_type": "stream",
          "name": "stdout",
          "text": [
            "0: 128x768 (no detections), 102.8ms\n",
            "Speed: 1.3ms preprocess, 102.8ms inference, 0.8ms postprocess per image at shape (1, 3, 128, 768)\n"
          ]
        },
        {
          "output_type": "stream",
          "name": "stderr",
          "text": [
            "0it [00:00, ?it/s]"
          ]
        },
        {
          "output_type": "stream",
          "name": "stdout",
          "text": [
            "\n",
            "WARNING ⚠️ imgsz=[112, 1152] must be multiple of max stride 32, updating to [128, 1152]\n"
          ]
        },
        {
          "output_type": "stream",
          "name": "stderr",
          "text": [
            "\n"
          ]
        },
        {
          "output_type": "stream",
          "name": "stdout",
          "text": [
            "0: 128x1152 (no detections), 138.7ms\n",
            "Speed: 1.6ms preprocess, 138.7ms inference, 1.0ms postprocess per image at shape (1, 3, 128, 1152)\n"
          ]
        },
        {
          "output_type": "stream",
          "name": "stderr",
          "text": [
            "0it [00:00, ?it/s]\n"
          ]
        },
        {
          "output_type": "stream",
          "name": "stdout",
          "text": [
            "\n",
            "WARNING ⚠️ imgsz=[144, 1728] must be multiple of max stride 32, updating to [160, 1728]\n",
            "0: 160x1728 (no detections), 412.0ms\n",
            "Speed: 2.7ms preprocess, 412.0ms inference, 1.0ms postprocess per image at shape (1, 3, 160, 1728)\n"
          ]
        },
        {
          "output_type": "stream",
          "name": "stderr",
          "text": [
            "0it [00:00, ?it/s]\n"
          ]
        },
        {
          "output_type": "stream",
          "name": "stdout",
          "text": [
            "\n",
            "WARNING ⚠️ imgsz=[108, 1728] must be multiple of max stride 32, updating to [128, 1728]\n",
            "0: 128x1728 (no detections), 269.8ms\n",
            "Speed: 2.3ms preprocess, 269.8ms inference, 0.9ms postprocess per image at shape (1, 3, 128, 1728)\n"
          ]
        },
        {
          "output_type": "stream",
          "name": "stderr",
          "text": [
            "0it [00:00, ?it/s]"
          ]
        },
        {
          "output_type": "stream",
          "name": "stdout",
          "text": [
            "\n",
            "WARNING ⚠️ imgsz=[144, 768] must be multiple of max stride 32, updating to [160, 768]\n"
          ]
        },
        {
          "output_type": "stream",
          "name": "stderr",
          "text": [
            "\n"
          ]
        },
        {
          "output_type": "stream",
          "name": "stdout",
          "text": [
            "0: 160x768 (no detections), 142.6ms\n",
            "Speed: 1.2ms preprocess, 142.6ms inference, 0.9ms postprocess per image at shape (1, 3, 160, 768)\n"
          ]
        },
        {
          "output_type": "stream",
          "name": "stderr",
          "text": [
            "0it [00:00, ?it/s]"
          ]
        },
        {
          "output_type": "stream",
          "name": "stdout",
          "text": [
            "\n",
            "WARNING ⚠️ imgsz=[91, 1152] must be multiple of max stride 32, updating to [96, 1152]\n"
          ]
        },
        {
          "output_type": "stream",
          "name": "stderr",
          "text": [
            "\n"
          ]
        },
        {
          "output_type": "stream",
          "name": "stdout",
          "text": [
            "0: 96x1152 (no detections), 151.3ms\n",
            "Speed: 1.4ms preprocess, 151.3ms inference, 0.9ms postprocess per image at shape (1, 3, 96, 1152)\n"
          ]
        },
        {
          "output_type": "stream",
          "name": "stderr",
          "text": [
            "0it [00:00, ?it/s]"
          ]
        },
        {
          "output_type": "stream",
          "name": "stdout",
          "text": [
            "\n",
            "WARNING ⚠️ imgsz=[93, 1152] must be multiple of max stride 32, updating to [96, 1152]\n"
          ]
        },
        {
          "output_type": "stream",
          "name": "stderr",
          "text": [
            "\n"
          ]
        },
        {
          "output_type": "stream",
          "name": "stdout",
          "text": [
            "0: 96x1152 (no detections), 172.1ms\n",
            "Speed: 1.5ms preprocess, 172.1ms inference, 0.9ms postprocess per image at shape (1, 3, 96, 1152)\n"
          ]
        },
        {
          "output_type": "stream",
          "name": "stderr",
          "text": [
            "0it [00:00, ?it/s]"
          ]
        },
        {
          "output_type": "stream",
          "name": "stdout",
          "text": [
            "\n",
            "WARNING ⚠️ imgsz=[88, 768] must be multiple of max stride 32, updating to [96, 768]\n"
          ]
        },
        {
          "output_type": "stream",
          "name": "stderr",
          "text": [
            "\n"
          ]
        },
        {
          "output_type": "stream",
          "name": "stdout",
          "text": [
            "0: 96x768 (no detections), 96.0ms\n",
            "Speed: 1.9ms preprocess, 96.0ms inference, 0.9ms postprocess per image at shape (1, 3, 96, 768)\n"
          ]
        },
        {
          "output_type": "stream",
          "name": "stderr",
          "text": [
            "0it [00:00, ?it/s]\n"
          ]
        },
        {
          "output_type": "stream",
          "name": "stdout",
          "text": [
            "\n",
            "WARNING ⚠️ imgsz=[147, 1728] must be multiple of max stride 32, updating to [160, 1728]\n",
            "0: 160x1728 (no detections), 344.6ms\n",
            "Speed: 2.9ms preprocess, 344.6ms inference, 1.0ms postprocess per image at shape (1, 3, 160, 1728)\n"
          ]
        },
        {
          "output_type": "stream",
          "name": "stderr",
          "text": [
            "0it [00:00, ?it/s]\n"
          ]
        },
        {
          "output_type": "stream",
          "name": "stdout",
          "text": [
            "\n",
            "WARNING ⚠️ imgsz=[156, 1728] must be multiple of max stride 32, updating to [160, 1728]\n",
            "0: 160x1728 (no detections), 369.3ms\n",
            "Speed: 2.8ms preprocess, 369.3ms inference, 2.6ms postprocess per image at shape (1, 3, 160, 1728)\n"
          ]
        },
        {
          "output_type": "stream",
          "name": "stderr",
          "text": [
            "0it [00:00, ?it/s]\n"
          ]
        },
        {
          "output_type": "stream",
          "name": "stdout",
          "text": [
            "\n",
            "WARNING ⚠️ imgsz=[76, 768] must be multiple of max stride 32, updating to [96, 768]\n",
            "0: 96x768 (no detections), 109.9ms\n",
            "Speed: 1.1ms preprocess, 109.9ms inference, 1.0ms postprocess per image at shape (1, 3, 96, 768)\n"
          ]
        },
        {
          "output_type": "stream",
          "name": "stderr",
          "text": [
            "0it [00:00, ?it/s]"
          ]
        },
        {
          "output_type": "stream",
          "name": "stdout",
          "text": [
            "\n",
            "WARNING ⚠️ imgsz=[137, 768] must be multiple of max stride 32, updating to [160, 768]\n"
          ]
        },
        {
          "output_type": "stream",
          "name": "stderr",
          "text": [
            "\n"
          ]
        },
        {
          "output_type": "stream",
          "name": "stdout",
          "text": [
            "0: 160x768 (no detections), 166.1ms\n",
            "Speed: 1.3ms preprocess, 166.1ms inference, 1.1ms postprocess per image at shape (1, 3, 160, 768)\n"
          ]
        },
        {
          "output_type": "stream",
          "name": "stderr",
          "text": [
            "0it [00:00, ?it/s]\n"
          ]
        },
        {
          "output_type": "stream",
          "name": "stdout",
          "text": [
            "\n",
            "WARNING ⚠️ imgsz=[140, 1728] must be multiple of max stride 32, updating to [160, 1728]\n",
            "0: 160x1728 (no detections), 337.3ms\n",
            "Speed: 2.9ms preprocess, 337.3ms inference, 1.0ms postprocess per image at shape (1, 3, 160, 1728)\n"
          ]
        },
        {
          "output_type": "stream",
          "name": "stderr",
          "text": [
            "0it [00:00, ?it/s]\n"
          ]
        },
        {
          "output_type": "stream",
          "name": "stdout",
          "text": [
            "\n",
            "WARNING ⚠️ imgsz=[123, 768] must be multiple of max stride 32, updating to [128, 768]\n",
            "0: 128x768 (no detections), 142.4ms\n",
            "Speed: 1.5ms preprocess, 142.4ms inference, 0.9ms postprocess per image at shape (1, 3, 128, 768)\n"
          ]
        },
        {
          "output_type": "stream",
          "name": "stderr",
          "text": [
            "0it [00:00, ?it/s]"
          ]
        },
        {
          "output_type": "stream",
          "name": "stdout",
          "text": [
            "\n",
            "WARNING ⚠️ imgsz=[272, 768] must be multiple of max stride 32, updating to [288, 768]\n"
          ]
        },
        {
          "output_type": "stream",
          "name": "stderr",
          "text": [
            "\n"
          ]
        },
        {
          "output_type": "stream",
          "name": "stdout",
          "text": [
            "0: 288x768 (no detections), 288.2ms\n",
            "Speed: 2.7ms preprocess, 288.2ms inference, 1.0ms postprocess per image at shape (1, 3, 288, 768)\n"
          ]
        },
        {
          "output_type": "stream",
          "name": "stderr",
          "text": [
            "0it [00:00, ?it/s]\n"
          ]
        },
        {
          "output_type": "stream",
          "name": "stdout",
          "text": [
            "\n",
            "WARNING ⚠️ imgsz=[144, 1728] must be multiple of max stride 32, updating to [160, 1728]\n",
            "0: 160x1728 (no detections), 366.2ms\n",
            "Speed: 4.9ms preprocess, 366.2ms inference, 0.9ms postprocess per image at shape (1, 3, 160, 1728)\n"
          ]
        },
        {
          "output_type": "stream",
          "name": "stderr",
          "text": [
            "0it [00:00, ?it/s]\n"
          ]
        },
        {
          "output_type": "stream",
          "name": "stdout",
          "text": [
            "\n",
            "WARNING ⚠️ imgsz=[78, 768] must be multiple of max stride 32, updating to [96, 768]\n",
            "0: 96x768 1 isolated, 86.5ms\n",
            "Speed: 1.0ms preprocess, 86.5ms inference, 2.0ms postprocess per image at shape (1, 3, 96, 768)\n"
          ]
        },
        {
          "output_type": "stream",
          "name": "stderr",
          "text": [
            "100%|██████████| 1/1 [00:23<00:00, 23.74s/it]"
          ]
        },
        {
          "output_type": "stream",
          "name": "stdout",
          "text": [
            "\n",
            "WARNING ⚠️ imgsz=[129, 768] must be multiple of max stride 32, updating to [160, 768]\n",
            "0: 160x768 (no detections), 110.3ms\n",
            "Speed: 1.3ms preprocess, 110.3ms inference, 0.7ms postprocess per image at shape (1, 3, 160, 768)\n"
          ]
        },
        {
          "output_type": "stream",
          "name": "stderr",
          "text": [
            "\n",
            "0it [00:00, ?it/s]\n"
          ]
        },
        {
          "output_type": "stream",
          "name": "stdout",
          "text": [
            "\n",
            "WARNING ⚠️ imgsz=[516, 768] must be multiple of max stride 32, updating to [544, 768]\n",
            "0: 544x768 1 isolated, 354.0ms\n",
            "Speed: 2.8ms preprocess, 354.0ms inference, 1.5ms postprocess per image at shape (1, 3, 544, 768)\n"
          ]
        },
        {
          "output_type": "stream",
          "name": "stderr",
          "text": [
            "100%|██████████| 1/1 [00:00<00:00,  1.41it/s]\n"
          ]
        },
        {
          "output_type": "stream",
          "name": "stdout",
          "text": [
            "\n",
            "WARNING ⚠️ imgsz=[1086, 768] must be multiple of max stride 32, updating to [1088, 768]\n",
            "0: 1088x768 1 embedding, 687.1ms\n",
            "Speed: 6.6ms preprocess, 687.1ms inference, 1.5ms postprocess per image at shape (1, 3, 1088, 768)\n"
          ]
        },
        {
          "output_type": "stream",
          "name": "stderr",
          "text": [
            "100%|██████████| 1/1 [00:00<00:00,  2.20it/s]\n"
          ]
        },
        {
          "output_type": "stream",
          "name": "stdout",
          "text": [
            "\n",
            "WARNING ⚠️ imgsz=[178, 768] must be multiple of max stride 32, updating to [192, 768]\n",
            "0: 192x768 (no detections), 166.9ms\n",
            "Speed: 1.5ms preprocess, 166.9ms inference, 0.7ms postprocess per image at shape (1, 3, 192, 768)\n"
          ]
        },
        {
          "output_type": "stream",
          "name": "stderr",
          "text": [
            "0it [00:00, ?it/s]"
          ]
        },
        {
          "output_type": "stream",
          "name": "stdout",
          "text": [
            "\n",
            "WARNING ⚠️ imgsz=[186, 768] must be multiple of max stride 32, updating to [192, 768]\n"
          ]
        },
        {
          "output_type": "stream",
          "name": "stderr",
          "text": [
            "\n"
          ]
        },
        {
          "output_type": "stream",
          "name": "stdout",
          "text": [
            "0: 192x768 (no detections), 159.2ms\n",
            "Speed: 1.4ms preprocess, 159.2ms inference, 0.8ms postprocess per image at shape (1, 3, 192, 768)\n"
          ]
        },
        {
          "output_type": "stream",
          "name": "stderr",
          "text": [
            "0it [00:00, ?it/s]"
          ]
        },
        {
          "output_type": "stream",
          "name": "stdout",
          "text": [
            "\n",
            "WARNING ⚠️ imgsz=[102, 1728] must be multiple of max stride 32, updating to [128, 1728]\n"
          ]
        },
        {
          "output_type": "stream",
          "name": "stderr",
          "text": [
            "\n"
          ]
        },
        {
          "output_type": "stream",
          "name": "stdout",
          "text": [
            "0: 128x1728 (no detections), 201.4ms\n",
            "Speed: 2.0ms preprocess, 201.4ms inference, 0.7ms postprocess per image at shape (1, 3, 128, 1728)\n"
          ]
        },
        {
          "output_type": "stream",
          "name": "stderr",
          "text": [
            "0it [00:00, ?it/s]"
          ]
        },
        {
          "output_type": "stream",
          "name": "stdout",
          "text": [
            "\n",
            "WARNING ⚠️ imgsz=[153, 1728] must be multiple of max stride 32, updating to [160, 1728]\n"
          ]
        },
        {
          "output_type": "stream",
          "name": "stderr",
          "text": [
            "\n"
          ]
        },
        {
          "output_type": "stream",
          "name": "stdout",
          "text": [
            "0: 160x1728 (no detections), 237.1ms\n",
            "Speed: 2.8ms preprocess, 237.1ms inference, 0.9ms postprocess per image at shape (1, 3, 160, 1728)\n"
          ]
        },
        {
          "output_type": "stream",
          "name": "stderr",
          "text": [
            "0it [00:00, ?it/s]\n"
          ]
        },
        {
          "output_type": "stream",
          "name": "stdout",
          "text": [
            "\n",
            "WARNING ⚠️ imgsz=[111, 1152] must be multiple of max stride 32, updating to [128, 1152]\n",
            "0: 128x1152 (no detections), 127.2ms\n",
            "Speed: 1.8ms preprocess, 127.2ms inference, 1.0ms postprocess per image at shape (1, 3, 128, 1152)\n"
          ]
        },
        {
          "output_type": "stream",
          "name": "stderr",
          "text": [
            "0it [00:00, ?it/s]"
          ]
        },
        {
          "output_type": "stream",
          "name": "stdout",
          "text": [
            "\n",
            "WARNING ⚠️ imgsz=[106, 1152] must be multiple of max stride 32, updating to [128, 1152]\n"
          ]
        },
        {
          "output_type": "stream",
          "name": "stderr",
          "text": [
            "\n"
          ]
        },
        {
          "output_type": "stream",
          "name": "stdout",
          "text": [
            "0: 128x1152 (no detections), 135.0ms\n",
            "Speed: 1.7ms preprocess, 135.0ms inference, 0.7ms postprocess per image at shape (1, 3, 128, 1152)\n"
          ]
        },
        {
          "output_type": "stream",
          "name": "stderr",
          "text": [
            "0it [00:00, ?it/s]"
          ]
        },
        {
          "output_type": "stream",
          "name": "stdout",
          "text": [
            "\n",
            "WARNING ⚠️ imgsz=[87, 1152] must be multiple of max stride 32, updating to [96, 1152]\n"
          ]
        },
        {
          "output_type": "stream",
          "name": "stderr",
          "text": [
            "\n"
          ]
        },
        {
          "output_type": "stream",
          "name": "stdout",
          "text": [
            "0: 96x1152 (no detections), 104.3ms\n",
            "Speed: 1.5ms preprocess, 104.3ms inference, 0.8ms postprocess per image at shape (1, 3, 96, 1152)\n"
          ]
        },
        {
          "output_type": "stream",
          "name": "stderr",
          "text": [
            "0it [00:00, ?it/s]"
          ]
        },
        {
          "output_type": "stream",
          "name": "stdout",
          "text": [
            "\n",
            "WARNING ⚠️ imgsz=[100, 1152] must be multiple of max stride 32, updating to [128, 1152]\n"
          ]
        },
        {
          "output_type": "stream",
          "name": "stderr",
          "text": [
            "\n"
          ]
        },
        {
          "output_type": "stream",
          "name": "stdout",
          "text": [
            "0: 128x1152 (no detections), 145.5ms\n",
            "Speed: 1.6ms preprocess, 145.5ms inference, 1.0ms postprocess per image at shape (1, 3, 128, 1152)\n"
          ]
        },
        {
          "output_type": "stream",
          "name": "stderr",
          "text": [
            "0it [00:00, ?it/s]"
          ]
        },
        {
          "output_type": "stream",
          "name": "stdout",
          "text": [
            "\n",
            "WARNING ⚠️ imgsz=[119, 1728] must be multiple of max stride 32, updating to [128, 1728]\n"
          ]
        },
        {
          "output_type": "stream",
          "name": "stderr",
          "text": [
            "\n"
          ]
        },
        {
          "output_type": "stream",
          "name": "stdout",
          "text": [
            "0: 128x1728 (no detections), 198.0ms\n",
            "Speed: 2.3ms preprocess, 198.0ms inference, 0.8ms postprocess per image at shape (1, 3, 128, 1728)\n"
          ]
        },
        {
          "output_type": "stream",
          "name": "stderr",
          "text": [
            "0it [00:00, ?it/s]"
          ]
        },
        {
          "output_type": "stream",
          "name": "stdout",
          "text": [
            "\n",
            "WARNING ⚠️ imgsz=[82, 768] must be multiple of max stride 32, updating to [96, 768]\n"
          ]
        },
        {
          "output_type": "stream",
          "name": "stderr",
          "text": [
            "\n"
          ]
        },
        {
          "output_type": "stream",
          "name": "stdout",
          "text": [
            "0: 96x768 (no detections), 80.7ms\n",
            "Speed: 1.0ms preprocess, 80.7ms inference, 0.7ms postprocess per image at shape (1, 3, 96, 768)\n"
          ]
        },
        {
          "output_type": "stream",
          "name": "stderr",
          "text": [
            "0it [00:00, ?it/s]"
          ]
        },
        {
          "output_type": "stream",
          "name": "stdout",
          "text": [
            "\n",
            "WARNING ⚠️ imgsz=[93, 1152] must be multiple of max stride 32, updating to [96, 1152]\n"
          ]
        },
        {
          "output_type": "stream",
          "name": "stderr",
          "text": [
            "\n"
          ]
        },
        {
          "output_type": "stream",
          "name": "stdout",
          "text": [
            "0: 96x1152 (no detections), 102.3ms\n",
            "Speed: 1.4ms preprocess, 102.3ms inference, 1.0ms postprocess per image at shape (1, 3, 96, 1152)\n"
          ]
        },
        {
          "output_type": "stream",
          "name": "stderr",
          "text": [
            "0it [00:00, ?it/s]\n"
          ]
        },
        {
          "output_type": "stream",
          "name": "stdout",
          "text": [
            "\n",
            "WARNING ⚠️ imgsz=[144, 1728] must be multiple of max stride 32, updating to [160, 1728]\n",
            "0: 160x1728 (no detections), 230.7ms\n",
            "Speed: 2.7ms preprocess, 230.7ms inference, 0.7ms postprocess per image at shape (1, 3, 160, 1728)\n"
          ]
        },
        {
          "output_type": "stream",
          "name": "stderr",
          "text": [
            "0it [00:00, ?it/s]\n"
          ]
        },
        {
          "output_type": "stream",
          "name": "stdout",
          "text": [
            "\n",
            "WARNING ⚠️ imgsz=[124, 768] must be multiple of max stride 32, updating to [128, 768]\n",
            "0: 128x768 (no detections), 100.9ms\n",
            "Speed: 1.1ms preprocess, 100.9ms inference, 0.7ms postprocess per image at shape (1, 3, 128, 768)\n"
          ]
        },
        {
          "output_type": "stream",
          "name": "stderr",
          "text": [
            "0it [00:00, ?it/s]"
          ]
        },
        {
          "output_type": "stream",
          "name": "stdout",
          "text": [
            "\n",
            "WARNING ⚠️ imgsz=[184, 768] must be multiple of max stride 32, updating to [192, 768]\n"
          ]
        },
        {
          "output_type": "stream",
          "name": "stderr",
          "text": [
            "\n"
          ]
        },
        {
          "output_type": "stream",
          "name": "stdout",
          "text": [
            "0: 192x768 1 embedding, 139.6ms\n",
            "Speed: 1.5ms preprocess, 139.6ms inference, 1.6ms postprocess per image at shape (1, 3, 192, 768)\n"
          ]
        },
        {
          "output_type": "stream",
          "name": "stderr",
          "text": [
            "100%|██████████| 1/1 [00:00<00:00,  2.20it/s]"
          ]
        },
        {
          "output_type": "stream",
          "name": "stdout",
          "text": [
            "\n",
            "WARNING ⚠️ imgsz=[239, 768] must be multiple of max stride 32, updating to [256, 768]\n"
          ]
        },
        {
          "output_type": "stream",
          "name": "stderr",
          "text": [
            "\n"
          ]
        },
        {
          "output_type": "stream",
          "name": "stdout",
          "text": [
            "0: 256x768 1 embedding, 175.3ms\n",
            "Speed: 1.8ms preprocess, 175.3ms inference, 1.7ms postprocess per image at shape (1, 3, 256, 768)\n"
          ]
        },
        {
          "output_type": "stream",
          "name": "stderr",
          "text": [
            "100%|██████████| 1/1 [00:00<00:00,  1.59it/s]"
          ]
        },
        {
          "output_type": "stream",
          "name": "stdout",
          "text": [
            "\n",
            "WARNING ⚠️ imgsz=[150, 1728] must be multiple of max stride 32, updating to [160, 1728]\n"
          ]
        },
        {
          "output_type": "stream",
          "name": "stderr",
          "text": [
            "\n"
          ]
        },
        {
          "output_type": "stream",
          "name": "stdout",
          "text": [
            "0: 160x1728 (no detections), 213.7ms\n",
            "Speed: 3.4ms preprocess, 213.7ms inference, 0.8ms postprocess per image at shape (1, 3, 160, 1728)\n"
          ]
        },
        {
          "output_type": "stream",
          "name": "stderr",
          "text": [
            "0it [00:00, ?it/s]\n"
          ]
        },
        {
          "output_type": "stream",
          "name": "stdout",
          "text": [
            "\n",
            "WARNING ⚠️ imgsz=[102, 1728] must be multiple of max stride 32, updating to [128, 1728]\n",
            "0: 128x1728 (no detections), 191.6ms\n",
            "Speed: 2.4ms preprocess, 191.6ms inference, 1.0ms postprocess per image at shape (1, 3, 128, 1728)\n"
          ]
        },
        {
          "output_type": "stream",
          "name": "stderr",
          "text": [
            "0it [00:00, ?it/s]\n"
          ]
        },
        {
          "output_type": "stream",
          "name": "stdout",
          "text": [
            "\n",
            "WARNING ⚠️ imgsz=[179, 1728] must be multiple of max stride 32, updating to [192, 1728]\n",
            "0: 192x1728 1 embedding, 399.5ms\n",
            "Speed: 3.4ms preprocess, 399.5ms inference, 2.0ms postprocess per image at shape (1, 3, 192, 1728)\n"
          ]
        },
        {
          "output_type": "stream",
          "name": "stderr",
          "text": [
            "100%|██████████| 1/1 [00:00<00:00,  1.27it/s]\n"
          ]
        },
        {
          "output_type": "stream",
          "name": "stdout",
          "text": [
            "\n",
            "WARNING ⚠️ imgsz=[87, 1152] must be multiple of max stride 32, updating to [96, 1152]\n",
            "0: 96x1152 (no detections), 144.0ms\n",
            "Speed: 1.3ms preprocess, 144.0ms inference, 1.0ms postprocess per image at shape (1, 3, 96, 1152)\n"
          ]
        },
        {
          "output_type": "stream",
          "name": "stderr",
          "text": [
            "0it [00:00, ?it/s]"
          ]
        },
        {
          "output_type": "stream",
          "name": "stdout",
          "text": [
            "\n",
            "WARNING ⚠️ imgsz=[110, 1152] must be multiple of max stride 32, updating to [128, 1152]\n"
          ]
        },
        {
          "output_type": "stream",
          "name": "stderr",
          "text": [
            "\n"
          ]
        },
        {
          "output_type": "stream",
          "name": "stdout",
          "text": [
            "0: 128x1152 (no detections), 211.4ms\n",
            "Speed: 2.5ms preprocess, 211.4ms inference, 1.1ms postprocess per image at shape (1, 3, 128, 1152)\n"
          ]
        },
        {
          "output_type": "stream",
          "name": "stderr",
          "text": [
            "0it [00:00, ?it/s]"
          ]
        },
        {
          "output_type": "stream",
          "name": "stdout",
          "text": [
            "\n",
            "WARNING ⚠️ imgsz=[103, 1152] must be multiple of max stride 32, updating to [128, 1152]\n"
          ]
        },
        {
          "output_type": "stream",
          "name": "stderr",
          "text": [
            "\n"
          ]
        },
        {
          "output_type": "stream",
          "name": "stdout",
          "text": [
            "0: 128x1152 (no detections), 202.2ms\n",
            "Speed: 1.5ms preprocess, 202.2ms inference, 1.1ms postprocess per image at shape (1, 3, 128, 1152)\n"
          ]
        },
        {
          "output_type": "stream",
          "name": "stderr",
          "text": [
            "0it [00:00, ?it/s]"
          ]
        },
        {
          "output_type": "stream",
          "name": "stdout",
          "text": [
            "\n",
            "WARNING ⚠️ imgsz=[98, 768] must be multiple of max stride 32, updating to [128, 768]\n"
          ]
        },
        {
          "output_type": "stream",
          "name": "stderr",
          "text": [
            "\n"
          ]
        },
        {
          "output_type": "stream",
          "name": "stdout",
          "text": [
            "0: 128x768 (no detections), 133.8ms\n",
            "Speed: 1.2ms preprocess, 133.8ms inference, 1.1ms postprocess per image at shape (1, 3, 128, 768)\n"
          ]
        },
        {
          "output_type": "stream",
          "name": "stderr",
          "text": [
            "0it [00:00, ?it/s]"
          ]
        },
        {
          "output_type": "stream",
          "name": "stdout",
          "text": [
            "\n",
            "WARNING ⚠️ imgsz=[179, 768] must be multiple of max stride 32, updating to [192, 768]\n"
          ]
        },
        {
          "output_type": "stream",
          "name": "stderr",
          "text": [
            "\n"
          ]
        },
        {
          "output_type": "stream",
          "name": "stdout",
          "text": [
            "0: 192x768 (no detections), 197.1ms\n",
            "Speed: 1.5ms preprocess, 197.1ms inference, 1.0ms postprocess per image at shape (1, 3, 192, 768)\n"
          ]
        },
        {
          "output_type": "stream",
          "name": "stderr",
          "text": [
            "0it [00:00, ?it/s]"
          ]
        },
        {
          "output_type": "stream",
          "name": "stdout",
          "text": [
            "\n",
            "WARNING ⚠️ imgsz=[173, 768] must be multiple of max stride 32, updating to [192, 768]\n"
          ]
        },
        {
          "output_type": "stream",
          "name": "stderr",
          "text": [
            "\n"
          ]
        },
        {
          "output_type": "stream",
          "name": "stdout",
          "text": [
            "0: 192x768 (no detections), 186.6ms\n",
            "Speed: 1.5ms preprocess, 186.6ms inference, 1.0ms postprocess per image at shape (1, 3, 192, 768)\n"
          ]
        },
        {
          "output_type": "stream",
          "name": "stderr",
          "text": [
            "0it [00:00, ?it/s]"
          ]
        },
        {
          "output_type": "stream",
          "name": "stdout",
          "text": [
            "\n",
            "WARNING ⚠️ imgsz=[212, 768] must be multiple of max stride 32, updating to [224, 768]\n"
          ]
        },
        {
          "output_type": "stream",
          "name": "stderr",
          "text": [
            "\n"
          ]
        },
        {
          "output_type": "stream",
          "name": "stdout",
          "text": [
            "0: 224x768 (no detections), 220.3ms\n",
            "Speed: 1.7ms preprocess, 220.3ms inference, 1.0ms postprocess per image at shape (1, 3, 224, 768)\n"
          ]
        },
        {
          "output_type": "stream",
          "name": "stderr",
          "text": [
            "0it [00:00, ?it/s]"
          ]
        },
        {
          "output_type": "stream",
          "name": "stdout",
          "text": [
            "\n"
          ]
        },
        {
          "output_type": "stream",
          "name": "stderr",
          "text": [
            "\n"
          ]
        },
        {
          "output_type": "stream",
          "name": "stdout",
          "text": [
            "0: 160x768 1 embedding, 168.2ms\n",
            "Speed: 1.1ms preprocess, 168.2ms inference, 2.2ms postprocess per image at shape (1, 3, 160, 768)\n"
          ]
        },
        {
          "output_type": "stream",
          "name": "stderr",
          "text": [
            "100%|██████████| 1/1 [00:00<00:00,  1.29it/s]\n"
          ]
        },
        {
          "output_type": "stream",
          "name": "stdout",
          "text": [
            "\n",
            "WARNING ⚠️ imgsz=[1086, 768] must be multiple of max stride 32, updating to [1088, 768]\n",
            "0: 1088x768 1 embedding, 671.6ms\n",
            "Speed: 6.1ms preprocess, 671.6ms inference, 1.6ms postprocess per image at shape (1, 3, 1088, 768)\n"
          ]
        },
        {
          "output_type": "stream",
          "name": "stderr",
          "text": [
            "100%|██████████| 1/1 [00:00<00:00,  1.64it/s]\n"
          ]
        },
        {
          "output_type": "execute_result",
          "data": {
            "text/plain": [
              "'## 广东省政府采购\\n\\n## 公开舒标文件\\n\\n1uan,8S\\n\\n采购计划编号:440001-2024-21835\\n\\n采购项目编号:0835---240752802841\\n\\n项目名称：典型受污染耕地土壤环境质量类别加密调查与评价调整\\n\\n采购人：广东省农业环境与耕地质量保护中心（广东省农业农村投资项目中心）\\n\\n采购代理机构:广东元正招标采购有限公司\\n\\n$$\\n- \\\\stackrel{\\\\gets} {\\\\Pi} \\\\mathbf{1} \\\\stackrel{\\\\pi} {\\\\Pi}-\\n$$\\n\\n## 第一章投标邀请\\n\\n广东元正招标采购有限公司受广东省农业环境与耕地质量保护中心（广东省农业农村投资项目中心）的委托，采用公开招标方式组织采购典型受污染耕地土壤环境质量类别加密调查与评价调整。欢迎符合资格条件的国内供应商参加投标。\\n\\n## 一.项目概述\\n\\n## 1.名称与编号\\n\\n宽字出心\\n\\n$$\\n2 \\\\pi^{\\\\prime} H^{\\\\prime} H^{\\\\prime} H^{\\\\prime} \\\\equiv\\\\frac{1} {2} \\\\pm\\\\frac{1} {2} \\\\pm\\\\frac{1} {2} \\\\pm\\\\frac{1} {2} \\\\pm\\\\frac{1} {2} \\\\pm\\\\frac{1} {2} \\\\pm\\\\frac{1} {2} \\\\pm\\\\frac{1} {2} \\\\pm\\\\frac{1} {2} \\\\pm\\\\frac{1} {2} \\\\pm\\\\frac{1} {2} \\\\pm\\\\frac{1} {2} \\\\pm\\\\frac{1} {2} \\\\pm\\\\frac{1} {2} \\\\pm\\\\frac{1} {2} \\\\pm\\\\frac{1} {2} \\\\pm\\\\frac{1} {2} \\\\pm\\\\frac{1} {2} \\\\pm\\\\frac{1} {2} \\\\pm\\\\frac{1} {2} \\\\pm\\\\frac{1} {2} \\\\pm\\\\frac{1} {2} \\\\pm\\\\frac{1} {2} \\\\pm\\\\frac{1} {2} \\\\pm\\\\frac{1} {2} \\\\pm\\\\frac{1} {2} \\\\pm\\\\frac{1} {2} \\\\pm\\\\frac{1} {2} \\\\pm\\\\frac{1} {2} \\\\pm\\\\frac{1} {2} \\\\pm\\\\frac{1} {2} \\\\pm\\\\frac{1} {2} \\\\pm\\\\frac{1} {2} \\\\pm\\\\frac{1} {2}\\n$$\\n\\n采购计划编号:440001-2024-21835\\n\\ntige\\n\\n采购项目编号:0835---240752802841\\n\\n采购方式:公开招标\\n\\n预算金额：\\n$$\\n1, 0 0 0, 0 0 0. 0 0 \\\\pi\\n$$\\n\\n2.项目内容及需求情况（采购项目技术规格、参数及要求)\\n\\n采购包1(典型受污染耕地土壤环境质量类别加密调查与评价调整):\\n\\n采购包预算金额： $1, 0 0 0, 0 0 0. 0 0 \\\\pi$ \\n\\n| 品目号 | 品目名称 | 采购标的 | 数量（单位) | 技术规格、参数及 要求  | 是否允许进口产品  |\\n| --- | --- | --- | --- | --- | --- |\\n| 1-1 | 其他生态环境治理服务  | 典型受污染耕地土壤环境质量类别加密调查与评价调整  | 1(项) | 详见第二章 | 否 |\\n\\n合同分包：不允许合同分包\\n\\n合同履行期限：自签订合同之日起至2025年3月31日前完成合同全部义务。\\n\\n## 二.投标人的资格要求\\n\\n1.投标人应具备《中华人民共和国政府采购法》第二十二条规定的条件，提供下列材料：\\n\\n1）具有独立承担民事责任的能力：在中华人民共和国境内注册的法人或其他组织或自然人，投标（响应）时提交有效的营业执照（或事业法人登记证或身份证等相关证明副本扫描件。分支机构投标的，须提供总公司和分公司营业执照副本扫描件，总公司出具给分支机构的授权书。\\n\\n2）有依法缴纳税收和社会保障资金的良好记录：提供声明函（格式自定，格式可参考招标公告附件）。\\n\\n3）具有良好的商业信誉和健全的财务会计制度：提供声明函（格式白定，格式可参考招标公告附件）。 4）履行合同所必需的设备和专业技术能力：提供声明函（格式白定，格式可参考招标公告附件）。\\nE、会HH可M江H海D左山左久世江HH证台舌中迪江司余卫机·（世从·山平进也十中家\\n\\n-）多川不购伯创3中内，任红自伯创中仅有里人理公旧求：参脱汉你〈报们）H伯天小白怕孔的台。重大违法记录， 是指供应商因违法经营受到刑事处罚或者责令停产停业、吊销许可证或者执照、较大数额罚款等行政处罚。（根据财库\\n\\n(20223号文，“较大数额罚款”认定为200万元以上的罚款，法律、行政法规以及国务院有关部门明确规定相关领域“较大数额罚款\"标准高于200万元的，从其规定)\\n\\n## 2.落实政府采购政策需满足的资格要求：\\n\\n采购包1（典型受污染耕地土壤环境质量类别加密调查与评价调整)：本项目整体专门面向中小企业，服务必须全部由中小企业提供。（中小企业须符合本项目采购标的对应行业（对应行业：其他未列明行业）的政策划分标准，监狱企业、残疾人福利单位视同小型、微型企业，需提供《中小企业声明函》或属于监狱企业的证明材料或《残疾人福利性单位声明函》）。 注：中小企业须符合本项目采购标的对应行业的政策划分标准，监狱企业、残疾人福利单位视同小型、微型企业。中小企业以投标人填写的《中小企业声明函》（见投标格式)为判定标准,残疾人福利性单位以供应商填写的《残疾人福利性单位声明函》（见投标格式）为判定标准，监狱企业须供应商提供由省级以上监狱管理局、戒毒管理局（含新疆生产建设兵团）出具的属于监狱企业的证明文件，否则不子认定。\\n\\n## 3.本项目特定的资格要求：\\n\\n采购包1（典型受污染耕地上壤环境质量类别加密调查与评价调整）：\\n\\n1)供应商未被列入“信用中国\"网站(www.creditchina.gov.cn“记录失信被执行人或重大税收违法失信主体或政府采购严\\n\\n重违法失信行为\"记录名单，不处于中国政府采购网 $\\\\mathbf{1} ( \\\\mathbf{w w w}, \\\\mathbf{c c g p}, \\\\mathbf{g o v}, \\\\mathbf{c n} )^{n}$ 政府采购严重违法失信行为信息记录\"中的禁止参加政府采购活动期间。（以资格审查人员于投标（响应永截企时间当天在“信用中国\"网站（www.creditchina.gov.cn）及中国 Tr I在区MMl(htt./lAanannr 特车 hnkH $\\\\div$ 比心年惠口比放件立产重里H加光江明次\\nAAIAnN本海仙用山在\\n\\n20电 50530420525452407542024204742070 2)单位负责人为同一人或者存在直接控股、管理关系的不同供应商建补得同时参加本采购项与（或采购包）投标\\n\\n $\\\\vec{\\\\omicron} )$ 。为本项目提供整体设计、规范编制或者项国管理，监理、检测等服务的供应商，不得再参与本项目投标（响应）。投标 (报价）函相关承诺要求内容\\n\\neGneT\\n\\n3)本项目不接受联合体投标。\\n\\n## 三.获取招标文件\\n\\n## 时间：详见招标公告及其变更公告（如有)\\n\\n## 地点：详见招标公告及其变更公告（如有)\\n\\n获取方式：在线获取。供应商应从广东省政府采购网（https://gdgpo.czt.gd.gov.cn/）上广东政府采购智慧云平台（以下简称“云平台”）的政府采购供应商入口进行免费注册后，登录进入项目采购系统完成项目投标登记并在线获取招标文件（未按上述方式获取招标文件的供应商，其投标资格将被视为无效）。\\n\\n$$\\n\\\\pm\\\\Upsilon; \\\\not\\\\in\\\\nS\\n$$\\n\\n## 四.提交投标文件截止时间、开标时间和地点：\\n\\n提交投标文件截上时间和开标时间：详见招标公告及其变更公告（如有)\\n\\n(自招标文件开始发出之日起至投标人提交投标文件截止之日上，不得少于20日）\\n\\n地点：详见招标公告及其变更公告（如有)\\n\\n五.公告期限、发布公告的媒介：\\n\\n1、公告期限：自本公告发布之口起不得少于5个工作口。\\n\\n $~ 2$ 、发布公告的媒介：中国政府采购网(www.Ccgp.gov.cn)、广东省政府采购网(https://gdgpo.czt.gd.gov.cn/):\\n\\n## 六.本项目联系方式：\\n\\n$$\\n\\\\mathbf{1} \\\\cdot\\\\overrightarrow{x} \\\\neq\\\\mathbf{1} \\\\frac{1} {2}\\n$$\\n\\n名称：广东省农业环境与耕地质量保护中心（广东省农业农村投资项目中心）\\n\\n地址：广州市先烈东路135号\\n\\n联系方式:020-37288932\\n\\n## 2.采购代理机构信息\\n\\n名称：广东元正招标采购有限公司\\n\\n地址：广东省广州市越秀区先烈中路102号华盛大厦北塔26楼2608\\n\\n联系方式:020-87258495-516\\n\\n## 3.项目联系方式\\n\\n项目联系 $\\\\varLambda$ ：杨 $\\\\imath\\\\downarrow$ 姐电话：020-87258495-516\\n\\n## 4.技术支持联系方式\\n\\n云平台联系方式：020-88696588\\n\\n采购代理机构：广东元正招标采购有限公司\\n\\nBiER\\n\\n-第4页-## 第二章采购需求\\n\\n## 一、项目概况：\\n\\n## (一）项目其他要求：\\n\\n1.投标人必须对项日内全部内容进行投标，不允许只对其中部分内容进行投标。\\n\\nwM→4九+画&H比山4T世H咖江々会照离运二/例 WIR日7-L日.近-右RtA- oi山1了RiBl天tn4R妇业\\n\\n乙.个不购义件在仅个安水中有山时上、竹件、汉，参出明陶小例图以中解区F约沈为开仅有限利北，别重现丁则队队你州要一于\"字样，投标人可以在其提供的文件资料中选用替代标准 $\\\\cdot$ 套快如国意\\n感群誉做标研影集工或相当于技术规格中要求的标准。着其标准在需求书中没有规定，投标人应说明所用的标准。如果实际使用的标准有不同献+必须对用于替代的标准、规范与本采购文件选用标准、规范之间的明显差异点\\n27\\n作出说明，并提交推荐标准或实施规范的中文版。 +iRe\\n\\n3.采购人根据价格测算情况，设定了本项目的最高世标限价(预算金额)，评际秦续会认为投标人的报价明显低于其他通过符合性审直投标\\n\\n人的报价，有可能影响服务质量或者不能诚信履约的，将要求其在评标现场在评标委员会规定的时间内提供书面说明，必要时提交相关证明材\\n\\n## 4.项目属性:服务类\\n\\n5.落实政府采购政策需满足的要求：根据《关于印发中小企业划型标准规定的通知》（工信部联企业（2011)300号）规定，本项目对应\\n的中小企业划分标准所属行业为：其他未列明行业；\\n\\n6 .★本项目合同为固定总价合同,包括完成该项目产生的全部费用，采购人不再另行支付任何费用；投标人报价不得超过预算金额。\\n\\n## 采购包1（典型受污染耕地土壤环境质量类别加密调查与评价调整)\\n\\n1.主要商务要求\\n，白饮汀△日->口妇一人下左口h松分站面日AH日I比宏 005年3日31日\\n\\n| 标的提供的时间 | 成合同所有服务内容，且通过项目专家小组验收。 |\\n| 标的提供的地点 付款方式  | 厂广东省广州市 1期：支付比例90%,双方签订合同、乙方开具发票后5个工作日内支付90%预付款。 2期：文付比例10%,项目验收合格后凭验收意见、发票支付剩余10%款。如项目验收不合格，采购人有权要求中标人退回所有已支付款项，并承担相应的 责任。注：因采购人使用的是财政资金，采购人在前款规定的付款时间为向 政府采购支付部门提出办理财政支付申请手续的时间（不含政府财政支付部门审核的时间)，在规定时间内提出支付申请手续后即视为采购人已经按期支付 |\\n| 验收要求 | 1期：（1）验收要求：由广东省农业环境与耕地质量保护中心（广东省农业 农村投资项目中心）负责组织，由项目承担单位协助落实，并提供相关资料。 验收前，中标人要完成所有硬件设施建设和调试运行和监测任务，形成项目总结报告。（2验收方式：广东省农业环境与耕地质量保护中心（广东省农业农村投资项目中心）组织实施。采用专家会议结合现场查看的形式进行项日验女3哈收时间，2025年3日31日前学成验收  |\\n| 履约保证金 | 不收取 |\\n\\n ${\\\\bf z}$ .技术标准与要求\\n\\n| 序号 | 品目名称 | 标的名称 | 单 位 | 数量 | 分项预算单价（元） | 分项预算总价（元） | 所属行业 | 技术要求 |\\n| --- | --- | --- | --- | --- | --- | --- | --- | --- |\\n| 1 | 其他生态环境治理服务  | 典型受污染耕地土壤环境质量类别 加密调香与评价调整  | 项 | 1. 0 0 | 1,000,000.0 0 | 1,000,000.0 0 | 天他天明行业 | 详见附表一 |\\n\\n| 附表一：典型受行 | 染耕地土壤环境 | 质量类别加密调查与评价调整 |  |\\n| --- | --- | --- | --- |\\n| 参数性质 | 序号 | 具体技术(参数)要海中小1广厂 |  |\\n|  | 1 | 项目概况和项目现状：为贯彻国 1号）提出 /根据士地利用变更和行更新壤、地动态调整耕地飞壤环境质量类别耕地土壤环境质量类别养工作监测,通过数据分析和评估，细动地方实现精准管控  | 印发土壤污染防治行动计划的通知》 质量变化情况，定期对各类别耕地面和村生态环境保护规划》（环土壤[202 地利用变更、土壤和农产品协同监测家，拟在省内典型受污染耕地开展土壤污染耕地的风险，动态调整耕地土壤环 |\\n|  | 2 | 动地方实现精准管控 服务内容 (一）土壤与农产品加密调查在广东省内典型受污染耕地布设值和镉、汞、砷、铅、镍、铬5 属含量。 (二）评价调整与总结报告 依据《上壤环境质量 农用地土壤全国家标准食品中污染物限量》 》（环办土壤（2019）53号） 根据评估结果编制技术总结报 | 位开展土壤与农产品协同采样、检测， 含量,农产品检测分析镉、汞、砷、铅 管控标准（试行）（GB15618-20 62-2022）、《农用地土壤环境质量 件，对试点区内耕地土壤重金属污染风供矢量数据、图件、分类清单电子版 |\\n|  | 3 | 项目执行标准要求： 项目开展符合农用地壤环境质量 《食品安全国家标准食品中污 分技术指南》（环办土壤（2019 | :壤污染风险管控标准（试行）》（GE 》（GB2762-2022）、《农用地土 ）等政策文件的相关要求  |\\n|  | 4 | 专业技术人员要求: 中标人须配备履行本项目服务内 1，项目负责人要求：具有从上经验，且具有农业类或环境类 2. 项目技术服务人员：拟指汇 务人员中，具有农业类或环境类 | 技术团队，其中： 页目服务内容耕地土壤污染防治相关的级或以上职称的： 页目其他技术服务人员不低于5人；具 级或以上职称的  |\\n|  | 5 | 报价要求 中标服务商投标报价包含了项目生 | 所有费用，其中包含了人员费、设备费 |\\n\\n赏、运赞、悦贸等一切头施辽桂直孩与间孩赞用，张价个能超辽米购坝算敏高限价，省则作尤效\\n\\n## -第6页-项日讲度要求：白签订合同之日起三个下作日内，中标人成立项日专职服务团队开展调查。2025\\n\\n|  | 6 | 年3月31日完成合同所有服务内容，且通过项目专家小组验收 |\\n| --- | --- | --- |\\n|  | 7 打 |  其它要求： 1.质量保证要求：供应商必须针对本项目的技术要求提供完整的质量保证体系。在项日实施过程 中，确保相关成果达到技术要求，并对质量保证的措施进行详细描述 2.服务便利性：供应商收到采购人通知（电话或书面）后1小时(含)内响应 3.保密要求：（1）供应商应签订保密协议，对其因身份、职务、职业或技术关系而知悉的采购 人商业秘密和党攻机 1二 n 严格保守，保证不被披露或使用，包括意外或过失。(2）供 保密信息 应商不得以竞争为自的、 广 或出于私和·或为第三人谋利而擅自保存、披露、使用采购人商业秘密 和党政机关保密信息； R 品 *不得直接或间接地向无关人员泄露采购人的商业秘密和党政机关保密信息 ：不得向不承担保密义务的任何第三人披露采购人的商业秘密和党政机关保密信息。供应商在从 话 事政府项目时会不得擅自记录、 复制、拍摄、摘抄、收藏在工作中涉及的保密信息，严禁将涉及 政府项目的任何资料、数据题需或以其他方式提供给项目以外的其他方或中标供应商内部与该项 目无关的任何人员。（3） 供应商对于工作期间知悉采购人的商业秘密和党政机关保密信息（包 括业务信息在内）或工作过程中接触到的政府机关文件（包括内部发文、各类通知及会议记录等 ）的内容，同样承担保密责任，严禁将政府机关内部会议、谈话内容泄露给无关人员；不得翻阅 与工作无关的文件和资料。(4）.严禁泄露在工作中接触到的政府机关科技研究、发明、装备器 材及其技术资料和政府工作信息。（5）.其他保密要求参照采购人要求 4.人员户外作业安全要求： (1）中标人负责购买其指派团队成员（含项目负责人)作业时的人身意外保险，并保障承担其人 员户外安全作业的人员安全责任。 T“★”号条款为实质性条款，若有任何一条负偏离或不满足则导致投标无效  |\\n|  | 打 | T“★”号条款为实质性条款，若有任何一条负偏离或不满足则导致投标无效 |\\n\\n刊\"▲“亏条款为里炭技不参数，右有部分\"▲\"条款木峒应或个俩足，将导拟具响应性评申加重扣分，但不作为无效投标条款。\\n\\n-第7页-第三章投标 $\\\\mathcal{N}$ 须知\\n\\n投标人必须认真阅读招标文件中所有的事项、格式、条款和采购需求等。投标人没有按照招标文件要求提交全部资料，或者投标文件没有对招标文件在各方面都做出实质性响应的可能导致其投标无效或被扣绝。\\n\\n请注意：供应商需在投标文件截上时间前，将加密投标文件上传至云平台项目采购系统中并取得回执，逾期上传或错误方\\n式投递送达将导致投标无效。\\n\\n$$\\n\\\\frac{1} {2} \\\\times\\\\frac{1} {2}+\\\\frac{1} {2}+\\\\frac{1} {2}+\\\\frac{1} {2}+\\\\frac{1} {2}+\\\\frac{1} {2}+\\\\frac{1} {2}+\\\\frac{1} {2}+\\\\frac{1} {2}\\n$$\\nYES汗B\\n\\n## 、名词解释\\n\\n1.采购代理机构：本项目是指广东元正招标承购有限公司，负责整杀来购活动的组织，依法负责编制和发布招标文件，太\\nLS\\n招标文件拥右最终的解释权。不以任何身份出任评规委员会成员。\\n\\nGA 中心(广东省农业农村投资项目中心)，是采购活动当事人之一，\\nT5\\n2.采购人：本项有是指广东省农业环境与积地质集字\\n负责项目的整体规划、技术方案可行性设计论证与实施，作为合同采购方(用户）的主体承担质疑回复、履行合同、验收与评\\nP\\n价等义务。\\n\\n3.投标人：是指在云平台项目采购系统完成本项目投标登记并提交电子投标文件的供应商。\\n\\n4.“评标委员会”是指根据《中华人民共和国政府采购法》等法律法规规定，由采购人代表和有关专家组成以确定中标供应商或者推荐中标候选人的临时组织。\\n\\n5.“中标供应商\"是指经评标委员会评审确定的对招标文件做出实质性响应，经采购人按照规定在评标委员会推荐的中标候选人中确定的或评标委员会受采购人委托直接确认的投标人。\\n\\n6.招标文件:是指包括招标公告和招标文件及其补充、变更和澄清等一系列文件。\\n\\n7.电子投标文件：是指使用云平台提供的投标客户端制作加密并上传到系统的投标文件。（投标客广端制作投标文件时， 生成的后缀为\".标书\"的文件)\\n\\n8.备用电子投标文件：是指使用云平台提供的投标客户端制作电子投标文件时，同时生成的同一版本的备用投标文件。 (投标客户端制作投标文件时，生成的后缀为\".备用标书\"的文件)\\n\\n9.电子签名和电子印章：是指获得国家工业和信息化部颁发的《电子认证服务许可证》、国家密码管理局颁发的《电子认证服务使用密码许可证》的资质，具备承担因数字证书原因产生纠纷的相关责任的能力，且在广东省内具有数量基础和服务能力的依法设立的电子认证服务机构签发的电子签名和电子签章认证证书(即CA数字证书）。供应商应当到相关服务机构办理并取得数字证书介质和应用。电子签名包括单位法定代表人、被委托人及其他个人的电子形式签名；电子印章包括机构法人电子形式印章。电子签名及电子印章与手写签名或者盖章具有同等的法律效力。签名（含电子签名）和盖章（含电子印章）是不同使用场景，应按招标文件要求在投标（响应)文件指定位置进行签名（含电子签名)和盖章（含电子印章），对允许采用手写签名的文件，应在纸质文件手写签名后，提供文件的彩色扫描电子文档进行后续操作。\\n\\n10.“全称”、“公司全称”、“加盖单位公章”及“公章”：在电子投标（响应)文件及相关的其他电子资料中，涉及“全\\n称\"或“公司全称”的应在对应文件编辑时使用文本录入方式，或在纸质投标（响应)文件上进行手写签名，或通过投标客户站使用电子印章完成；涉及“加盖单位公章\"和“公章”应使用投标人单位的数字证书并通过投标客户端使用电子印章完成。\\n\\n11.“投标人代表签字\"及“授权代表\"：在电子投标（响应）文件及相关的其他电子资料中，涉及“投标人代表签字\"或“授\\n\\n权代表\"应在投标（响应)文件编辑时使用文本录入方式，或在纸质投标（响应)文件上进行手写签名，或通过投标客户端使用电子签名完成。\\n\\n12.“法定代表人”：在电子投标（响应）文件及相关的其他电子资料中，涉及“法定代表人”应在纸质投标（响应）文件上进行手写签名，或通过投标客户端使用电子签名完成。\\n\\n13.日期、天数、时间：未有特别说明时，均为公历日（天）及北京时间。\\n\\n## 须知前附表\\n\\n## -第8页-\\n\\n本表与招标文件对应章节的内容若不一致，以本表为准。 条款名称内然及再求\\n\\n| 1 | 采购包情况 |  |\\n| --- | --- | --- |\\n| 2 | 开标方式 |  |\\n| 3 | 评标方式 | 答部分，标记内容清晰且完整，否则将自行 |\\n| 4 | 评标办法 |  |\\n| 5 | 报价形式 |  |\\n| 6 | 报价要求 |  |\\n| 7 | 现场踏勘 |  |\\n| 8 | 投标有效期 |  |\\n| 9 | 投标保证金 | 购智慧云平台金融服务中心\"(http://gdgpo 申请办理投标（响应）担保函、保险（保证） |\\n| 10 | 投标文件要求 | 示文件截止时间前成功上传至云平台项目采购 加密的电子投标文件与非加密的电子投标文 ICA 证书在云平台项目采购系统进行电子投用非加密电子版投标文件。 （3）纸质投标文件正本0份，纸质投标文件台交的纸质文件需密封完好，注明“正本\"和“ :不符,应以正本为准。）。纸质投标文件 1子投标文件评标时，代理机构可根据云平台平标 商未提交纸质投标文件而认定供应商投标无 |\\n| 11 | 中标侯选供应商推荐家数 中标供应商 |  |\\n\\n $\\\\frac{1} {3} x+\\\\frac{1} {5}$ 采购包1:1家\\n\\n-第9页-ne4na A区大E\\n此人数约定了开标与评标过程中的最低有效供应商家数，当家数不足时项目将不得开标、\\n\\n|  | 人 | 不得评标或直接废标 |\\n| --- | --- | --- |\\n| 14 | 项目兼投兼中（ 兼投不兼中）规则  | 无： |\\n| 15 | 中标供应商确定方式  | 采购人按照评审报告中确定中标（成交)人 |\\n| 16 | 代理服务费 | 收取。 采购机构代理服务最费标准: 日的预算金大大额作为采购代理服务费的计算基数。参照国家计委颁布的《招标代理服务收费管理暂行办法 (计价格[2002]1980号）的收费标准规定的“ 服务类″计费标准计算缴纳  |\\n| 17 | 代理服务费收取方式  | 向中标/成交供应商收取 |\\n| 18 | 其他 |  |\\n| 19 | 开标解密时长 | 说明：具体情况根据开标时现场代理机构人员设置为作 |\\n| 20 | 专门面向中小企业采购  | 采购包1:面向中小企业，采购包专门预留 |\\n\\n## 三、说明\\n\\n## 1.总则\\n\\n采购人、采购代理机构及投标人进行的本次采购活动适用《中华人民共和国政府采购法》及其配套的法规、规章、政策\\n\\n投标人应仔细阅读本项目招标公告及招标文件的所有内容（包括变更、补充、澄清以及修改等，且均为招标文件的组成部 )），按照招标文件要求以及格式编制投标文件，并保证其真实性，否则一切后果自负。\\n\\n本次公开招标项目,是以招标公告的方式邀请非特定的投标人参加投标\\n\\n## 2.适用范围\\n\\n本招标文件仅适用于本次招标公告中所涉及的项目和内容。\\n\\n$$\\n\\\\mathbf{3. i f \\\\Pi\\\\neq\\\\Pi}\\n$$\\n\\n若本项目允许采购进口产品，供应商应保证所投产品可履行合法报通关手续进入中国关境内。\\n\\n若本项目不允许采购进口产品，如供应商所投产品为进口产品，其响应将被认定为响应无效。\\n\\n $\\\\boldsymbol{\\\\Lambda}$ .投标的费用\\n\\n不论投标结果如何，投标人应承担所有与准备和参加投标有关的费用。采购代理机构和采购人均无义务和责任承担相关费用。\\n\\n5.以联合体形式投标的，应符合以下规定：\\n\\n5.1联合体各方均应当满足《中华人民共和国政府采购法》第二十二条规定的条件，并在投标文件中提供联合体各方的相关证明材料。\\n\\n5.2 联合体各方之间应签订共同投标协议书并在投标文件中提交，明确约定联合体各方承担的工作和相应的责任。联合体各方签订共同投标协议书后，不得再以自己名义单独在同一项目（采购包)中投标，也不得组成新的联合体参加同一项目（采购包)投标，若违反规定则其参与的所有投标将视为无效投标。\\n\\n5.3 联合体应以联合协议中确定的牵头方名义登录云平台项目采购系统进行项目投标，录入联合体所有成员单位的全称并使用成员单位的电子印章进行联投确认，联合体名称需与共同投标协议书签署方一致。对于需交投标保证金的，以牵头方名义缴纳。\\n\\n5.4联合体成员存在不良信用记录的，视同联合体存在不良信用记录。\\n\\n5.5联合体各方均应满足《中华人民共和国政府采购法》第二十二条规定的条件。根据《中华人民共和国政府采购法实施条例》第二十二条，联合体中有同类资质的供应商按照联合体分工承担相同工作的，应当按照资质等级较低的供应商确定资质等级。\\n\\nahhIA\\n$$\\n\\\\begin{matrix} \\\\left\\\\{\\\\begin{matrix} \\\\frac{1} {1 0} \\\\\\\\ \\\\frac{1} {1 0} \\\\end{matrix} \\\\right.=\\\\frac{1} {1 0} \\\\left\\\\{\\\\begin{matrix} \\\\frac{1} {1 0 0} \\\\\\\\ \\\\frac{1} {1 0} \\\\end{matrix} \\\\right.=\\\\frac{1} {1 0} \\\\left\\\\{\\\\begin{matrix} \\\\frac{1} {1 0 0} \\\\\\\\ \\\\frac{1} {1 0} \\\\end{matrix} \\\\right. \\\\}\\n$$\\nIJV\\\\/-^1-J,\\n\\n5.6联台体各方应当共同与采购人签订采购合同，魏益情约是的藕h对采购人承担连带责任。\\n\\n## 6.关联企业投标说明\\n\\n：江代专人成单场\\nE\\n不同体应商。不得同时参加同一项目或同一采购有的恐标。加同时参加学可其投标将被指绝。\\n\\n除联合体外，法定代表人或单位负责人为同一个人或者存在直接控股、 6.2对接受联合体投标的米购项日（米购包\\n\\n管理关系的不同供应商，不得同时参加同一项目或同一采购包的投标。如同时参加，则评审时将同时被拒绝。\\n\\n## 7.关于中小微企业投标\\n\\n中小微企业响应是指在政府采购活动中，供应商提供的货物均由中小微企业制造、工程均由中小微企业承建或者服务均由中小微企业承接，并在响应文件中提供《中小企业声明函》。本条款所称中小微企业，是指在中华人民共和国境内依法设立， 依据国务院批准的中小企业划分标准确定的中型企业、小型企业和微型企业，但与大企业的负责人为同一人，或者与大企业存在直接控股、管理关系的除外。符合中小企业划分标准的个体工商户，在政府采购活动中视同中小企业。中小企业划分见\\n《关于印发中小企业划型标准规定的通知》（工信部联企业（2011）300号）。\\n\\n根据财库（2014)68号《财政部司法部关于政府采购支持监狱企业发展有关问题的通知》，监狱企业视同小微企业。 监狱企业是指由司法部认定的为罪犯、戒毒人员提供生产项目和劳动对象，且全部产权属于司法部监狱管理局、戒毒管理局、 直属煤矿管理局，各省、自治区、直辖市监狱管理局、戒毒管理局，各地(设区的市)监狱、强制隔离戒毒所、戒毒康复所，以及新疆生产建设兵团监狱管理局、戒毒管理局的企业。监狱企业投标时，提供由省级以上监狱管理局、戒毒管理局(含新疆生产建设兵团)出具的属于监狱企业的证明文件，不再提供《中小企业声明函》。\\n\\n根据财库（2017）141号《财政部民政部中国残疾人联合会关于促进残疾人就业政府采购政策的通知》，在政府采购活动中，残疾人福利性单位视同小型、微型企业，享受政府采购支持政策的残疾人福利性单位应当同时满足《财政部民政部中国残疾人联合会关于促进残疾人就业政府采购政策的通知》所列条件。残疾人福利性单位属于小型、微型企业的，不重复享受政策。符合条件的残疾人福利性单位在参加政府采购活动时，应当提供《残疾人福利性单位声明函》，并对声明的真实性负责。\\n\\n## 8.纪律与保密事项\\n\\n8.1投标人不得相互串通投标报价，不得防得其他投标人的公平竞争，不得损害采购人或其他投标人的合法权益，投标人不得以向采购人、评标委员会成员行贿或者采取其他不正当手段谋取中标。\\n\\n8.2在确定中标供应商之前，投标人不得与采购人就投标价格、投标方案等实质性内容进行谈判，也不得私下接触评标委\\n员会成员。\\n\\n8.3在确定中标供应商之前，投标人试图在投标文件审香、澄清、比较和评价时对评标委员会、采购人和采购代理机构施\\n加任何影响都可能导致其投标无效。\\n\\n8.4获得本招标文件者，须履行本项目下保密义务，不得将因本次项目获得的信息向第三人外传，不得将招标文件用作本\\n次投标以外的任何用途。\\n\\n8.5由采购人向投标人提供的图纸、详细资料、样品、模型、模件和所有其它资料，均为保密资料，仅被用于它所规定的用途。除非得到采购人的同意，不能向任何第三方透露。开标结束后，应采购人要求，投标人应归还所有从采购人处获得的保\\n\\n-第11页-\\n\\n$$\\n\\\\frac{5} {1 1} \\\\frac{w} {1 1}=\\\\frac{1} {1 2}\\n$$\\n\\n8.6米购人或采购代理机构有权将供应商提供的所有资料向有关政府部门或评审小组披露。\\n\\n8.7在采购人或采购代理机构认为适当时、国家机关调查、审查、审计时以及其他符合法律规定的情形下，采购人或采购代理机构无须事先征求供应商同意而可以披露关于采购过程、合同文本、签署情况的资料、供应商的名称及地址、响应文件的有关信息以及补充条款等，但应当在合理的必要范围内。对任何已经公布过的内容或与之内容相同的资料，以及供应商已经池露或公开的，无须再承担保密责任。\\n\\n## 9.语言文字以及度量衡单位\\n\\n广中小心（心\\n\\n9.1除招标又件为有规足外，技标又件应使用开文区象看有个同叉不，以甲又又本为准。技标又件提供的全部贷科甲\\nLe 前达制译机构应为中国制译协会成员单位，制译的中文若原件属于非中文描述，应提供具有翻译资质的机构翻译的中\\n译本应由翻译人员签名并加盖翻译机构公章，同时提供翻译人员翻译资格证书。中文译本、翻译机构的成员单位证书及翻译人员的资格证书可为复印件。 2y\\n车e\\nA\\n\\n9.2除非招标文件的技术规格中另有规定，投标人在投标文件中及其与采购人和采购代理机构的所有往来文件中的计量单安证用山化 $\\\\imath$ 早七和国让学社是治 $\\\\div$ TG:n时N\\n\\nLJNVR \\'十ANNIHH1公CI里以\\n\\n9.3投标人所提供的货物和服务均应以人民币报价，货币单位： $\\\\vec{\\\\pi}$ 。\\n\\n## 10.现场踏勘（如有)\\n\\n10.1招标文件规定组织踏勘现场的，采购人按招标文件规定的时间、地点组织投标人踏勘项目现场\\n\\n10.2投标人白行承担踏勘现场发生的责任、风险和白身费用。\\n\\n10.3采购人在踏勘现场中介绍的资料和数据等，只是为了使投标人能够利用招标人现有的资料。招标人对投标人由此而\\n作出的推论、解释和结论概不负责。\\n\\n## 四、招标文件的澄清和修改\\n\\n1.采购代理机构对招标文件进行必要的澄清或者修改的，在指定媒体上发布更正公告。澄清或者修改的内容可能影响投标文件编制的，更正公告在投标截止时间至少15日前发出；不足15日的，代理机构顺延提交投标文件截止时间。\\n2.更正公告及其所发布的内容或信息（包括但不限于：招标文件的澄清或修改、现场考察或答疑会的有关事宜等)作为招标文件的组成部分，对投标人具有约束力。一经在指定媒体上发布后，更正公告将作为通知所有招标文件收受人的书面形式。\\n3.如更正公告有重新发布电子招标文件的，供应商应登录云平台项目采购系统下载最新发布的电子招标文件制作投标文仕\\n\\n ${\\\\bf4}$ .投标人在规定的时间内未对招标文件提出疑问、质疑或要求澄清的，将视其为无异议。对招标文件中描述有歧义或前后\\n不一致的地方，评标委员会有权进行评判，但对同一条款的评判应适用于每个投标人。\\n\\n## 五、投标要求\\n\\n## 1.投标登记\\n\\n投标人应从广东省政府采购网（https://gdgpo.czt.gd.gov.cn/）上广东政府采购智慧云平台（以下简称“云平台”）的政府采购供应商入口进行免费注册后，登录进入项目采购系统完成项目投标登记并在线获取招标文件（禾按上述方式获取招标文件的供应商，其投标资格将被视为无效）。\\n\\n## 2.投标文件的制作\\n\\n2.1投标文件中，所有内容均以电子文件编制，其格式要求详见第六章说明。如因不按要求编制导致系统无法检索、读取相关信息时，其后果由投标人承担。由于本项目采用电子化投标，请充分考虑设备、网络环境、人员对系统熟悉度等因素，合理安排投标文件制作、提交时间，建议至少提前一天完成制作、提交工作。\\n\\n2.2投标人应使用云平台提供的投标客户端编制、标记、加密投标文件，成功加密后将生成指定格式的电子投标文件和电子备用投标文件。所有投标文件不能进行压缩处理。关于电子投标报价（如有报价）说明如下：\\n\\n(1)投标人应按照“第二章采购需求\"的需求内容、责任范围以及合同条款进行报价。并按“开标一览表”和“分项报价表 $,$ 规定的格式报出总价和分项价格。投标总价中不得包含招标文件要求以外的内容，否则，在评审时不子核减。\\n\\n(2)投标报价包括本项目采购需求和投入使用的所有费用，包括但不限于主件、标准附件、备品备件、施工、服务、专用工具、安装、调试、检验、培训、运输、保险、税款等。\\n\\n2.3如有对多个采购包投标的，要对每个采购包独立制作电子投标文件。\\n\\n2.4投标人不得将同一个项目或同一个采购包的内容拆开投标，否则其报价将被视为非实质性响应。\\n\\n2.5投标人须对招标文件的对应要求给子唯一的实质性响应，否则将视为不响应。\\n\\n2.6招标文件中，凡标有 $n \\\\star\"$ 的地方均为实质性响应条就扎投标人寿有一项带\"\"的条款未响应或不满足，将按无效投标处理。\\n\\nR.\"* n *\". 1\\n\\n2.7投标人必须按招标文件指定的格式填写各和报价，各报价应计算压确。除在招标文件另有规定外（如：报折扣、报优\\n6\\n惠率等），计量单位应使用中华人民共和国法定让量单位，以人民币基据所有报价。\\n\\n2.8投标文件以及投标人与采购人、代理机构就有关投标的往来函电均应使用中文。投标人提交的支持性文件和印制的文件可以用另一种语言，但相应内容应翻译成中文，在解释投称交体时以中文文本为准。\\n\\n2.9投标人应按招标文件的规定及附件要求的内容和格式完整地填写和提供资料。投标人必须对投标文件所提供的全部资料的真实性承担法律责任，并无条件接受采购人和政府采购监督管理部门对其中任何资料进行核实（核对原件）的要求。采购人核对发现有不一致或体应商无正当理中不按时提体原件的。立当书面知会代理机杨。并书面报告木级人民政府财政部门。\\n\\nJ人UI I～H山 IJNJAHrIJU\\n\\n## 3.投标文件的提交\\n\\n3.1在投标文件提交截上时间前，投标人须将电子投标文件成功完整上传到云平台项目采购系统，且取得投标回执。时间\\n以云平台项目采购系统服务器从中国科学院国家授时中心取得的北京时间为准,投标截止时间结束后，系统将不允许投标人上\\n传投标文件，已上传投标文件但未完成传输的文件系统将拒绝接收。\\n\\n3.2代理机构对因不可抗力事件造成的投标文件的损坏、丢失的，不承担责任。\\n\\n3.3出现下述情形之一，属于未成功提交投标文件，按无效投标处理：\\n\\n(1）至提交投标文件截止时，投标文件未完整上传的。\\n\\n(2）投标文件未按投标格式中注明需签字盖章的要求进行签名（含电子签名）和加盖电子印章，或签名（含电子签名） 或电子印章不完整的。\\n\\n(3）投标文件损环或格式不正确的。\\n\\n## 4.投标文件的修改、撤回与撤销\\n\\n4.1在提交投标文件截上时间前，投标人可以修改或撤回未解密的电子投标文件，并于提交投标文件截止时间前将修改后\\n重新生成的电子投标文件上传至系统，到达投标文件提交截止时间后，将不允许修改或撤回。\\n\\n4.2在提交投标文件截止时间后，投标人不得补充、修改和更换投标文件。\\n\\n## 5.投标文件的解密\\n\\n到达开标时间后，投标人需携带并使用制作该投标文件的同一数字证书参加开标解密，投标人须在采购代理机构规定的时间内完成投标文件解密，投标人未携带数字证书或其他非系统原因导致的逾期术解密投标文件，将作无效投标处理。\\n\\n## 6.投标保证金\\n\\n## 6.1投标保证金的缴纳\\n\\n投标人在提交投标文件时，应按投标人须知前附表规定的金额和缴纳要求缴纳投标保证金，并作为其投标文件的组成部分。\\n\\n如采用转账、支票、本票、汇票形式提交的，投标保证金从投标人基本账户递交，由广东元正招标采购有限公司代收。具体操作要求详见广东元正招标采购有限公司有关指引，递交事宜请白行咨询广东元正招标采购有限公司；请各投标人在投标文件递交截止时间前按须知前附表规定的金额递交至广东元正招标采购有限公司，到账情况以开标时广东元正招标采购有限公司查询的信息为准。\\n\\n如采用金融机构、专业担保机构开具的投标担保函、投标保证保险函等形式提交投标保证金的，投标担保函或投标保证保险函须开具给采购人（保险受益人须为采购人)，并与投标文件一同递交。\\n\\n投标人可通过\"广东政府采购智慧云平台金融服务中心\"(https://gdgpo.czt.gd. gov.cn/zcdservice/zcd/guangdong/), 申请办理电子保函，电子保函与纸质保函具有同样效力。\\n\\n注意事项：供应商通过线下方式缴纳保证金（转账、支票、汇票、本票、纸质保函）的，需准备缴纳凭证的扫描件作为核验凭证；通过电子保函形式缴纳保证金的，如遇开标或评标现场无法拉取电子保函信息时，可提供电子保函打印件或购买凭证\\n $\\\\frac{1} {2}$ 中心广\\n作为核验凭证。相关凭证应上传至系统归档保存。\\n\\n $6$ .2投标保证金的退还：\\n\\n（1）投标人在投标截止时间前放弃投标的首新投采购包学项公{验最后5个工作日内起还。\\n\\na -=; TSPiI\\n\\n2）未中标的投标人投标保证金，自中标道知帮发出之日是5个，雄事内退还。\\n\\n3）中标供应商的投标保证金，自政府采购合同签订之口起5个正作口内退还\\n\\n备注：但因投标人自身原囚导攻无法及时退越的除外。“。\\n\\n6.3有下列情形之一的，投标保证金将不子退还：\\n\\n(1）提供虚假材料谋取中标、成交的：\\n\\n(2）投标人在招标文件规定的投标有效期内撤销具投标；\\n\\n(3）中标后，无正当理由放弃中标资格：\\n\\n(4）中标后，无正当理由不与采购人签订合司；\\n\\n(5法律法规和招标文件规定的其他情形\\n\\n## 7.投标有效期\\n\\n7.1投标有效期内投标人撤销投标文件的，采购人或者采购代理机构可以不退还投标保证金（如有）。采用投标保函方式替代保证金的，采购人或者采购代理机构可以向担保机构索赔保证金。\\n\\n7.2出现特殊情况需延长投标有效期的，采购人或采购代理机构可于投标有效期满之前要求投标人同意延长有效期，要求与答复均以书面形式通知所有投标人。投标人同意延长的，应相应延长其投标保证金（如有）的有效期，但不得要求或被允许修改或撤销其投标文件；投标人可以拒绝延长有效期,但其投标将会被视为无效，拒绝延长有效期的投标人有权收口其投标保证金（如有)。采用投标保函方式替代保证金的，投标有效期超出保函有效期的，采购人或者采购代理机构应提示投标人重新开函，未获得有效保函的投标人其投标将会被视为无效。\\n\\n## 8.样品（演示)\\n\\n8.1招标文件规定投标人提交样品的，样品属于投标文件的组成部分。样品的生产、运输、安装、保全等一切费用由投标人自理。\\n\\n8.2投标截上时间前，投标人应将样品送达至指定地点。若需要现场演示的，投标人应提前做好演示准备（包括演示设备）。\\n\\n8.3米购结果公告发布后，中标供应商的样品由采购人封存，作为履约验收的依据之一。术中标供应商在接到采购代理机构通知后，应按规定时间尽快自行取回样品，否则视同供应商不再认领，代理机构有权进行处理。\\n\\n9.除招标文件另有规定外，有下列情形之一的,投标无效：\\n\\n9.1投标文件未按照招标文件要求签署、盖章；\\n\\n9.2不符合招标文件中规定的资格要求：\\n\\n9.3投标报价超过招标文件中规定的预算金额或最高限价；\\n\\n9.4投标文件含有采购人不能接受的附加条件；\\n\\n9.5有关法律、法规和规章及招标文件规定的其他无效情形。 ## 六、开标、评标和定标\\n\\n## 1.开标\\n\\n## 1.1 开标程序\\n\\n招标工作人员按招标公告规定的时间进行开标，由采购人或者采购代理机构工作人员宣布投标人名称、解密情况，投标价格和招标文件规定的需要宣布的其他内容（以开标一览表要求为准)。开标分为现场电子开标和远程电子开标两种。\\n采用现场电子开标的：投标人的法定代表人或其委托代理人应当按照本招标公告载明的时间和地点前往参加开标，并携带综制太·项日（亚购有）由子排是立使R时H宓所H的新江拉汽海右农用由子协居立使的1I舟前在工无7场\\n\\n的川个火口〈N判心比JJ义XITH的A镇 $\\\\jmath$ IXKNXITHHUmNLI 以例。\\n采用远程电子开标的：投标人的法定代表人或具代表应当接壤本绍标公告载明的时间和模式等要求参加开标。在投标\\n\\nF+\\n截止时间前30分钟，应当登录云平台开标大厅进行签到，并庄填写授权代表的姓名与手机号码。若因签到时填写的授权代表\\nTT\\n信自有提而早致的不良后里。中仕应商白行承扣号 in\\n\\n开标时，投标人应当使用编制本项目（采购包·重子投标文件时加密所用数字证书在开始解密后按照代理机构规定的时间内完成电子投标文件的解密，如遇不可抗力等其他特殊情况，采购代理机构可视情况延长解密时间。投标人未携带数字证书或其他非系统原因导致的在规定时间内未解密投标文件，将作无效投标处理。（采用远程电子开标的，各投标人在参加开标以前须白行对使用电脑的网络环境、驱动安装、客户端安装以及数字证书的有效性等进行检测，确保可以正常使用）。\\n\\n如在电子升标过程中出现无法上常解密的，代理机构可根据实际情况开启上传备用电子投标文件通道。条统将对上传的备用电子投标文件的合法性进行验证，若发现提交的备用电子投标文件与加密的电子投标文件版本不一致（即两份文件不是通过投标客户端同时加密生成的），系统将拒绝接收，视为无效投标。如供应商无法在代理规定的时间内完成备用电子投标文件的上传、投标将被拒绝、作无效投标处理。\\n\\n## 1.2开标异议\\n\\n投标人代表对开标过程和开标记录有疑义，以及认为采购人、采购代理机构相关工作人员有需要回避的情形的，应当场提出询问或者回避申请。投标人未参加开标的，视同认可开标结果\\n\\n1.3投标截止时间后，投标人不足须知前附表中约定的有效供应商家数的，不得开标。同时，本次采购活动结束。\\n\\n1.4开标时出现下列情况的，视为投标无效处理：\\n\\n(1）经检查数字证书无效的\\n\\n(2）因投标人自身原因，未在规定时间内完成电子投标文件解密的：\\n\\n(3如需使用备用电子投标文件解密时，在规定的解密时间内无法提供备用电子投标文件或提供的备用电子投标文件与\\n加密的电子投标文件版本不一致（即两份文件不是通过投标客户端同时加密生成的）。\\n\\n## 2.评审（详见第四章）\\n\\n## 3.定标\\n\\n## 3.1中标公告：\\n\\n中标供应商确定之日起2个工作日内，采购人或采购代理机构将在中国政府采购网(www.ccgp.gov.cn)、广东省政府采购网(https:/gdgpo.czt.gd.gov.cn/)上以公告的形式发布中标结果，中标公告的公告期限为 ${\\\\bf1}$ 个工作日。中标公告同时作为采购代理机构通知除中标供应商外的其他投标人没有中标的书面形式，采购代理机构不再以其它方式另行通知。\\n\\n## 3.2中标通知书:\\n\\n中标通知书在发布中标公告时，在云平台同步发送至中标供应商。中标供应商可在云平台自行下载打印《中标通知书》， 《中标通知书》将作为授予合同资格的唯一合法依据。中标通知书发出后，采购人不得违法改变中标结果，中标供应商不得放弃中标。中标供应商放弃中标的，应当依法承担相应的法律责任。\\n\\n## 3.3终止公告：\\n\\n项目废标后，采购人或采购代理机构将在中国 $\\\\left[ \\\\overrightarrow{\\\\chi} \\\\right] \\\\in\\\\widetilde{\\\\mathbb K} \\\\left[ \\\\right] \\\\left[ \\\\overrightarrow{\\\\chi} \\\\right] \\\\left( \\\\texttt{w w w. c c g p. g o v. c n} \\\\right).$ 、广东省政府采购网\\n\\n-第15页-(https:gdgpo.czt.gd.gov.cn/)、上发布终止公告，终止公告的公告期限为1个工作日。\\n\\n## 七、询问、质疑与投诉\\n\\n## 1..询问\\n\\n投标人对政府采购活动事项（招标文件、采购过程和中标结果)有疑问的，可以向采购人或采购代理机构提出询间，采购人或采购代理机构将及时作出答复，但答复的内容不涉及商业秘密。询问可以口头方式提出，也可以书面方式提出，书面方式包括但不限于传真、信函、电子邮件。联系方式见《投标邀请函》中“采购人、采购代理机构的名称、地址和联系方式”。\\n\\n## 2.质疑\\n\\n2.1供应商认为招标文件、采购过程和中标结果使育已的权益受到损害的，可以在知道或者应知其权益受到损害之日起七个工作日内，以书面原件形式向采购人或采购代理机构一次性提出针对同轻采购程序环节的质疑，逾期质疑无效。供应商应知北权益受到旧事口县指， 五A EPT\\n3 >\\n\\n$$\\n\\\\begin{matrix} \\\\cup_{\\\\mu=1}^{\\\\mu} \\\\mu^{\\\\nu}=\\\\mu^{\\\\mu} \\\\cup_{\\\\mu=0}^{\\\\mu} \\\\mu^{\\\\nu} \\\\mu^{\\\\nu} \\\\mu^{\\\\nu} \\\\mu^{\\\\nu} \\\\mu^{\\\\nu} \\\\mu^{\\\\nu} \\\\mu^{\\\\nu} \\\\mu^{\\\\nu} \\\\mu^{\\\\nu} \\\\mu^{\\\\nu} \\\\mu^{\\\\nu} \\\\mu^{\\\\nu} \\\\mu^{\\\\nu} \\\\mu^{\\\\nu} \\\\mu^{\\\\nu} \\\\mu^{\\\\nu} \\\\mu^{\\\\nu} \\\\mu^{\\\\nu} \\\\mu^{\\\\nu} \\\\mu^{\\\\nu} \\\\mu^{\\\\nu} \\\\mu^{\\\\nu} \\\\mu^{\\\\nu} \\\\mu^{\\\\nu} \\\\mu^{\\\\nu} \\\\mu^{\\\\nu} \\\\mu^{\\\\nu} \\\\mu^{\\\\nu} \\\\mu^{\\\\nu} \\\\mu^{\\\\nu} \\\\mu^{\\\\nu} \\\\mu^{\\\\nu}.} \\\\mu^{\\\\nu}.} \\\\end{matrix}\\n$$\\nKx&XH4&AHK%.%X%MYTYMce $\\\\therefore\\\\theta=\\\\frac{\\\\pi} {2} \\\\times\\\\frac{\\\\pi} {2}$ \\n\\n(1)对招标文件提出质疑的，为获取招标文件之国或者招标文件公告期限届满之日:\\n\\n(3)对中标结果提出质疑的，为中标结果公告期限届满之日。\\n\\n2.2质疑函应当包括下列主要内容：\\n\\n(1)质疑供应商和相关供应商的名称、地址、邮编、联系人及联系电话等；\\n\\n(2)质疑项目名称及编号、具体明确的质疑事项和与质疑事项相关的请求；\\n\\n(3)认为采购文件、采购过程、中标和成交结果使自己的合法权益受到损害的法律依据、事实依据、相关证明材料及证据来源；\\n\\n(4)提出质疑的日期。\\n\\n2.3质疑函应当署名。质疑供应商为自然人的，应当由本人签字；质疑供应商为法人或者其他组织的，应当由法定代表\\n人、主要负责人，或者其授权代表签字或者盖章，并加盖公章。\\n\\n2.4以联合体形式参加政府采购活动的，其质疑应当由联合体成员委托主体提出。\\n\\n2.5供应商质疑应当有明确的请求和必要的证明材料。质疑内容不得含有虚假、恶意成份。依照谁主张谁举证的原则，提\\n出质疑者必须同时提交相关确凿的证据材料和注明证据的确切来源，证据来源必须合法，采购人或采购代理机构有权将质疑函转发质疑事项各关联方，请其作出解释说明。对捏造事实、滥用维权扰乱采购秩序的恶意质疑者，将上报政府采购监督管理部门依法处理。\\n\\n $2$ .6质疑联系方式如 $\\\\mathrm{F}$ :\\n\\n质疑联系 $\\\\varLambda$ ：曾先生\\n\\n电话： $0 2 0-8 7 2 5 8 4 9 5$ \\n\\n传真:020-87284598\\n\\n邮箱： $\\\\mathrm{g d y z 0 5 \\\\oplus1 6 3. c o r}$ 1\\n\\n地址：广东省广州市越秀区先烈中路102号华盛大厦北塔26楼2608室\\n\\n邮编: $5 1 0 0 7 5$ \\n\\n## 3.投诉\\n\\n质疑人对采购人或采购代理机构的质疑答复不满意或在规定时间内未得到答复的，可以在答复期满后15个工作日内，按\\n如下联系方式向本项目监督管理部门提起投诉。\\n\\n政府采购监督管理机构名称：广东省财政厅政府采购监管处\\n\\n地址：广州市越秀区北京路376号北裙楼313室\\n\\n电话:020-83188580、83188500、83188511、83188586\\n\\n邮编： $5 1 0 0 3 0$ \\n\\n-第16页-传真:020-83357559\\n\\n## 八、合同签订和履行\\n\\n## 1.合同签订\\n\\n1.1采购人应当自《中标通知书》发出之口起三十日内，按照招标文件和中标供应商投标文件的约定，与中标供应商签订合同。所签订的合同不得对招标文件和中标供应商投标文件作实质性修改。超过30天尚未完成政府采购合同签订的政府采购项目，采购人应当登录广东省政府采购网,填报未能依法签订政府采购合同的具体原因、整改措施和预计签订合同时间等信息。 地山小1广\\n\\n7.*.TTV！！&我N\\n\\n1.2采购人不得提出试用合格等任何不合理的店 Oh 中日不得与中标供应商私下订立背离合同实质件人\\n要求作为签订合同的条件\\n容的协议。 号\\ntiQe\\n\\n= F#r- YarsS- \\n\\n1.3合同条款中应规定，乙方完全遵守《中华人展共和动合同法注有关规定和《中华人民共和国妇女权益保障法》中关王“劳动和社会保障权益”的有关要求。 中店\\n\\n1.4采购人应当自政府采购台同签订之日起2个工作日内 $\\\\cdot$ 将政府采购合同在省级以上人民政府财政部门指定的媒体上公告，但政府采购合同中涉及国家秘密、商业秘密的内容除外。\\n\\n1.5采购人应当自政府采购合同签订之日起2个工作日内，登录广东省政府采购网上传政府采购合同扫描版，如实填报政\\n府采购合同的签订时间。依法签订的补充合同，也应在补充合同签订之日起2个工作日内公开并各案采购合同。\\n\\n## 2.合同的履行\\n\\n2.1政府采购合同订立后，合同各方不得擅自变更、中上或者终上合同。政府采购合同需要变更的，采购人应将有关合同\\n变更内容，以书面形式报政府采购监督管理机关备案；因特殊情况需要中上或终止合同的，采购人应将中上或终止合同的理由\\n以及相应措施，以书面形式报政府采购监督管理机关备案。\\n\\n2.2政府采购合同履行中，采购人需追加与合同标的相同的货物、工程或者服务的，在不改变合同其他条款的前提下，可以与中标供应商签订补充合同,但所补充合同的采购金额不得超过原采购金额的10%。依法签订的补充合同，也应在补充合同签订之日起2个工作日内登录广东省政府采购网上传备案。\\n\\n-第17页-## 第四章评标\\n\\n## 一、评标要求\\n\\n## 1.评标方法\\n\\n采购包1(典型受污染耕地上壤环境质量类别加密调查与评价调整):综合评分法,是指投标文件满足招标文件全部实质性要求，且按照评审因索的量化指标评审得分最高的投标人为中标候选人的评标方法。（最低报价不是中标的唯一依据。）\\n\\n## 2.评标原则\\n\\n2.1评标活动遵循公平、公正、科学和择优的原则，以招 $t_{\\\\overline{{\\\\omicron}}}$ 文件和投左文件为评标的基本依据，并按照招标文件规定的评标方法和评标标准进行评标。\\n\\n2.2具体评标事项由评标委员会负责，并按招标委件的规定办法进行训自\\n\\n2.3合格投标人不足须知前附表中约定的有效供应固家数的，不得评标。\\n\\n## 3.评标委员会\\n\\n3.1评标委员会由采购人代表和评审专家组成，成员人数应当为5人及以上单数，其中评审专家不得少于成员总数的三分\\n之一.\\n\\n3.2评标应遵守下列评标纪律：\\n\\n(1）评标情况不得私自外泄，有关信息由广东元正招标采购有限公司统一对外发布。\\n\\n(2）对广东元正招标采购有限公司或投标人提供的要求保密的资料，不得摘记翻印和外传。\\n\\n(3不得收受投标供应商或有关人员的任何礼物，不得串联鼓动其他人祖护某投标人。若与投标人存在利害关系，则应\\n主动声明并回避。\\n\\n(4）全体评委应按照招标文件规定进行评标，一切认定事项应查有实据且不得弄虚作假。\\n\\n(5评标委员会各成员应当独立对每个投标人的投标文件进行评价，并对评价意见承担个人责任。评审过程中，不得发表倾向性言论。\\n\\n※对违反评标纪律的评委，将取消其评委资格，对评标工作造成严重损失者将予以通报批评乃至追究法律责任。\\n\\n4.有下列情形之一的，视为投标人串通投标，其投标无效：\\n\\n4.1不同投标人的投标文件由同一单位或者个人编制；\\n\\n4.2不同投标人委托同一单位或者个人办理投标事宜；\\n\\n4.3不同投标人的投标文件载明的项目管理成员或者联系人员为同一人；\\n\\n$$\\n4. 4 \\\\vec{x} \\\\left[ \\\\vec{x} \\\\right] \\\\left\\\\{\\\\frac{1} {x} \\\\right\\\\} \\\\left\\\\{\\\\left\\\\{\\\\left\\\\{\\\\begin{cases} {\\\\vec{x} \\\\pm\\\\vec{x} \\\\pm\\\\vec{x} \\\\pm\\\\vec{x} \\\\pm\\\\vec{x} \\\\pm\\\\vec{x} \\\\pm\\\\vec{x} \\\\pm\\\\vec{x} \\\\pm\\\\vec{x} \\\\pm\\\\vec{x} \\\\pm\\\\vec{x} \\\\pm\\\\vec{x} \\\\pm\\\\vec{x} \\\\pm\\\\vec{x} \\\\pm\\\\vec{x} \\\\pm\\\\vec{x} \\\\pm\\\\vec{x} \\\\pm\\\\vec{x} \\\\pm\\\\vec{x} \\\\pm\\\\vec{x} \\\\pm\\\\vec{x} \\\\right. \\\\right. \\\\right\\\\}\\n$$\\n\\n4.5不同投标人的投标文件相互混装：\\n\\n4.6不同投标人的投标保证金或购买电子保函文付款为从同一单位或个人的账户转出；\\n\\n4.7投标人上传的电子投标文件使用该项目其他投标人的数字证书加密的或加盖该项目的其他投标人的电子印章的。\\n\\n说明：在评标过程中发现投标人有上述情形的，评标委员会应当认定其投标无效。同时，项目评审时被认定为串通投标的投标人不得参加该合同项下的采购活动。\\n\\n## 5.投标无效的情形\\n\\n详见资格性审查、符合性审香和招标文件其他投标无效条款。\\n\\n## 6.定标\\n\\n评标委员会按照招标文件确定的评标方法、步骤、标准,对投标文件进行评审。评标结束后,对投标人的评审名次进行排\\n序，确定中标供应商或者推荐中标候选人。\\n\\n## 7.价格修正\\n\\n对报价的计算错误按以下原则修正：\\n\\n(1）投标文件中开标一览表内容与投标文件中相应内容不一致的，以开标一览表为准；\\n\\n(2大写金额和小写金额不一致的，以大写金额为准；\\n\\n(3）单价金额小数点或者百分比有明显错位的，以开标一览表的总价为准，并修改单价。\\n\\n(4）总价金额与按单价汇总金额不一致的，以单价金额计算结果为准。但是单价金额计算结果超过预算价的，对其按无效長标外理。\\n\\n(5）省投标客户端上传的电子报价数据与电子找愿求伴份格紧费政的，以电子报价数据为准。\\n\\ntn.wan - \"ANe\\n\\n注：同时出现两种以上不一致的，按照前款规定的顺序在系统上进行价格澄清。澄清后的价格加盖电子印章确认后产生约束力，但不得超出投标文件的范围或者改变投标文伴的实质性内容：投标人不确认的，其投标无效。\\n\\n## 二.政府采购政策落实\\n\\n## 1.节能、环保要求\\n\\n采购的产品属于品目清单范围的，将依据国家确定的认证机构出具的、处于有效期之内的节能产品、环境标志产品认证证书，对获得证书的产品实施政府优先采购或强制采购，具体按照本招标文件相关要求执行。\\n\\n相关认证机构和获证产品信息以市场监管总局组织建立的节能产品、环境标志产品认证结果信息发布平台公布为准。\\n\\n## 2.对小型、微型企业、监狱企业或残疾人福利性单位给子价格扣除\\n\\n依照《政府采购促进中小企业发展管理办法》、《支持监狱企业发展有关问题的通知》和《财政部民政部中国残疾人联合会关于促进残疾人就业政府采购政策的通知》的规定，凡符合享受《政府采购促进中小企业发展管理办法》规定的中小企业扶持政策的单位，按照以下比例给予相应的价格扣除：（监狱企业、残疾人福利性单位视同为小、微企业）。\\n\\n## 3.价格扣除相关要求\\n\\n采购包1（典型受污染耕地土壤环境质量类别加密调查与评价调整）：\\n\\n| 序号 | 情形 | 适用对象 | 价格扣除比例 | 计算公式 |\\n| --- | --- | --- | --- | --- |\\n| 注:（1） | 上述评标价仅用于计算价格 | ，成交金额以实际投标价为准。 | （2）组成联合体的人 | 中型企业和具他目然八、法 |\\n| 人或者其他组织、与小型、微型企业之间不得存在投资关系 |\\n\\n## (1所称小型和微型企业应当符合以下条件：\\n\\n符合中小企业划分标准的个体工商户，在政府采购活动中视同中小企业\\n\\n(2）符合中小企业扶持政策的投标人应填写《中小企业声明函》；监狱企业须投标人提供由监狱管理局、戒毒管理局 (含新疆生产建设兵团)出具的属于监狱企业的证明文件；残疾人福利性单位应填写《残疾人福利性单位声明函》，否则不认定价格扣除。\\n\\n说明：投标人应当对其出具的《中小企业声明函》真实性负责，投标人出具的《中小企业声明函》内容不实的，属于提供\\n虚假材料谋取中标。\\n\\n(3）投标（响应)供应商统一在一份《中小企业声明函》中说明联合体各方的中小微情况：包括联合体各方均为小型、\\n微型企业的，及中小微企业作为联合体一方参与政府采购活动，且共同投标协议书中约定，小型、微型企业的协议合同金额占到联合体协议合同总金额30%以上的。\\n\\n## 三、评审程序\\n\\n## 1.资格性审查和符合性审查\\n\\n资格性审查。公开招标采购项目开标结束后，采购人或采购代理机构应当依法对投标人的资格进行审查，以确定投标人是否具备投标资格。(详见后附表一资格性审查表)\\n\\n符合性审查。评标委员会依据招标文件的规定，从投标文件的有效性、完整性和对招标文件的响应程度进行审查，以确定是否对招标文件的实质性要求作出响应。（详见后附表二符合性审查表)\\n\\n中评伊知界为未通过，未通过资格性审查、符合性审查的投标人技按无效投标处理。\\n\\n时初步被认定为无没投标者，由评标姿员会组长或采购人代表将集休意见及时告知投标当事人。 S ETT\\n\\nTAFNI\\n\\n评标委员会认为投标人的报价明显低于其他通过符合性审查投标人的报价，有可能影响产品质量或者不能诚信履约的，应当要求其在评标现场合理的时间内提供书面说明，必要时提交相大证明材料；投标人不能证明其报价合理性的，评标委员会应当将其作为无效投标处理。\\n\\n合格投标人不足3家的，不得评标。\\n\\n表一资格性审查表：\\n\\n采购包1（典型受污染耕地上壤环境质量类别加密调查与评价调整）：\\n\\n| 序号 |  | 资格审查内容 |\\n| --- | --- | --- |\\n| 1 | 具有独立承担民事责任的能力  | 在中华人民共和国境内注册的法人或其他组织或自然人，投标（响应）时提交有效的营业执照（或事业法人登记证或身份证等相关证明)副本扫描件。分支机构投标的，须提供总公司和分公司营业执照副本扫描件，总公司出具给分支机构的授权书 |\\n| 2 | 有依法缴纳税收和社会保障资金的良好记录  | 提供声明函（格式自定，格式可参考招标公告附件）。 |\\n| 3 | 具有良好的商业信誉和健全的财务会计制度  | 提供声明卤 A 考招标公告附件）。 路式自定,格式司 S艺  |\\n| 4 | 履行合同所必需的设备和专业技术能力  | 提供声阴函（格式格式通参考招标公告附件）。 |\\n| 5 | 参加采购活动前3年内，在经营活动中没有重大违法记录 | 参照投标《报价）函相关承诺格式内容。重大违法记录，是指供应商因违法经营受到刑事处罚或者节亭业、吊销许可证或者执照、较大数额罚款等行政处罚。 (根据财库（2022）3号文，“较大数额罚款“认定为200万元以上的罚款，法律、 行政法规以及国务院有关部门明确规定相关领域\"较大数额罚款\"标准高于200万元的，从其规定)  |\\n| 6 | 信用记录 | 供应商未被列入\"信用中国\"网站(www.creditchina.gov.cn)\"记录失信被执行人或重大税收违法失信主体或政府采购严重违法失信行为”记录名单；不处于中国政府采购网(www.ccgp.gov.cn)\"政府采购严重违法失信行为信息记录\"中的禁止参加政府采购活动期间。（以资格审查人员于投标（响应）截止时间当天在“信用中国\" 网站（www.creditchina.gov.cn）及中国政府采购网（http://www.ccgp.gov.cn /)查询结果为准，如相关失信记录已失效，供应商需提供相关证明资料）。  |\\n|  | 供应商必须符合法律、行政法规规定的其他条件  | 单位负责人为同一人或者存在直接控股、管理关系的不同供应商，不得同时参加本采购项目（或采购包）投标（响应）。为本项目提供整体设计、规范编制或者项目管理、监理、检测等服务的供应商，不得再参与本项目投标（响应）。投标（报价 ）函相关承诺要求内容。  |\\n| 8 | 关于联合体 | 本项目不接受联合体投标。 |\\n| 9 | 本采购包专门面向中小企业采购  | 本以日整体专门闻可中小企业，服务必烈生部田中小企业提供：（中小企业级付台 本项目采购标的对应行业（对应行业：其他未列明行业）的政策划分标准，监狱企业、残疾人福利单位视同小型、微型企业，需提供《中小企业声明函》或属于监狱企业的证明材料或《残疾人福利性单位声明函》）。注：中小企业须符合本项目采购标的对应行业的政策划分标准，监狱企业、残疾人福利单位视同小型、微型企业 。中小企业以投标人填写的《中小企业声明》（见投标格式)为判定标准，残疾人福利性单位以供应商填写的《残疾人福利性单位声明函》（见投标格式）为判定标准，监狱企业须供应商提供由省级以上监狱管理局、戒毒管理局（含新疆生产建设兵团）出具的属于监狱企业的证明文件，否则不予认定。  |\\n\\n表二符合性审查表：\\n采购包1（典型受污染耕地上壤环境质量类别加密调查与评价调整）：\\n\\n-第21页-t. eIN、 Ir i m.L-ILN\\n\\n| 1 | 投标函 | 已按规定格式编制及盖章、签署。 |\\n| 2 | 投标文件签署、盖章 | 投标文件内容已按招标文件要求盖章、签署 |\\n| 3 | 投标有效期要求 | 投标有效期不少于招标文件中载明的投标有效期 |\\n| 4 | 投标报价 | 投标总报价是固定价且是唯一的，未超过本项目采购包预算金额（最高限价） |\\n| 5 | 报价合理性 | 不存在报价明显不合理而投标人不能合理说明的情况 |\\n| 6 | 串通投标 | 未出现招标文件所列的视为串通投标的情形 |\\n| 7 | 无效的情形 | 投标文件口采创装律法泉，规草或招标文件无效的情形。 |\\n| 8 | “大”号条款 | \"大\"号集敷授标文件(大\"号条跌满足足招标文件要求 |\\n\\n## 2.投标文件澄清\\n\\n2.1对于投标文件中含义不明确、同类问题表达浓子致或者有明显文学和计算错误的内容，评标委员会应当在评审过程中发起在线澄清，要求投标人针对价格或内容做出必要的澄清。说明或补正。代理机构可根据开标环节记录的授权代表人联系方式发送短信提醒或电话告知。\\n\\n投标人需登录广东政府采购智慧云平台项目采购系统的等候大厅，在规定时间内完成澄清（响应），并加盖电子印章。\\n若因投标人联系方式错误未接收短信、未接听电话或超时未进行澄清（响应）造成的不利后果由供应商自行承担。投标人的澄清、说明或者补正不得超出投标文件的范围或者改变投标文件的实质性内容。\\n\\n2.2评标委员会不接受投标人主动提出的澄清、说明或补正。\\n\\n2.3评标委员会对投标人提交的澄清、说明或补正有疑问的，可以要求投标人进一步澄清、说明或补正\\n\\n## 3.详细评审\\n\\n采购包1(典型受污染耕地土壤环境质量类别加密调查与评价调整):\\n\\n评审因素评审标准\\n\\n| 分值构成 | 商务部分30.0分技术部分60.0分 报价得分10.0分 |  |\\n|  |  | -第22页- |\\n\\n| 技术部分 | 项目实施方案(13.0分)，等次分值选择：0.0；1.0:4.0；8 0; 13.0;)  | 根据投标人对采购文件“项目概况和项目现状”、“服务内容\"提出的实施方案综合评审:1.实施方案合理性、完整性强，具备可行性，以及研究方法和技术路线一分清晰，提供的方案非常合理，可行性强，完全满足且优于采购需求的得13分；2.实施方案合理性、完整性较强，比较具各可行性以及研究方法和技术路线比较清晰，提供的方案比较合理，可行性较高， 完全满足采购需求的得8分；3.实施方案合理性、完整性较差，不具各可行作, 研究方法和技术路线基本清晰，提供的方案基本合理，基本可 ，家科来会海真展以市求的得4分：4.实随力案合理性、比杯性较准， 备可行性， 以及面小究方法和技术路线不清晰，提供的方案合理性较差福可行件不满是采购需求的得1分。5.不提供不得分。  |\\n|  | 项目进度及质量保障方案（13.0 分)，（等次分值选择：0.0； 1 0；4.0；8.0；13.0；)  | 比可行性不不满是采购需求的得1分。5.不提供不得分。 根据投标大对米购车项目进度要求”、“质量保证要求”、制定的方案综评审： :1.投标人提供的进度及质量保障计划非常详细、科学合理、工期优于要可行、措施到位，完全满足且优于采购需求的得13分：2 投标人提供的进度及质量保障计划较详细、较科学合理、工期满足要求、 比较可行、措施较到位，完全满足采购需求的得8分；3.投标人提供的进度及质量保障计划不够详细合理、工期不满足要求、可行性差、措施不到位，不能完全满足采购需求的得4分；4.投标人提供的进度及质量保障计划不合理、工期不满足要求，不满足采购需求的得1分。5.不提供不得分 |\\n| 服务响应便利性(8.0分)，（等次分值选择：0.0；2.0；5.0；8 0;)  | 根据投标人对采购文件“服务便利性”要求进行评审：（1）响应时间迅速服务便捷，承诺收到采购人通知（电话或书面）后1小时(含)内响应得8 分；（2）响应时间较为迅速，服务较为便捷，承诺收到采购人通知（电话或书面）后1-2小时（含2小时）内响应得5分：（3）响应时间不迅速服务不便捷，承诺收到采购人通知（电话或书面）后起过2小时响应的得2分：注：提供服务响应承诺函，格式自拟，未提供承诺函不得分。 |\\n| 保密方案（13.0分)，（等次分值选择：0.0; 1.0; 4.0； 8.0； 1 3.0;)  | 根据投标人对采购文件“保密要求\"服务内容提出的保密方案综合评审：： (1）方案完整，制度完善，重点突出，，完全满足且优于项目需求的得1 3分（2）方案较完整，制度较完善，重点较突出，完全满足项目需求的得 8分；（3）方案一般，制度不完善，重点不突出，不能完全满足项目需求的得4分；（4）方案不完整，制度缺失，没有重点，不能满足项目需求的得1分;（5）未提供不得分;  |\\n| 同类项目业绩情况（10.0分) | 供应商2020年1月1日至今（以合同签订时间为准）有同类项目经验的（ 受污染耕地安全利用或耕地质量类别的），每提供一个得2分，本项最多得10分。注：需提供相关合同的关键页（关键页包含签订合同双方的单位名称、项目名称、项目内容、双方签字盖章页及合同签订日期内容）扫描件，不提供不得分  |\\n\\n商务部分\\n-第23页-\\n\\n|  | 技术支撑（20.0分 | 1.项目负责人（6分）：（1）具有农业、环境类相关专业高级职称的得6 分：（2）具有农业、环境类相关专业中级职称的得3分：（3）其他情况 或不提供不得分；本项最高得分6分。2.团队人员（项目负责人除外）（ 14分）：（1）具有农业、环境类相关专业高级职称或以上的，每提供一 人得3分，（2）具有农业、环境类相关专业中级职称的，每提供一人得2 分，本项累计最高得14分。注：同一人提供多项证书的不重复得分，并按其最高级别计分，同时提供①服务团队人员清单②团队人员在投标单位 约外部让明鲨都(如用工证明文件或劳动合同或投标截止之口前3月内 月社保，无提供不得分。  |\\n| 投标报价 | 投标报价得分(10.0分） | 投标报价得 (评标基准价/投标报价)×价格分值（注：满足招标文件要求且投标价格最低的投标报价为评标基准价。最低报价不是中标的唯衣据。 。因落实政府采购政策进行价格调整的，以调整后的价格计算评标基准价投标井  |\\n\\n## 4.汇总、排序\\n\\n$$\\n\\\\bar{\\\\chi} \\\\mathbb{H} \\\\sqcup\\\\mathbf{1} :\\n$$\\n\\n评标结果按评审后总得分由高到低顺序排列。总得分相同的按投标报价由低到高顺序排列。得分且投标报价相同的，由评\\n委会采取随机抽取的方式确定。排名第一的投标供应商为第一中标候选人，排名第二的投标供应商为第二中标候选人（提供相同品牌产品（非单一产品采购，以核心产品为准。多个核心产品的，有一种产品品牌相同,即视为提供相同品牌产品），评审后得分最高的同品牌投标人获得中标人推荐资格；评审得分相同的，由采购人或者采购人委托评标委员会采取随机抽取方式确定，其他同品牌投标人不作为中标候选人）。\\n\\n## 5.中标价的确定\\n\\n除了按第四章第一点第 $\\\\mathbf{7}$ 条修正并经投标人确认的投标报价作为中标价外，中标价以开标时公开唱标价为准。\\n\\n## 6.其他无效投标的情形：\\n\\n(1)评标期间，投标人没有按评标委员会的要求提交法定代表人或其委托代理人签字的澄清、说明、补正或改变了投标文\\n件的实质性内容的。\\n\\n## (2)投标文件提供虚假材料的。\\n\\n(3)投标人以他人名义投标、串通投标、以行贿手段谋取中标或者以其他弄虚作假方式投标的。\\n\\n(4)投标人对采购人、采购代理机构、评标委员会及其工作人员施加影响，有碍招标公平、公正的。\\n\\n(5)投标文件含有采购人不能接受的附加条件的。\\n\\n(6)法律、法规和招标文件规定的其他无效情形。\\n\\n$$\\n- \\\\nstackrel{\\\\pi} {\\\\mp} 2 4 \\\\stackrel{\\\\pi} {\\\\pm}\\n$$\\n\\n## 第五章合同文本\\n\\n## 合同文本\\n\\n采购计划编号：\\n\\n页目编 $\\\\frac{\\\\mathtt{H}} {\\\\vartheta}$ : 车\\n\\n项目名称:\\n\\n注：以下合同仅供参考，具体内容以双方按照采购文件、响应文件及相关法律政策规定所签访的合同为准。 甲方：广东省农业环境与耕地质量保护中心\\n\\n$$\\nZ \\\\quad\\\\quad\\\\dot{\\\\pi} ;\\n$$\\n\\n$$\\n\\\\mp\\\\pi:\\n$$\\n\\n电话：传真：\\n\\n$$\\n\\\\pm\\\\pm\\\\pm\\\\pm\\n$$\\n\\n$$\\n\\\\mathrm{Z} \\\\dot{\\\\pi} ;\\n$$\\n\\n电话： 传真:\\n\\n$$\\n\\\\pm\\\\pm\\\\pm\\\\pm\\n$$\\n\\n的采购结果，按照《中华人民共和国政府采购\\n\\n$$\\nH_{2}^{3} H_{3}^{3} H_{4}^{4}+H_{4}^{4}+H_{4}^{4}+H_{4}^{4}+H_{4}^{4}+H_{4}^{4}+H_{4}^{4}+H_{4}^{4}+H_{4}^{4}+H_{4}^{4}+H_{4}^{4}+H_{4}^{4}+H_{4}^{4}+H_{4}^{4}\\n$$\\n客\\n\\nraDA 学幸上利和城实信居的原川,一致回意遵宁本会司如\\nEY 本着美会\\n法》，《中华人民共和国民法典(合同编)》的规成，经双方协商，不有学部\\n\\nlucn0S\\n\\n一、合同金额\\n\\n合同金额为（大写）： $\\\\vec{\\\\pi}$  $( \\\\Upsilon$  $\\\\vec{\\\\pi}$ ）人民币。\\n\\n二、服务范围\\n\\n甲方聘请 $\\\\mathrm{Z}$ 方提供以下服务（采购标的，详见采购包的需求）：\\n\\n$$\\n\\\\mathbf{1}. \\\\dots\\\\dots\\\\dots\\n$$\\n\\n$$\\n2.\\n$$\\n\\n三、服务期间（项目完成期限)\\n\\n1.委托服务期间白年月至年月止。\\n\\n ${}_{2}$ .交货方式：现场递交\\n\\n $3$ .服务地点:广州市。\\n\\n$$\\n\\\\pi, \\\\eta\\\\pm\\\\chi\\\\pm\\\\zeta\\n$$\\n\\n1期：支付比例90%,双方签订合同、乙方开具发票后5个工作日内支付90%预付款。\\n\\n2期：支付比例10%,项目验收合格后凭验收意见、发票支付剩余10%款。如项目验收不合格，采购人有权要求中标人退\\n回所有已支付款项，并承担相应的责任、\\n\\n注：因采购人使用的是财政资金，采购人在前款规定的付款时间为向政府采购支付部门提出办理财政支付申请手续的时间 (不含政府财政支付部门审核的时间），在规定时间内提出支付申请手续后即视为采购人已经按期支付。\\n\\n资金支付方式:银行转账方式\\n\\n五、质量保修范围和保修期\\n\\n1.本合同的质量保证期（简称\"质保期为无年。\\n\\n2. 无\\n\\n $\\\\grave{\\\\Lambda},$ 验收、交付标准和方法\\n\\n乙方提交项目采购需求规定的项目成果\\n\\n(1）验收要求：由广东省农业环境与耕地质量保护中心（广东省农业农村投资项目中心)负责组织，由项目承担单位协助落实，并提供相关资料。验收前，中标人要完成所有硬件设施建设和调试运行和监测任务，形成项目总结报告。\\n\\n(2）验收方式：广东省农业环境与耕地质量保护中心（广东省农业农村投资项目中心）组织实施。采用专家会议结合现场查看的形式进行项目验收。\\n\\n(3)验收时间：2025年3月31日前完成验收\\n\\n$$\\nt, 1 \\\\mp\\\\frac{1} {4}\\n$$\\n\\n1.乙.方及其指派人员在本项目实施过程中，严格遵守甲方有关保密规定和要求。在工作中使用和产生的各类纸质或电子文档资料均归甲方所有。 $\\\\mathrm{Z}$ 方对接触到、掌握到的甲方的工作状况、文件资料、数据信息、技术装备等应严格保守秘密，木经甲\\n方书面许可，不得记录、存储、复制、泄露、外传等。不以任何直接或间接的方式向任何第三方提供、泄露本项目相关秘密信\\n息，也不得将这些信息用于为第三方服务。\\n\\n2.乙.方因本业务工作需要所持有或保管的一切记录甲方及其合作方秘密信息的文件、资料、图表、笔记、报告、传真、磁带、磁盘、仪器以及其他任何形式的载体，均归甲方所有。 $\\\\mathrm{Z}$ 方应当于服务合同终止时，向甲方返还本项日相关的全部秘密信息，包括记载着甲方及其合作方秘密信息的一切载体。 $\\\\mathrm{Z}$ 方按有关保密制度要求，制定工作资料安全与保密规定，下发每位项目组人员，确保项目保密工作不出问题。\\n\\nLaIIL\\n\\n3.乙为因保密工作不到位，造成甲方信息北帮发感发意腊银作希强入长依法追究乙方法律责任。\\n\\n $J \\\\backslash$ 违约责任与赔偿损失\\n\\n1.Z方提供的服务不符合本合同规定的，早力着权拒政城并口之方须局中方方支付本台同总价5%的违约金。\\n\\nL rsny; ;n.I\\n\\n2.乙方未能按本合同规定的交货时间提供服务部从逾期泛口起每其孩本合同总价3%‰的数额向甲方支付违约金；逾期半个月以上的，甲方有权终止合同，由此造成的甲方经济损失由乙方承担\\n\\n3.甲方无正当理白拒收接受服务，到期拒付服务款项的。单办词己方偿付本合同总的5%的违约金。“方人逾期付款，则每日按本合同总价的3%.向乙方偿付违约金。\\n\\n4.对于因甲方原因导致变更、中上或者终上政府采购合同的，甲方应当依照以下合同约定对乙方受到的损失予以赔偿或者补偿：\\n\\n5.其它违约责任按《中华人民共和国民法典(合同编)》处理。\\n\\n $f_{\\\\mathrm{L}},$ 争议的解决\\n\\n合同执行过程中发生的任何争议，如双方不能通过友好协商解决，按相关法律法规处理\\n\\n$$\\n+, \\\\pi\\\\pi\\\\pi\\\\pi\\n$$\\n\\n任何一方由于不可抗力原因不能履行合同时，应在不可抗力事件结束后1日内向对方通报，以减轻可能给对方造成的损失，在取得有关机构的不可抗力证明或双方谅解确认后，允许延期履行或修订合同，并根据情况可部分或全部免于承担违约责任。\\n\\n$$\\n+-, F_{D}^{\\\\prime\\\\prime} \\\\neq\\n$$\\n\\n在中国境内、外发生的与本合同执行有关的一切税费均由乙方负担。\\n\\n$$\\n+ \\\\Xi, \\\\# \\\\vec{\\\\Sigma}\\n$$\\n\\n1.本合同所有附件、招标文件、投标文件、中标通知书均为合同的有效组成部分，与本合同具有同等法律效力。\\n $2$ .在执行本合同的过程中，所有经双方签署确认的文件（包括会议纪要、补充协议、往来信函）即成为本合同的有效组厅部分\\n\\niur  o\\n\\n3.如一方地址、电话、传真号码有变更，应在变更当日内书面通知对方，否则，应承担相应责任。\\n\\n4.除甲方事先书面同意外，乙方不得部分或全部转让其应履行的合同项下的义务。\\n\\n$$\\n5. \\\\neq\\\\mathrm{i n} \\\\neq\\\\mathrm{i} \\\\times\\n$$\\n\\n5.1保证提供的所有资料和项日成果均符合所有可适用的法律、法规、规范性文件的要求。\\n\\n5.2保证提供的所有资料、项目成果、考试系统均为服务商所创作或已事先取得相应授权。保证采购人使用上述资料、项目成果和考试系统的行为不会侵犯任何第三人的合法权益。如果发生第三人主张采购人因使用上述资料、项目成果和考试系统构成侵权的，中标人应当承担相应的法律责任，日此给采购人造成损失的，由中标人全额赔偿。\\n\\n## 十三、合同生效\\n\\n1.本合同在甲乙双方法人代表或其授权代表签字盖章后生效。\\n\\n $2$ 合同一式份,甲方份，乙方份。\\n\\n甲方（盖章）： 乙方（盖章）： 代表： 代表：\\n\\n签定日期：年月日签定日期： 年月日\\n\\n开户名称： 开户名称：\\n\\n银行帐号： 银行帐号： 开户行： 开户行：\\n\\n签定地点：\\n\\ntiQe ## 第六章投标文件格式与要求\\n\\n投标人应提交证明其有资格参加投标和中标后有能力履行合同的相关文件，并作为其投标文件的一部分，所有文件必须真实可靠、不得伪造，否则将按相关规定予以处罚。\\n\\n## 1.法人或者其他组织的营业执照等证明文件，自然人的身份证明：\\n\\n+ ILtc Ait1In2t， 由I.（H1和1人国4H汁I世山0A-而与任人.人业、·Ai.-.山日友1亿人\\n\\n法八也拍生正业法八、仙大法八、争业中世法八州仁云以个法八；共他组级土安世护管伙生兆、非生业专业服分例、1个上孩金心在村有创区品金商贸区股桥公中有限有餐建公公有商社中限活有生、有限展有上会市地\\nSTTOP\\n海海路设在社年超变生在工超部注我的有然“企业法入营业我“域“当业执照”：如投标人是事业单 $\\\\overrightarrow{\\\\imath} \\\\overrightarrow{\\\\jmath}$ ，要提供有效的“事业单 $\\\\overrightarrow{\\\\imath}$ 法人证书”；投标人是非企业专业服务机构的，如律师事务所，会计西北餐路金商心贸人生司中际限大餐会要提供有效的 $\\\\mathbf{\\\\mu}$ 个体工商户营业执照”,如投标人是白然人，\\n福\\n福\\n\\n这里所指“其他组织\"不包括法人的分支机构，由于法人分支机构不能独立承担民事责任，不能以分支机构的身份参加政府采购，只能以法人身份参加。“但由于银行、保险、石油石化、电力、电信等行业具有其特殊性，如果能够提供其法人给子的相应授权证明材料，可以参加政府采购活动”。\\n\\n2.财务状况报告，依法缴纳税收和社会保障资金的相关材料（详见资格性审查表要求)\\n\\n3.具有履行合同所必须的设备和专业技术能力的声明。\\n\\n4.投标人参加政府采购前三年内在经营活动中没有重大违法记录书面声明函。\\n\\n $5$ . $\\\\varLambda_{\\\\Xi}^{\\\\rightharpoonup}$ 用记录查询\\n\\n(1）查询渠道：通过“信用中国\"网站(www.creditchina.gov.cn)和“中国政府采购网”（www.ccgp.gov.cn）进行查询.\\n\\n(2)查询截止时点：提交投标文件截止日当天：\\n\\n(3)查询记录：对列入失信被执行人、重大税收违法案件当事人名单、政府采购严重违法失信行为记录名单、信用报告进行查询;\\n\\n采购人或采购代理机构应当按照查询渠道、查询时间书点、查询记录内容进行查询，并存档。对信用记录查询结果中显示投标人被列入失信被执行人、重大税收违法案件当事人名单、政府采购严重违法失信行为记录名单的投标人作无效投标处理\\n\\n6.按照招标文件要求，投标人应当提交的资格、资信证明文件。\\n\\n-第29页-## 技标文件封面\\n\\n$$\\n( \\\\root{H} \\\\nparallel\\\\n--)\\n$$\\n\\n## 投标文橱面 a安\\n\\n(正本/副本\\n\\n采购计划编号:440001-2024-21835\\n\\n采购项目编号:0835---240752802841\\n\\n所投采购包:第包\\n\\n $\\\\epsilon$ 投标 $\\\\Lambda$ 名称 $\\\\lambda$ \\n\\n$$\\n\\\\boxplus\\\\models\\\\ H\\n$$\\n\\n-第30页-## 投标文件目录\\n\\n## 、投标函\\n\\n二、开标一览表\\n\\n三、分项报价表\\n\\n四、政策适用性说明\\n\\n $\\\\mathcal{F}$ 、法定代表人证明书\\n\\n $\\\\grave{\\\\Lambda}$ 、法定代表 $\\\\Lambda$ 授权书\\n\\n- $\\\\L,$ 投标保证金\\n\\n八、提供具有独立承担民事责任的能力的证更粉料\\n\\n iRie\\n\\n九、资格性审查要求的其他资质证明文件\\n\\n$$\\n+, \\\\overrightarrow{\\\\pi} \\\\cup\\\\overrightarrow{\\\\pi} \\\\overrightarrow{\\\\pi}\\n$$\\n\\n十一、中小企业声明函\\n\\n十二、监狱企业\\n\\n十三、残疾人福利性单位声明函\\n\\n十四、联合体共同投标协议书\\n\\n十五、投标人业绩情况表\\n\\n十六、技术和服务要求响应表\\n\\n $+ \\\\L,$ 商务条件响应表\\n\\n十 $J \\\\backslash\\\\b,$ 履约进度计划表\\n\\n十九、各类证明材料\\n\\n二十、采购代理服务费支付承诺书\\n\\n $-+-$ 、需要采购人提供的附加条件\\n\\n二十二、询问函、质疑函、投诉书格式\\n\\n二十三、项目实施方案、质量保证及售后服务承诺等\\n\\n$$\\n\\\\Xi+\\\\Pi, \\\\beta H / 4\\n$$\\n\\n二十五、政府采购履约担保函、采购合同履约保险凭证\\n\\n-第31页-\\n\\n$$\\n1 2+\\\\pm:\\n$$\\n\\n## 投标函\\n\\n## 致：广东元正招标采购有限公司\\n\\n \\n你方组织的“典型受污染耕地土壤环境质量类别加密调查与评价调整”项目的招标[采购项目编号为：0835--240Z52802841]，我方愿参与投标。\\n\\n我方确认收到贵方提供的“典型受污染耕地土壤环境质量类别加密调查与评价调整 $. \\\\! \\\\! \\\\! \\\\! \\\\! \\\\! \\\\! \\\\! \\\\! \\\\cdot$ 项目的招标文件的全部内容\\n\\n附件，我方完全明白并认为此招标文件没有倾向性众也不荐在排斥港在投标人的内容，我方同意招标文件的相关条款，放弃对招标文件提出误解和质疑的一切权力。 N\\n-imet\\n\\n%5RrFS. R\\n\\n$$\\n( 3 x^{2} \\\\hbar\\\\cdot\\\\frac{1 7} {2}-\\\\frac{1 7} {2} ) ( 1-\\\\frac{1} {2} ) \\\\cdot\\\\frac{1} {2} \\\\hbar\\\\cdot\\\\frac{1} {2} \\\\cdot\\\\frac{1} {2} \\\\cdot\\\\frac{1} {2} \\\\cdot\\\\frac{1} {2} \\\\cdot\\\\frac{1} {2} \\\\cdot\\\\frac{1} {2} \\\\cdot\\\\frac{1} {2} \\\\cdot\\\\frac{1} {2} \\\\cdot\\\\frac{1} {2} \\\\cdot\\\\frac{1} {2} \\\\cdot\\\\frac{1} {2} \\\\cdot\\\\frac{1} {2} \\\\cdot\\\\frac{1} {2} \\\\cdot\\\\frac{1} {2} \\\\cdot\\\\frac{1} {2} \\\\cdot\\\\frac{1} {2} \\\\cdot\\\\frac{1} {2} \\\\cdot\\\\frac{1} {2} \\\\cdot\\\\frac{1} {2} \\\\cdot\\\\frac{1} {2} \\\\cdot\\\\frac{1} {2} \\\\cdot\\\\frac{1} {2} \\\\cdot\\\\frac{1} {2} \\\\cdot\\\\frac{1} {2} \\\\cdot\\\\frac{1} {2} \\\\cdot\\\\frac{1} {2} \\\\cdot\\\\frac{1} {2} \\\\cdot\\\\frac{1} {2} \\\\cdot\\\\frac{1} {2} \\\\cdot\\\\frac{1} {2} \\\\cdot\\\\frac{1} {2} \\\\cdot\\\\cdot\\\\frac{1} {2}\\n$$\\n理有关本投标的一切事宜。\\n\\n我方已完全明白招标文件的所有条款要求，\\n并事明如下：\\n\\n(一）按招标文件提供的全部货物与相关服务的投标总价详见《开标一览表》。\\n\\n(二）本投标文件的有效期为从提交投标（响应）文件的截止之日起90日历天。如中标，有效期将延至合同终止日为\\n\\n上。在此提交的资格证明文件均至投标截止口有效，如有在投标有效期内失效的，我方承诺在中标后补齐一切手续，保证所有资格证明文件能在签订采购合同时直至采购合同终止日有效。\\n\\n(三)我方明白并同意，在规定的开标口之后，投标有效期之内撤回投标或中标后不按规定与采购人签订合同或不提交履约保证金，则贵方将不子退还投标保证金。\\n\\n(四）我方愿意向贵方提供任何与本项报价有关的数据、情况和技术资料。若贵方需要，我方愿意提供我方作出的一切承诺的证明材料。\\n\\n(五）我方理解贵方不一定接受最低投标价或任何贵方可能收到的投标。\\n\\n(六)我方如果中标，将保证履行招标文件及其澄清、修改文件（如果有)中的全部责任和义务，按质、按量、按期完成\\n《采购需求》及《合同书》中的全部任务。\\n\\n(七）我方作为法律、财务和运作上独立于采购人、采购代理机构的投标人，在此保证所提交的所有文件和全部说明是真实的和正确的。\\n\\n(八）我方投标报价已包含应向知识产权所有权人支付的所有相关税费，并保证采购人在中国使用我方提供的货物时，如\\n有第三方提出侵犯其知识产权主张的，责任由我方承担。\\n\\n(九）我方接受采购人委托向贵方支付代理服务费,项目总报价已包含代理服务费，如果被确定为中标供应商，承诺向贵方足额支付。（若采购人支付代理服务费，则此条不适用)\\n\\n(一）我方与其他投标人不存在单位负责人为同一人或者存在直接控股、管理关系。\\n\\n(十一）我方承诺未为本项目提供整体设计、规范编制或者项目管理、监理、检测等服务。\\n\\n(一二）我方未被列入法院失信被执行人名单中。\\n\\n（十三）我方承诺遵守《中华人民共和国劳动合同法》有关规定和《中华人民共和国妇女权益保障法》中关于“劳动和社会保障权益”的有关要求。\\n\\n(十四）我方具备《中华人民共和国政府采购法》第二十二条规定的条件，承诺如下：\\n\\n(1）我方参加本项目政府采购活动前3年内在经营活动中没有以下违法记录，或因违法经营被禁止参加政府采购活动的期限已届满:因违法经营受到刑事处罚或者责令停产停业、吊销许可证或者执照、较大数额罚款等行政处罚。\\n\\n(2我方符合法律、行政法规规定的其他条件。\\n\\n以上内容如有虚假或与事实不符的，评标委员会可将我方做无效投标处理，我方愿意承担相应的法律责任。\\n\\n(十五）我方对在本函及投标文件中所作的所有承诺承担法律责任\\n\\n(一六）所有与本招标有关的函件请发往下列地址：\\n\\n-第32页-邮政编码:\\n\\n传真： 电子邮箱:\\n\\n代表姓名：\\n\\n投标人法定代表人（或法定代表人授权代表)签字或盖章：\\n\\n投标人名称（盖章）：\\n\\n日期:年月日\\n\\nLiape\\n\\n-第33页-\\n\\n$$\\nt_{1} \\\\pm\\\\pm:\\n$$\\n\\n$$\\n\\\\mp\\\\pi-\\\\pi\\\\pi\\n$$\\n\\n注：投标供应商应在投标客户端 $\\\\mathbf{x}$ 报价部分进行填写,投标客户端软件将自动根据供应商填写信息在线生成开标一览\\n表，若在投标文件中出现非系统生成的开标一览表，且与投标客户端生成的开标一览表信息内容不一致，以投标客户端在线填写报价并生成的内容为准。（下列表样仅供参考)\\n\\n采购项目编号:\\n\\n项目名称：\\n投标人名称： +igQe\\n采购项目名称/采购包名称投标报价元/% 交货或服务期交货或服务地点\\n\\n ${\\\\bf1}$ \\n=\\n\\n投标人签章：\\n\\n日期：年月日\\n\\n-第34页-\\n\\n$$\\nt_{\\\\mathrm{H}} \\\\pm\\\\Xi:\\n$$\\n\\n$$\\nA I F+B G=\\\\frac{1} {2}\\n$$\\n\\n注：投标供应商应在投标客户端【报价部分】进行填写，投标客户端软件将自动根据供应商填写信息在线生成分项报价表，若在投标文件中出现非系统生成的分项报价表，且与投标客户端生成的分项报价表信息内容不一致，以投标客户端在线填写报价并生成的内容为准。（下列表样仅供参考)\\n\\n采购项目编号:\\n\\n$$\\n\\\\mathrm{I \\\\overline{{A}} \\\\ H \\\\ H \\\\ H K :}\\n$$\\n\\n投标人名称：\\n采购包： Ligee\\n\\n货币及单 $\\\\overrightarrow{\\\\imath} \\\\overrightarrow{\\\\jmath}$ ： $\\\\varLambda$ 民币/元\\n\\n $\\\\mathrm{H H H H}$  $\\\\rightleftharpoons\\\\frac{n} {5}$ 货物名称规格型号，品牌，、产地制造商名称单价数量\\n\\n| 品目号 | 序号 | 服务名称 | 服务范围 | 服务要求 | 服务期限 | 服务标准 | 单价 | 数量 | 总价 |\\n| --- | --- | --- | --- | --- | --- | --- | --- | --- | --- |\\n| 1 |  |  |  |  |  |  |  |  |  |\\n\\n日期：年月日 ## 格式四:\\n\\n政策适用性说明\\n\\n按照政府采购有关政策的要求，在本次的技术方案中，采用符合政策的小型或微型企业产品、节能产品、环境标志产品主要产品与核心技术介绍说明如下：\\n\\n| 序号 | 主要产品/技术名称（规格型号 、 注册商标)  | 制造商(开发商）  | 制造商企业类型 | 节能产品 | 环境标志产品  | 认证证书编号  | 该产品报价在总报价中占比（%  |\\n| --- | --- | --- | --- | --- | --- | --- | --- |\\n| 1 C3 巴管中心堂 |\\n| 2 中 S  |\\n| 3 LE Ot 2 S |\\n| 4 +3 中楼汽字 |\\n| 5 |\\n| ... |  |  |  |  |  |  |  |\\n\\n注:1.制造商为小型或微型企业时才需要填“制造商企业类型\"栏，填写内容为“小型”或“微型”；\\n\\n2.“节能产品、环境标志产品“须填写认证证书编号，并在对应“节能产品”“环境标志产品“栏中勾选，同时提供有效期内的证书复印件（加盖投标 $\\\\Lambda$ 公章）\\n\\n日期：年月日\\n\\n$$\\n\\\\star\\\\star\\\\pm\\\\pm\\n$$\\n\\n(投标人可使用下述格式，也可使用广东省工商行政管理局统一印制的法定代表人证明书格式)\\n\\n法定代表人证明书\\n\\n现任我单 $\\\\overrightarrow{\\\\lambda_{2}}$ 职务，为法定代表人，特此证明。\\n\\n有效期限：\\n\\n附：代表人性别： 年龄： 身份证号码：\\n\\n注册号码： 企业类型：\\n\\n经营范围：\\ntige 投标人名称（盖章）：\\n\\n法定代表人（签字或盖章）：\\n\\n日期:年月E\\n\\n-第37页-\\n\\n$$\\n1 2 \\\\pm\\\\frac{1} {\\\\Lambda} :\\n$$\\n\\n法定代表人授权书格式\\n\\n(对于银行、保险、电信、邮政、铁路等行业以及获得总公司投标授权的分公司，可以提供投标分支机构负责人授权书)\\n\\n法定代表人授权书\\n\\n致：广东元正招标采购有限公司\\n\\n本授权书声明： 是注册于（国家或地区）的（投标人名称）的法定代表人，现任职务，有效证件号码： 。现授权（姓名、职务)，作为改公科的合权低理人，就“典型受污染耕地一壤环境质量类别加密调查与评价调整\"项目采购[采购项目编号为0835---2402528028411的投标和合同执行，以我方的名义处理一切与之有关的事\\nS 车\\n\\n发楼究大日签字生效此声明店\\n投标人（盖章）：\\n\\n法定代表人（签字或盖章）：\\n\\n日期：年月日 ## 格式七：\\n\\n$$\\n\\\\left\\\\{\\\\begin{matrix}+\\\\pi+\\\\pi\\\\right. \\\\parallel\\\\mathrm{i n f} . \\\\cong\\\\left. \\\\frac{\\\\pi} {2} \\\\right.\\n$$\\n\\n采购文件要求递交投标保证金的，投标人应在此提供保证金的凭证的复印件。\\n\\nRiTQR\\n\\n$$\\n\\\\dagger\\\\downarrow\\\\pm\\\\Lambda:\\n$$\\n\\n提供具有独立承担民事责任的能力的证明材料\\n\\nBiER\\n\\n-第40页-\\n\\n$$\\n\\\\UOr> \\\\hbar\\\\ \\\\;, \\\\vrule h \\\\rangle\\n$$\\n\\n资格性审查要求的其他资质证明文件\\n\\n具有履行合同所必需的设备和专业技术能力\\n\\nBiER\\n\\n-第41页-## 格式十：\\n\\n(对一米购需求写明提供承诺的条款，供应尚可参照以格式提供承诺)\\n\\n$$\\n\\\\overline{{A}} \\\\times\\\\overline{{A}} \\\\pm\\\\overline{{P A}}\\n$$\\n\\n致：广东省农业环境与耕地质量保护中心（广东省农业农村投资项目中心)\\n\\n寸于项目（项目编号： ），我方郑重承诺如下：\\n\\n如中标/成交，我方承诺严格落实采购文件以下条款：（建议逐条复制采购文件相关条款原文）\\n\\n（一）星号条款\\n\\n(二）三角号条款\\n\\n$$\\n\\\\dots\\\\dots\\n$$\\n\\n(三）非星号、非三角号条款\\n\\n特此承诺。\\n供应商名称（盖章）：\\n\\n日期：年月日\\n\\n-第42页-\\n\\n$$\\n1 2++-.\\n$$\\n\\n(以下格式文件由供应商根据需要选用)\\n\\n中小企业声明函（所投产品制造商为中小企业时提交本函，所属行业应符合采购文件中明确的本项目所属行业)\\n\\n中小企业声明函（货物)\\n\\n本公司（联合体）郑重声明，根据《政府采购促进中小企业发展管理办法》（财库（2020）46 号）的规定，本公司\\n\\n$$\\n( \\\\vec{H}_{\\\\vec{\\\\imath}} \\\\bigtriangleup\\\\vec{H} ) \\\\ngeq[ \\\\vec{H}_{\\\\vec{\\\\imath}} ( \\\\vec{H}_{\\\\vec{L}} \\\\hat{H}_{\\\\vec{\\\\imath}} ) \\\\ [ \\\\vec{H}_{\\\\vec{\\\\imath}} \\\\oplus\\\\vec{H}_{\\\\vec{\\\\imath}} ] ] \\\\ [ \\\\vec{H}_{\\\\vec{\\\\imath}} \\\\oplus\\\\vec{H}_{\\\\vec{\\\\imath}} ] \\\\ [ \\\\vec{H}_{\\\\vec{\\\\imath}} \\\\hat{H}_{\\\\vec{\\\\imath}} \\\\vec{H}_{\\\\vec{\\\\imath}} ] \\\\ [ \\\\vec{H}_{\\\\vec{\\\\imath}} \\\\hat{H}_{\\\\vec{\\\\imath}} \\\\vec{H}_{\\\\vec{\\\\imath}} ] ],\\n$$\\n提供的货物全部由符合政策要求的中小企业制造。相关企业（含联合\\n\\n体中的中小企业、签订分包意向协议的中小企业）的\\n1.《标的名称），属于（采购之件中明确的所属，的工行业：御治商为（企业名称），从比人员\\n\\n营业收入为万元，资产总额为治， 访先，属于（中型企业、小型企业、微型企业）；\\nHEPT\\n2.（标的名称)，属于（采购文件中明确的所属行业）行制造商为(企业名称），从业人员人，\\n1\\nAt\\n\\n营业收入为万元，资产总额为 $\\\\begin{matrix} x=1 0 0 0 0 \\\\\\\\ 3 0 0 0 0 0 0 0 0 0 0 0 0 0 0 0 0 0 0 0 0 0 0 0 0 0 0 0 0 0 0 0 0 0 0 0 0 0 0 0 0 0 0 0 0 0 0 0 0 0 0 0 0 0 0 0 0 0 0 0 0 0 0 0 0 0 0 0 0 0 0 0 0 0 0 0 0 0 0 0 0 0 0 0 0 0 0 0 0 0 0 0 0 0 0 0 0 0 0 0 0 0 0 0 0 0 0 0 0 0 0 0 0 0 0 0 0 0 0 0 0 0 0 0 0 0 0 0 0 0 0 0 0 0 0 0 0 0 0 0 0 0 0 0 0 0 0 0 0 0 0 0 0 0 0 0 0 0 0 0 0 0 0 0 0 0 0 0 0 0 0 0 0 0 0 0 0 0 0 0 0 0 0 0 0 0 0 0 0 0 0 0 0 0 0 0 0 0 0 0 0 0 0 0 0 0 0 0 0 0 0 0 0 0 0 0 0 0 0 0 0 0 0 0 0 0 0 0 0 0 0 0 0 0 0 0 0 0 0 0 0 0 0 0 0 0 0 0 0 0 0 0 0 0 0 0 0 0 0 0 0 0 0 0 0 0 0 0 0 0 0 0 0 0 0 0 0 0 0 0 0 0 0 0 0 0 0 0 0 0 0 0 0 0 0 0 0 0 0 2 2 2 2 2 2 2 2 2 2 2 2 2 2 2 2 2 2 2 2 2 2 2 2 2 2 2 2 2 2 2 2 2 2 2 2 2 2 2 2 2 2 2 2 2 2 2 2 2 2 2 2 2 2 2 2 2 2 2 2 2 2 2 2 2 2 2 2 2 2 2 2 2 2 2 2 2 2 2 2 2 2 2 2 2 2 2 2 2 2 2 2 2 2 2 2 2 2 2 2 2 2 2 2 2 2 2 2 2 2 2 2 2 2 2 2 2 2 2 2 2 2 2 2 2 2 2 2 2 2 2 2 2 2 2 2 2 2 2 2 2 2 2 2 2 2 2 2 2 2 2 2 2 2 2 2 2 2 2 2 2 2 2 2 2 2 2 2 2 2 2 2 2 2 2 2 2 2 2 2 2 2 2 2 2 2 2 2 2 2 2 2 2 2 2 2 2 2 2 2$ 属于（主型企业、小型企业、微型企业）；\\n\\n以上企业，不属于大企业的分支机构，不存在控股股东为大企业的情形，也不存在与大企业的负责人为同一人的情形\\n\\n本企业对上述声明内容的真实性负责。如有虚假，将依法承担相应责任。\\n\\n企业名称（盖章）：\\n\\n日期:年月日\\n\\n1：从业人员、营业收入、资产总额填报上一年度数据，无上一年度数据的新成立企业可不填报\\n\\n2：投标人应当对其出具的《中小企业声明函》真实性负责，投标人出具的《中小企业声明函》内容不实的，属于提供虚\\n\\n假材料谋取中标。在实际操作中，投标人希望获得中小企业扶持政策支持的，应从制造商处获得充分、准确的信息。对相关制造商信息了解不充分，或者不能确定相关信息真实、准确的，不建议出具《中小企业声明函》。\\n\\n-第43页-中小企业声明函（承建本项目工程为中小企业或者承接本项目服务为中小企业时提交本函，所属行业应符合采购文件中明确的本项目所属行业)\\n\\n中小企业声明函（工程、服务）\\n\\n本公司（联合体)郑重声明，根据《政府采购促进中小企业发展管理办法》（财库（2020)46号）的规定，本公司 (联合体)参加（单位名称）的（项目名称）采购活动，工程的施工单位全部为符合政策要求的中小企业（或者：服务全部由符合政策要求的中小企业承接）。相关企业（含联合体中的中小企业、签订分包意向协议的中小企业）的具体情况如下：\\n\\n1.（标的名称），属于（采购文件中明确的所属行业）行业，承建（承接）企业为（企业名称），从业人员 $\\\\overline{{\\\\Pi}} \\\\vec{\\\\pi}^{1},$ ：属于（中型企业、小\\n人，营业收入为上烤烧州生家经热大\\n型企业、微型企业）： $\\\\frac{1} {2}=\\\\frac{1} {2}$ \\n3 unf- 4n-`I\\n\\n2.（杭的名称），属于（采购文件中明确的此展行业》行业，承建亚承接）企业为（企业名称)，从业人员\\n\\n人，营业收入 $\\\\mathcal{H}_{\\\\mathbb{J}}$ 住万元，资产总额为 $\\\\overline{{\\\\Pi}} \\\\vec{\\\\pi}^{\\\\i}$ ，属于（中型企业、小型企业、微型企业)： T.\\n\\n## \\n\\n以上企业，不属于大企业的分支机构，不存在控股股东为大企业的情形，也不存在与大企业的负责人为同一人的情形。 本企业对上述声明内容的真实性负责。如有虚假，将依法承担相应责任。\\n\\n企业名称（盖章）：\\n\\n日期：年月口\\n\\n1：从业人员、营业收入、资产总额填报上一年度数据，无上一年度数据的新成立企业可不填报。\\n\\n2：投标人应当白行核实是否属于小微企业，并认真填写声明函，若有虚假将追究其责任。\\n\\n-第44页-## 格式十二:\\n\\n(以下格式文件由供应商根据需要选用)\\n\\n$$\\n\\\\operatorname* {i v f}_{\\\\mathrm{m}} \\\\operatorname* {i n} \\\\uparrow\\\\hbar\\\\uparrow\\\\i k\\n$$\\n\\n提供由监狱管理局、戒毒管理局（含新疆生产建设兵团)出具的属于监狱企业的证明文件。\\n\\nBiER\\n\\n-第45页-\\n\\n$$\\nk+\\\\pm\\\\Xi:\\n$$\\n\\n(以下格式文件由供应商根据需要选用)\\n\\n残疾人福利性单 $\\\\grave{\\\\omicron}$ 声明函\\n\\n本单位郑重声明，根据《财政部民政部中国残疾人联合会关于促进残疾人就业政府采购政策的通知》（财库（2017) 141号）的规定，本单位为符合条件的残疾人福利性单位，且本单位参加单位的项目采购活动提供本单位制造的货物（由本单位承担工程/提供服务），或者提供其他残疾人福利性单位制造的货物（不包括使用非残疾人福利性单位注册商\\n标的货物）。\\n$$\\n= \\\\frac{1} {2}+\\\\frac{1} {2}+\\\\frac{1} {2}+\\\\frac{1} {2}\\n$$\\n\\n-一、… HS&TTU!S\\n\\n本单位对上述声明的真实性负责。如有虚假，将像法承担相应赛有\\n\\n单位名称（盖章）： tiee\\n\\n日期:年月日\\n\\n注：本函未填写或未勾选视作未做声明\\n\\n-第46页-\\n\\n$$\\n\\\\sharp x+\\\\mathbb{I I} :\\n$$\\n\\n（以下格式文件由供应商根据需要选用)\\n\\n联合体共同投标协议书\\n\\n立约方：（甲公司全称）\\n\\n$$\\n( Z \\\\angle\\\\overline{{\\\\Pi}} \\\\rfloor\\\\pm\\\\overline{{\\\\gamma}} \\\\overleftarrow{\\\\gamma} )\\n$$\\n\\n$$\\n( \\\\ldots\\\\Delta\\\\overline{{\\\\Xi}} \\\\pm\\\\overline{{\\\\Gamma}} \\\\overline{{\\\\Gamma}} )\\n$$\\n\\n（里公司全称）、（乙公司全称）、…公司全称登自愿细成联合体，以一个投标人的身份共同参加（采购项目名称）\\nTT\\n采购项目编号）的响应活动。经各方充分协商一致。就项目的响应和合同实施阶段的有关事务协商一致订立协议如下：\\n\\n## 、联合体各方关系\\n\\ntiRe\\n\\n（甲公司全称）、（乙公司全称）、…公立全称）共同组成一个联台体，以一个投标人的身份共同参加本项目的响 $\\\\overrightarrow{\\\\omicron}$ 7\\n。（甲公司全称）、（乙公司全称）、…公司全称）作为联合体成员，若中标，联合体各方共同与（采购人）签订政府采购合同。\\n\\n二、联合体内部有关事项约定如下：\\n\\n1.(甲公司全称)作为联合体的牵头单位，代表联合体双方负责投标和合同实施阶段的主办、协调工作。\\n\\n2.联合体将严格按照文件的各项要求，递交投标文件，切实执行一切合同文件，共同承担合同规定的一切义务和责任，同时按照内部职责的划分，承担自身所负的责任和风险，在法律上承担连带责任。\\n\\n3.如果本联合体中标，（甲公司全称)负责本项目部分，（乙公司全称）负责本项目\\n\\n4.如中标，联合体各方共同与（采购人）签订合同书，并就中标项目向采购人负责有连带的和各自的法律责任；\\n\\n5.联合体成员（公司全称)为(请填写：小型、微型)企业，将承担合同总金额 %的工作内容（联合体成员中有小型、微型企业时适用）。\\n\\n三、联合体各方不得再以自已名义参与本采购包响应，联合体各方不能作为其它联合体或单独响应单位的项目组成员参加本采购包响应。因发生上述问题导致联合体响应成为无效报价，联合体的其他成员可追究其违约责任和经济损失。\\n\\n四、联合体如因违约过失责任而导致采购人经济损失或被索赔时，本联合体任何一方均同意无条件优先清偿采购人的一切债务和经济赔偿。\\n\\n五、本协议在自签署之日起生效，有效期内有效，如获中标资格，合同有效期延续至合同履行完毕之口。\\n\\n六、本协议书正本一式份，随投标文件装订份，送采购人份，联合体成员各一份；副本一式份，联合体成员各执份。\\n\\n早公司全称： (盖章） ，乙公司全称： （盖章） ，..公司全称： (盖章）\\n\\n年月日，年月日年月\\n\\n注：1.联合响应时需签本协议，联合体各方成员应在本协议上共同盖章确认\\n\\n2.本协议内容不得擅自修改。此协议将作为签订合同的附件之一。\\n\\n-第47页-\\n\\n$$\\nk_{1} \\\\pm+\\\\pm:\\n$$\\n\\n(以下格式文件由供应商根据需要选用)\\n\\n投标人业绩情况表\\n\\n| 序号 | 客户名称 | 项目名称及合同金额（万元) | 签订合同时间 | 竣工验收报告时间 | 联系人及电话 |\\n| --- | --- | --- | --- | --- | --- |\\n| 1 |\\n| 2 |\\n| 3 |\\n| 4 |\\n| .. |  | HR 1HA | 牌 |  |  |\\n\\n.na- 4.rv-\\n\\n根据上述业绩情况，按招标文件要求附销售域服登合同复印件及评审标准要求的证明材料\\n\\n1uona108\\n\\n-第48页-## 格式十六：\\n\\n $\\\\ll$ 技术和服务要求响应表》\\n\\n| 序号 | 标的名称 | 参数性质 | 采购文件规定的技术和服务要求  | 投标文件响应的具体内容 | 型号 | 是否偏离 | 证明文件所在位置  | 备注 |\\n| --- | --- | --- | --- | --- | --- | --- | --- | --- |\\n| 1 |\\n| 2 |\\n| 3 电中  |\\n| J 8 电 T Λ  |\\n| 4 S A S 一 |\\n| 5 楼兴海 福汽  |\\n| 6 |  |  |  |  |  |  |  |  |\\n| … ... |  |  |  |  |  |  |  |  |\\n\\n## 说明：\\n\\n1.“采购文件规定的技术和服务要求\"项下填写的内容应与招标文件中采购需求的“技术要求\"的内容保持一致。投标人应当如实填写上表“投标文件响应的具体内容”处内容，对采购文件提出的要求和条件作出明确响应，并列明具体响应数值或内容，只注明符合、满足等无具体内容表述的，将视为未实质性满足招标文件要求。投标人需要说明的内容若需特殊表达，应先在本表中进行相应说明，再另页应答，否则投标无效。\\n\\n2.参数性质栏目按招标文件有标注的 $^n \\\\star^{n}$ 、 $\\\\mathrm{` `} \\\\Delta^{\\\\prime\\\\prime}$ 号条款进行填写，打“★”号条款为实质性条款，若有任何一条负偏离或不满足则导致投标无效。打 $\\\\mathrm{` `} \\\\Delta^{\\\\prime\\\\prime}$ 号条款为重要技术参数（如有），若有部分 $^n \\\\Delta^{\\\\eta}$ 条款术响应或不满足，将根据评审要求影响其得分，但不作为无效投标条款。\\n\\n3.\"是否偏离“项下应接下列规定填写：优于的，填写“正偏离\"；符合的，填写“无偏离”；低于的，填写“负偏离”。\\n\\n4.“备注\"处可填写偏离情况的说明\\n\\n-第49页-## 格式十七：\\n\\n $\\\\ll$ 商务条件响应表》\\n\\n $F=\\\\frac{1 1} {5}$ 参数性质采购文件规定的商务条件投标文件响应的具体内容是否偏离证明文件所在位置，备注\\n\\n$$\\n\\\\i\\\\overset{\\\\i} {\\\\pi} \\\\i\\\\overset{\\\\i} {\\\\pi} \\\\i\\\\overset{\\\\i} {\\\\pi} \\\\i\\\\overset{\\\\i} {\\\\pi} \\\\i\\\\overset{\\\\i} {\\\\pi} \\\\i\\\\overset{\\\\i} {\\\\pi} \\\\i\\\\overset{\\\\i} {\\\\pi} \\\\i\\\\overset{\\\\prime} {\\\\pi}\\n$$\\n\\n1.“采购文件规定的商务条件”项下填写的内容应与招标文件中采购需求的“商务要求\"的内容保持一致。\\n\\n $2$ .投标人应当如实填写上表“投标文件响应的具体内容”处内容，对采购文件规定的商务条件作出明确响应，并列明具体\\n响应数值或内容，只注明符合、满足等无具体内容表述的，将视为未实质性满足招标文件要求。投标人需要说明的内容若需特\\n殊表达，应先在本表中进行相应说明，再另页应答，否则投标无效。\\n\\n3.参数性质栏目按招标文件有标注的 $^n \\\\star^{\\\\prime}$ 、 $\\\\mathbf{\\\\Delta}^{\\\\eta}$ \\'号条款进行填写，打“★\"号条款为实质性条款，若有任何一条负偏离或不满足则导致投标无效。打 $\\\\sp{\\\\prime} \\\\sp{\\\\prime}$ 号条款为重要技术参数（如有），若有部分 $^n \\\\Delta^{\\\\prime\\\\prime}$ 条款未响应或不满足，将根据评审要求影响其得分，但不作为无效投标条款。\\n\\n4.“是否偏离”项下应按下列规定填写：优于的，填写“正偏离”；符合的，填写“无偏离”；低于的，填写“负偏离”。 5.“备注\"处可填写偏离情况的说明。\\n\\n$$\\n\\\\sharp x+\\\\lambda;\\n$$\\n\\n(以下格式文件由供应商根据需要选用)\\n\\n履约进度计划表\\n\\n| 1 | 拟定年月口 | 签订合同并生效 |  |\\n| 2 | 月日一月日 |  |  |\\n| 3 | 月日一月日 | t 中中快门 |  |\\n| 4 | 月日一月日 | i 质保期 |  |\\n\\n1uan,8S ## 格式十九：\\n\\n（以下格式文件由供应商根据需要选用)\\n\\n各类证明材料\\n\\n ${\\\\bf1}$ .招标文件要求提供的其他资料\\n\\n $2$ .投标人认为需提供的其他资料\\n\\nRiTQR\\n\\n$$\\n1 1+1+;\\n$$\\n\\n## 采购代理服务费支付承诺书\\n\\n## 致：广东元正招标采购有限公司\\n\\n如果我方在贵米购代理机构组织的典型受污染耕地土壤环境质量类别加密调查与评价调整招标中获中标（米购项目编号:0835---240752802841），我方保证在收取《中标通知书》时，按招标文件对代理服务费支付方式的约定，承担本项日代理服务费。\\n\\nA→.hnit h 百任电品公TlI价法名n 衣价几小 ^AH士4 口永八丽贴左士4A→的南导人场\\n\\n技 $\\\\varPi$ 如也约，然党贝早低开的是约世知，从长省能科甲区体态家 $,$ 同意和要求投标担保函开立银行或担保机构、保险保函开\\n4U仅州本本生中文创，个处部才田木购八任又们找刀的中体司门放\\n中字\\n中代为扣付：以投标担保函（或保险保函）方式提交楼\\n $\\\\div$ 的但哈知场府广左是正执标区购有限公司的西最放阳古什王岁工\\n\\n.HJINPWLIJ% 小LLJH个购\\'HK公马的女司视样 $=-1=$ \\n投标人法定名称（公章）；\\n\\n$$\\n4 \\\\pm\\\\pm\\\\pm\\\\pm\\\\pm\\\\pm\\\\pm\\n$$\\n\\n投标人法定地址:\\n\\n设标人授权代表（签字或盖章)\\n\\n承诺日期：\\n\\n$$\\nk_{1}+1-1-;\\n$$\\n\\n(以下格式文件由供应商根据需要选用)\\n\\n需要采购人提供的附加条件\\n\\n| 序号 | t |\\n| --- | --- |\\n| 1 |\\n| 2 |\\n| 3 |  |\\n\\n注：投标人完成本项目需要采购人配合或提供的条件必须在上表列事：否则将视为投标人同意按现有条件完成本项目。如\\nhipe 强车\\n上表所列附加条件含右采购人不能接受的，将被冲头书标无教连\\n\\n$$\\nt ( x_{2} )=+z_{2}\\n$$\\n\\n(以下格式文件由供应商根据需要选用)\\n\\n询间函、质疑函、投诉书格式\\n\\n说明：本部分格式为投标人提交询问函、质疑函、投诉函时使用，不属于投标文件格式的组成部分。\\n\\n## 洵问函\\n\\n广东元正招标采购有限 $\\\\angle$ 司\\n\\n我单位已登记并准备参与“典型受污染耕地土壤环缴城建类 PE\\n\\n240Z52802841）的投标活动，现有以下儿个内畲，顾条款、在在 $\\\\begin{matrix} \\\\frac{1} {2}=2 \\\\frac{1} {2} \\\\\\\\ \\\\frac{1} {2} \\\\frac{1} {2} \\\\frac{1} {2} \\\\\\\\ \\\\frac{1} {2} \\\\frac{1} {2} \\\\end{matrix}$  $\\\\begin{matrix} x=5 \\\\\\\\ y=8 5 \\\\\\\\ z=5 \\\\end{matrix}$ 或无法理解），特提出询间。\\n（事项一）\\n（问题或条款内容系\\n(说明疑问或无法理解原因)\\n（建议） IBGn.P\\n $\\\\rightharpoonup$ （事项二）\\n\\n随附相关证明材料如下：（日录）\\n询问人（公章）：\\n\\n去定代表人或授权代表（签字或盖章)\\n\\n地址/邮编:\\n\\n日期:年月E ## 质疑函\\n\\n一、质疑供应商基本信息\\n\\n质疑供应商：\\n\\n联系电话： 授权代表：\\n联系电话：\\n\\n $\\\\stackrel{-} {-} \\\\j$ 质疑项目基本情况\\n\\n质疑项目的名称：\\ntiee\\n\\n质疑项目的编号： 采购人名称：\\n采购文件获取日期：\\n\\n $\\\\vec{\\\\Xi},$ 质疑事项具体内容\\n\\n质疑事项1:\\n\\n事实依据：\\n\\n法律依据:\\n\\n质疑事项2:\\n\\n$$\\n\\\\ldots\\n$$\\n\\n四、与质疑事项相关的质疑请求\\n\\n请求：\\n\\n签字(签章)）:\\n\\n日期:年月日\\n\\n质疑函制作说明:\\n\\n1.供应商提出质疑时，应提交质疑函和必要的证明材料。\\n\\n2.质疑供应商若委托代理人进行质疑的，质疑函应按要求列明“授权代表\"的有关内容，并在附件中提交由质疑供应商签署\\n的授权委托书。授权委托书应载明代理人的姓名或者名称、代理事项、具体权限、期限和相关事项。\\n\\n3.质疑供应商若对项目的某一分包进行质疑，质疑函中应列明具体采购包号。\\n\\n4.质疑函的质疑事项应具体、明确，并有必要的事实依据和法律依据。\\n\\n5.质疑函的质疑请求应与质疑事项相关\\n\\n-第56页-## 投诉书\\n\\n## 一、投诉相关主体基本情况\\n\\n$$\\n\\\\ddag\\\\ddag\\\\downarrow\\\\downarrow\\\\hfil\\\\hfil\\\\hfil\\\\hfil\\\\hfil\\\\hfil\\\\hfil\\\\hfil\\\\hfil\\\\hfil\\\\hfil\\\\hfil\\\\hfil\\\\hfil\\\\hfil\\\\hfil\\\\hfil\\\\hfil\\\\hfil\\\\hfil\\\\hfil\\\\hfil\\\\hfil\\\\hfil\\\\hfil\\\\hfil\\\\hfil\\\\hfil\\\\hfil\\\\hfil\\\\hfil\\\\hfil\\\\hfil\\\\hfil\\\\hfil\\\\hfil\\\\hfil\\\\hfil\\\\hfil\\\\hfil\\\\hfil\\\\hfil\\\\hfil\\\\hfil\\\\hfil\\\\hfil\\\\hfil\\\\hfil\\\\hfil\\\\hfil\\\\hfil\\\\hfil\\\\hfil\\\\hfil\\\\hfil\\\\hfil\\\\hfil\\\\hfil\\\\hfil\\\\hfil\\\\hfil\\\\hfil\\\\hfil\\\\hfil\\\\hfil\\\\hfil\\\\hfil\\\\hfil\\\\hfil\\\\hfil\\\\hfil\\\\hfil\\\\hfil\\\\hfil\\\\hfil\\\\hfil\\\\hfil\\\\hfil\\\\hfil\\\\hfil\\\\hfil\\\\hfil\\\\hfil\\\\hfil\\\\hfil\\\\hfil\\\\hfil\\\\hfil\\\\hfil\\\\hfil\\\\hfil\\\\hfil\\\\hfil\\\\hfil\\\\hfil\\\\hfil\\\\hfil\\\\hfil\\\\quad\\\\cdots\\\\cdots\\\\cdots\\\\cdots\\\\cdots\\\\cdots\\\\cdots\\\\cdots\\\\cdots\\\\quad\\\\quad\\\\quad\\\\quad\\\\quad\\\\quad\\\\quad\\\\quad\\\\quad\\\\quad\\\\quad\\\\quad\\\\quad\\\\quad\\\\quad\\\\quad\\\\quad\\\\quad\\\\quad\\\\quad\\\\quad\\\\quad\\\\quad\\\\quad\\\\quad\\\\quad)\\n$$\\n\\n$$\\nt t \\\\bunderline{{t}} \\\\b| c :\\n$$\\n\\n法定代表人/主要负责人：\\n\\n联系电话:\\n授权代表： 联系电话：\\n\\n被投诉人1：\\ntire\\n\\n联系人： 联系电话：富\\n\\n被投诉人2:\\n\\n$$\\n\\\\ldots\\n$$\\n\\n$$\\n\\\\pm\\\\pm\\\\pm\\\\pm\\\\pm\\\\pm\\\\pm\\\\pm\\n$$\\n:\\n\\n地址： 邮编：\\n\\n关系人： 联系电话：\\n\\n $\\\\stackrel{-} {-},$ 投诉项目基本情况\\n\\n采购项目名称:\\n\\n采购项目编号： 包号：\\n\\n采购人名称：\\n\\n代理机构名称：\\n\\n采购文件公告:是/否公告期限:\\n\\n采购结果公告:是/否公告期限：\\n\\n三、质疑基本情况\\n\\n投诉人于年月日，向提出质疑，质疑事项为\\n\\n采购人/代理机构于年\\n$$\\nH, \\\\# E \\\\frac{1} {2} \\\\pm\\\\# E \\\\frac{1} {2} \\\\pm\\\\frac{1} {2} \\\\pm\\\\frac{1} {2} \\\\pm\\\\frac{1} {2} \\\\pm\\\\frac{1} {2} \\\\pm\\\\frac{1} {2} \\\\pm\\\\frac{1} {2} \\\\pm\\\\frac{1} {2} \\\\pm\\\\frac{1} {2} \\\\pm\\\\frac{1} {2} \\\\mp\\\\frac{1} {2} \\\\pm\\\\frac{1} {2} \\\\pm\\\\frac{1} {2} \\\\pm\\\\frac{1} {2} \\\\pm\\\\frac{1} {2} \\\\pm\\\\frac{1} {2} \\\\pm\\\\frac{1} {2} \\\\pm\\\\frac{1} {2} \\\\pm\\\\frac{1} {2} \\\\pm\\\\frac{1} {2} \\\\pm\\\\frac{1} {2}\\n$$\\n\\n四、投诉事项具体内容\\n\\n投诉事项1:\\n\\n事实依据：\\n\\n法律依据：\\n\\n投诉事项2:\\n\\n$$\\n\\\\ldots\\n$$\\n\\n五、与投诉事项相关的投诉请求\\n\\n请求：\\n\\n签字(签章)： 公章\\n日期:年月日\\n\\n## 投诉书制作说明：\\n\\n1.投诉人提起投诉时，应当提交投诉书和必要的证明材料，并按照被投诉人和与投诉事项有关的供应商数量提供投诉书副本。\\n\\n2.投诉人若委托代理人进行投诉的，投诉书应按照要求列明“授权代表”的有关内容，并在附件中提交由投诉人签署的授权委托书。授权委托书应当载明代理人的姓名或者名称、代理事项、具体权限、期限和相关事项。\\n\\n3.投诉人若对项目的某一分包进行投诉，投诉书应列明具体分包号\\n\\n4.投诉书应简要列明质疑事项，质疑函、质疑答复等作为附件材料提供。\\n\\n5.投诉书的投诉事项应具体、明确，并有必要的事实依据和法律依据。\\n\\n $6$ .投诉书的投诉请求应与投诉事项相关\\n\\n7.投诉人为自然人的，投诉书应当由本人签字；投诉人为法人或者其他组织的，投诉书应当由法定代表人、主要负责人， 或者其授权代表签字或者盖章，并加盖公章。\\n\\ntiQe\\n\\n$$\\nt_{1} \\\\dag=+\\\\Xi;\\n$$\\n\\n（以下格式文件由供应商根据需要选用)\\n\\n项目实施方案、质量保证及售后服务承诺等内容和格式白拟\\n\\nRiTQR\\n\\n$$\\n\\\\star\\\\! \\\\star\\\\! \\\\star\\\\! \\\\ +\\\\mathbb{W} \\\\! :\\n$$\\n\\n附件（以下格式文件由供应商根据需要选用)\\n\\n政府采购投标（响应)担保函\\n\\n$$\\n( \\\\bar{X} ) ( \\\\bar{X} ) ( \\\\bar{X} ) \\\\; :\\n$$\\n\\n（以下简称“投标（响应）人\"）拟参加编号为的（以下简称“本项目\"）投标（响应），根据本\\n\\n项目采购文件，投标(响应)人参加投标（响应）时应向你方交纳投标(响应)保证金，且可以投标保险凭证的形式交纳投标\\nATTO\\n(响应）保证金。应投标（响应）人的电请，我方以保险的方式向你方赛供如下投标保证保险凭证：\\n\\n## 一、保险责任的情形及保证金额\\n\\ntine\\n\\n(一）在投标（响应）人出现下列情形之一针，我方承相保险责任湾\\n\\n*^id?.\\n\\n1.中标（成交）后投标（响应）人无正当理国不与采购人签订《设府采购合同》\\n\\n $2$ .采购文件规定的投标（响应）人应当缴纳保证金的其他情形 $\\\\begin{matrix}=\\\\frac{1} {2} \\\\\\\\ 0=\\\\frac{1} {2} \\\\end{matrix}$ \\n\\n(二）我方承担保险责任的最高金额为人民币 $\\\\vec{\\\\pi}$ （大写）即本项目的投标（响应)保证金金额\\n\\n## 二、保证的方式及保证期间\\n\\n我方保证的方式为：连带责任保证。\\n\\n我方的保证期间为：本保险凭证自年月日起生效，有效期至开标日后的90天内。\\n\\n $\\\\Xi,$ 承担保证责任的程序\\n\\n1.你方要求我方承担保证责任的，应在本保函保证期间内向我方发出索赔通知。素赔通知应写明要求素赔的金额，支付款项应到达的账号、户名和开户行，并附有证明投标（响应）人发生我方应承担保证责任情形的事实材料。\\n\\n2.我方在收到索赔通知及相关证明材料后，在15个工作日内进行审查，符合应承担保证责任情形的，我方按照你方的要\\n求代投标（响应)人向你方支付相应的索赔款项。\\n\\n四、保证责任的终止\\n\\n1.保证期间届满，你方未向我方书面主张保证责任的，自保证期间届满次日起，我方保证责任自动终止。\\n\\n ${_2}$ .我方按照本保函向你方履行了保证责任后，自我方向你方支付款项（支付款项从我方账户划出） $\\\\grave{Z}$ 日起,保证责任终上。\\n\\n3.按照法律法规的规定或出现我方保证责任终止的其它情形的，我方在本保函项下的保证责任终止\\n\\n五、免责条款\\n\\n1.依照法律规定或你方与投标（响应)人的另行约定，全部或者部分免除投标（响应)人投标（响应)保证金义务时，我\\n方亦免除相应的保证责任。\\n\\n2.因你方原因致使投标（响应)人发生本保函第一条第(一）款约定情形的，我方不承担保证责任。\\n\\n3.因不可抗力造成投标（响应)人发生本保函第一条约定情形的，我方不承担保证责任。\\n\\n4.你方或其他有权机关对采购文件进行任何澄清或修改，加重我方保证责任的，我方对加重部分不承担保证责任，但该澄清或修改经我方事先书面同意的除外。\\n\\n## 六、争议的解决\\n\\n因本保函发生的纠纷，由你我双方协商解决，协商不成的，通过诉讼程序解决，诉讼管辖地法院为法院。\\n\\n七、保函的生效\\n\\n本保函自我方加盖公章之日起生效\\n\\n保证人： (公章）\\n\\n联系人：\\n\\n联系电话：\\n\\n-第60页--第61页-\\n\\n$$\\n\\\\dag>+\\\\L:\\n$$\\n\\n## 政府采购履约担保函\\n\\n$$\\n\\\\angle F H \\\\bot\\\\frac{H} {J} :\\n$$\\n\\n(采购人）：\\n鉴于贵方在项目（项目编号为以下简称“项目\"）的采购中，确定为中标人/供应商，拟\\n\\n签订/已签订项目相关采购合同(以下简称“主合同\")。依据主合同的约定，供应商应向贵方交纳履约保证金，且可以履约担\\n\\n保函的形式交纳履约保证金。应供应商的中请，我方以保强的方虑向贵方提供如下履约保证金担保：\\n\\n## 、保证金额\\n\\n会全在中的就A州ATa在R区文育 (大写)，币种为人民币（即主合同履约保证\\n\\n二、我方保证的方式为：连带责任保证\\n\\n三、我方保证的期间为：本保函自开立之日起生效至，集月日N2\\n\\n四、在本保函的有效期内，如被保证人违反上述合同或协议约定的义务，我方将在收到你方提交的本保函文件及符合下列全部条件的索赔通知后30个工作日内以上述保证金额为限支付你方索赔金额：\\n\\n(一)索赔通知文件必须以书面形式提出，列明索赔金额，并由你方法定代表人(负责人)或授权代理人签字并加盖公章；\\n\\n（二)索赔通知文件必须同时附有:\\n\\n1.一项书面声明，声明索赔款项并未由被保证人或其代理人直接或间接地支付给你方；\\n\\n2.证明被保证人违反上述合同或协议约定的义务以及有责任支付你方素赔金额的证据。\\n\\n(三)索赔通知文件必须在本保函有效期内到达以下地址：\\n\\n五、本保函保证金额将随被保证人逐步履行保函项下合同约定或法定的义务以及我方按你方索赔通知文件要求分次文付而相应递减。\\n\\n七、本保函项下的合同或基础交易不成立、不生效、无效、被撤销、被解除，本保函无效；被保证人基于保函项下的合同\\n或基础交易或其他原因的抗辩，我方均有权主张。\\n\\n八、因本保函发生争议协商解决不成，按以下第（一)种方式解决：\\n\\n（一)向我方所在地的人民法院起诉\\n\\n(二)提交此栏空白仲裁委员会(仲裁地点为此栏空白)按照申请仲裁时该会现行有效的仲裁规则进行仲裁。仲裁裁决是终局的，对双方均有约束力。\\n\\n九、本保函适用中华人民共和国法律。\\n\\n十、其他条款:\\n\\n1.本保函有效期届满或提前终止，本保函自动失效，我方在本保函项下的义务与责任自动全部消灭，此后提出的任何索赔均为无效索赔，我方无义务作出任何赔付。\\n\\n$$\\n2. 1 5 F=\\\\frac{1} {2} \\\\times\\\\frac{1} {2} \\\\pm\\\\frac{1} {2} \\\\pm\\\\frac{1} {2} \\\\pm\\\\frac{1} {2} \\\\pm\\\\frac{1} {2} \\\\pm\\\\frac{1} {2} \\\\pm\\\\frac{1} {2} \\\\pm\\\\frac{1} {2} \\\\pm\\\\frac{1} {2} \\\\pm\\\\frac{1} {2} \\\\pm\\\\frac{1} {2} \\\\pm\\\\frac{1} {2} \\\\pm\\\\frac{1} {2} \\\\pm\\\\frac{1} {2} \\\\pm\\\\frac{1} {2} \\\\pm\\\\frac{1} {2} \\\\pm\\\\frac{1} {2} \\\\pm\\\\frac{1} {2} \\\\pm\\\\frac{1} {2} \\\\pm\\\\frac{1} {2} \\\\cdot\\\\frac{1} {2} \\\\cdot\\\\frac{1} {2} \\\\cdot\\\\frac{1} {2} \\\\cdot\\\\frac{1} {2} \\\\cdot\\\\frac{1} {2} \\\\cdot\\\\frac{1} {2} \\\\cdot\\\\frac{1} {2} \\\\cdot\\\\frac{1} {2} \\\\cdot\\\\frac{1} {2} \\\\cdot\\\\frac{1} {2} \\\\cdot\\\\frac{1} {2} \\\\cdot\\\\cdot\\\\frac{1} {2} \\\\cdot\\\\cdot\\\\cdot\\\\cdot}\\n$$\\n\\n十一、本保函自我方盖章之日起生效\\n\\n$$\\n( \\\\frac{\\\\pm} {\\\\Pi} \\\\neq)\\n$$\\n\\n保证人： 联系地址： 联系电话： 开立日期：\\n\\n-第62页-采购合同履约保险凭证\\n\\n致被保险人\\n\\n鉴于你方 (招标方/被保险人)接受投保人 (投标方）参加 (采购)项目的投\\n\\n标，向投保人签发中标通知书，投保人在我公司投保《采购合同履约保证保险》，我公司接受投保人的请求，在保险责任范围内，愿意就投保人履行与你方订立的采购合同,向你方提供如下保证保险：\\n\\n一、我公司对上述采购项目出具的《采购合同履约保证保险》保单号：\\n\\n二、上述保单项下我公司的保险金额（最高限额）：人民币（Y：元）\\n\\n上述全部保险单的保险金额随投保人逐步履行形性参增的定的多务或我公司的赔付而递减。\\n\\n三、本保险的保险期间白年月中行中店时止，共计天。\\n口人糖起至\\n\\n四、本保险合同仅承担履约保证责任：在本保發期限 $x, 1 \\\\pm\\\\sqrt{2}.$ 商在落案购合同》的履约过程中，因下列情形给你方造成直\\n\\n接损大的，在收到你方提交的符合保险个国约定新餐会海\\n我公司依据保险合同有关约定并与你方达成一致赔偿\\n\\n意见后30个二作日内以上述保险金额为限，支付体力索赔金额。\\n\\n(一-）投保人未按照采购合同约定的时间、地点交行采购的，\\n\\n(二）投保人供应采购标的的规格、型号、数量、质量等不符合《采购合同》的约定。\\n\\n## 五、索赔文件\\n\\n(一）经被保险人有权人签字、加盖被保险人公章的书面索赔声明正本，索赔声明须注明本保险凭证对应的保单号并申明如下事实：\\n\\n(1）投保人未履行采购合同相关义务：\\n\\n(2)投保 $\\\\Lambda$ 的违约事实\\n\\n $( \\\\underline{{\\\\supseteq}} )$ 保险单正本:\\n\\n(三）《采购合同》副本及与采购项目进展、质量、缺陷有关的证明文件（包括《中标通知书》、投标书及其附录、会议纪要、其他合同文件等）；\\n\\n(四）保险人要求投保人、被保险人所能提供的与确认保险事故的性质、原因、损失程度等有关的其他证明和资料；\\n\\n（五）仲裁机构出具的裁决书或法院出具的裁定书、判决书等生效法律文书（适用于仲裁或诉讼确认损失的方式）；\\n\\n $\\\\grave{\\\\Lambda}$ 、未经保险人书面同意，本保险凭证与保险合同不得转让、质押，否则保险人在本保险凭证与保险合同项下的保险责任自动解除。\\n\\n七、本保证保险发生争议协商解决不成，向保险人所在地有管辖权的人民法院提起诉讼。\\n\\n八、本保证保险适用的保险条款为《\\n\\n九、保险责任免除及其他本保险凭证术载明事宜以保险合同约定为准。\\n\\n十、本保险凭证自保险人加盖保单专用章起生效。\\n\\n保证人： (盖章)\\n\\n地址：\\n\\n电话：\\n\\n开 $\\\\grave{\\\\Psi}$ 日期： 年月日\\n\\n-第63页-'"
            ],
            "application/vnd.google.colaboratory.intrinsic+json": {
              "type": "string"
            }
          },
          "metadata": {},
          "execution_count": 8
        }
      ]
    }
  ]
}